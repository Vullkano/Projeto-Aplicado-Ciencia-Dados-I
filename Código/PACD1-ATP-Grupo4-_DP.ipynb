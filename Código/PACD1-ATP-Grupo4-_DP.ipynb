{
 "cells": [
  {
   "cell_type": "markdown",
   "id": "36ee17c1-811f-4460-8958-50155018a80e",
   "metadata": {},
   "source": [
    "<h2 style=\"background-size:2em 2em;background-position:0em 1em,1em 0,0em 1em,1em 0,0 0,0 0,0 0,0 0,0 0;background-image:linear-gradient(45deg,#000 8%,transparent 8%,transparent 92%,#000 92%),linear-gradient(-45deg,#000 8%,transparent 8%,transparent 92%,#000 92%),linear-gradient(-45deg,#000 8%,transparent 8%,transparent 92%,#000 92%),linear-gradient(45deg,#000 8%,transparent 8%,transparent 92%,#000 92%),linear-gradient(-45deg,transparent 17%,#000 17%,#000 21%,transparent 21%,transparent 79%,#000 79%,#000 83%,transparent 83%),linear-gradient(45deg,transparent 29%,#000 29%,#000 33%,transparent 33%,transparent 67%,#000 67%,#000 71%,transparent 71%),linear-gradient(-135deg,#202020 10%,#090909 33%,transparent 33%,transparent 67%,#161616 67%,#202020 90%),linear-gradient(135deg,transparent 21%,#161616 21%,#2d2d2d 32.6%,#161616 64.5%,#202020 70.3%,#090909 79%,transparent 79%),linear-gradient(-135deg,transparent 21%,#161616 21%,#202020 40%,#202020 60%,#090909 79%,transparent 79%);\n",
    "color: white;\n",
    "font-weight: 40;\n",
    "font-size: 50px;\n",
    "margin: 0.5em auto;\n",
    "text-align: center;\n",
    "cursor: wait;\n",
    "letter-spacing: 10;\">Imports</h2>     "
   ]
  },
  {
   "cell_type": "raw",
   "id": "d4aa86be",
   "metadata": {
    "ExecuteTime": {
     "end_time": "2023-05-30T15:01:41.609420Z",
     "start_time": "2023-05-30T15:01:41.592342Z"
    }
   },
   "source": [
    "# Caso não se tenha as bibliotecas, basta instalar\n",
    "pip install forex_python\n",
    "pip install cvxopt\n",
    "pip install fancyimpute"
   ]
  },
  {
   "cell_type": "code",
   "execution_count": 1,
   "id": "ed6bbce7-9545-45e3-bb8a-78f95c2b9817",
   "metadata": {
    "ExecuteTime": {
     "end_time": "2023-05-30T15:04:44.117268Z",
     "start_time": "2023-05-30T15:04:35.800505Z"
    }
   },
   "outputs": [
    {
     "name": "stdout",
     "output_type": "stream",
     "text": [
      "(CVXPY) Jun 01 07:46:11 PM: Encountered unexpected exception importing solver CVXOPT:\n",
      "ImportError('DLL load failed while importing base: The specified module could not be found.')\n",
      "(CVXPY) Jun 01 07:46:11 PM: Encountered unexpected exception importing solver GLPK:\n",
      "ImportError('DLL load failed while importing base: The specified module could not be found.')\n",
      "(CVXPY) Jun 01 07:46:11 PM: Encountered unexpected exception importing solver GLPK_MI:\n",
      "ImportError('DLL load failed while importing base: The specified module could not be found.')\n"
     ]
    }
   ],
   "source": [
    "from fancyimpute import IterativeImputer\n",
    "import re\n",
    "import pandas as pd\n",
    "import numpy as np\n",
    "import seaborn as sns\n",
    "import matplotlib.pyplot as plt\n",
    "import requests\n",
    "from datetime import datetime\n",
    "from bs4 import BeautifulSoup, Doctype\n",
    "from selenium import webdriver\n",
    "from selenium.webdriver.chrome.options import Options\n",
    "from selenium.webdriver.common.by import By\n",
    "from selenium.webdriver.support.ui import Select\n",
    "from selenium.common.exceptions import NoSuchElementException"
   ]
  },
  {
   "cell_type": "code",
   "execution_count": 2,
   "id": "07016208-4499-44de-97da-ede5d94a9917",
   "metadata": {
    "ExecuteTime": {
     "end_time": "2023-05-30T15:04:44.147727Z",
     "start_time": "2023-05-30T15:04:44.124788Z"
    }
   },
   "outputs": [],
   "source": [
    "pd.set_option(\"display.max_colwidth\", None)"
   ]
  },
  {
   "cell_type": "markdown",
   "id": "589d17de-2688-4e9a-ae27-6041047fa0d9",
   "metadata": {},
   "source": [
    "---"
   ]
  },
  {
   "cell_type": "markdown",
   "id": "fb3a144f-9607-4740-a343-f7db07bd47ee",
   "metadata": {
    "tags": []
   },
   "source": [
    "<h1 style=\"background-size:2em 2em;background-position:0em 1em,1em 0,0em 1em,1em 0,0 0,0 0,0 0,0 0,0 0;background-image:linear-gradient(45deg,#000 8%,transparent 8%,transparent 92%,#000 92%),linear-gradient(-45deg,#000 8%,transparent 8%,transparent 92%,#000 92%),linear-gradient(-45deg,#000 8%,transparent 8%,transparent 92%,#000 92%),linear-gradient(45deg,#000 8%,transparent 8%,transparent 92%,#000 92%),linear-gradient(-45deg,transparent 17%,#000 17%,#000 21%,transparent 21%,transparent 79%,#000 79%,#000 83%,transparent 83%),linear-gradient(45deg,transparent 29%,#000 29%,#000 33%,transparent 33%,transparent 67%,#000 67%,#000 71%,transparent 71%),linear-gradient(-135deg,#202020 10%,#090909 33%,transparent 33%,transparent 67%,#161616 67%,#202020 90%),linear-gradient(135deg,transparent 21%,#161616 21%,#2d2d2d 32.6%,#161616 64.5%,#202020 70.3%,#090909 79%,transparent 79%),linear-gradient(-135deg,transparent 21%,#161616 21%,#202020 40%,#202020 60%,#090909 79%,transparent 79%);\n",
    "color: white;\n",
    "font-weight: 40;\n",
    "font-size: 50px;\n",
    "margin: 0.5em auto;\n",
    "text-align: center;\n",
    "cursor: wait;\n",
    "letter-spacing: 10;\">Data Preparation</h1>     "
   ]
  },
  {
   "cell_type": "code",
   "execution_count": 3,
   "id": "a0bd766c-9577-4753-8f9f-0e9581b6235d",
   "metadata": {
    "ExecuteTime": {
     "end_time": "2023-05-30T15:04:44.258333Z",
     "start_time": "2023-05-30T15:04:44.152734Z"
    }
   },
   "outputs": [],
   "source": [
    "belgica_raw = pd.read_csv(\"belgica_raw.csv\")"
   ]
  },
  {
   "cell_type": "code",
   "execution_count": 4,
   "id": "d21667d9-7146-4c6c-a5b3-905d442c3438",
   "metadata": {
    "ExecuteTime": {
     "end_time": "2023-05-30T15:04:44.336755Z",
     "start_time": "2023-05-30T15:04:44.267391Z"
    },
    "tags": []
   },
   "outputs": [
    {
     "data": {
      "text/html": [
       "<div>\n",
       "<style scoped>\n",
       "    .dataframe tbody tr th:only-of-type {\n",
       "        vertical-align: middle;\n",
       "    }\n",
       "\n",
       "    .dataframe tbody tr th {\n",
       "        vertical-align: top;\n",
       "    }\n",
       "\n",
       "    .dataframe thead th {\n",
       "        text-align: right;\n",
       "    }\n",
       "</style>\n",
       "<table border=\"1\" class=\"dataframe\">\n",
       "  <thead>\n",
       "    <tr style=\"text-align: right;\">\n",
       "      <th></th>\n",
       "      <th>PlayerName</th>\n",
       "      <th>Born</th>\n",
       "      <th>Height</th>\n",
       "      <th>Hand</th>\n",
       "      <th>LinkPlayer</th>\n",
       "      <th>Tournament</th>\n",
       "      <th>Location</th>\n",
       "      <th>Date</th>\n",
       "      <th>Ground</th>\n",
       "      <th>Prize</th>\n",
       "      <th>GameRound</th>\n",
       "      <th>GameRank</th>\n",
       "      <th>Oponent</th>\n",
       "      <th>WL</th>\n",
       "      <th>Score</th>\n",
       "      <th>país</th>\n",
       "    </tr>\n",
       "  </thead>\n",
       "  <tbody>\n",
       "    <tr>\n",
       "      <th>0</th>\n",
       "      <td>Novak Djokovic</td>\n",
       "      <td>Belgrade, Serbia</td>\n",
       "      <td>188.0</td>\n",
       "      <td>Right-Handed, Two-Handed Backhand</td>\n",
       "      <td>https://www.atptour.com/en/players/novak-djokovic/d643/player-activity?year=all&amp;matchType=Singles</td>\n",
       "      <td>BEL vs. SRB WG 1st RD</td>\n",
       "      <td>Charleroi, Belgium</td>\n",
       "      <td>2013.01.28 - 2013.02.03</td>\n",
       "      <td>Clay</td>\n",
       "      <td>NaN</td>\n",
       "      <td>Round Robin</td>\n",
       "      <td>127</td>\n",
       "      <td>Olivier Rochus</td>\n",
       "      <td>W</td>\n",
       "      <td>63 62 62</td>\n",
       "      <td>Belgium</td>\n",
       "    </tr>\n",
       "    <tr>\n",
       "      <th>1</th>\n",
       "      <td>Romain Bogaerts</td>\n",
       "      <td>Namur</td>\n",
       "      <td>188.0</td>\n",
       "      <td>Left-Handed, Two-Handed Backhand</td>\n",
       "      <td>https://www.atptour.com/en/players/romain-bogaerts/bk85/player-activity?year=all&amp;matchType=Singles</td>\n",
       "      <td>Belgium F3</td>\n",
       "      <td>Belgium</td>\n",
       "      <td>2013.07.01 - 2013.07.07</td>\n",
       "      <td>Clay</td>\n",
       "      <td>$10,000</td>\n",
       "      <td>Round of 32</td>\n",
       "      <td>716</td>\n",
       "      <td>Julien Cagnina</td>\n",
       "      <td>W</td>\n",
       "      <td>46 63 75</td>\n",
       "      <td>Belgium</td>\n",
       "    </tr>\n",
       "    <tr>\n",
       "      <th>2</th>\n",
       "      <td>Louis Cant</td>\n",
       "      <td>NaN</td>\n",
       "      <td>NaN</td>\n",
       "      <td>NaN</td>\n",
       "      <td>https://www.atptour.com/en/players/louis-cant/cd88/player-activity?year=all&amp;matchType=Singles</td>\n",
       "      <td>Belgium F9</td>\n",
       "      <td>Belgium</td>\n",
       "      <td>2013.08.12 - 2013.08.18</td>\n",
       "      <td>Clay</td>\n",
       "      <td>$10,000</td>\n",
       "      <td>Quarter-Finals</td>\n",
       "      <td>1947</td>\n",
       "      <td>Remy Chala</td>\n",
       "      <td>W</td>\n",
       "      <td>60 67,  64</td>\n",
       "      <td>Belgium</td>\n",
       "    </tr>\n",
       "    <tr>\n",
       "      <th>3</th>\n",
       "      <td>Louis Cant</td>\n",
       "      <td>NaN</td>\n",
       "      <td>NaN</td>\n",
       "      <td>NaN</td>\n",
       "      <td>https://www.atptour.com/en/players/louis-cant/cd88/player-activity?year=all&amp;matchType=Singles</td>\n",
       "      <td>Belgium F5</td>\n",
       "      <td>Nieuwpoort, Belgium</td>\n",
       "      <td>2015.07.06 - 2015.07.12</td>\n",
       "      <td>Clay</td>\n",
       "      <td>$10,000</td>\n",
       "      <td>Round of 32</td>\n",
       "      <td>1907</td>\n",
       "      <td>Florian Simbozel</td>\n",
       "      <td>W</td>\n",
       "      <td>36 76,  62</td>\n",
       "      <td>Belgium</td>\n",
       "    </tr>\n",
       "    <tr>\n",
       "      <th>4</th>\n",
       "      <td>Louis Cant</td>\n",
       "      <td>NaN</td>\n",
       "      <td>NaN</td>\n",
       "      <td>NaN</td>\n",
       "      <td>https://www.atptour.com/en/players/louis-cant/cd88/player-activity?year=all&amp;matchType=Singles</td>\n",
       "      <td>Belgium F6</td>\n",
       "      <td>Knokke, Belgium</td>\n",
       "      <td>2015.07.13 - 2015.07.19</td>\n",
       "      <td>Clay</td>\n",
       "      <td>$10,000</td>\n",
       "      <td>Round of 32</td>\n",
       "      <td>-</td>\n",
       "      <td>Zizou Bergs</td>\n",
       "      <td>W</td>\n",
       "      <td>61 60</td>\n",
       "      <td>Belgium</td>\n",
       "    </tr>\n",
       "  </tbody>\n",
       "</table>\n",
       "</div>"
      ],
      "text/plain": [
       "        PlayerName              Born  Height  \\\n",
       "0   Novak Djokovic  Belgrade, Serbia   188.0   \n",
       "1  Romain Bogaerts             Namur   188.0   \n",
       "2       Louis Cant               NaN     NaN   \n",
       "3       Louis Cant               NaN     NaN   \n",
       "4       Louis Cant               NaN     NaN   \n",
       "\n",
       "                                Hand  \\\n",
       "0  Right-Handed, Two-Handed Backhand   \n",
       "1   Left-Handed, Two-Handed Backhand   \n",
       "2                                NaN   \n",
       "3                                NaN   \n",
       "4                                NaN   \n",
       "\n",
       "                                                                                           LinkPlayer  \\\n",
       "0   https://www.atptour.com/en/players/novak-djokovic/d643/player-activity?year=all&matchType=Singles   \n",
       "1  https://www.atptour.com/en/players/romain-bogaerts/bk85/player-activity?year=all&matchType=Singles   \n",
       "2       https://www.atptour.com/en/players/louis-cant/cd88/player-activity?year=all&matchType=Singles   \n",
       "3       https://www.atptour.com/en/players/louis-cant/cd88/player-activity?year=all&matchType=Singles   \n",
       "4       https://www.atptour.com/en/players/louis-cant/cd88/player-activity?year=all&matchType=Singles   \n",
       "\n",
       "              Tournament             Location                     Date Ground  \\\n",
       "0  BEL vs. SRB WG 1st RD   Charleroi, Belgium  2013.01.28 - 2013.02.03   Clay   \n",
       "1             Belgium F3              Belgium  2013.07.01 - 2013.07.07   Clay   \n",
       "2             Belgium F9              Belgium  2013.08.12 - 2013.08.18   Clay   \n",
       "3             Belgium F5  Nieuwpoort, Belgium  2015.07.06 - 2015.07.12   Clay   \n",
       "4             Belgium F6      Knokke, Belgium  2015.07.13 - 2015.07.19   Clay   \n",
       "\n",
       "     Prize       GameRound GameRank           Oponent WL       Score     país  \n",
       "0      NaN     Round Robin      127    Olivier Rochus  W    63 62 62  Belgium  \n",
       "1  $10,000     Round of 32      716    Julien Cagnina  W    46 63 75  Belgium  \n",
       "2  $10,000  Quarter-Finals     1947        Remy Chala  W  60 67,  64  Belgium  \n",
       "3  $10,000     Round of 32     1907  Florian Simbozel  W  36 76,  62  Belgium  \n",
       "4  $10,000     Round of 32        -       Zizou Bergs  W       61 60  Belgium  "
      ]
     },
     "execution_count": 4,
     "metadata": {},
     "output_type": "execute_result"
    }
   ],
   "source": [
    "belgica_raw.head(5)"
   ]
  },
  {
   "cell_type": "code",
   "execution_count": 5,
   "id": "12e58fca-34e7-4b7f-bbdc-f1ce4476ac04",
   "metadata": {
    "ExecuteTime": {
     "end_time": "2023-05-30T15:04:44.368037Z",
     "start_time": "2023-05-30T15:04:44.345200Z"
    }
   },
   "outputs": [
    {
     "data": {
      "text/plain": [
       "5982"
      ]
     },
     "execution_count": 5,
     "metadata": {},
     "output_type": "execute_result"
    }
   ],
   "source": [
    "belgica_raw.shape[0]"
   ]
  },
  {
   "cell_type": "markdown",
   "id": "73ed7dc9-102a-44ed-9082-e0b1fbb602bd",
   "metadata": {},
   "source": [
    "<h2 style=\"background-size:2em 2em;background-position:0em 1em,1em 0,0em 1em,1em 0,0 0,0 0,0 0,0 0,0 0;background-image:linear-gradient(45deg,#000 8%,transparent 8%,transparent 92%,#000 92%),linear-gradient(-45deg,#000 8%,transparent 8%,transparent 92%,#000 92%),linear-gradient(-45deg,#000 8%,transparent 8%,transparent 92%,#000 92%),linear-gradient(45deg,#000 8%,transparent 8%,transparent 92%,#000 92%),linear-gradient(-45deg,transparent 17%,#000 17%,#000 21%,transparent 21%,transparent 79%,#000 79%,#000 83%,transparent 83%),linear-gradient(45deg,transparent 29%,#000 29%,#000 33%,transparent 33%,transparent 67%,#000 67%,#000 71%,transparent 71%),linear-gradient(-135deg,#202020 10%,#090909 33%,transparent 33%,transparent 67%,#161616 67%,#202020 90%),linear-gradient(135deg,transparent 21%,#161616 21%,#2d2d2d 32.6%,#161616 64.5%,#202020 70.3%,#090909 79%,transparent 79%),linear-gradient(-135deg,transparent 21%,#161616 21%,#202020 40%,#202020 60%,#090909 79%,transparent 79%);\n",
    "color: white;\n",
    "font-weight: 40;\n",
    "font-size: 50px;\n",
    "margin: 0.5em auto;\n",
    "text-align: center;\n",
    "cursor: wait;\n",
    "letter-spacing: 10;\">Informação dos Players</h2>     "
   ]
  },
  {
   "cell_type": "markdown",
   "id": "a476b4cb-b5cf-4ef9-9830-049e074b5989",
   "metadata": {},
   "source": [
    "<h3 style=\"background-size:2em 2em;background-position:0em 1em,1em 0,0em 1em,1em 0,0 0,0 0,0 0,0 0,0 0;background-image:linear-gradient(45deg,#000 8%,transparent 8%,transparent 92%,#000 92%),linear-gradient(-45deg,#000 8%,transparent 8%,transparent 92%,#000 92%),linear-gradient(-45deg,#000 8%,transparent 8%,transparent 92%,#000 92%),linear-gradient(45deg,#000 8%,transparent 8%,transparent 92%,#000 92%),linear-gradient(-45deg,transparent 17%,#000 17%,#000 21%,transparent 21%,transparent 79%,#000 79%,#000 83%,transparent 83%),linear-gradient(45deg,transparent 29%,#000 29%,#000 33%,transparent 33%,transparent 67%,#000 67%,#000 71%,transparent 71%),linear-gradient(-135deg,#202020 10%,#090909 33%,transparent 33%,transparent 67%,#161616 67%,#202020 90%),linear-gradient(135deg,transparent 21%,#161616 21%,#2d2d2d 32.6%,#161616 64.5%,#202020 70.3%,#090909 79%,transparent 79%),linear-gradient(-135deg,transparent 21%,#161616 21%,#202020 40%,#202020 60%,#090909 79%,transparent 79%);\n",
    "color: white;\n",
    "font-weight: 40;\n",
    "font-size: 40px;\n",
    "margin: 0.5em auto;\n",
    "text-align: left;\n",
    "cursor: wait;\n",
    "letter-spacing: 10;\"> Web Scrapping</h3>    "
   ]
  },
  {
   "cell_type": "code",
   "execution_count": 6,
   "id": "7d229755-7fab-4bb3-ae1c-f24c47a71890",
   "metadata": {
    "ExecuteTime": {
     "end_time": "2023-05-30T15:04:44.414144Z",
     "start_time": "2023-05-30T15:04:44.374029Z"
    }
   },
   "outputs": [],
   "source": [
    "WebScrapping = pd.read_csv(\"WebScrapping.csv\")"
   ]
  },
  {
   "cell_type": "code",
   "execution_count": 7,
   "id": "f88f193b-85ae-4ce7-b5f1-df9d62f801ac",
   "metadata": {
    "ExecuteTime": {
     "end_time": "2023-05-30T15:04:44.445236Z",
     "start_time": "2023-05-30T15:04:44.419236Z"
    }
   },
   "outputs": [
    {
     "data": {
      "text/html": [
       "<div>\n",
       "<style scoped>\n",
       "    .dataframe tbody tr th:only-of-type {\n",
       "        vertical-align: middle;\n",
       "    }\n",
       "\n",
       "    .dataframe tbody tr th {\n",
       "        vertical-align: top;\n",
       "    }\n",
       "\n",
       "    .dataframe thead th {\n",
       "        text-align: right;\n",
       "    }\n",
       "</style>\n",
       "<table border=\"1\" class=\"dataframe\">\n",
       "  <thead>\n",
       "    <tr style=\"text-align: right;\">\n",
       "      <th></th>\n",
       "      <th>PlayerName</th>\n",
       "      <th>Born</th>\n",
       "      <th>Height</th>\n",
       "      <th>Hand</th>\n",
       "      <th>LinkPlayer</th>\n",
       "      <th>Weight</th>\n",
       "      <th>Birt</th>\n",
       "      <th>Treinador</th>\n",
       "      <th>Rank</th>\n",
       "    </tr>\n",
       "  </thead>\n",
       "  <tbody>\n",
       "    <tr>\n",
       "      <th>0</th>\n",
       "      <td>Novak Djokovic</td>\n",
       "      <td>Belgrade, Serbia</td>\n",
       "      <td>188.0</td>\n",
       "      <td>Right-Handed, Two-Handed Backhand</td>\n",
       "      <td>https://www.atptour.com/en/players/novak-djokovic/d643/player-activity?year=all&amp;matchType=Singles</td>\n",
       "      <td>77.0</td>\n",
       "      <td>1987-05-22</td>\n",
       "      <td>Goran Ivanisevic</td>\n",
       "      <td>1</td>\n",
       "    </tr>\n",
       "    <tr>\n",
       "      <th>1</th>\n",
       "      <td>Romain Bogaerts</td>\n",
       "      <td>Namur</td>\n",
       "      <td>188.0</td>\n",
       "      <td>Left-Handed, Two-Handed Backhand</td>\n",
       "      <td>https://www.atptour.com/en/players/romain-bogaerts/bk85/player-activity?year=all&amp;matchType=Singles</td>\n",
       "      <td>76.0</td>\n",
       "      <td>1993-12-23</td>\n",
       "      <td>Bouhoulle Michel And Tony Bresky</td>\n",
       "      <td>1092</td>\n",
       "    </tr>\n",
       "    <tr>\n",
       "      <th>2</th>\n",
       "      <td>Louis Cant</td>\n",
       "      <td>Belgium</td>\n",
       "      <td>185.0</td>\n",
       "      <td>Right-Handed</td>\n",
       "      <td>https://www.atptour.com/en/players/louis-cant/cd88/player-activity?year=all&amp;matchType=Singles</td>\n",
       "      <td>78.0</td>\n",
       "      <td>1990-11-08</td>\n",
       "      <td>NaN</td>\n",
       "      <td>1025</td>\n",
       "    </tr>\n",
       "    <tr>\n",
       "      <th>3</th>\n",
       "      <td>Philipp Scholz</td>\n",
       "      <td>Germany</td>\n",
       "      <td>185.0</td>\n",
       "      <td>Right-Handed, Two-Handed Backhand</td>\n",
       "      <td>https://www.atptour.com/en/players/philipp-scholz/su09/player-activity?year=all&amp;matchType=Singles</td>\n",
       "      <td>78.0</td>\n",
       "      <td>1995-01-24</td>\n",
       "      <td>NaN</td>\n",
       "      <td>841</td>\n",
       "    </tr>\n",
       "    <tr>\n",
       "      <th>4</th>\n",
       "      <td>Thomas Schoorel</td>\n",
       "      <td>Amsterdam, Netherlands</td>\n",
       "      <td>203.0</td>\n",
       "      <td>Left-Handed, Unknown Backhand</td>\n",
       "      <td>https://www.atptour.com/en/players/thomas-schoorel/sj63/player-activity?year=all&amp;matchType=Singles</td>\n",
       "      <td>78.0</td>\n",
       "      <td>1989-04-08</td>\n",
       "      <td>NaN</td>\n",
       "      <td>94</td>\n",
       "    </tr>\n",
       "  </tbody>\n",
       "</table>\n",
       "</div>"
      ],
      "text/plain": [
       "        PlayerName                    Born  Height  \\\n",
       "0   Novak Djokovic        Belgrade, Serbia   188.0   \n",
       "1  Romain Bogaerts                   Namur   188.0   \n",
       "2       Louis Cant                 Belgium   185.0   \n",
       "3   Philipp Scholz                 Germany   185.0   \n",
       "4  Thomas Schoorel  Amsterdam, Netherlands   203.0   \n",
       "\n",
       "                                Hand  \\\n",
       "0  Right-Handed, Two-Handed Backhand   \n",
       "1   Left-Handed, Two-Handed Backhand   \n",
       "2                       Right-Handed   \n",
       "3  Right-Handed, Two-Handed Backhand   \n",
       "4      Left-Handed, Unknown Backhand   \n",
       "\n",
       "                                                                                           LinkPlayer  \\\n",
       "0   https://www.atptour.com/en/players/novak-djokovic/d643/player-activity?year=all&matchType=Singles   \n",
       "1  https://www.atptour.com/en/players/romain-bogaerts/bk85/player-activity?year=all&matchType=Singles   \n",
       "2       https://www.atptour.com/en/players/louis-cant/cd88/player-activity?year=all&matchType=Singles   \n",
       "3   https://www.atptour.com/en/players/philipp-scholz/su09/player-activity?year=all&matchType=Singles   \n",
       "4  https://www.atptour.com/en/players/thomas-schoorel/sj63/player-activity?year=all&matchType=Singles   \n",
       "\n",
       "   Weight        Birt                         Treinador  Rank  \n",
       "0    77.0  1987-05-22                  Goran Ivanisevic     1  \n",
       "1    76.0  1993-12-23  Bouhoulle Michel And Tony Bresky  1092  \n",
       "2    78.0  1990-11-08                               NaN  1025  \n",
       "3    78.0  1995-01-24                               NaN   841  \n",
       "4    78.0  1989-04-08                               NaN    94  "
      ]
     },
     "execution_count": 7,
     "metadata": {},
     "output_type": "execute_result"
    }
   ],
   "source": [
    "WebScrapping.head()"
   ]
  },
  {
   "cell_type": "code",
   "execution_count": 8,
   "id": "b388cba9-0b46-4782-b7f9-aafc138963e1",
   "metadata": {
    "ExecuteTime": {
     "end_time": "2023-05-30T15:04:44.475915Z",
     "start_time": "2023-05-30T15:04:44.450252Z"
    }
   },
   "outputs": [],
   "source": [
    "WebScrapping.rename(columns={'Birt': 'Birth'}, inplace=True)"
   ]
  },
  {
   "cell_type": "code",
   "execution_count": 9,
   "id": "cff3ae52-49a8-4edd-9826-ef700b5fc83b",
   "metadata": {
    "ExecuteTime": {
     "end_time": "2023-05-30T15:04:44.507028Z",
     "start_time": "2023-05-30T15:04:44.484433Z"
    }
   },
   "outputs": [
    {
     "data": {
      "text/plain": [
       "1200"
      ]
     },
     "execution_count": 9,
     "metadata": {},
     "output_type": "execute_result"
    }
   ],
   "source": [
    "len(WebScrapping)"
   ]
  },
  {
   "cell_type": "markdown",
   "id": "e37ca52d-4a21-4d6b-b0b0-1c079a605e2b",
   "metadata": {
    "tags": []
   },
   "source": [
    "<h3 style=\"background-size:2em 2em;background-position:0em 1em,1em 0,0em 1em,1em 0,0 0,0 0,0 0,0 0,0 0;background-image:linear-gradient(45deg,#000 8%,transparent 8%,transparent 92%,#000 92%),linear-gradient(-45deg,#000 8%,transparent 8%,transparent 92%,#000 92%),linear-gradient(-45deg,#000 8%,transparent 8%,transparent 92%,#000 92%),linear-gradient(45deg,#000 8%,transparent 8%,transparent 92%,#000 92%),linear-gradient(-45deg,transparent 17%,#000 17%,#000 21%,transparent 21%,transparent 79%,#000 79%,#000 83%,transparent 83%),linear-gradient(45deg,transparent 29%,#000 29%,#000 33%,transparent 33%,transparent 67%,#000 67%,#000 71%,transparent 71%),linear-gradient(-135deg,#202020 10%,#090909 33%,transparent 33%,transparent 67%,#161616 67%,#202020 90%),linear-gradient(135deg,transparent 21%,#161616 21%,#2d2d2d 32.6%,#161616 64.5%,#202020 70.3%,#090909 79%,transparent 79%),linear-gradient(-135deg,transparent 21%,#161616 21%,#202020 40%,#202020 60%,#090909 79%,transparent 79%);\n",
    "color: white;\n",
    "font-weight: 40;\n",
    "font-size: 40px;\n",
    "margin: 0.5em auto;\n",
    "text-align: left;\n",
    "cursor: wait;\n",
    "letter-spacing: 10;\">Players</h3>     "
   ]
  },
  {
   "cell_type": "code",
   "execution_count": 10,
   "id": "ab1bada2-63fe-4f24-9a6b-a46e2c56bc01",
   "metadata": {
    "ExecuteTime": {
     "end_time": "2023-05-30T15:04:44.538077Z",
     "start_time": "2023-05-30T15:04:44.521522Z"
    }
   },
   "outputs": [],
   "source": [
    "Oponent = belgica_raw[[\"Oponent\"]]\n",
    "Oponent = Oponent.drop_duplicates"
   ]
  },
  {
   "cell_type": "code",
   "execution_count": 11,
   "id": "ff1c72ed-af01-4b47-a01a-c121ae21613c",
   "metadata": {
    "ExecuteTime": {
     "end_time": "2023-05-30T15:04:44.601386Z",
     "start_time": "2023-05-30T15:04:44.546567Z"
    }
   },
   "outputs": [
    {
     "data": {
      "text/html": [
       "<div>\n",
       "<style scoped>\n",
       "    .dataframe tbody tr th:only-of-type {\n",
       "        vertical-align: middle;\n",
       "    }\n",
       "\n",
       "    .dataframe tbody tr th {\n",
       "        vertical-align: top;\n",
       "    }\n",
       "\n",
       "    .dataframe thead th {\n",
       "        text-align: right;\n",
       "    }\n",
       "</style>\n",
       "<table border=\"1\" class=\"dataframe\">\n",
       "  <thead>\n",
       "    <tr style=\"text-align: right;\">\n",
       "      <th></th>\n",
       "      <th>PlayerName</th>\n",
       "      <th>Born</th>\n",
       "      <th>Height</th>\n",
       "      <th>Hand</th>\n",
       "      <th>LinkPlayer</th>\n",
       "    </tr>\n",
       "  </thead>\n",
       "  <tbody>\n",
       "    <tr>\n",
       "      <th>0</th>\n",
       "      <td>Novak Djokovic</td>\n",
       "      <td>Belgrade, Serbia</td>\n",
       "      <td>188.0</td>\n",
       "      <td>Right-Handed, Two-Handed Backhand</td>\n",
       "      <td>https://www.atptour.com/en/players/novak-djokovic/d643/player-activity?year=all&amp;matchType=Singles</td>\n",
       "    </tr>\n",
       "    <tr>\n",
       "      <th>1</th>\n",
       "      <td>Romain Bogaerts</td>\n",
       "      <td>Namur</td>\n",
       "      <td>188.0</td>\n",
       "      <td>Left-Handed, Two-Handed Backhand</td>\n",
       "      <td>https://www.atptour.com/en/players/romain-bogaerts/bk85/player-activity?year=all&amp;matchType=Singles</td>\n",
       "    </tr>\n",
       "    <tr>\n",
       "      <th>2</th>\n",
       "      <td>Louis Cant</td>\n",
       "      <td>NaN</td>\n",
       "      <td>NaN</td>\n",
       "      <td>NaN</td>\n",
       "      <td>https://www.atptour.com/en/players/louis-cant/cd88/player-activity?year=all&amp;matchType=Singles</td>\n",
       "    </tr>\n",
       "  </tbody>\n",
       "</table>\n",
       "</div>"
      ],
      "text/plain": [
       "        PlayerName              Born  Height  \\\n",
       "0   Novak Djokovic  Belgrade, Serbia   188.0   \n",
       "1  Romain Bogaerts             Namur   188.0   \n",
       "2       Louis Cant               NaN     NaN   \n",
       "\n",
       "                                Hand  \\\n",
       "0  Right-Handed, Two-Handed Backhand   \n",
       "1   Left-Handed, Two-Handed Backhand   \n",
       "2                                NaN   \n",
       "\n",
       "                                                                                           LinkPlayer  \n",
       "0   https://www.atptour.com/en/players/novak-djokovic/d643/player-activity?year=all&matchType=Singles  \n",
       "1  https://www.atptour.com/en/players/romain-bogaerts/bk85/player-activity?year=all&matchType=Singles  \n",
       "2       https://www.atptour.com/en/players/louis-cant/cd88/player-activity?year=all&matchType=Singles  "
      ]
     },
     "execution_count": 11,
     "metadata": {},
     "output_type": "execute_result"
    }
   ],
   "source": [
    "Players = belgica_raw[[\"PlayerName\", \"Born\", \"Height\", \"Hand\", \"LinkPlayer\"]]\n",
    "Players = Players.drop_duplicates(subset = [\"LinkPlayer\"])\n",
    "Players.head(3)"
   ]
  },
  {
   "cell_type": "code",
   "execution_count": 12,
   "id": "c4667620-7fae-4933-a1a0-53e71b236ba8",
   "metadata": {
    "ExecuteTime": {
     "end_time": "2023-05-30T15:04:44.616578Z",
     "start_time": "2023-05-30T15:04:44.605974Z"
    }
   },
   "outputs": [
    {
     "data": {
      "text/plain": [
       "1200"
      ]
     },
     "execution_count": 12,
     "metadata": {},
     "output_type": "execute_result"
    }
   ],
   "source": [
    "len(Players)"
   ]
  },
  {
   "cell_type": "code",
   "execution_count": 13,
   "id": "71c04f18-91b2-4bd8-8487-b07ea9bf52a9",
   "metadata": {
    "ExecuteTime": {
     "end_time": "2023-05-30T15:04:44.647253Z",
     "start_time": "2023-05-30T15:04:44.621565Z"
    }
   },
   "outputs": [
    {
     "data": {
      "text/plain": [
       "8"
      ]
     },
     "execution_count": 13,
     "metadata": {},
     "output_type": "execute_result"
    }
   ],
   "source": [
    "len(Players[Players[\"Height\"]==0])"
   ]
  },
  {
   "cell_type": "code",
   "execution_count": 14,
   "id": "612f4810-78e8-4ca1-a321-ab1059b42d2d",
   "metadata": {
    "ExecuteTime": {
     "end_time": "2023-05-30T15:04:44.678520Z",
     "start_time": "2023-05-30T15:04:44.654268Z"
    }
   },
   "outputs": [],
   "source": [
    "Players['Height'].replace(0, np.nan, inplace=True)"
   ]
  },
  {
   "cell_type": "code",
   "execution_count": 15,
   "id": "857400a3-6307-498a-8b7a-b14b11e54202",
   "metadata": {
    "ExecuteTime": {
     "end_time": "2023-05-30T15:04:44.740398Z",
     "start_time": "2023-05-30T15:04:44.684206Z"
    }
   },
   "outputs": [],
   "source": [
    "# Mescla os dataframes, mantendo apenas as colunas em comum\n",
    "AllPlayers = pd.merge(Players[[\"PlayerName\", \"Born\", \"Height\", \"Hand\", \"LinkPlayer\"]], \n",
    "                     WebScrapping[[\"PlayerName\", \"Born\", \"Height\", \"Hand\", \"LinkPlayer\", \"Weight\", \"Birth\", \"Treinador\", \"Rank\"]], \n",
    "                     on=\"LinkPlayer\", how=\"left\")\n",
    "\n",
    "# Substitui os valores nulos do dataframe 1 pelos valores correspondentes do dataframe 2\n",
    "AllPlayers[\"Born_x\"].fillna(AllPlayers[\"Born_y\"], inplace=True)\n",
    "AllPlayers[\"Height_x\"].fillna(AllPlayers[\"Height_y\"], inplace=True)\n",
    "AllPlayers[\"Hand_x\"].fillna(AllPlayers[\"Hand_y\"], inplace=True)\n",
    "\n",
    "# Remove as colunas duplicadas (com sufixo _x e _y) e renomeia as colunas novas\n",
    "AllPlayers.drop(columns=[\"Born_y\", \"Height_y\", \"Hand_y\", \"PlayerName_y\"], inplace=True)\n",
    "AllPlayers.rename(columns={\"Born_x\": \"Born\", \"Height_x\": \"Height\", \"Hand_x\": \"Hand\", \"PlayerName_x\":\"PlayerName\"}, inplace=True)"
   ]
  },
  {
   "cell_type": "code",
   "execution_count": 16,
   "id": "9eb01f00-9c39-43c0-8eee-62bdef566fb5",
   "metadata": {
    "ExecuteTime": {
     "end_time": "2023-05-30T15:04:44.771265Z",
     "start_time": "2023-05-30T15:04:44.747176Z"
    }
   },
   "outputs": [
    {
     "data": {
      "text/plain": [
       "Index(['PlayerName', 'Born', 'Height', 'Hand', 'LinkPlayer', 'Weight', 'Birth',\n",
       "       'Treinador', 'Rank'],\n",
       "      dtype='object')"
      ]
     },
     "execution_count": 16,
     "metadata": {},
     "output_type": "execute_result"
    }
   ],
   "source": [
    "AllPlayers.columns"
   ]
  },
  {
   "cell_type": "code",
   "execution_count": 17,
   "id": "bb543c62-fac6-430e-89c7-be04e62375aa",
   "metadata": {
    "ExecuteTime": {
     "end_time": "2023-05-30T15:04:44.801750Z",
     "start_time": "2023-05-30T15:04:44.776826Z"
    }
   },
   "outputs": [
    {
     "data": {
      "text/plain": [
       "1200"
      ]
     },
     "execution_count": 17,
     "metadata": {},
     "output_type": "execute_result"
    }
   ],
   "source": [
    "len(AllPlayers)"
   ]
  },
  {
   "cell_type": "code",
   "execution_count": 18,
   "id": "5a426012-b91e-4fc8-ad8b-298ada24e26e",
   "metadata": {
    "ExecuteTime": {
     "end_time": "2023-05-30T15:04:44.848296Z",
     "start_time": "2023-05-30T15:04:44.807272Z"
    }
   },
   "outputs": [
    {
     "data": {
      "text/html": [
       "<div>\n",
       "<style scoped>\n",
       "    .dataframe tbody tr th:only-of-type {\n",
       "        vertical-align: middle;\n",
       "    }\n",
       "\n",
       "    .dataframe tbody tr th {\n",
       "        vertical-align: top;\n",
       "    }\n",
       "\n",
       "    .dataframe thead th {\n",
       "        text-align: right;\n",
       "    }\n",
       "</style>\n",
       "<table border=\"1\" class=\"dataframe\">\n",
       "  <thead>\n",
       "    <tr style=\"text-align: right;\">\n",
       "      <th></th>\n",
       "      <th>PlayerName</th>\n",
       "      <th>Born</th>\n",
       "      <th>Height</th>\n",
       "      <th>Hand</th>\n",
       "      <th>LinkPlayer</th>\n",
       "      <th>Weight</th>\n",
       "      <th>Birth</th>\n",
       "      <th>Treinador</th>\n",
       "      <th>Rank</th>\n",
       "    </tr>\n",
       "  </thead>\n",
       "  <tbody>\n",
       "    <tr>\n",
       "      <th>0</th>\n",
       "      <td>Novak Djokovic</td>\n",
       "      <td>Belgrade, Serbia</td>\n",
       "      <td>188.0</td>\n",
       "      <td>Right-Handed, Two-Handed Backhand</td>\n",
       "      <td>https://www.atptour.com/en/players/novak-djokovic/d643/player-activity?year=all&amp;matchType=Singles</td>\n",
       "      <td>77.0</td>\n",
       "      <td>1987-05-22</td>\n",
       "      <td>Goran Ivanisevic</td>\n",
       "      <td>1</td>\n",
       "    </tr>\n",
       "    <tr>\n",
       "      <th>1</th>\n",
       "      <td>Romain Bogaerts</td>\n",
       "      <td>Namur</td>\n",
       "      <td>188.0</td>\n",
       "      <td>Left-Handed, Two-Handed Backhand</td>\n",
       "      <td>https://www.atptour.com/en/players/romain-bogaerts/bk85/player-activity?year=all&amp;matchType=Singles</td>\n",
       "      <td>76.0</td>\n",
       "      <td>1993-12-23</td>\n",
       "      <td>Bouhoulle Michel And Tony Bresky</td>\n",
       "      <td>1092</td>\n",
       "    </tr>\n",
       "    <tr>\n",
       "      <th>2</th>\n",
       "      <td>Louis Cant</td>\n",
       "      <td>Belgium</td>\n",
       "      <td>185.0</td>\n",
       "      <td>Right-Handed</td>\n",
       "      <td>https://www.atptour.com/en/players/louis-cant/cd88/player-activity?year=all&amp;matchType=Singles</td>\n",
       "      <td>78.0</td>\n",
       "      <td>1990-11-08</td>\n",
       "      <td>NaN</td>\n",
       "      <td>1025</td>\n",
       "    </tr>\n",
       "    <tr>\n",
       "      <th>3</th>\n",
       "      <td>Philipp Scholz</td>\n",
       "      <td>Germany</td>\n",
       "      <td>185.0</td>\n",
       "      <td>Right-Handed, Two-Handed Backhand</td>\n",
       "      <td>https://www.atptour.com/en/players/philipp-scholz/su09/player-activity?year=all&amp;matchType=Singles</td>\n",
       "      <td>78.0</td>\n",
       "      <td>1995-01-24</td>\n",
       "      <td>NaN</td>\n",
       "      <td>841</td>\n",
       "    </tr>\n",
       "    <tr>\n",
       "      <th>4</th>\n",
       "      <td>Thomas Schoorel</td>\n",
       "      <td>Amsterdam, Netherlands</td>\n",
       "      <td>203.0</td>\n",
       "      <td>Left-Handed, Unknown Backhand</td>\n",
       "      <td>https://www.atptour.com/en/players/thomas-schoorel/sj63/player-activity?year=all&amp;matchType=Singles</td>\n",
       "      <td>78.0</td>\n",
       "      <td>1989-04-08</td>\n",
       "      <td>NaN</td>\n",
       "      <td>94</td>\n",
       "    </tr>\n",
       "  </tbody>\n",
       "</table>\n",
       "</div>"
      ],
      "text/plain": [
       "        PlayerName                    Born  Height  \\\n",
       "0   Novak Djokovic        Belgrade, Serbia   188.0   \n",
       "1  Romain Bogaerts                   Namur   188.0   \n",
       "2       Louis Cant                 Belgium   185.0   \n",
       "3   Philipp Scholz                 Germany   185.0   \n",
       "4  Thomas Schoorel  Amsterdam, Netherlands   203.0   \n",
       "\n",
       "                                Hand  \\\n",
       "0  Right-Handed, Two-Handed Backhand   \n",
       "1   Left-Handed, Two-Handed Backhand   \n",
       "2                       Right-Handed   \n",
       "3  Right-Handed, Two-Handed Backhand   \n",
       "4      Left-Handed, Unknown Backhand   \n",
       "\n",
       "                                                                                           LinkPlayer  \\\n",
       "0   https://www.atptour.com/en/players/novak-djokovic/d643/player-activity?year=all&matchType=Singles   \n",
       "1  https://www.atptour.com/en/players/romain-bogaerts/bk85/player-activity?year=all&matchType=Singles   \n",
       "2       https://www.atptour.com/en/players/louis-cant/cd88/player-activity?year=all&matchType=Singles   \n",
       "3   https://www.atptour.com/en/players/philipp-scholz/su09/player-activity?year=all&matchType=Singles   \n",
       "4  https://www.atptour.com/en/players/thomas-schoorel/sj63/player-activity?year=all&matchType=Singles   \n",
       "\n",
       "   Weight       Birth                         Treinador  Rank  \n",
       "0    77.0  1987-05-22                  Goran Ivanisevic     1  \n",
       "1    76.0  1993-12-23  Bouhoulle Michel And Tony Bresky  1092  \n",
       "2    78.0  1990-11-08                               NaN  1025  \n",
       "3    78.0  1995-01-24                               NaN   841  \n",
       "4    78.0  1989-04-08                               NaN    94  "
      ]
     },
     "execution_count": 18,
     "metadata": {},
     "output_type": "execute_result"
    }
   ],
   "source": [
    "AllPlayers.head()"
   ]
  },
  {
   "cell_type": "code",
   "execution_count": 19,
   "id": "19f5e3af-b321-4f5f-8119-bd01ec0a1812",
   "metadata": {
    "ExecuteTime": {
     "end_time": "2023-05-30T15:04:44.879968Z",
     "start_time": "2023-05-30T15:04:44.854298Z"
    }
   },
   "outputs": [
    {
     "data": {
      "text/plain": [
       "PlayerName      0\n",
       "Born           21\n",
       "Height          0\n",
       "Hand            0\n",
       "LinkPlayer      0\n",
       "Weight          0\n",
       "Birth          16\n",
       "Treinador     624\n",
       "Rank          182\n",
       "dtype: int64"
      ]
     },
     "execution_count": 19,
     "metadata": {},
     "output_type": "execute_result"
    }
   ],
   "source": [
    "AllPlayers.isnull().sum()"
   ]
  },
  {
   "cell_type": "markdown",
   "id": "5a577deb-a3d3-4795-8e96-74ada1fa7f44",
   "metadata": {
    "tags": []
   },
   "source": [
    "<h3 style=\"background-size:2em 2em;background-position:0em 1em,1em 0,0em 1em,1em 0,0 0,0 0,0 0,0 0,0 0;background-image:linear-gradient(45deg,#000 8%,transparent 8%,transparent 92%,#000 92%),linear-gradient(-45deg,#000 8%,transparent 8%,transparent 92%,#000 92%),linear-gradient(-45deg,#000 8%,transparent 8%,transparent 92%,#000 92%),linear-gradient(45deg,#000 8%,transparent 8%,transparent 92%,#000 92%),linear-gradient(-45deg,transparent 17%,#000 17%,#000 21%,transparent 21%,transparent 79%,#000 79%,#000 83%,transparent 83%),linear-gradient(45deg,transparent 29%,#000 29%,#000 33%,transparent 33%,transparent 67%,#000 67%,#000 71%,transparent 71%),linear-gradient(-135deg,#202020 10%,#090909 33%,transparent 33%,transparent 67%,#161616 67%,#202020 90%),linear-gradient(135deg,transparent 21%,#161616 21%,#2d2d2d 32.6%,#161616 64.5%,#202020 70.3%,#090909 79%,transparent 79%),linear-gradient(-135deg,transparent 21%,#161616 21%,#202020 40%,#202020 60%,#090909 79%,transparent 79%);\n",
    "color: white;\n",
    "font-weight: 40;\n",
    "font-size: 40px;\n",
    "margin: 0.5em auto;\n",
    "text-align: left;\n",
    "cursor: wait;\n",
    "letter-spacing: 10;\">infoPlayers</h3>     "
   ]
  },
  {
   "cell_type": "code",
   "execution_count": 20,
   "id": "428d157f-89f9-4b70-af49-94cd6f85d763",
   "metadata": {
    "ExecuteTime": {
     "end_time": "2023-05-30T15:04:44.927704Z",
     "start_time": "2023-05-30T15:04:44.885500Z"
    }
   },
   "outputs": [
    {
     "data": {
      "text/html": [
       "<div>\n",
       "<style scoped>\n",
       "    .dataframe tbody tr th:only-of-type {\n",
       "        vertical-align: middle;\n",
       "    }\n",
       "\n",
       "    .dataframe tbody tr th {\n",
       "        vertical-align: top;\n",
       "    }\n",
       "\n",
       "    .dataframe thead th {\n",
       "        text-align: right;\n",
       "    }\n",
       "</style>\n",
       "<table border=\"1\" class=\"dataframe\">\n",
       "  <thead>\n",
       "    <tr style=\"text-align: right;\">\n",
       "      <th></th>\n",
       "      <th>PlayerName</th>\n",
       "      <th>Born</th>\n",
       "      <th>Height</th>\n",
       "      <th>Hand</th>\n",
       "      <th>LinkPlayer</th>\n",
       "      <th>Weight</th>\n",
       "      <th>Birth</th>\n",
       "      <th>Treinador</th>\n",
       "      <th>Rank</th>\n",
       "    </tr>\n",
       "  </thead>\n",
       "  <tbody>\n",
       "    <tr>\n",
       "      <th>0</th>\n",
       "      <td>Novak Djokovic</td>\n",
       "      <td>Belgrade, Serbia</td>\n",
       "      <td>188.0</td>\n",
       "      <td>Right-Handed, Two-Handed Backhand</td>\n",
       "      <td>https://www.atptour.com/en/players/novak-djokovic/d643/player-activity?year=all&amp;matchType=Singles</td>\n",
       "      <td>77.0</td>\n",
       "      <td>1987-05-22</td>\n",
       "      <td>Goran Ivanisevic</td>\n",
       "      <td>1</td>\n",
       "    </tr>\n",
       "    <tr>\n",
       "      <th>1</th>\n",
       "      <td>Romain Bogaerts</td>\n",
       "      <td>Namur</td>\n",
       "      <td>188.0</td>\n",
       "      <td>Left-Handed, Two-Handed Backhand</td>\n",
       "      <td>https://www.atptour.com/en/players/romain-bogaerts/bk85/player-activity?year=all&amp;matchType=Singles</td>\n",
       "      <td>76.0</td>\n",
       "      <td>1993-12-23</td>\n",
       "      <td>Bouhoulle Michel And Tony Bresky</td>\n",
       "      <td>1092</td>\n",
       "    </tr>\n",
       "    <tr>\n",
       "      <th>2</th>\n",
       "      <td>Louis Cant</td>\n",
       "      <td>Belgium</td>\n",
       "      <td>185.0</td>\n",
       "      <td>Right-Handed</td>\n",
       "      <td>https://www.atptour.com/en/players/louis-cant/cd88/player-activity?year=all&amp;matchType=Singles</td>\n",
       "      <td>78.0</td>\n",
       "      <td>1990-11-08</td>\n",
       "      <td>NaN</td>\n",
       "      <td>1025</td>\n",
       "    </tr>\n",
       "  </tbody>\n",
       "</table>\n",
       "</div>"
      ],
      "text/plain": [
       "        PlayerName              Born  Height  \\\n",
       "0   Novak Djokovic  Belgrade, Serbia   188.0   \n",
       "1  Romain Bogaerts             Namur   188.0   \n",
       "2       Louis Cant           Belgium   185.0   \n",
       "\n",
       "                                Hand  \\\n",
       "0  Right-Handed, Two-Handed Backhand   \n",
       "1   Left-Handed, Two-Handed Backhand   \n",
       "2                       Right-Handed   \n",
       "\n",
       "                                                                                           LinkPlayer  \\\n",
       "0   https://www.atptour.com/en/players/novak-djokovic/d643/player-activity?year=all&matchType=Singles   \n",
       "1  https://www.atptour.com/en/players/romain-bogaerts/bk85/player-activity?year=all&matchType=Singles   \n",
       "2       https://www.atptour.com/en/players/louis-cant/cd88/player-activity?year=all&matchType=Singles   \n",
       "\n",
       "   Weight       Birth                         Treinador  Rank  \n",
       "0    77.0  1987-05-22                  Goran Ivanisevic     1  \n",
       "1    76.0  1993-12-23  Bouhoulle Michel And Tony Bresky  1092  \n",
       "2    78.0  1990-11-08                               NaN  1025  "
      ]
     },
     "execution_count": 20,
     "metadata": {},
     "output_type": "execute_result"
    }
   ],
   "source": [
    "infoPlayers = AllPlayers\n",
    "infoPlayers.head(3)"
   ]
  },
  {
   "cell_type": "code",
   "execution_count": 21,
   "id": "59676299-02eb-4587-842c-e108962b8d03",
   "metadata": {
    "ExecuteTime": {
     "end_time": "2023-05-30T15:04:44.959903Z",
     "start_time": "2023-05-30T15:04:44.933226Z"
    }
   },
   "outputs": [
    {
     "data": {
      "text/plain": [
       "Index(['PlayerName', 'Born', 'Height', 'Hand', 'LinkPlayer', 'Tournament',\n",
       "       'Location', 'Date', 'Ground', 'Prize', 'GameRound', 'GameRank',\n",
       "       'Oponent', 'WL', 'Score', 'país'],\n",
       "      dtype='object')"
      ]
     },
     "execution_count": 21,
     "metadata": {},
     "output_type": "execute_result"
    }
   ],
   "source": [
    "belgica_raw.columns"
   ]
  },
  {
   "cell_type": "code",
   "execution_count": 22,
   "id": "f2032033-a4ef-4eb0-9890-045546aaa4f5",
   "metadata": {
    "ExecuteTime": {
     "end_time": "2023-05-30T15:04:44.990837Z",
     "start_time": "2023-05-30T15:04:44.965431Z"
    }
   },
   "outputs": [
    {
     "data": {
      "text/plain": [
       "Index(['PlayerName', 'Born', 'Height', 'Hand', 'LinkPlayer', 'Weight', 'Birth',\n",
       "       'Treinador', 'Rank'],\n",
       "      dtype='object')"
      ]
     },
     "execution_count": 22,
     "metadata": {},
     "output_type": "execute_result"
    }
   ],
   "source": [
    "infoPlayers.columns"
   ]
  },
  {
   "cell_type": "code",
   "execution_count": 23,
   "id": "c190a2ff-b74e-4513-abde-d4d87f0ff2ac",
   "metadata": {
    "ExecuteTime": {
     "end_time": "2023-05-30T15:04:45.022893Z",
     "start_time": "2023-05-30T15:04:44.999400Z"
    }
   },
   "outputs": [],
   "source": [
    "belgica_raw = belgica_raw.drop([\"Born\", \"Height\", \"Hand\", \"PlayerName\"], axis=1)"
   ]
  },
  {
   "cell_type": "code",
   "execution_count": 24,
   "id": "23a3209a-d1e1-448e-84cf-54cca5983afc",
   "metadata": {
    "ExecuteTime": {
     "end_time": "2023-05-30T15:04:45.100366Z",
     "start_time": "2023-05-30T15:04:45.028429Z"
    }
   },
   "outputs": [
    {
     "data": {
      "text/html": [
       "<div>\n",
       "<style scoped>\n",
       "    .dataframe tbody tr th:only-of-type {\n",
       "        vertical-align: middle;\n",
       "    }\n",
       "\n",
       "    .dataframe tbody tr th {\n",
       "        vertical-align: top;\n",
       "    }\n",
       "\n",
       "    .dataframe thead th {\n",
       "        text-align: right;\n",
       "    }\n",
       "</style>\n",
       "<table border=\"1\" class=\"dataframe\">\n",
       "  <thead>\n",
       "    <tr style=\"text-align: right;\">\n",
       "      <th></th>\n",
       "      <th>LinkPlayer</th>\n",
       "      <th>Tournament</th>\n",
       "      <th>Location</th>\n",
       "      <th>Date</th>\n",
       "      <th>Ground</th>\n",
       "      <th>Prize</th>\n",
       "      <th>GameRound</th>\n",
       "      <th>GameRank</th>\n",
       "      <th>Oponent</th>\n",
       "      <th>WL</th>\n",
       "      <th>Score</th>\n",
       "      <th>país</th>\n",
       "      <th>PlayerName</th>\n",
       "      <th>Born</th>\n",
       "      <th>Height</th>\n",
       "      <th>Hand</th>\n",
       "      <th>Weight</th>\n",
       "      <th>Birth</th>\n",
       "      <th>Treinador</th>\n",
       "      <th>Rank</th>\n",
       "    </tr>\n",
       "  </thead>\n",
       "  <tbody>\n",
       "    <tr>\n",
       "      <th>5979</th>\n",
       "      <td>https://www.atptour.com/en/players/diego-junqueira/j214/player-activity?year=all&amp;matchType=Singles</td>\n",
       "      <td>Bercuit</td>\n",
       "      <td>Bercuit, Belgium</td>\n",
       "      <td>2012.07.16 - 2012.07.22</td>\n",
       "      <td>Clay</td>\n",
       "      <td>�42,500</td>\n",
       "      <td>Round of 32</td>\n",
       "      <td>386</td>\n",
       "      <td>Germain Gigounon</td>\n",
       "      <td>L</td>\n",
       "      <td>46 06</td>\n",
       "      <td>Belgium</td>\n",
       "      <td>Diego Junqueira</td>\n",
       "      <td>Tandil, Buenos Aires, Argentin</td>\n",
       "      <td>178.0</td>\n",
       "      <td>Left-Handed, Unknown Backhand</td>\n",
       "      <td>72.0</td>\n",
       "      <td>1980-12-28</td>\n",
       "      <td>Walter Grinovero</td>\n",
       "      <td>68</td>\n",
       "    </tr>\n",
       "    <tr>\n",
       "      <th>5980</th>\n",
       "      <td>https://www.atptour.com/en/players/james-chaudry/cc86/player-activity?year=all&amp;matchType=Singles</td>\n",
       "      <td>Belgium F1</td>\n",
       "      <td>Belgium</td>\n",
       "      <td>2010.08.09 - 2010.08.15</td>\n",
       "      <td>Clay</td>\n",
       "      <td>$10,000</td>\n",
       "      <td>Round of 32</td>\n",
       "      <td>1334</td>\n",
       "      <td>Germain Gigounon</td>\n",
       "      <td>L</td>\n",
       "      <td>46 57</td>\n",
       "      <td>Belgium</td>\n",
       "      <td>James Chaudry</td>\n",
       "      <td>Great Britain</td>\n",
       "      <td>185.0</td>\n",
       "      <td>Right-Handed</td>\n",
       "      <td>78.0</td>\n",
       "      <td>1991-03-11</td>\n",
       "      <td>NaN</td>\n",
       "      <td>923</td>\n",
       "    </tr>\n",
       "    <tr>\n",
       "      <th>5981</th>\n",
       "      <td>https://www.atptour.com/en/players/filipp-smalyanyy/su42/player-activity?year=all&amp;matchType=Singles</td>\n",
       "      <td>Belgium F11</td>\n",
       "      <td>Belgium</td>\n",
       "      <td>2013.08.26 - 2013.09.01</td>\n",
       "      <td>Clay</td>\n",
       "      <td>$15,000</td>\n",
       "      <td>Round of 32</td>\n",
       "      <td>-</td>\n",
       "      <td>Kevin Farin</td>\n",
       "      <td>L</td>\n",
       "      <td>06 14 (RET)</td>\n",
       "      <td>Belgium</td>\n",
       "      <td>Filipp Smalyanyy</td>\n",
       "      <td>Russia</td>\n",
       "      <td>185.0</td>\n",
       "      <td>Right-Handed, Unknown Backhand</td>\n",
       "      <td>78.0</td>\n",
       "      <td>1995-02-08</td>\n",
       "      <td>NaN</td>\n",
       "      <td>NaN</td>\n",
       "    </tr>\n",
       "  </tbody>\n",
       "</table>\n",
       "</div>"
      ],
      "text/plain": [
       "                                                                                               LinkPlayer  \\\n",
       "5979   https://www.atptour.com/en/players/diego-junqueira/j214/player-activity?year=all&matchType=Singles   \n",
       "5980     https://www.atptour.com/en/players/james-chaudry/cc86/player-activity?year=all&matchType=Singles   \n",
       "5981  https://www.atptour.com/en/players/filipp-smalyanyy/su42/player-activity?year=all&matchType=Singles   \n",
       "\n",
       "       Tournament          Location                     Date Ground    Prize  \\\n",
       "5979      Bercuit  Bercuit, Belgium  2012.07.16 - 2012.07.22   Clay  �42,500   \n",
       "5980   Belgium F1           Belgium  2010.08.09 - 2010.08.15   Clay  $10,000   \n",
       "5981  Belgium F11           Belgium  2013.08.26 - 2013.09.01   Clay  $15,000   \n",
       "\n",
       "        GameRound GameRank           Oponent WL        Score     país  \\\n",
       "5979  Round of 32      386  Germain Gigounon  L        46 06  Belgium   \n",
       "5980  Round of 32     1334  Germain Gigounon  L        46 57  Belgium   \n",
       "5981  Round of 32        -       Kevin Farin  L  06 14 (RET)  Belgium   \n",
       "\n",
       "            PlayerName                            Born  Height  \\\n",
       "5979   Diego Junqueira  Tandil, Buenos Aires, Argentin   178.0   \n",
       "5980     James Chaudry                   Great Britain   185.0   \n",
       "5981  Filipp Smalyanyy                          Russia   185.0   \n",
       "\n",
       "                                Hand  Weight       Birth         Treinador  \\\n",
       "5979   Left-Handed, Unknown Backhand    72.0  1980-12-28  Walter Grinovero   \n",
       "5980                    Right-Handed    78.0  1991-03-11               NaN   \n",
       "5981  Right-Handed, Unknown Backhand    78.0  1995-02-08               NaN   \n",
       "\n",
       "     Rank  \n",
       "5979   68  \n",
       "5980  923  \n",
       "5981  NaN  "
      ]
     },
     "execution_count": 24,
     "metadata": {},
     "output_type": "execute_result"
    }
   ],
   "source": [
    "belgica_raw = pd.merge(belgica_raw, infoPlayers, on=[\"LinkPlayer\"], how=\"inner\")\n",
    "belgica_raw.tail(3)"
   ]
  },
  {
   "cell_type": "markdown",
   "id": "dbbb8dbe-114c-4fbe-9859-6c6eb4c7ebd9",
   "metadata": {},
   "source": [
    "<h3 style=\"background-size:2em 2em;background-position:0em 1em,1em 0,0em 1em,1em 0,0 0,0 0,0 0,0 0,0 0;background-image:linear-gradient(45deg,#000 8%,transparent 8%,transparent 92%,#000 92%),linear-gradient(-45deg,#000 8%,transparent 8%,transparent 92%,#000 92%),linear-gradient(-45deg,#000 8%,transparent 8%,transparent 92%,#000 92%),linear-gradient(45deg,#000 8%,transparent 8%,transparent 92%,#000 92%),linear-gradient(-45deg,transparent 17%,#000 17%,#000 21%,transparent 21%,transparent 79%,#000 79%,#000 83%,transparent 83%),linear-gradient(45deg,transparent 29%,#000 29%,#000 33%,transparent 33%,transparent 67%,#000 67%,#000 71%,transparent 71%),linear-gradient(-135deg,#202020 10%,#090909 33%,transparent 33%,transparent 67%,#161616 67%,#202020 90%),linear-gradient(135deg,transparent 21%,#161616 21%,#2d2d2d 32.6%,#161616 64.5%,#202020 70.3%,#090909 79%,transparent 79%),linear-gradient(-135deg,transparent 21%,#161616 21%,#202020 40%,#202020 60%,#090909 79%,transparent 79%);\n",
    "color: white;\n",
    "font-weight: 40;\n",
    "font-size: 40px;\n",
    "margin: 0.5em auto;\n",
    "text-align: left;\n",
    "cursor: wait;\n",
    "letter-spacing: 10;\">infoOponent</h3>     "
   ]
  },
  {
   "cell_type": "code",
   "execution_count": 25,
   "id": "7db50c1a-4c32-458b-ae54-cc1b73891f39",
   "metadata": {
    "ExecuteTime": {
     "end_time": "2023-05-30T15:04:45.162436Z",
     "start_time": "2023-05-30T15:04:45.105940Z"
    }
   },
   "outputs": [
    {
     "data": {
      "text/html": [
       "<div>\n",
       "<style scoped>\n",
       "    .dataframe tbody tr th:only-of-type {\n",
       "        vertical-align: middle;\n",
       "    }\n",
       "\n",
       "    .dataframe tbody tr th {\n",
       "        vertical-align: top;\n",
       "    }\n",
       "\n",
       "    .dataframe thead th {\n",
       "        text-align: right;\n",
       "    }\n",
       "</style>\n",
       "<table border=\"1\" class=\"dataframe\">\n",
       "  <thead>\n",
       "    <tr style=\"text-align: right;\">\n",
       "      <th></th>\n",
       "      <th>Oponent</th>\n",
       "      <th>BornOponent</th>\n",
       "      <th>HeightOponent</th>\n",
       "      <th>HandOponent</th>\n",
       "      <th>LinkPlayer</th>\n",
       "      <th>WeightOponent</th>\n",
       "      <th>BirthOponent</th>\n",
       "      <th>TreinadorOponent</th>\n",
       "      <th>RankOponent</th>\n",
       "    </tr>\n",
       "  </thead>\n",
       "  <tbody>\n",
       "    <tr>\n",
       "      <th>0</th>\n",
       "      <td>Novak Djokovic</td>\n",
       "      <td>Belgrade, Serbia</td>\n",
       "      <td>188.0</td>\n",
       "      <td>Right-Handed, Two-Handed Backhand</td>\n",
       "      <td>https://www.atptour.com/en/players/novak-djokovic/d643/player-activity?year=all&amp;matchType=Singles</td>\n",
       "      <td>77.0</td>\n",
       "      <td>1987-05-22</td>\n",
       "      <td>Goran Ivanisevic</td>\n",
       "      <td>1</td>\n",
       "    </tr>\n",
       "    <tr>\n",
       "      <th>1</th>\n",
       "      <td>Romain Bogaerts</td>\n",
       "      <td>Namur</td>\n",
       "      <td>188.0</td>\n",
       "      <td>Left-Handed, Two-Handed Backhand</td>\n",
       "      <td>https://www.atptour.com/en/players/romain-bogaerts/bk85/player-activity?year=all&amp;matchType=Singles</td>\n",
       "      <td>76.0</td>\n",
       "      <td>1993-12-23</td>\n",
       "      <td>Bouhoulle Michel And Tony Bresky</td>\n",
       "      <td>1092</td>\n",
       "    </tr>\n",
       "    <tr>\n",
       "      <th>2</th>\n",
       "      <td>Louis Cant</td>\n",
       "      <td>Belgium</td>\n",
       "      <td>185.0</td>\n",
       "      <td>Right-Handed</td>\n",
       "      <td>https://www.atptour.com/en/players/louis-cant/cd88/player-activity?year=all&amp;matchType=Singles</td>\n",
       "      <td>78.0</td>\n",
       "      <td>1990-11-08</td>\n",
       "      <td>NaN</td>\n",
       "      <td>1025</td>\n",
       "    </tr>\n",
       "    <tr>\n",
       "      <th>3</th>\n",
       "      <td>Philipp Scholz</td>\n",
       "      <td>Germany</td>\n",
       "      <td>185.0</td>\n",
       "      <td>Right-Handed, Two-Handed Backhand</td>\n",
       "      <td>https://www.atptour.com/en/players/philipp-scholz/su09/player-activity?year=all&amp;matchType=Singles</td>\n",
       "      <td>78.0</td>\n",
       "      <td>1995-01-24</td>\n",
       "      <td>NaN</td>\n",
       "      <td>841</td>\n",
       "    </tr>\n",
       "    <tr>\n",
       "      <th>4</th>\n",
       "      <td>Thomas Schoorel</td>\n",
       "      <td>Amsterdam, Netherlands</td>\n",
       "      <td>203.0</td>\n",
       "      <td>Left-Handed, Unknown Backhand</td>\n",
       "      <td>https://www.atptour.com/en/players/thomas-schoorel/sj63/player-activity?year=all&amp;matchType=Singles</td>\n",
       "      <td>78.0</td>\n",
       "      <td>1989-04-08</td>\n",
       "      <td>NaN</td>\n",
       "      <td>94</td>\n",
       "    </tr>\n",
       "    <tr>\n",
       "      <th>...</th>\n",
       "      <td>...</td>\n",
       "      <td>...</td>\n",
       "      <td>...</td>\n",
       "      <td>...</td>\n",
       "      <td>...</td>\n",
       "      <td>...</td>\n",
       "      <td>...</td>\n",
       "      <td>...</td>\n",
       "      <td>...</td>\n",
       "    </tr>\n",
       "    <tr>\n",
       "      <th>1195</th>\n",
       "      <td>Marious Zelba</td>\n",
       "      <td>Australia</td>\n",
       "      <td>185.0</td>\n",
       "      <td>Right-Handed</td>\n",
       "      <td>https://www.atptour.com/en/players/marious-zelba/z243/player-activity?year=all&amp;matchType=Singles</td>\n",
       "      <td>78.0</td>\n",
       "      <td>1990-05-15</td>\n",
       "      <td>NaN</td>\n",
       "      <td>786</td>\n",
       "    </tr>\n",
       "    <tr>\n",
       "      <th>1196</th>\n",
       "      <td>Clement Reix</td>\n",
       "      <td>France</td>\n",
       "      <td>185.0</td>\n",
       "      <td>Right-Handed</td>\n",
       "      <td>https://www.atptour.com/en/players/clement-reix/r852/player-activity?year=all&amp;matchType=Singles</td>\n",
       "      <td>78.0</td>\n",
       "      <td>1983-10-09</td>\n",
       "      <td>NaN</td>\n",
       "      <td>437</td>\n",
       "    </tr>\n",
       "    <tr>\n",
       "      <th>1197</th>\n",
       "      <td>Diego Junqueira</td>\n",
       "      <td>Tandil, Buenos Aires, Argentin</td>\n",
       "      <td>178.0</td>\n",
       "      <td>Left-Handed, Unknown Backhand</td>\n",
       "      <td>https://www.atptour.com/en/players/diego-junqueira/j214/player-activity?year=all&amp;matchType=Singles</td>\n",
       "      <td>72.0</td>\n",
       "      <td>1980-12-28</td>\n",
       "      <td>Walter Grinovero</td>\n",
       "      <td>68</td>\n",
       "    </tr>\n",
       "    <tr>\n",
       "      <th>1198</th>\n",
       "      <td>James Chaudry</td>\n",
       "      <td>Great Britain</td>\n",
       "      <td>185.0</td>\n",
       "      <td>Right-Handed</td>\n",
       "      <td>https://www.atptour.com/en/players/james-chaudry/cc86/player-activity?year=all&amp;matchType=Singles</td>\n",
       "      <td>78.0</td>\n",
       "      <td>1991-03-11</td>\n",
       "      <td>NaN</td>\n",
       "      <td>923</td>\n",
       "    </tr>\n",
       "    <tr>\n",
       "      <th>1199</th>\n",
       "      <td>Filipp Smalyanyy</td>\n",
       "      <td>Russia</td>\n",
       "      <td>185.0</td>\n",
       "      <td>Right-Handed, Unknown Backhand</td>\n",
       "      <td>https://www.atptour.com/en/players/filipp-smalyanyy/su42/player-activity?year=all&amp;matchType=Singles</td>\n",
       "      <td>78.0</td>\n",
       "      <td>1995-02-08</td>\n",
       "      <td>NaN</td>\n",
       "      <td>NaN</td>\n",
       "    </tr>\n",
       "  </tbody>\n",
       "</table>\n",
       "<p>1200 rows × 9 columns</p>\n",
       "</div>"
      ],
      "text/plain": [
       "               Oponent                     BornOponent  HeightOponent  \\\n",
       "0       Novak Djokovic                Belgrade, Serbia          188.0   \n",
       "1      Romain Bogaerts                           Namur          188.0   \n",
       "2           Louis Cant                         Belgium          185.0   \n",
       "3       Philipp Scholz                         Germany          185.0   \n",
       "4      Thomas Schoorel          Amsterdam, Netherlands          203.0   \n",
       "...                ...                             ...            ...   \n",
       "1195     Marious Zelba                       Australia          185.0   \n",
       "1196      Clement Reix                          France          185.0   \n",
       "1197   Diego Junqueira  Tandil, Buenos Aires, Argentin          178.0   \n",
       "1198     James Chaudry                   Great Britain          185.0   \n",
       "1199  Filipp Smalyanyy                          Russia          185.0   \n",
       "\n",
       "                            HandOponent  \\\n",
       "0     Right-Handed, Two-Handed Backhand   \n",
       "1      Left-Handed, Two-Handed Backhand   \n",
       "2                          Right-Handed   \n",
       "3     Right-Handed, Two-Handed Backhand   \n",
       "4         Left-Handed, Unknown Backhand   \n",
       "...                                 ...   \n",
       "1195                       Right-Handed   \n",
       "1196                       Right-Handed   \n",
       "1197      Left-Handed, Unknown Backhand   \n",
       "1198                       Right-Handed   \n",
       "1199     Right-Handed, Unknown Backhand   \n",
       "\n",
       "                                                                                               LinkPlayer  \\\n",
       "0       https://www.atptour.com/en/players/novak-djokovic/d643/player-activity?year=all&matchType=Singles   \n",
       "1      https://www.atptour.com/en/players/romain-bogaerts/bk85/player-activity?year=all&matchType=Singles   \n",
       "2           https://www.atptour.com/en/players/louis-cant/cd88/player-activity?year=all&matchType=Singles   \n",
       "3       https://www.atptour.com/en/players/philipp-scholz/su09/player-activity?year=all&matchType=Singles   \n",
       "4      https://www.atptour.com/en/players/thomas-schoorel/sj63/player-activity?year=all&matchType=Singles   \n",
       "...                                                                                                   ...   \n",
       "1195     https://www.atptour.com/en/players/marious-zelba/z243/player-activity?year=all&matchType=Singles   \n",
       "1196      https://www.atptour.com/en/players/clement-reix/r852/player-activity?year=all&matchType=Singles   \n",
       "1197   https://www.atptour.com/en/players/diego-junqueira/j214/player-activity?year=all&matchType=Singles   \n",
       "1198     https://www.atptour.com/en/players/james-chaudry/cc86/player-activity?year=all&matchType=Singles   \n",
       "1199  https://www.atptour.com/en/players/filipp-smalyanyy/su42/player-activity?year=all&matchType=Singles   \n",
       "\n",
       "      WeightOponent BirthOponent                  TreinadorOponent RankOponent  \n",
       "0              77.0   1987-05-22                  Goran Ivanisevic           1  \n",
       "1              76.0   1993-12-23  Bouhoulle Michel And Tony Bresky        1092  \n",
       "2              78.0   1990-11-08                               NaN        1025  \n",
       "3              78.0   1995-01-24                               NaN         841  \n",
       "4              78.0   1989-04-08                               NaN          94  \n",
       "...             ...          ...                               ...         ...  \n",
       "1195           78.0   1990-05-15                               NaN         786  \n",
       "1196           78.0   1983-10-09                               NaN         437  \n",
       "1197           72.0   1980-12-28                  Walter Grinovero          68  \n",
       "1198           78.0   1991-03-11                               NaN         923  \n",
       "1199           78.0   1995-02-08                               NaN         NaN  \n",
       "\n",
       "[1200 rows x 9 columns]"
      ]
     },
     "execution_count": 25,
     "metadata": {},
     "output_type": "execute_result"
    }
   ],
   "source": [
    "infoOponent = AllPlayers\n",
    "infoOponent = infoOponent.rename(columns={\"PlayerName\":\"Oponent\",\"Born\":\"BornOponent\",\n",
    "                                          \"Height\":\"HeightOponent\",\"Hand\":\"HandOponent\",\n",
    "                                          \"Weight\":\"WeightOponent\", \"Birth\":\"BirthOponent\",\n",
    "                                          \"Treinador\":\"TreinadorOponent\", \"Rank\":\"RankOponent\"})\n",
    "infoOponent"
   ]
  },
  {
   "cell_type": "code",
   "execution_count": 26,
   "id": "247c8002-c6c6-4843-8fed-f21ad39304e5",
   "metadata": {
    "ExecuteTime": {
     "end_time": "2023-05-30T15:04:45.193186Z",
     "start_time": "2023-05-30T15:04:45.170013Z"
    }
   },
   "outputs": [],
   "source": [
    "infoOponent.drop(\"LinkPlayer\", axis=1, inplace=True)"
   ]
  },
  {
   "cell_type": "code",
   "execution_count": 27,
   "id": "2c04edbc-ef36-4554-ab1e-c0a9c35c49c4",
   "metadata": {
    "ExecuteTime": {
     "end_time": "2023-05-30T15:04:45.239736Z",
     "start_time": "2023-05-30T15:04:45.200570Z"
    }
   },
   "outputs": [
    {
     "data": {
      "text/html": [
       "<div>\n",
       "<style scoped>\n",
       "    .dataframe tbody tr th:only-of-type {\n",
       "        vertical-align: middle;\n",
       "    }\n",
       "\n",
       "    .dataframe tbody tr th {\n",
       "        vertical-align: top;\n",
       "    }\n",
       "\n",
       "    .dataframe thead th {\n",
       "        text-align: right;\n",
       "    }\n",
       "</style>\n",
       "<table border=\"1\" class=\"dataframe\">\n",
       "  <thead>\n",
       "    <tr style=\"text-align: right;\">\n",
       "      <th></th>\n",
       "      <th>Oponent</th>\n",
       "      <th>BornOponent</th>\n",
       "      <th>HeightOponent</th>\n",
       "      <th>HandOponent</th>\n",
       "      <th>WeightOponent</th>\n",
       "      <th>BirthOponent</th>\n",
       "      <th>TreinadorOponent</th>\n",
       "      <th>RankOponent</th>\n",
       "    </tr>\n",
       "  </thead>\n",
       "  <tbody>\n",
       "    <tr>\n",
       "      <th>0</th>\n",
       "      <td>Novak Djokovic</td>\n",
       "      <td>Belgrade, Serbia</td>\n",
       "      <td>188.0</td>\n",
       "      <td>Right-Handed, Two-Handed Backhand</td>\n",
       "      <td>77.0</td>\n",
       "      <td>1987-05-22</td>\n",
       "      <td>Goran Ivanisevic</td>\n",
       "      <td>1</td>\n",
       "    </tr>\n",
       "    <tr>\n",
       "      <th>1</th>\n",
       "      <td>Romain Bogaerts</td>\n",
       "      <td>Namur</td>\n",
       "      <td>188.0</td>\n",
       "      <td>Left-Handed, Two-Handed Backhand</td>\n",
       "      <td>76.0</td>\n",
       "      <td>1993-12-23</td>\n",
       "      <td>Bouhoulle Michel And Tony Bresky</td>\n",
       "      <td>1092</td>\n",
       "    </tr>\n",
       "    <tr>\n",
       "      <th>2</th>\n",
       "      <td>Louis Cant</td>\n",
       "      <td>Belgium</td>\n",
       "      <td>185.0</td>\n",
       "      <td>Right-Handed</td>\n",
       "      <td>78.0</td>\n",
       "      <td>1990-11-08</td>\n",
       "      <td>NaN</td>\n",
       "      <td>1025</td>\n",
       "    </tr>\n",
       "  </tbody>\n",
       "</table>\n",
       "</div>"
      ],
      "text/plain": [
       "           Oponent       BornOponent  HeightOponent  \\\n",
       "0   Novak Djokovic  Belgrade, Serbia          188.0   \n",
       "1  Romain Bogaerts             Namur          188.0   \n",
       "2       Louis Cant           Belgium          185.0   \n",
       "\n",
       "                         HandOponent  WeightOponent BirthOponent  \\\n",
       "0  Right-Handed, Two-Handed Backhand           77.0   1987-05-22   \n",
       "1   Left-Handed, Two-Handed Backhand           76.0   1993-12-23   \n",
       "2                       Right-Handed           78.0   1990-11-08   \n",
       "\n",
       "                   TreinadorOponent RankOponent  \n",
       "0                  Goran Ivanisevic           1  \n",
       "1  Bouhoulle Michel And Tony Bresky        1092  \n",
       "2                               NaN        1025  "
      ]
     },
     "execution_count": 27,
     "metadata": {},
     "output_type": "execute_result"
    }
   ],
   "source": [
    "infoOponent.head(3)"
   ]
  },
  {
   "cell_type": "code",
   "execution_count": 28,
   "id": "18545b52-3d68-4822-be7a-dc5f7e19c8eb",
   "metadata": {
    "ExecuteTime": {
     "end_time": "2023-05-30T15:04:45.333501Z",
     "start_time": "2023-05-30T15:04:45.268437Z"
    }
   },
   "outputs": [
    {
     "data": {
      "text/html": [
       "<div>\n",
       "<style scoped>\n",
       "    .dataframe tbody tr th:only-of-type {\n",
       "        vertical-align: middle;\n",
       "    }\n",
       "\n",
       "    .dataframe tbody tr th {\n",
       "        vertical-align: top;\n",
       "    }\n",
       "\n",
       "    .dataframe thead th {\n",
       "        text-align: right;\n",
       "    }\n",
       "</style>\n",
       "<table border=\"1\" class=\"dataframe\">\n",
       "  <thead>\n",
       "    <tr style=\"text-align: right;\">\n",
       "      <th></th>\n",
       "      <th>LinkPlayer</th>\n",
       "      <th>Tournament</th>\n",
       "      <th>Location</th>\n",
       "      <th>Date</th>\n",
       "      <th>Ground</th>\n",
       "      <th>Prize</th>\n",
       "      <th>GameRound</th>\n",
       "      <th>GameRank</th>\n",
       "      <th>Oponent</th>\n",
       "      <th>WL</th>\n",
       "      <th>Score</th>\n",
       "      <th>país</th>\n",
       "      <th>PlayerName</th>\n",
       "      <th>Born</th>\n",
       "      <th>Height</th>\n",
       "      <th>Hand</th>\n",
       "      <th>Weight</th>\n",
       "      <th>Birth</th>\n",
       "      <th>Treinador</th>\n",
       "      <th>Rank</th>\n",
       "    </tr>\n",
       "  </thead>\n",
       "  <tbody>\n",
       "    <tr>\n",
       "      <th>5980</th>\n",
       "      <td>https://www.atptour.com/en/players/james-chaudry/cc86/player-activity?year=all&amp;matchType=Singles</td>\n",
       "      <td>Belgium F1</td>\n",
       "      <td>Belgium</td>\n",
       "      <td>2010.08.09 - 2010.08.15</td>\n",
       "      <td>Clay</td>\n",
       "      <td>$10,000</td>\n",
       "      <td>Round of 32</td>\n",
       "      <td>1334</td>\n",
       "      <td>Germain Gigounon</td>\n",
       "      <td>L</td>\n",
       "      <td>46 57</td>\n",
       "      <td>Belgium</td>\n",
       "      <td>James Chaudry</td>\n",
       "      <td>Great Britain</td>\n",
       "      <td>185.0</td>\n",
       "      <td>Right-Handed</td>\n",
       "      <td>78.0</td>\n",
       "      <td>1991-03-11</td>\n",
       "      <td>NaN</td>\n",
       "      <td>923</td>\n",
       "    </tr>\n",
       "    <tr>\n",
       "      <th>5981</th>\n",
       "      <td>https://www.atptour.com/en/players/filipp-smalyanyy/su42/player-activity?year=all&amp;matchType=Singles</td>\n",
       "      <td>Belgium F11</td>\n",
       "      <td>Belgium</td>\n",
       "      <td>2013.08.26 - 2013.09.01</td>\n",
       "      <td>Clay</td>\n",
       "      <td>$15,000</td>\n",
       "      <td>Round of 32</td>\n",
       "      <td>-</td>\n",
       "      <td>Kevin Farin</td>\n",
       "      <td>L</td>\n",
       "      <td>06 14 (RET)</td>\n",
       "      <td>Belgium</td>\n",
       "      <td>Filipp Smalyanyy</td>\n",
       "      <td>Russia</td>\n",
       "      <td>185.0</td>\n",
       "      <td>Right-Handed, Unknown Backhand</td>\n",
       "      <td>78.0</td>\n",
       "      <td>1995-02-08</td>\n",
       "      <td>NaN</td>\n",
       "      <td>NaN</td>\n",
       "    </tr>\n",
       "  </tbody>\n",
       "</table>\n",
       "</div>"
      ],
      "text/plain": [
       "                                                                                               LinkPlayer  \\\n",
       "5980     https://www.atptour.com/en/players/james-chaudry/cc86/player-activity?year=all&matchType=Singles   \n",
       "5981  https://www.atptour.com/en/players/filipp-smalyanyy/su42/player-activity?year=all&matchType=Singles   \n",
       "\n",
       "       Tournament Location                     Date Ground    Prize  \\\n",
       "5980   Belgium F1  Belgium  2010.08.09 - 2010.08.15   Clay  $10,000   \n",
       "5981  Belgium F11  Belgium  2013.08.26 - 2013.09.01   Clay  $15,000   \n",
       "\n",
       "        GameRound GameRank           Oponent WL        Score     país  \\\n",
       "5980  Round of 32     1334  Germain Gigounon  L        46 57  Belgium   \n",
       "5981  Round of 32        -       Kevin Farin  L  06 14 (RET)  Belgium   \n",
       "\n",
       "            PlayerName           Born  Height                            Hand  \\\n",
       "5980     James Chaudry  Great Britain   185.0                    Right-Handed   \n",
       "5981  Filipp Smalyanyy         Russia   185.0  Right-Handed, Unknown Backhand   \n",
       "\n",
       "      Weight       Birth Treinador Rank  \n",
       "5980    78.0  1991-03-11       NaN  923  \n",
       "5981    78.0  1995-02-08       NaN  NaN  "
      ]
     },
     "execution_count": 28,
     "metadata": {},
     "output_type": "execute_result"
    }
   ],
   "source": [
    "belgica_raw.tail(2)"
   ]
  },
  {
   "cell_type": "code",
   "execution_count": 29,
   "id": "87828536-b9d7-4bf4-8911-c83731fc41b7",
   "metadata": {
    "ExecuteTime": {
     "end_time": "2023-05-30T15:04:45.380153Z",
     "start_time": "2023-05-30T15:04:45.339411Z"
    }
   },
   "outputs": [],
   "source": [
    "belgica_raw = pd.merge(belgica_raw, infoOponent, on=\"Oponent\", how=\"inner\")"
   ]
  },
  {
   "cell_type": "code",
   "execution_count": 30,
   "id": "4d67ec2a-09c3-4c03-80a7-a9a5a2229bd6",
   "metadata": {
    "ExecuteTime": {
     "end_time": "2023-05-30T15:04:45.412121Z",
     "start_time": "2023-05-30T15:04:45.386712Z"
    }
   },
   "outputs": [
    {
     "data": {
      "text/plain": [
       "Index(['LinkPlayer', 'Tournament', 'Location', 'Date', 'Ground', 'Prize',\n",
       "       'GameRound', 'GameRank', 'Oponent', 'WL', 'Score', 'país', 'PlayerName',\n",
       "       'Born', 'Height', 'Hand', 'Weight', 'Birth', 'Treinador', 'Rank',\n",
       "       'BornOponent', 'HeightOponent', 'HandOponent', 'WeightOponent',\n",
       "       'BirthOponent', 'TreinadorOponent', 'RankOponent'],\n",
       "      dtype='object')"
      ]
     },
     "execution_count": 30,
     "metadata": {},
     "output_type": "execute_result"
    }
   ],
   "source": [
    "belgica_raw.columns"
   ]
  },
  {
   "cell_type": "markdown",
   "id": "87f3a477-132f-48d5-89f3-d0523b09a12c",
   "metadata": {},
   "source": [
    "---"
   ]
  },
  {
   "cell_type": "markdown",
   "id": "4bfc3b0d-a470-4bd0-9008-941252f39b2a",
   "metadata": {},
   "source": [
    "<h2 style=\"background-size:2em 2em;background-position:0em 1em,1em 0,0em 1em,1em 0,0 0,0 0,0 0,0 0,0 0;background-image:linear-gradient(45deg,#000 8%,transparent 8%,transparent 92%,#000 92%),linear-gradient(-45deg,#000 8%,transparent 8%,transparent 92%,#000 92%),linear-gradient(-45deg,#000 8%,transparent 8%,transparent 92%,#000 92%),linear-gradient(45deg,#000 8%,transparent 8%,transparent 92%,#000 92%),linear-gradient(-45deg,transparent 17%,#000 17%,#000 21%,transparent 21%,transparent 79%,#000 79%,#000 83%,transparent 83%),linear-gradient(45deg,transparent 29%,#000 29%,#000 33%,transparent 33%,transparent 67%,#000 67%,#000 71%,transparent 71%),linear-gradient(-135deg,#202020 10%,#090909 33%,transparent 33%,transparent 67%,#161616 67%,#202020 90%),linear-gradient(135deg,transparent 21%,#161616 21%,#2d2d2d 32.6%,#161616 64.5%,#202020 70.3%,#090909 79%,transparent 79%),linear-gradient(-135deg,transparent 21%,#161616 21%,#202020 40%,#202020 60%,#090909 79%,transparent 79%);\n",
    "color: white;\n",
    "font-weight: 40;\n",
    "font-size: 50px;\n",
    "margin: 0.5em auto;\n",
    "text-align: center;\n",
    "cursor: wait;\n",
    "letter-spacing: 10;\">Hand</h2>     "
   ]
  },
  {
   "cell_type": "code",
   "execution_count": 31,
   "id": "3a5300b0-8b71-4d5a-9f2a-dc20aa0466c7",
   "metadata": {
    "ExecuteTime": {
     "end_time": "2023-05-30T15:04:45.535510Z",
     "start_time": "2023-05-30T15:04:45.422733Z"
    }
   },
   "outputs": [
    {
     "data": {
      "text/html": [
       "<div>\n",
       "<style scoped>\n",
       "    .dataframe tbody tr th:only-of-type {\n",
       "        vertical-align: middle;\n",
       "    }\n",
       "\n",
       "    .dataframe tbody tr th {\n",
       "        vertical-align: top;\n",
       "    }\n",
       "\n",
       "    .dataframe thead th {\n",
       "        text-align: right;\n",
       "    }\n",
       "</style>\n",
       "<table border=\"1\" class=\"dataframe\">\n",
       "  <thead>\n",
       "    <tr style=\"text-align: right;\">\n",
       "      <th></th>\n",
       "      <th>LinkPlayer</th>\n",
       "      <th>Tournament</th>\n",
       "      <th>Location</th>\n",
       "      <th>Date</th>\n",
       "      <th>Ground</th>\n",
       "      <th>Prize</th>\n",
       "      <th>GameRound</th>\n",
       "      <th>GameRank</th>\n",
       "      <th>Oponent</th>\n",
       "      <th>WL</th>\n",
       "      <th>...</th>\n",
       "      <th>Rank</th>\n",
       "      <th>BornOponent</th>\n",
       "      <th>HeightOponent</th>\n",
       "      <th>HandOponent</th>\n",
       "      <th>WeightOponent</th>\n",
       "      <th>BirthOponent</th>\n",
       "      <th>TreinadorOponent</th>\n",
       "      <th>RankOponent</th>\n",
       "      <th>mainHand</th>\n",
       "      <th>mainHandOponent</th>\n",
       "    </tr>\n",
       "  </thead>\n",
       "  <tbody>\n",
       "    <tr>\n",
       "      <th>0</th>\n",
       "      <td>https://www.atptour.com/en/players/novak-djokovic/d643/player-activity?year=all&amp;matchType=Singles</td>\n",
       "      <td>BEL vs. SRB WG 1st RD</td>\n",
       "      <td>Charleroi, Belgium</td>\n",
       "      <td>2013.01.28 - 2013.02.03</td>\n",
       "      <td>Clay</td>\n",
       "      <td>NaN</td>\n",
       "      <td>Round Robin</td>\n",
       "      <td>127</td>\n",
       "      <td>Olivier Rochus</td>\n",
       "      <td>W</td>\n",
       "      <td>...</td>\n",
       "      <td>1</td>\n",
       "      <td>Namur, Belgium</td>\n",
       "      <td>168.0</td>\n",
       "      <td>Right-Handed, One-Handed Backhand</td>\n",
       "      <td>65.0</td>\n",
       "      <td>1981-01-18</td>\n",
       "      <td>Reginald Willems</td>\n",
       "      <td>24</td>\n",
       "      <td>Right-Handed</td>\n",
       "      <td>Right-Handed</td>\n",
       "    </tr>\n",
       "    <tr>\n",
       "      <th>1</th>\n",
       "      <td>https://www.atptour.com/en/players/sebastien-grosjean/g379/player-activity?year=all&amp;matchType=Singles</td>\n",
       "      <td>BEL v FRA WG Rd 1</td>\n",
       "      <td>Gent, Belgium</td>\n",
       "      <td>2001.02.05 - 2001.02.11</td>\n",
       "      <td>Clay</td>\n",
       "      <td>NaN</td>\n",
       "      <td>Round Robin</td>\n",
       "      <td>71</td>\n",
       "      <td>Olivier Rochus</td>\n",
       "      <td>W</td>\n",
       "      <td>...</td>\n",
       "      <td>4</td>\n",
       "      <td>Namur, Belgium</td>\n",
       "      <td>168.0</td>\n",
       "      <td>Right-Handed, One-Handed Backhand</td>\n",
       "      <td>65.0</td>\n",
       "      <td>1981-01-18</td>\n",
       "      <td>Reginald Willems</td>\n",
       "      <td>24</td>\n",
       "      <td>Right-Handed</td>\n",
       "      <td>Right-Handed</td>\n",
       "    </tr>\n",
       "    <tr>\n",
       "      <th>2</th>\n",
       "      <td>https://www.atptour.com/en/players/andrei-pavel/p280/player-activity?year=all&amp;matchType=Singles</td>\n",
       "      <td>Mons</td>\n",
       "      <td>Mons, Belgium</td>\n",
       "      <td>2007.10.01 - 2007.10.07</td>\n",
       "      <td>Hard</td>\n",
       "      <td>$125,000</td>\n",
       "      <td>Quarter-Finals</td>\n",
       "      <td>50</td>\n",
       "      <td>Olivier Rochus</td>\n",
       "      <td>W</td>\n",
       "      <td>...</td>\n",
       "      <td>13</td>\n",
       "      <td>Namur, Belgium</td>\n",
       "      <td>168.0</td>\n",
       "      <td>Right-Handed, One-Handed Backhand</td>\n",
       "      <td>65.0</td>\n",
       "      <td>1981-01-18</td>\n",
       "      <td>Reginald Willems</td>\n",
       "      <td>24</td>\n",
       "      <td>Right-Handed</td>\n",
       "      <td>Right-Handed</td>\n",
       "    </tr>\n",
       "    <tr>\n",
       "      <th>3</th>\n",
       "      <td>https://www.atptour.com/en/players/andy-roddick/r485/player-activity?year=all&amp;matchType=Singles</td>\n",
       "      <td>BEL vs. USA WG PO</td>\n",
       "      <td>Leuven, Belgium</td>\n",
       "      <td>2005.09.19 - 2005.09.25</td>\n",
       "      <td>Clay</td>\n",
       "      <td>NaN</td>\n",
       "      <td>Round Robin</td>\n",
       "      <td>31</td>\n",
       "      <td>Olivier Rochus</td>\n",
       "      <td>W</td>\n",
       "      <td>...</td>\n",
       "      <td>1</td>\n",
       "      <td>Namur, Belgium</td>\n",
       "      <td>168.0</td>\n",
       "      <td>Right-Handed, One-Handed Backhand</td>\n",
       "      <td>65.0</td>\n",
       "      <td>1981-01-18</td>\n",
       "      <td>Reginald Willems</td>\n",
       "      <td>24</td>\n",
       "      <td>Right-Handed</td>\n",
       "      <td>Right-Handed</td>\n",
       "    </tr>\n",
       "    <tr>\n",
       "      <th>4</th>\n",
       "      <td>https://www.atptour.com/en/players/christophe-rochus/r336/player-activity?year=all&amp;matchType=Singles</td>\n",
       "      <td>Ostend</td>\n",
       "      <td>Ostend, Belgium</td>\n",
       "      <td>1999.07.05 - 1999.07.11</td>\n",
       "      <td>Clay</td>\n",
       "      <td>$125,000</td>\n",
       "      <td>Round of 16</td>\n",
       "      <td>551</td>\n",
       "      <td>Olivier Rochus</td>\n",
       "      <td>W</td>\n",
       "      <td>...</td>\n",
       "      <td>39</td>\n",
       "      <td>Namur, Belgium</td>\n",
       "      <td>168.0</td>\n",
       "      <td>Right-Handed, One-Handed Backhand</td>\n",
       "      <td>65.0</td>\n",
       "      <td>1981-01-18</td>\n",
       "      <td>Reginald Willems</td>\n",
       "      <td>24</td>\n",
       "      <td>Right-Handed</td>\n",
       "      <td>Right-Handed</td>\n",
       "    </tr>\n",
       "  </tbody>\n",
       "</table>\n",
       "<p>5 rows × 29 columns</p>\n",
       "</div>"
      ],
      "text/plain": [
       "                                                                                              LinkPlayer  \\\n",
       "0      https://www.atptour.com/en/players/novak-djokovic/d643/player-activity?year=all&matchType=Singles   \n",
       "1  https://www.atptour.com/en/players/sebastien-grosjean/g379/player-activity?year=all&matchType=Singles   \n",
       "2        https://www.atptour.com/en/players/andrei-pavel/p280/player-activity?year=all&matchType=Singles   \n",
       "3        https://www.atptour.com/en/players/andy-roddick/r485/player-activity?year=all&matchType=Singles   \n",
       "4   https://www.atptour.com/en/players/christophe-rochus/r336/player-activity?year=all&matchType=Singles   \n",
       "\n",
       "              Tournament            Location                     Date Ground  \\\n",
       "0  BEL vs. SRB WG 1st RD  Charleroi, Belgium  2013.01.28 - 2013.02.03   Clay   \n",
       "1      BEL v FRA WG Rd 1       Gent, Belgium  2001.02.05 - 2001.02.11   Clay   \n",
       "2                   Mons       Mons, Belgium  2007.10.01 - 2007.10.07   Hard   \n",
       "3      BEL vs. USA WG PO     Leuven, Belgium  2005.09.19 - 2005.09.25   Clay   \n",
       "4                 Ostend     Ostend, Belgium  1999.07.05 - 1999.07.11   Clay   \n",
       "\n",
       "      Prize       GameRound GameRank         Oponent WL  ... Rank  \\\n",
       "0       NaN     Round Robin      127  Olivier Rochus  W  ...    1   \n",
       "1       NaN     Round Robin       71  Olivier Rochus  W  ...    4   \n",
       "2  $125,000  Quarter-Finals       50  Olivier Rochus  W  ...   13   \n",
       "3       NaN     Round Robin       31  Olivier Rochus  W  ...    1   \n",
       "4  $125,000     Round of 16      551  Olivier Rochus  W  ...   39   \n",
       "\n",
       "      BornOponent HeightOponent                        HandOponent  \\\n",
       "0  Namur, Belgium         168.0  Right-Handed, One-Handed Backhand   \n",
       "1  Namur, Belgium         168.0  Right-Handed, One-Handed Backhand   \n",
       "2  Namur, Belgium         168.0  Right-Handed, One-Handed Backhand   \n",
       "3  Namur, Belgium         168.0  Right-Handed, One-Handed Backhand   \n",
       "4  Namur, Belgium         168.0  Right-Handed, One-Handed Backhand   \n",
       "\n",
       "   WeightOponent BirthOponent  TreinadorOponent RankOponent      mainHand  \\\n",
       "0           65.0   1981-01-18  Reginald Willems          24  Right-Handed   \n",
       "1           65.0   1981-01-18  Reginald Willems          24  Right-Handed   \n",
       "2           65.0   1981-01-18  Reginald Willems          24  Right-Handed   \n",
       "3           65.0   1981-01-18  Reginald Willems          24  Right-Handed   \n",
       "4           65.0   1981-01-18  Reginald Willems          24  Right-Handed   \n",
       "\n",
       "  mainHandOponent  \n",
       "0    Right-Handed  \n",
       "1    Right-Handed  \n",
       "2    Right-Handed  \n",
       "3    Right-Handed  \n",
       "4    Right-Handed  \n",
       "\n",
       "[5 rows x 29 columns]"
      ]
     },
     "execution_count": 31,
     "metadata": {},
     "output_type": "execute_result"
    }
   ],
   "source": [
    "belgica_raw[\"mainHand\"] = belgica_raw[\"Hand\"].str.rsplit(\",\").str[0].str.strip()\n",
    "belgica_raw[\"mainHandOponent\"] = belgica_raw[\"HandOponent\"].str.rsplit(\",\").str[0].str.strip()\n",
    "belgica_raw.head(5)"
   ]
  },
  {
   "cell_type": "code",
   "execution_count": 32,
   "id": "287f5047-bc4a-401c-92c9-db1a7e7c8a6e",
   "metadata": {
    "ExecuteTime": {
     "end_time": "2023-05-30T15:04:45.567638Z",
     "start_time": "2023-05-30T15:04:45.541627Z"
    }
   },
   "outputs": [
    {
     "data": {
      "text/plain": [
       "4259"
      ]
     },
     "execution_count": 32,
     "metadata": {},
     "output_type": "execute_result"
    }
   ],
   "source": [
    "belgica_raw.shape[0]"
   ]
  },
  {
   "cell_type": "code",
   "execution_count": 33,
   "id": "f35bd20a-b81b-43ff-81fc-7c292799ef05",
   "metadata": {
    "ExecuteTime": {
     "end_time": "2023-05-30T15:04:45.614709Z",
     "start_time": "2023-05-30T15:04:45.572638Z"
    }
   },
   "outputs": [],
   "source": [
    "belgica_raw=belgica_raw.drop(\"Hand\",axis=1)\n",
    "belgica_raw=belgica_raw.drop(\"HandOponent\",axis=1)"
   ]
  },
  {
   "cell_type": "code",
   "execution_count": 34,
   "id": "71ed256a-8eb7-40f2-9054-bc6779fce643",
   "metadata": {
    "ExecuteTime": {
     "end_time": "2023-05-30T15:04:45.645517Z",
     "start_time": "2023-05-30T15:04:45.620733Z"
    }
   },
   "outputs": [
    {
     "data": {
      "text/plain": [
       "array(['Right-Handed', 'Left-Handed', 'Ambidextrous'], dtype=object)"
      ]
     },
     "execution_count": 34,
     "metadata": {},
     "output_type": "execute_result"
    }
   ],
   "source": [
    "belgica_raw[\"mainHand\"].unique()"
   ]
  },
  {
   "cell_type": "code",
   "execution_count": 35,
   "id": "d8ac1f9f-c7ee-4f02-be00-7b5aabc8a094",
   "metadata": {
    "ExecuteTime": {
     "end_time": "2023-05-30T15:04:45.676307Z",
     "start_time": "2023-05-30T15:04:45.651779Z"
    }
   },
   "outputs": [
    {
     "data": {
      "text/plain": [
       "array(['Right-Handed', 'Left-Handed', 'Ambidextrous'], dtype=object)"
      ]
     },
     "execution_count": 35,
     "metadata": {},
     "output_type": "execute_result"
    }
   ],
   "source": [
    "belgica_raw[\"mainHandOponent\"].unique()"
   ]
  },
  {
   "cell_type": "markdown",
   "id": "d8d0d649-8a4e-4272-8ca3-3a26e82b9346",
   "metadata": {},
   "source": [
    "<h3 style=\"background-size:2em 2em;background-position:0em 1em,1em 0,0em 1em,1em 0,0 0,0 0,0 0,0 0,0 0;background-image:linear-gradient(45deg,#000 8%,transparent 8%,transparent 92%,#000 92%),linear-gradient(-45deg,#000 8%,transparent 8%,transparent 92%,#000 92%),linear-gradient(-45deg,#000 8%,transparent 8%,transparent 92%,#000 92%),linear-gradient(45deg,#000 8%,transparent 8%,transparent 92%,#000 92%),linear-gradient(-45deg,transparent 17%,#000 17%,#000 21%,transparent 21%,transparent 79%,#000 79%,#000 83%,transparent 83%),linear-gradient(45deg,transparent 29%,#000 29%,#000 33%,transparent 33%,transparent 67%,#000 67%,#000 71%,transparent 71%),linear-gradient(-135deg,#202020 10%,#090909 33%,transparent 33%,transparent 67%,#161616 67%,#202020 90%),linear-gradient(135deg,transparent 21%,#161616 21%,#2d2d2d 32.6%,#161616 64.5%,#202020 70.3%,#090909 79%,transparent 79%),linear-gradient(-135deg,transparent 21%,#161616 21%,#202020 40%,#202020 60%,#090909 79%,transparent 79%);\n",
    "color: white;\n",
    "font-weight: 40;\n",
    "font-size: 40px;\n",
    "margin: 0.5em auto;\n",
    "text-align: left;\n",
    "cursor: wait;\n",
    "letter-spacing: 10;\"> Mão dos PlayerName</h3>    "
   ]
  },
  {
   "cell_type": "code",
   "execution_count": 36,
   "id": "d5177d97-924b-4291-9da2-a25e2720ef7b",
   "metadata": {
    "ExecuteTime": {
     "end_time": "2023-05-30T15:04:46.331179Z",
     "start_time": "2023-05-30T15:04:45.685346Z"
    }
   },
   "outputs": [
    {
     "data": {
      "image/png": "[encoded data removed]",
      "text/plain": [
       "<Figure size 640x480 with 1 Axes>"
      ]
     },
     "metadata": {},
     "output_type": "display_data"
    }
   ],
   "source": [
    "# Calcular a contagem de valores por categoria\n",
    "contagem = belgica_raw[\"mainHand\"].value_counts().sort_values(ascending=False)\n",
    "\n",
    "# Criar o gráfico de barras\n",
    "sns.barplot(x=contagem.index, y=contagem.values, palette=\"bone\")\n",
    "\n",
    "# Configurar rótulos e título\n",
    "plt.xlabel(\"Mão\")\n",
    "plt.ylabel(\"Contagem\")\n",
    "plt.title(\"Contagem da mão principal - Barplot\")\n",
    "\n",
    "# Ajustar a rotação dos rótulos do eixo X para evitar sobreposição\n",
    "plt.xticks(rotation=90)\n",
    "\n",
    "# Mostrar o gráfico\n",
    "plt.show()"
   ]
  },
  {
   "cell_type": "markdown",
   "id": "bdb3a76b-d2ff-475d-8830-c7913bb2881a",
   "metadata": {},
   "source": [
    "<h4 style=\"background-size:2em 2em;background-position:0em 1em,1em 0,0em 1em,1em 0,0 0,0 0,0 0,0 0,0 0;background-image:linear-gradient(45deg,#000 8%,transparent 8%,transparent 92%,#000 92%),linear-gradient(-45deg,#000 8%,transparent 8%,transparent 92%,#000 92%),linear-gradient(-45deg,#000 8%,transparent 8%,transparent 92%,#000 92%),linear-gradient(45deg,#000 8%,transparent 8%,transparent 92%,#000 92%),linear-gradient(-45deg,transparent 17%,#000 17%,#000 21%,transparent 21%,transparent 79%,#000 79%,#000 83%,transparent 83%),linear-gradient(45deg,transparent 29%,#000 29%,#000 33%,transparent 33%,transparent 67%,#000 67%,#000 71%,transparent 71%),linear-gradient(-135deg,#202020 10%,#090909 33%,transparent 33%,transparent 67%,#161616 67%,#202020 90%),linear-gradient(135deg,transparent 21%,#161616 21%,#2d2d2d 32.6%,#161616 64.5%,#202020 70.3%,#090909 79%,transparent 79%),linear-gradient(-135deg,transparent 21%,#161616 21%,#202020 40%,#202020 60%,#090909 79%,transparent 79%);\n",
    "color: white;\n",
    "font-weight: 40;\n",
    "font-size: 30px;\n",
    "margin: 0.5em auto;\n",
    "text-align: left;\n",
    "cursor: wait;\n",
    "letter-spacing: 10;\">Omissos</h4>     "
   ]
  },
  {
   "cell_type": "code",
   "execution_count": 37,
   "id": "9c8b6149-a110-451d-b89c-cd0ed94c4a66",
   "metadata": {
    "ExecuteTime": {
     "end_time": "2023-05-30T15:04:46.362574Z",
     "start_time": "2023-05-30T15:04:46.337764Z"
    }
   },
   "outputs": [
    {
     "data": {
      "text/plain": [
       "0"
      ]
     },
     "execution_count": 37,
     "metadata": {},
     "output_type": "execute_result"
    }
   ],
   "source": [
    "belgica_raw[\"mainHand\"].isna().sum()"
   ]
  },
  {
   "cell_type": "markdown",
   "id": "5edd7a5c-8cf8-46e7-906f-d1a4f97bf784",
   "metadata": {},
   "source": [
    "<h3 style=\"background-size:2em 2em;background-position:0em 1em,1em 0,0em 1em,1em 0,0 0,0 0,0 0,0 0,0 0;background-image:linear-gradient(45deg,#000 8%,transparent 8%,transparent 92%,#000 92%),linear-gradient(-45deg,#000 8%,transparent 8%,transparent 92%,#000 92%),linear-gradient(-45deg,#000 8%,transparent 8%,transparent 92%,#000 92%),linear-gradient(45deg,#000 8%,transparent 8%,transparent 92%,#000 92%),linear-gradient(-45deg,transparent 17%,#000 17%,#000 21%,transparent 21%,transparent 79%,#000 79%,#000 83%,transparent 83%),linear-gradient(45deg,transparent 29%,#000 29%,#000 33%,transparent 33%,transparent 67%,#000 67%,#000 71%,transparent 71%),linear-gradient(-135deg,#202020 10%,#090909 33%,transparent 33%,transparent 67%,#161616 67%,#202020 90%),linear-gradient(135deg,transparent 21%,#161616 21%,#2d2d2d 32.6%,#161616 64.5%,#202020 70.3%,#090909 79%,transparent 79%),linear-gradient(-135deg,transparent 21%,#161616 21%,#202020 40%,#202020 60%,#090909 79%,transparent 79%);\n",
    "color: white;\n",
    "font-weight: 40;\n",
    "font-size: 40px;\n",
    "margin: 0.5em auto;\n",
    "text-align: left;\n",
    "cursor: wait;\n",
    "letter-spacing: 10;\"> Mão dos Oponentes</h3>    "
   ]
  },
  {
   "cell_type": "code",
   "execution_count": 38,
   "id": "dd5c0879-545d-4dc4-a1f5-1d881095d58d",
   "metadata": {
    "ExecuteTime": {
     "end_time": "2023-05-30T15:04:46.706533Z",
     "start_time": "2023-05-30T15:04:46.369137Z"
    }
   },
   "outputs": [
    {
     "data": {
      "image/png": "[encoded data removed]",
      "text/plain": [
       "<Figure size 640x480 with 1 Axes>"
      ]
     },
     "metadata": {},
     "output_type": "display_data"
    }
   ],
   "source": [
    "# Calcular a contagem de valores por categoria\n",
    "contagem = belgica_raw[\"mainHandOponent\"].value_counts().sort_values(ascending=False)\n",
    "\n",
    "# Criar o gráfico de barras\n",
    "sns.barplot(x=contagem.index, y=contagem.values, palette=\"bone\")\n",
    "\n",
    "# Configurar rótulos e título\n",
    "plt.xlabel(\"Mão\")\n",
    "plt.ylabel(\"Contagem\")\n",
    "plt.title(\"Contagem da mão principal - Barplot\")\n",
    "\n",
    "# Ajustar a rotação dos rótulos do eixo X para evitar sobreposição\n",
    "plt.xticks(rotation=90)\n",
    "\n",
    "# Mostrar o gráfico\n",
    "plt.show()"
   ]
  },
  {
   "cell_type": "markdown",
   "id": "b78b910f-62e9-4e14-b2c1-90c4bdfb1250",
   "metadata": {},
   "source": [
    "---"
   ]
  },
  {
   "cell_type": "markdown",
   "id": "044880c4-aa4d-4490-8a0b-0fb89fe66beb",
   "metadata": {},
   "source": [
    "<h2 style=\"background-size:2em 2em;background-position:0em 1em,1em 0,0em 1em,1em 0,0 0,0 0,0 0,0 0,0 0;background-image:linear-gradient(45deg,#000 8%,transparent 8%,transparent 92%,#000 92%),linear-gradient(-45deg,#000 8%,transparent 8%,transparent 92%,#000 92%),linear-gradient(-45deg,#000 8%,transparent 8%,transparent 92%,#000 92%),linear-gradient(45deg,#000 8%,transparent 8%,transparent 92%,#000 92%),linear-gradient(-45deg,transparent 17%,#000 17%,#000 21%,transparent 21%,transparent 79%,#000 79%,#000 83%,transparent 83%),linear-gradient(45deg,transparent 29%,#000 29%,#000 33%,transparent 33%,transparent 67%,#000 67%,#000 71%,transparent 71%),linear-gradient(-135deg,#202020 10%,#090909 33%,transparent 33%,transparent 67%,#161616 67%,#202020 90%),linear-gradient(135deg,transparent 21%,#161616 21%,#2d2d2d 32.6%,#161616 64.5%,#202020 70.3%,#090909 79%,transparent 79%),linear-gradient(-135deg,transparent 21%,#161616 21%,#202020 40%,#202020 60%,#090909 79%,transparent 79%);\n",
    "color: white;\n",
    "font-weight: 40;\n",
    "font-size: 50px;\n",
    "margin: 0.5em auto;\n",
    "text-align: center;\n",
    "cursor: wait;\n",
    "letter-spacing: 10;\">Date</h2>     "
   ]
  },
  {
   "cell_type": "code",
   "execution_count": 39,
   "id": "409f4f21-0d64-45a6-ab9f-48531a024906",
   "metadata": {
    "ExecuteTime": {
     "end_time": "2023-05-30T15:04:46.753399Z",
     "start_time": "2023-05-30T15:04:46.712505Z"
    }
   },
   "outputs": [],
   "source": [
    "belgica_raw['TournamentYear'] = belgica_raw['Date'].str.extract(r'^(\\d{4})')"
   ]
  },
  {
   "cell_type": "code",
   "execution_count": 40,
   "id": "dbfc440c-a1d5-46ce-9a52-fe1bc0f3441c",
   "metadata": {
    "ExecuteTime": {
     "end_time": "2023-05-30T15:04:46.784413Z",
     "start_time": "2023-05-30T15:04:46.760714Z"
    }
   },
   "outputs": [
    {
     "data": {
      "text/plain": [
       "array(['2013', '2001', '2007', '2005', '1999', '2009', '2012', '2014',\n",
       "       '1998', '2000', '2004', '2008', '2006', '2010', '2011', '2015',\n",
       "       '2018', '2017', '2016', '2019', '2020', '2021', '1995', '1997',\n",
       "       '1994', '1990', '1992', '1996', '1993', '1991', '1989', '1988',\n",
       "       '1987', '1972', '1986', '1985', '1983', '1984', '1982', '1981'],\n",
       "      dtype=object)"
      ]
     },
     "execution_count": 40,
     "metadata": {},
     "output_type": "execute_result"
    }
   ],
   "source": [
    "belgica_raw['TournamentYear'].unique()"
   ]
  },
  {
   "cell_type": "markdown",
   "id": "1a1a1a50-b01d-4232-a659-6884f0b466dc",
   "metadata": {},
   "source": [
    "---"
   ]
  },
  {
   "cell_type": "markdown",
   "id": "330a7bfe-26c3-4cd4-9714-79a237e562d8",
   "metadata": {},
   "source": [
    "<h2 style=\"background-size:2em 2em;background-position:0em 1em,1em 0,0em 1em,1em 0,0 0,0 0,0 0,0 0,0 0;background-image:linear-gradient(45deg,#000 8%,transparent 8%,transparent 92%,#000 92%),linear-gradient(-45deg,#000 8%,transparent 8%,transparent 92%,#000 92%),linear-gradient(-45deg,#000 8%,transparent 8%,transparent 92%,#000 92%),linear-gradient(45deg,#000 8%,transparent 8%,transparent 92%,#000 92%),linear-gradient(-45deg,transparent 17%,#000 17%,#000 21%,transparent 21%,transparent 79%,#000 79%,#000 83%,transparent 83%),linear-gradient(45deg,transparent 29%,#000 29%,#000 33%,transparent 33%,transparent 67%,#000 67%,#000 71%,transparent 71%),linear-gradient(-135deg,#202020 10%,#090909 33%,transparent 33%,transparent 67%,#161616 67%,#202020 90%),linear-gradient(135deg,transparent 21%,#161616 21%,#2d2d2d 32.6%,#161616 64.5%,#202020 70.3%,#090909 79%,transparent 79%),linear-gradient(-135deg,transparent 21%,#161616 21%,#202020 40%,#202020 60%,#090909 79%,transparent 79%);\n",
    "color: white;\n",
    "font-weight: 40;\n",
    "font-size: 50px;\n",
    "margin: 0.5em auto;\n",
    "text-align: center;\n",
    "cursor: wait;\n",
    "letter-spacing: 10;\">Prize</h2>     "
   ]
  },
  {
   "cell_type": "code",
   "execution_count": 41,
   "id": "d10d0537",
   "metadata": {
    "ExecuteTime": {
     "end_time": "2023-05-30T15:04:46.847414Z",
     "start_time": "2023-05-30T15:04:46.789374Z"
    }
   },
   "outputs": [
    {
     "data": {
      "text/plain": [
       "LinkPlayer             0\n",
       "Tournament             0\n",
       "Location               0\n",
       "Date                   0\n",
       "Ground                 0\n",
       "Prize                 87\n",
       "GameRound              0\n",
       "GameRank               0\n",
       "Oponent                0\n",
       "WL                     0\n",
       "Score                  0\n",
       "país                   0\n",
       "PlayerName             0\n",
       "Born                  27\n",
       "Height                 0\n",
       "Weight                 0\n",
       "Birth                 21\n",
       "Treinador           1816\n",
       "Rank                 306\n",
       "BornOponent           34\n",
       "HeightOponent          0\n",
       "WeightOponent          0\n",
       "BirthOponent          23\n",
       "TreinadorOponent    2151\n",
       "RankOponent          380\n",
       "mainHand               0\n",
       "mainHandOponent        0\n",
       "TournamentYear         0\n",
       "dtype: int64"
      ]
     },
     "execution_count": 41,
     "metadata": {},
     "output_type": "execute_result"
    }
   ],
   "source": [
    "belgica_raw.isna().sum()"
   ]
  },
  {
   "cell_type": "code",
   "execution_count": 42,
   "id": "b2c185e8",
   "metadata": {
    "ExecuteTime": {
     "end_time": "2023-05-30T15:04:46.924633Z",
     "start_time": "2023-05-30T15:04:46.854420Z"
    }
   },
   "outputs": [
    {
     "data": {
      "text/html": [
       "<div>\n",
       "<style scoped>\n",
       "    .dataframe tbody tr th:only-of-type {\n",
       "        vertical-align: middle;\n",
       "    }\n",
       "\n",
       "    .dataframe tbody tr th {\n",
       "        vertical-align: top;\n",
       "    }\n",
       "\n",
       "    .dataframe thead th {\n",
       "        text-align: right;\n",
       "    }\n",
       "</style>\n",
       "<table border=\"1\" class=\"dataframe\">\n",
       "  <thead>\n",
       "    <tr style=\"text-align: right;\">\n",
       "      <th></th>\n",
       "      <th>LinkPlayer</th>\n",
       "      <th>Tournament</th>\n",
       "      <th>Location</th>\n",
       "      <th>Date</th>\n",
       "      <th>Ground</th>\n",
       "      <th>Prize</th>\n",
       "      <th>GameRound</th>\n",
       "      <th>GameRank</th>\n",
       "      <th>Oponent</th>\n",
       "      <th>WL</th>\n",
       "      <th>...</th>\n",
       "      <th>BornOponent</th>\n",
       "      <th>HeightOponent</th>\n",
       "      <th>WeightOponent</th>\n",
       "      <th>BirthOponent</th>\n",
       "      <th>TreinadorOponent</th>\n",
       "      <th>RankOponent</th>\n",
       "      <th>mainHand</th>\n",
       "      <th>mainHandOponent</th>\n",
       "      <th>TournamentYear</th>\n",
       "      <th>TipoMoeda</th>\n",
       "    </tr>\n",
       "  </thead>\n",
       "  <tbody>\n",
       "    <tr>\n",
       "      <th>0</th>\n",
       "      <td>https://www.atptour.com/en/players/novak-djokovic/d643/player-activity?year=all&amp;matchType=Singles</td>\n",
       "      <td>BEL vs. SRB WG 1st RD</td>\n",
       "      <td>Charleroi, Belgium</td>\n",
       "      <td>2013.01.28 - 2013.02.03</td>\n",
       "      <td>Clay</td>\n",
       "      <td>0</td>\n",
       "      <td>Round Robin</td>\n",
       "      <td>127</td>\n",
       "      <td>Olivier Rochus</td>\n",
       "      <td>W</td>\n",
       "      <td>...</td>\n",
       "      <td>Namur, Belgium</td>\n",
       "      <td>168.0</td>\n",
       "      <td>65.0</td>\n",
       "      <td>1981-01-18</td>\n",
       "      <td>Reginald Willems</td>\n",
       "      <td>24</td>\n",
       "      <td>Right-Handed</td>\n",
       "      <td>Right-Handed</td>\n",
       "      <td>2013</td>\n",
       "      <td>None</td>\n",
       "    </tr>\n",
       "    <tr>\n",
       "      <th>1</th>\n",
       "      <td>https://www.atptour.com/en/players/sebastien-grosjean/g379/player-activity?year=all&amp;matchType=Singles</td>\n",
       "      <td>BEL v FRA WG Rd 1</td>\n",
       "      <td>Gent, Belgium</td>\n",
       "      <td>2001.02.05 - 2001.02.11</td>\n",
       "      <td>Clay</td>\n",
       "      <td>0</td>\n",
       "      <td>Round Robin</td>\n",
       "      <td>71</td>\n",
       "      <td>Olivier Rochus</td>\n",
       "      <td>W</td>\n",
       "      <td>...</td>\n",
       "      <td>Namur, Belgium</td>\n",
       "      <td>168.0</td>\n",
       "      <td>65.0</td>\n",
       "      <td>1981-01-18</td>\n",
       "      <td>Reginald Willems</td>\n",
       "      <td>24</td>\n",
       "      <td>Right-Handed</td>\n",
       "      <td>Right-Handed</td>\n",
       "      <td>2001</td>\n",
       "      <td>None</td>\n",
       "    </tr>\n",
       "    <tr>\n",
       "      <th>2</th>\n",
       "      <td>https://www.atptour.com/en/players/andrei-pavel/p280/player-activity?year=all&amp;matchType=Singles</td>\n",
       "      <td>Mons</td>\n",
       "      <td>Mons, Belgium</td>\n",
       "      <td>2007.10.01 - 2007.10.07</td>\n",
       "      <td>Hard</td>\n",
       "      <td>$125,000</td>\n",
       "      <td>Quarter-Finals</td>\n",
       "      <td>50</td>\n",
       "      <td>Olivier Rochus</td>\n",
       "      <td>W</td>\n",
       "      <td>...</td>\n",
       "      <td>Namur, Belgium</td>\n",
       "      <td>168.0</td>\n",
       "      <td>65.0</td>\n",
       "      <td>1981-01-18</td>\n",
       "      <td>Reginald Willems</td>\n",
       "      <td>24</td>\n",
       "      <td>Right-Handed</td>\n",
       "      <td>Right-Handed</td>\n",
       "      <td>2007</td>\n",
       "      <td>Dolar</td>\n",
       "    </tr>\n",
       "    <tr>\n",
       "      <th>3</th>\n",
       "      <td>https://www.atptour.com/en/players/andy-roddick/r485/player-activity?year=all&amp;matchType=Singles</td>\n",
       "      <td>BEL vs. USA WG PO</td>\n",
       "      <td>Leuven, Belgium</td>\n",
       "      <td>2005.09.19 - 2005.09.25</td>\n",
       "      <td>Clay</td>\n",
       "      <td>0</td>\n",
       "      <td>Round Robin</td>\n",
       "      <td>31</td>\n",
       "      <td>Olivier Rochus</td>\n",
       "      <td>W</td>\n",
       "      <td>...</td>\n",
       "      <td>Namur, Belgium</td>\n",
       "      <td>168.0</td>\n",
       "      <td>65.0</td>\n",
       "      <td>1981-01-18</td>\n",
       "      <td>Reginald Willems</td>\n",
       "      <td>24</td>\n",
       "      <td>Right-Handed</td>\n",
       "      <td>Right-Handed</td>\n",
       "      <td>2005</td>\n",
       "      <td>None</td>\n",
       "    </tr>\n",
       "    <tr>\n",
       "      <th>4</th>\n",
       "      <td>https://www.atptour.com/en/players/christophe-rochus/r336/player-activity?year=all&amp;matchType=Singles</td>\n",
       "      <td>Ostend</td>\n",
       "      <td>Ostend, Belgium</td>\n",
       "      <td>1999.07.05 - 1999.07.11</td>\n",
       "      <td>Clay</td>\n",
       "      <td>$125,000</td>\n",
       "      <td>Round of 16</td>\n",
       "      <td>551</td>\n",
       "      <td>Olivier Rochus</td>\n",
       "      <td>W</td>\n",
       "      <td>...</td>\n",
       "      <td>Namur, Belgium</td>\n",
       "      <td>168.0</td>\n",
       "      <td>65.0</td>\n",
       "      <td>1981-01-18</td>\n",
       "      <td>Reginald Willems</td>\n",
       "      <td>24</td>\n",
       "      <td>Right-Handed</td>\n",
       "      <td>Right-Handed</td>\n",
       "      <td>1999</td>\n",
       "      <td>Dolar</td>\n",
       "    </tr>\n",
       "  </tbody>\n",
       "</table>\n",
       "<p>5 rows × 29 columns</p>\n",
       "</div>"
      ],
      "text/plain": [
       "                                                                                              LinkPlayer  \\\n",
       "0      https://www.atptour.com/en/players/novak-djokovic/d643/player-activity?year=all&matchType=Singles   \n",
       "1  https://www.atptour.com/en/players/sebastien-grosjean/g379/player-activity?year=all&matchType=Singles   \n",
       "2        https://www.atptour.com/en/players/andrei-pavel/p280/player-activity?year=all&matchType=Singles   \n",
       "3        https://www.atptour.com/en/players/andy-roddick/r485/player-activity?year=all&matchType=Singles   \n",
       "4   https://www.atptour.com/en/players/christophe-rochus/r336/player-activity?year=all&matchType=Singles   \n",
       "\n",
       "              Tournament            Location                     Date Ground  \\\n",
       "0  BEL vs. SRB WG 1st RD  Charleroi, Belgium  2013.01.28 - 2013.02.03   Clay   \n",
       "1      BEL v FRA WG Rd 1       Gent, Belgium  2001.02.05 - 2001.02.11   Clay   \n",
       "2                   Mons       Mons, Belgium  2007.10.01 - 2007.10.07   Hard   \n",
       "3      BEL vs. USA WG PO     Leuven, Belgium  2005.09.19 - 2005.09.25   Clay   \n",
       "4                 Ostend     Ostend, Belgium  1999.07.05 - 1999.07.11   Clay   \n",
       "\n",
       "      Prize       GameRound GameRank         Oponent WL  ...     BornOponent  \\\n",
       "0         0     Round Robin      127  Olivier Rochus  W  ...  Namur, Belgium   \n",
       "1         0     Round Robin       71  Olivier Rochus  W  ...  Namur, Belgium   \n",
       "2  $125,000  Quarter-Finals       50  Olivier Rochus  W  ...  Namur, Belgium   \n",
       "3         0     Round Robin       31  Olivier Rochus  W  ...  Namur, Belgium   \n",
       "4  $125,000     Round of 16      551  Olivier Rochus  W  ...  Namur, Belgium   \n",
       "\n",
       "  HeightOponent WeightOponent BirthOponent  TreinadorOponent  RankOponent  \\\n",
       "0         168.0          65.0   1981-01-18  Reginald Willems           24   \n",
       "1         168.0          65.0   1981-01-18  Reginald Willems           24   \n",
       "2         168.0          65.0   1981-01-18  Reginald Willems           24   \n",
       "3         168.0          65.0   1981-01-18  Reginald Willems           24   \n",
       "4         168.0          65.0   1981-01-18  Reginald Willems           24   \n",
       "\n",
       "       mainHand mainHandOponent TournamentYear TipoMoeda  \n",
       "0  Right-Handed    Right-Handed           2013      None  \n",
       "1  Right-Handed    Right-Handed           2001      None  \n",
       "2  Right-Handed    Right-Handed           2007     Dolar  \n",
       "3  Right-Handed    Right-Handed           2005      None  \n",
       "4  Right-Handed    Right-Handed           1999     Dolar  \n",
       "\n",
       "[5 rows x 29 columns]"
      ]
     },
     "execution_count": 42,
     "metadata": {},
     "output_type": "execute_result"
    }
   ],
   "source": [
    "belgica_raw[\"Prize\"].fillna(0, inplace=True)\n",
    "belgica_raw[\"Prize\"] = belgica_raw[\"Prize\"].astype(str) # convertendo a coluna para string\n",
    "belgica_raw[\"TipoMoeda\"] = belgica_raw[\"Prize\"].apply(lambda x: \"Dolar\" if str(x).startswith(\"$\") else (\"Euro\" if str(x).startswith(\"�\") else None))\n",
    "belgica_raw.head()"
   ]
  },
  {
   "cell_type": "code",
   "execution_count": 43,
   "id": "8da4066d-b654-4536-9ee3-50b86d2cd47e",
   "metadata": {
    "ExecuteTime": {
     "end_time": "2023-05-30T15:04:47.034339Z",
     "start_time": "2023-05-30T15:04:46.932665Z"
    }
   },
   "outputs": [
    {
     "data": {
      "text/html": [
       "<div>\n",
       "<style scoped>\n",
       "    .dataframe tbody tr th:only-of-type {\n",
       "        vertical-align: middle;\n",
       "    }\n",
       "\n",
       "    .dataframe tbody tr th {\n",
       "        vertical-align: top;\n",
       "    }\n",
       "\n",
       "    .dataframe thead th {\n",
       "        text-align: right;\n",
       "    }\n",
       "</style>\n",
       "<table border=\"1\" class=\"dataframe\">\n",
       "  <thead>\n",
       "    <tr style=\"text-align: right;\">\n",
       "      <th></th>\n",
       "      <th>LinkPlayer</th>\n",
       "      <th>Tournament</th>\n",
       "      <th>Location</th>\n",
       "      <th>Date</th>\n",
       "      <th>Ground</th>\n",
       "      <th>Prize</th>\n",
       "      <th>GameRound</th>\n",
       "      <th>GameRank</th>\n",
       "      <th>Oponent</th>\n",
       "      <th>WL</th>\n",
       "      <th>...</th>\n",
       "      <th>BornOponent</th>\n",
       "      <th>HeightOponent</th>\n",
       "      <th>WeightOponent</th>\n",
       "      <th>BirthOponent</th>\n",
       "      <th>TreinadorOponent</th>\n",
       "      <th>RankOponent</th>\n",
       "      <th>mainHand</th>\n",
       "      <th>mainHandOponent</th>\n",
       "      <th>TournamentYear</th>\n",
       "      <th>TipoMoeda</th>\n",
       "    </tr>\n",
       "  </thead>\n",
       "  <tbody>\n",
       "    <tr>\n",
       "      <th>0</th>\n",
       "      <td>https://www.atptour.com/en/players/novak-djokovic/d643/player-activity?year=all&amp;matchType=Singles</td>\n",
       "      <td>BEL vs. SRB WG 1st RD</td>\n",
       "      <td>Charleroi, Belgium</td>\n",
       "      <td>2013.01.28 - 2013.02.03</td>\n",
       "      <td>Clay</td>\n",
       "      <td>0</td>\n",
       "      <td>Round Robin</td>\n",
       "      <td>127</td>\n",
       "      <td>Olivier Rochus</td>\n",
       "      <td>W</td>\n",
       "      <td>...</td>\n",
       "      <td>Namur, Belgium</td>\n",
       "      <td>168.0</td>\n",
       "      <td>65.0</td>\n",
       "      <td>1981-01-18</td>\n",
       "      <td>Reginald Willems</td>\n",
       "      <td>24</td>\n",
       "      <td>Right-Handed</td>\n",
       "      <td>Right-Handed</td>\n",
       "      <td>2013</td>\n",
       "      <td>None</td>\n",
       "    </tr>\n",
       "    <tr>\n",
       "      <th>1</th>\n",
       "      <td>https://www.atptour.com/en/players/sebastien-grosjean/g379/player-activity?year=all&amp;matchType=Singles</td>\n",
       "      <td>BEL v FRA WG Rd 1</td>\n",
       "      <td>Gent, Belgium</td>\n",
       "      <td>2001.02.05 - 2001.02.11</td>\n",
       "      <td>Clay</td>\n",
       "      <td>0</td>\n",
       "      <td>Round Robin</td>\n",
       "      <td>71</td>\n",
       "      <td>Olivier Rochus</td>\n",
       "      <td>W</td>\n",
       "      <td>...</td>\n",
       "      <td>Namur, Belgium</td>\n",
       "      <td>168.0</td>\n",
       "      <td>65.0</td>\n",
       "      <td>1981-01-18</td>\n",
       "      <td>Reginald Willems</td>\n",
       "      <td>24</td>\n",
       "      <td>Right-Handed</td>\n",
       "      <td>Right-Handed</td>\n",
       "      <td>2001</td>\n",
       "      <td>None</td>\n",
       "    </tr>\n",
       "    <tr>\n",
       "      <th>2</th>\n",
       "      <td>https://www.atptour.com/en/players/andrei-pavel/p280/player-activity?year=all&amp;matchType=Singles</td>\n",
       "      <td>Mons</td>\n",
       "      <td>Mons, Belgium</td>\n",
       "      <td>2007.10.01 - 2007.10.07</td>\n",
       "      <td>Hard</td>\n",
       "      <td>125000</td>\n",
       "      <td>Quarter-Finals</td>\n",
       "      <td>50</td>\n",
       "      <td>Olivier Rochus</td>\n",
       "      <td>W</td>\n",
       "      <td>...</td>\n",
       "      <td>Namur, Belgium</td>\n",
       "      <td>168.0</td>\n",
       "      <td>65.0</td>\n",
       "      <td>1981-01-18</td>\n",
       "      <td>Reginald Willems</td>\n",
       "      <td>24</td>\n",
       "      <td>Right-Handed</td>\n",
       "      <td>Right-Handed</td>\n",
       "      <td>2007</td>\n",
       "      <td>Dolar</td>\n",
       "    </tr>\n",
       "    <tr>\n",
       "      <th>3</th>\n",
       "      <td>https://www.atptour.com/en/players/andy-roddick/r485/player-activity?year=all&amp;matchType=Singles</td>\n",
       "      <td>BEL vs. USA WG PO</td>\n",
       "      <td>Leuven, Belgium</td>\n",
       "      <td>2005.09.19 - 2005.09.25</td>\n",
       "      <td>Clay</td>\n",
       "      <td>0</td>\n",
       "      <td>Round Robin</td>\n",
       "      <td>31</td>\n",
       "      <td>Olivier Rochus</td>\n",
       "      <td>W</td>\n",
       "      <td>...</td>\n",
       "      <td>Namur, Belgium</td>\n",
       "      <td>168.0</td>\n",
       "      <td>65.0</td>\n",
       "      <td>1981-01-18</td>\n",
       "      <td>Reginald Willems</td>\n",
       "      <td>24</td>\n",
       "      <td>Right-Handed</td>\n",
       "      <td>Right-Handed</td>\n",
       "      <td>2005</td>\n",
       "      <td>None</td>\n",
       "    </tr>\n",
       "    <tr>\n",
       "      <th>4</th>\n",
       "      <td>https://www.atptour.com/en/players/christophe-rochus/r336/player-activity?year=all&amp;matchType=Singles</td>\n",
       "      <td>Ostend</td>\n",
       "      <td>Ostend, Belgium</td>\n",
       "      <td>1999.07.05 - 1999.07.11</td>\n",
       "      <td>Clay</td>\n",
       "      <td>125000</td>\n",
       "      <td>Round of 16</td>\n",
       "      <td>551</td>\n",
       "      <td>Olivier Rochus</td>\n",
       "      <td>W</td>\n",
       "      <td>...</td>\n",
       "      <td>Namur, Belgium</td>\n",
       "      <td>168.0</td>\n",
       "      <td>65.0</td>\n",
       "      <td>1981-01-18</td>\n",
       "      <td>Reginald Willems</td>\n",
       "      <td>24</td>\n",
       "      <td>Right-Handed</td>\n",
       "      <td>Right-Handed</td>\n",
       "      <td>1999</td>\n",
       "      <td>Dolar</td>\n",
       "    </tr>\n",
       "  </tbody>\n",
       "</table>\n",
       "<p>5 rows × 29 columns</p>\n",
       "</div>"
      ],
      "text/plain": [
       "                                                                                              LinkPlayer  \\\n",
       "0      https://www.atptour.com/en/players/novak-djokovic/d643/player-activity?year=all&matchType=Singles   \n",
       "1  https://www.atptour.com/en/players/sebastien-grosjean/g379/player-activity?year=all&matchType=Singles   \n",
       "2        https://www.atptour.com/en/players/andrei-pavel/p280/player-activity?year=all&matchType=Singles   \n",
       "3        https://www.atptour.com/en/players/andy-roddick/r485/player-activity?year=all&matchType=Singles   \n",
       "4   https://www.atptour.com/en/players/christophe-rochus/r336/player-activity?year=all&matchType=Singles   \n",
       "\n",
       "              Tournament            Location                     Date Ground  \\\n",
       "0  BEL vs. SRB WG 1st RD  Charleroi, Belgium  2013.01.28 - 2013.02.03   Clay   \n",
       "1      BEL v FRA WG Rd 1       Gent, Belgium  2001.02.05 - 2001.02.11   Clay   \n",
       "2                   Mons       Mons, Belgium  2007.10.01 - 2007.10.07   Hard   \n",
       "3      BEL vs. USA WG PO     Leuven, Belgium  2005.09.19 - 2005.09.25   Clay   \n",
       "4                 Ostend     Ostend, Belgium  1999.07.05 - 1999.07.11   Clay   \n",
       "\n",
       "    Prize       GameRound GameRank         Oponent WL  ...     BornOponent  \\\n",
       "0       0     Round Robin      127  Olivier Rochus  W  ...  Namur, Belgium   \n",
       "1       0     Round Robin       71  Olivier Rochus  W  ...  Namur, Belgium   \n",
       "2  125000  Quarter-Finals       50  Olivier Rochus  W  ...  Namur, Belgium   \n",
       "3       0     Round Robin       31  Olivier Rochus  W  ...  Namur, Belgium   \n",
       "4  125000     Round of 16      551  Olivier Rochus  W  ...  Namur, Belgium   \n",
       "\n",
       "  HeightOponent WeightOponent BirthOponent  TreinadorOponent  RankOponent  \\\n",
       "0         168.0          65.0   1981-01-18  Reginald Willems           24   \n",
       "1         168.0          65.0   1981-01-18  Reginald Willems           24   \n",
       "2         168.0          65.0   1981-01-18  Reginald Willems           24   \n",
       "3         168.0          65.0   1981-01-18  Reginald Willems           24   \n",
       "4         168.0          65.0   1981-01-18  Reginald Willems           24   \n",
       "\n",
       "       mainHand mainHandOponent TournamentYear TipoMoeda  \n",
       "0  Right-Handed    Right-Handed           2013      None  \n",
       "1  Right-Handed    Right-Handed           2001      None  \n",
       "2  Right-Handed    Right-Handed           2007     Dolar  \n",
       "3  Right-Handed    Right-Handed           2005      None  \n",
       "4  Right-Handed    Right-Handed           1999     Dolar  \n",
       "\n",
       "[5 rows x 29 columns]"
      ]
     },
     "execution_count": 43,
     "metadata": {},
     "output_type": "execute_result"
    }
   ],
   "source": [
    "# Substituir caracteres indesejados usando expressões regulares\n",
    "belgica_raw[\"Prize\"] = belgica_raw[\"Prize\"].str.replace(r\"[^\\d,]\", \"\", regex=True)\n",
    "\n",
    "# Remover todas as vírgulas restantes\n",
    "belgica_raw[\"Prize\"] = belgica_raw[\"Prize\"].str.replace(\",\", \"\", regex=True)\n",
    "\n",
    "# Converter a coluna para numérico\n",
    "belgica_raw[\"Prize\"] = pd.to_numeric(belgica_raw[\"Prize\"], errors=\"coerce\")\n",
    "\n",
    "# Exibir o DataFrame atualizado\n",
    "belgica_raw.head()"
   ]
  },
  {
   "cell_type": "markdown",
   "id": "8b05acea-8d56-4e18-99cd-b1b9364aa5bc",
   "metadata": {},
   "source": [
    "<h3 style=\"background-size:2em 2em;background-position:0em 1em,1em 0,0em 1em,1em 0,0 0,0 0,0 0,0 0,0 0;background-image:linear-gradient(45deg,#000 8%,transparent 8%,transparent 92%,#000 92%),linear-gradient(-45deg,#000 8%,transparent 8%,transparent 92%,#000 92%),linear-gradient(-45deg,#000 8%,transparent 8%,transparent 92%,#000 92%),linear-gradient(45deg,#000 8%,transparent 8%,transparent 92%,#000 92%),linear-gradient(-45deg,transparent 17%,#000 17%,#000 21%,transparent 21%,transparent 79%,#000 79%,#000 83%,transparent 83%),linear-gradient(45deg,transparent 29%,#000 29%,#000 33%,transparent 33%,transparent 67%,#000 67%,#000 71%,transparent 71%),linear-gradient(-135deg,#202020 10%,#090909 33%,transparent 33%,transparent 67%,#161616 67%,#202020 90%),linear-gradient(135deg,transparent 21%,#161616 21%,#2d2d2d 32.6%,#161616 64.5%,#202020 70.3%,#090909 79%,transparent 79%),linear-gradient(-135deg,transparent 21%,#161616 21%,#202020 40%,#202020 60%,#090909 79%,transparent 79%);\n",
    "color: white;\n",
    "font-weight: 40;\n",
    "font-size: 40px;\n",
    "margin: 0.5em auto;\n",
    "text-align: left;\n",
    "cursor: wait;\n",
    "letter-spacing: 10;\">Taxa de Câmbio</h3>     \n",
    "https://www.bportugal.pt/taxas-cambio?mlid=828"
   ]
  },
  {
   "cell_type": "code",
   "execution_count": 44,
   "id": "d6959738-5cdb-44cb-ab80-21362209d397",
   "metadata": {
    "ExecuteTime": {
     "end_time": "2023-05-30T15:04:47.235068Z",
     "start_time": "2023-05-30T15:04:47.040232Z"
    }
   },
   "outputs": [],
   "source": [
    "Cambio = pd.read_csv(\"cambdia.csv\", sep=\";\", skiprows=5)"
   ]
  },
  {
   "cell_type": "code",
   "execution_count": 45,
   "id": "31b4e3d6-c069-49c2-8d6f-7f6652b30e09",
   "metadata": {
    "ExecuteTime": {
     "end_time": "2023-05-30T15:04:47.266230Z",
     "start_time": "2023-05-30T15:04:47.242071Z"
    }
   },
   "outputs": [
    {
     "data": {
      "text/plain": [
       "Index(['Período (Dias Úteis)', 'Dólar australiano', 'Lev da Bulgária',\n",
       "       'Dólar canadiano', 'Franco suíço', 'Libra de Chipre', 'Coroa checa',\n",
       "       'Coroa dinamarquesa', 'Coroa Estónia', 'Libra esterlina',\n",
       "       'Dracma grega', 'Dólar de Hong Kong', 'Forint húngaro',\n",
       "       'Coroa islandesa', 'Iene japonês ', 'Won da Coreia do Sul ',\n",
       "       'Litas da Lituana ', 'Lats da Letão ', 'Lira maltesa ',\n",
       "       'Coroa norueguesa ', 'Dólar da Nova Zelândia ', 'Zloti polaco ',\n",
       "       'Novo Leu da Roménia ', 'Coroa sueca ', 'Dólar de Singapura ',\n",
       "       'Tolar esloveno ', 'Coroa eslovaca ', 'Nova Lira turca ',\n",
       "       'Dólar dos Estados Unidos ', 'Rand da África do Sul ',\n",
       "       'Real do Brasil ', 'Escudo de Cabo Verde ', 'Pataca de Macau ',\n",
       "       'Direito de Saque Especial ', 'Yuan renmimbi da China ', 'Kuna Croata ',\n",
       "       'Rupia indonésia ', 'Ringgit da Malásia ', 'Peso filipino ',\n",
       "       'Rublo russo ', 'Baht da Tailândia ', 'Peso Mexicano ',\n",
       "       'Rupia indiana ', 'Shequel de Israel '],\n",
       "      dtype='object')"
      ]
     },
     "execution_count": 45,
     "metadata": {},
     "output_type": "execute_result"
    }
   ],
   "source": [
    "Cambio.columns"
   ]
  },
  {
   "cell_type": "code",
   "execution_count": 46,
   "id": "7f382639-578e-41d6-a457-010b768ae839",
   "metadata": {
    "ExecuteTime": {
     "end_time": "2023-05-30T15:04:47.297542Z",
     "start_time": "2023-05-30T15:04:47.272252Z"
    }
   },
   "outputs": [],
   "source": [
    "Cambio = Cambio[[\"Período (Dias Úteis)\", \"Dólar dos Estados Unidos \"]]"
   ]
  },
  {
   "cell_type": "code",
   "execution_count": 47,
   "id": "10051d30-e87f-42b5-a876-2919c49f7d48",
   "metadata": {
    "ExecuteTime": {
     "end_time": "2023-05-30T15:04:47.329110Z",
     "start_time": "2023-05-30T15:04:47.302534Z"
    }
   },
   "outputs": [
    {
     "data": {
      "text/html": [
       "<div>\n",
       "<style scoped>\n",
       "    .dataframe tbody tr th:only-of-type {\n",
       "        vertical-align: middle;\n",
       "    }\n",
       "\n",
       "    .dataframe tbody tr th {\n",
       "        vertical-align: top;\n",
       "    }\n",
       "\n",
       "    .dataframe thead th {\n",
       "        text-align: right;\n",
       "    }\n",
       "</style>\n",
       "<table border=\"1\" class=\"dataframe\">\n",
       "  <thead>\n",
       "    <tr style=\"text-align: right;\">\n",
       "      <th></th>\n",
       "      <th>Período (Dias Úteis)</th>\n",
       "      <th>Dólar dos Estados Unidos</th>\n",
       "    </tr>\n",
       "  </thead>\n",
       "  <tbody>\n",
       "    <tr>\n",
       "      <th>0</th>\n",
       "      <td>1999-01-04</td>\n",
       "      <td>1.1789</td>\n",
       "    </tr>\n",
       "    <tr>\n",
       "      <th>1</th>\n",
       "      <td>1999-01-05</td>\n",
       "      <td>1.179</td>\n",
       "    </tr>\n",
       "    <tr>\n",
       "      <th>2</th>\n",
       "      <td>1999-01-06</td>\n",
       "      <td>1.1743</td>\n",
       "    </tr>\n",
       "    <tr>\n",
       "      <th>3</th>\n",
       "      <td>1999-01-07</td>\n",
       "      <td>1.1632</td>\n",
       "    </tr>\n",
       "    <tr>\n",
       "      <th>4</th>\n",
       "      <td>1999-01-08</td>\n",
       "      <td>1.1659</td>\n",
       "    </tr>\n",
       "    <tr>\n",
       "      <th>...</th>\n",
       "      <td>...</td>\n",
       "      <td>...</td>\n",
       "    </tr>\n",
       "    <tr>\n",
       "      <th>6361</th>\n",
       "      <td>2023-05-23</td>\n",
       "      <td>1.0779</td>\n",
       "    </tr>\n",
       "    <tr>\n",
       "      <th>6362</th>\n",
       "      <td>2023-05-24</td>\n",
       "      <td>1.0785</td>\n",
       "    </tr>\n",
       "    <tr>\n",
       "      <th>6363</th>\n",
       "      <td>2023-05-25</td>\n",
       "      <td>1.0735</td>\n",
       "    </tr>\n",
       "    <tr>\n",
       "      <th>6364</th>\n",
       "      <td>2023-05-26</td>\n",
       "      <td>1.0751</td>\n",
       "    </tr>\n",
       "    <tr>\n",
       "      <th>6365</th>\n",
       "      <td>2023-05-29</td>\n",
       "      <td>1.0715</td>\n",
       "    </tr>\n",
       "  </tbody>\n",
       "</table>\n",
       "<p>6366 rows × 2 columns</p>\n",
       "</div>"
      ],
      "text/plain": [
       "     Período (Dias Úteis) Dólar dos Estados Unidos \n",
       "0              1999-01-04                    1.1789\n",
       "1              1999-01-05                     1.179\n",
       "2              1999-01-06                    1.1743\n",
       "3              1999-01-07                    1.1632\n",
       "4              1999-01-08                    1.1659\n",
       "...                   ...                       ...\n",
       "6361           2023-05-23                    1.0779\n",
       "6362           2023-05-24                    1.0785\n",
       "6363           2023-05-25                    1.0735\n",
       "6364           2023-05-26                    1.0751\n",
       "6365           2023-05-29                    1.0715\n",
       "\n",
       "[6366 rows x 2 columns]"
      ]
     },
     "execution_count": 47,
     "metadata": {},
     "output_type": "execute_result"
    }
   ],
   "source": [
    "Cambio"
   ]
  },
  {
   "cell_type": "code",
   "execution_count": 48,
   "id": "294734f5-47cc-4db5-9435-8e19b2f298a6",
   "metadata": {
    "ExecuteTime": {
     "end_time": "2023-05-30T15:04:47.390878Z",
     "start_time": "2023-05-30T15:04:47.335295Z"
    }
   },
   "outputs": [
    {
     "data": {
      "text/html": [
       "<div>\n",
       "<style scoped>\n",
       "    .dataframe tbody tr th:only-of-type {\n",
       "        vertical-align: middle;\n",
       "    }\n",
       "\n",
       "    .dataframe tbody tr th {\n",
       "        vertical-align: top;\n",
       "    }\n",
       "\n",
       "    .dataframe thead th {\n",
       "        text-align: right;\n",
       "    }\n",
       "</style>\n",
       "<table border=\"1\" class=\"dataframe\">\n",
       "  <thead>\n",
       "    <tr style=\"text-align: right;\">\n",
       "      <th></th>\n",
       "      <th>Dólar dos Estados Unidos</th>\n",
       "      <th>Ano</th>\n",
       "    </tr>\n",
       "  </thead>\n",
       "  <tbody>\n",
       "    <tr>\n",
       "      <th>0</th>\n",
       "      <td>1.1789</td>\n",
       "      <td>1999</td>\n",
       "    </tr>\n",
       "    <tr>\n",
       "      <th>1</th>\n",
       "      <td>1.179</td>\n",
       "      <td>1999</td>\n",
       "    </tr>\n",
       "    <tr>\n",
       "      <th>2</th>\n",
       "      <td>1.1743</td>\n",
       "      <td>1999</td>\n",
       "    </tr>\n",
       "    <tr>\n",
       "      <th>3</th>\n",
       "      <td>1.1632</td>\n",
       "      <td>1999</td>\n",
       "    </tr>\n",
       "    <tr>\n",
       "      <th>4</th>\n",
       "      <td>1.1659</td>\n",
       "      <td>1999</td>\n",
       "    </tr>\n",
       "    <tr>\n",
       "      <th>...</th>\n",
       "      <td>...</td>\n",
       "      <td>...</td>\n",
       "    </tr>\n",
       "    <tr>\n",
       "      <th>6361</th>\n",
       "      <td>1.0779</td>\n",
       "      <td>2023</td>\n",
       "    </tr>\n",
       "    <tr>\n",
       "      <th>6362</th>\n",
       "      <td>1.0785</td>\n",
       "      <td>2023</td>\n",
       "    </tr>\n",
       "    <tr>\n",
       "      <th>6363</th>\n",
       "      <td>1.0735</td>\n",
       "      <td>2023</td>\n",
       "    </tr>\n",
       "    <tr>\n",
       "      <th>6364</th>\n",
       "      <td>1.0751</td>\n",
       "      <td>2023</td>\n",
       "    </tr>\n",
       "    <tr>\n",
       "      <th>6365</th>\n",
       "      <td>1.0715</td>\n",
       "      <td>2023</td>\n",
       "    </tr>\n",
       "  </tbody>\n",
       "</table>\n",
       "<p>6366 rows × 2 columns</p>\n",
       "</div>"
      ],
      "text/plain": [
       "     Dólar dos Estados Unidos    Ano\n",
       "0                       1.1789  1999\n",
       "1                        1.179  1999\n",
       "2                       1.1743  1999\n",
       "3                       1.1632  1999\n",
       "4                       1.1659  1999\n",
       "...                        ...   ...\n",
       "6361                    1.0779  2023\n",
       "6362                    1.0785  2023\n",
       "6363                    1.0735  2023\n",
       "6364                    1.0751  2023\n",
       "6365                    1.0715  2023\n",
       "\n",
       "[6366 rows x 2 columns]"
      ]
     },
     "execution_count": 48,
     "metadata": {},
     "output_type": "execute_result"
    }
   ],
   "source": [
    "Cambio['Ano'] = pd.to_datetime(Cambio['Período (Dias Úteis)']).dt.year\n",
    "Cambio.drop('Período (Dias Úteis)', axis=1)"
   ]
  },
  {
   "cell_type": "code",
   "execution_count": 49,
   "id": "0ee251bd-4e8a-462b-bee2-e24825a249d3",
   "metadata": {
    "ExecuteTime": {
     "end_time": "2023-05-30T15:04:47.422888Z",
     "start_time": "2023-05-30T15:04:47.397407Z"
    }
   },
   "outputs": [],
   "source": [
    "Cambio = Cambio[Cambio['Dólar dos Estados Unidos '] != '-']"
   ]
  },
  {
   "cell_type": "code",
   "execution_count": 50,
   "id": "37d1667e-a6bf-4d69-8c3f-7c6baa936833",
   "metadata": {
    "ExecuteTime": {
     "end_time": "2023-05-30T15:04:47.470638Z",
     "start_time": "2023-05-30T15:04:47.429434Z"
    }
   },
   "outputs": [
    {
     "name": "stderr",
     "output_type": "stream",
     "text": [
      "C:\\Users\\diogo\\AppData\\Local\\Temp\\ipykernel_32832\\2523458389.py:2: SettingWithCopyWarning: \n",
      "A value is trying to be set on a copy of a slice from a DataFrame.\n",
      "Try using .loc[row_indexer,col_indexer] = value instead\n",
      "\n",
      "See the caveats in the documentation: https://pandas.pydata.org/pandas-docs/stable/user_guide/indexing.html#returning-a-view-versus-a-copy\n",
      "  Cambio[\"Dólar dos Estados Unidos \"] = Cambio[\"Dólar dos Estados Unidos \"].astype(float)\n"
     ]
    }
   ],
   "source": [
    "Cambio[\"Dólar dos Estados Unidos \"].dtypes\n",
    "Cambio[\"Dólar dos Estados Unidos \"] = Cambio[\"Dólar dos Estados Unidos \"].astype(float)\n",
    "Cambio = Cambio.groupby(\"Ano\").mean()"
   ]
  },
  {
   "cell_type": "code",
   "execution_count": 51,
   "id": "a1e34589-dc34-4229-ba15-512d7692eb6f",
   "metadata": {
    "ExecuteTime": {
     "end_time": "2023-05-30T15:04:47.516156Z",
     "start_time": "2023-05-30T15:04:47.478171Z"
    }
   },
   "outputs": [
    {
     "data": {
      "text/html": [
       "<div>\n",
       "<style scoped>\n",
       "    .dataframe tbody tr th:only-of-type {\n",
       "        vertical-align: middle;\n",
       "    }\n",
       "\n",
       "    .dataframe tbody tr th {\n",
       "        vertical-align: top;\n",
       "    }\n",
       "\n",
       "    .dataframe thead th {\n",
       "        text-align: right;\n",
       "    }\n",
       "</style>\n",
       "<table border=\"1\" class=\"dataframe\">\n",
       "  <thead>\n",
       "    <tr style=\"text-align: right;\">\n",
       "      <th></th>\n",
       "      <th>Ano</th>\n",
       "      <th>Dólar dos Estados Unidos</th>\n",
       "    </tr>\n",
       "  </thead>\n",
       "  <tbody>\n",
       "    <tr>\n",
       "      <th>0</th>\n",
       "      <td>1999</td>\n",
       "      <td>1.065776</td>\n",
       "    </tr>\n",
       "    <tr>\n",
       "      <th>1</th>\n",
       "      <td>2000</td>\n",
       "      <td>0.923613</td>\n",
       "    </tr>\n",
       "    <tr>\n",
       "      <th>2</th>\n",
       "      <td>2001</td>\n",
       "      <td>0.895630</td>\n",
       "    </tr>\n",
       "    <tr>\n",
       "      <th>3</th>\n",
       "      <td>2002</td>\n",
       "      <td>0.945574</td>\n",
       "    </tr>\n",
       "    <tr>\n",
       "      <th>4</th>\n",
       "      <td>2003</td>\n",
       "      <td>1.131160</td>\n",
       "    </tr>\n",
       "    <tr>\n",
       "      <th>5</th>\n",
       "      <td>2004</td>\n",
       "      <td>1.243902</td>\n",
       "    </tr>\n",
       "    <tr>\n",
       "      <th>6</th>\n",
       "      <td>2005</td>\n",
       "      <td>1.244090</td>\n",
       "    </tr>\n",
       "    <tr>\n",
       "      <th>7</th>\n",
       "      <td>2006</td>\n",
       "      <td>1.255599</td>\n",
       "    </tr>\n",
       "    <tr>\n",
       "      <th>8</th>\n",
       "      <td>2007</td>\n",
       "      <td>1.370478</td>\n",
       "    </tr>\n",
       "    <tr>\n",
       "      <th>9</th>\n",
       "      <td>2008</td>\n",
       "      <td>1.470755</td>\n",
       "    </tr>\n",
       "    <tr>\n",
       "      <th>10</th>\n",
       "      <td>2009</td>\n",
       "      <td>1.394782</td>\n",
       "    </tr>\n",
       "    <tr>\n",
       "      <th>11</th>\n",
       "      <td>2010</td>\n",
       "      <td>1.325717</td>\n",
       "    </tr>\n",
       "    <tr>\n",
       "      <th>12</th>\n",
       "      <td>2011</td>\n",
       "      <td>1.391955</td>\n",
       "    </tr>\n",
       "    <tr>\n",
       "      <th>13</th>\n",
       "      <td>2012</td>\n",
       "      <td>1.284789</td>\n",
       "    </tr>\n",
       "    <tr>\n",
       "      <th>14</th>\n",
       "      <td>2013</td>\n",
       "      <td>1.328118</td>\n",
       "    </tr>\n",
       "    <tr>\n",
       "      <th>15</th>\n",
       "      <td>2014</td>\n",
       "      <td>1.328501</td>\n",
       "    </tr>\n",
       "    <tr>\n",
       "      <th>16</th>\n",
       "      <td>2015</td>\n",
       "      <td>1.109513</td>\n",
       "    </tr>\n",
       "    <tr>\n",
       "      <th>17</th>\n",
       "      <td>2016</td>\n",
       "      <td>1.106903</td>\n",
       "    </tr>\n",
       "    <tr>\n",
       "      <th>18</th>\n",
       "      <td>2017</td>\n",
       "      <td>1.129681</td>\n",
       "    </tr>\n",
       "    <tr>\n",
       "      <th>19</th>\n",
       "      <td>2018</td>\n",
       "      <td>1.180955</td>\n",
       "    </tr>\n",
       "    <tr>\n",
       "      <th>20</th>\n",
       "      <td>2019</td>\n",
       "      <td>1.119475</td>\n",
       "    </tr>\n",
       "    <tr>\n",
       "      <th>21</th>\n",
       "      <td>2020</td>\n",
       "      <td>1.142196</td>\n",
       "    </tr>\n",
       "    <tr>\n",
       "      <th>22</th>\n",
       "      <td>2021</td>\n",
       "      <td>1.182740</td>\n",
       "    </tr>\n",
       "    <tr>\n",
       "      <th>23</th>\n",
       "      <td>2022</td>\n",
       "      <td>1.053049</td>\n",
       "    </tr>\n",
       "    <tr>\n",
       "      <th>24</th>\n",
       "      <td>2023</td>\n",
       "      <td>1.080127</td>\n",
       "    </tr>\n",
       "  </tbody>\n",
       "</table>\n",
       "</div>"
      ],
      "text/plain": [
       "     Ano  Dólar dos Estados Unidos \n",
       "0   1999                   1.065776\n",
       "1   2000                   0.923613\n",
       "2   2001                   0.895630\n",
       "3   2002                   0.945574\n",
       "4   2003                   1.131160\n",
       "5   2004                   1.243902\n",
       "6   2005                   1.244090\n",
       "7   2006                   1.255599\n",
       "8   2007                   1.370478\n",
       "9   2008                   1.470755\n",
       "10  2009                   1.394782\n",
       "11  2010                   1.325717\n",
       "12  2011                   1.391955\n",
       "13  2012                   1.284789\n",
       "14  2013                   1.328118\n",
       "15  2014                   1.328501\n",
       "16  2015                   1.109513\n",
       "17  2016                   1.106903\n",
       "18  2017                   1.129681\n",
       "19  2018                   1.180955\n",
       "20  2019                   1.119475\n",
       "21  2020                   1.142196\n",
       "22  2021                   1.182740\n",
       "23  2022                   1.053049\n",
       "24  2023                   1.080127"
      ]
     },
     "execution_count": 51,
     "metadata": {},
     "output_type": "execute_result"
    }
   ],
   "source": [
    "Cambio = Cambio.reset_index()\n",
    "Cambio"
   ]
  },
  {
   "cell_type": "code",
   "execution_count": 52,
   "id": "06f2d861-bcf6-47b6-ad0e-4050c8817aec",
   "metadata": {
    "ExecuteTime": {
     "end_time": "2023-05-30T15:04:47.563260Z",
     "start_time": "2023-05-30T15:04:47.522134Z"
    }
   },
   "outputs": [],
   "source": [
    "belgica_raw['TournamentYear'] = belgica_raw['TournamentYear'].astype(int)\n",
    "Cambio['Ano'] = Cambio['Ano'].astype(int)\n",
    "\n",
    "belgica_raw = belgica_raw.merge(Cambio, left_on='TournamentYear', right_on='Ano', how='left')"
   ]
  },
  {
   "cell_type": "code",
   "execution_count": 53,
   "id": "3923e821-39a0-4cbd-9b69-a165e582ece5",
   "metadata": {
    "ExecuteTime": {
     "end_time": "2023-05-30T15:04:47.814031Z",
     "start_time": "2023-05-30T15:04:47.568774Z"
    }
   },
   "outputs": [
    {
     "data": {
      "text/html": [
       "<div>\n",
       "<style scoped>\n",
       "    .dataframe tbody tr th:only-of-type {\n",
       "        vertical-align: middle;\n",
       "    }\n",
       "\n",
       "    .dataframe tbody tr th {\n",
       "        vertical-align: top;\n",
       "    }\n",
       "\n",
       "    .dataframe thead th {\n",
       "        text-align: right;\n",
       "    }\n",
       "</style>\n",
       "<table border=\"1\" class=\"dataframe\">\n",
       "  <thead>\n",
       "    <tr style=\"text-align: right;\">\n",
       "      <th></th>\n",
       "      <th>LinkPlayer</th>\n",
       "      <th>Tournament</th>\n",
       "      <th>Location</th>\n",
       "      <th>Date</th>\n",
       "      <th>Ground</th>\n",
       "      <th>Prize</th>\n",
       "      <th>GameRound</th>\n",
       "      <th>GameRank</th>\n",
       "      <th>Oponent</th>\n",
       "      <th>WL</th>\n",
       "      <th>...</th>\n",
       "      <th>Rank</th>\n",
       "      <th>BornOponent</th>\n",
       "      <th>HeightOponent</th>\n",
       "      <th>WeightOponent</th>\n",
       "      <th>BirthOponent</th>\n",
       "      <th>TreinadorOponent</th>\n",
       "      <th>RankOponent</th>\n",
       "      <th>mainHand</th>\n",
       "      <th>mainHandOponent</th>\n",
       "      <th>TournamentYear</th>\n",
       "    </tr>\n",
       "  </thead>\n",
       "  <tbody>\n",
       "    <tr>\n",
       "      <th>0</th>\n",
       "      <td>https://www.atptour.com/en/players/novak-djokovic/d643/player-activity?year=all&amp;matchType=Singles</td>\n",
       "      <td>BEL vs. SRB WG 1st RD</td>\n",
       "      <td>Charleroi, Belgium</td>\n",
       "      <td>2013.01.28 - 2013.02.03</td>\n",
       "      <td>Clay</td>\n",
       "      <td>0</td>\n",
       "      <td>Round Robin</td>\n",
       "      <td>127</td>\n",
       "      <td>Olivier Rochus</td>\n",
       "      <td>W</td>\n",
       "      <td>...</td>\n",
       "      <td>1</td>\n",
       "      <td>Namur, Belgium</td>\n",
       "      <td>168.0</td>\n",
       "      <td>65.0</td>\n",
       "      <td>1981-01-18</td>\n",
       "      <td>Reginald Willems</td>\n",
       "      <td>24</td>\n",
       "      <td>Right-Handed</td>\n",
       "      <td>Right-Handed</td>\n",
       "      <td>2013</td>\n",
       "    </tr>\n",
       "    <tr>\n",
       "      <th>1</th>\n",
       "      <td>https://www.atptour.com/en/players/sebastien-grosjean/g379/player-activity?year=all&amp;matchType=Singles</td>\n",
       "      <td>BEL v FRA WG Rd 1</td>\n",
       "      <td>Gent, Belgium</td>\n",
       "      <td>2001.02.05 - 2001.02.11</td>\n",
       "      <td>Clay</td>\n",
       "      <td>0</td>\n",
       "      <td>Round Robin</td>\n",
       "      <td>71</td>\n",
       "      <td>Olivier Rochus</td>\n",
       "      <td>W</td>\n",
       "      <td>...</td>\n",
       "      <td>4</td>\n",
       "      <td>Namur, Belgium</td>\n",
       "      <td>168.0</td>\n",
       "      <td>65.0</td>\n",
       "      <td>1981-01-18</td>\n",
       "      <td>Reginald Willems</td>\n",
       "      <td>24</td>\n",
       "      <td>Right-Handed</td>\n",
       "      <td>Right-Handed</td>\n",
       "      <td>2001</td>\n",
       "    </tr>\n",
       "    <tr>\n",
       "      <th>2</th>\n",
       "      <td>https://www.atptour.com/en/players/andrei-pavel/p280/player-activity?year=all&amp;matchType=Singles</td>\n",
       "      <td>Mons</td>\n",
       "      <td>Mons, Belgium</td>\n",
       "      <td>2007.10.01 - 2007.10.07</td>\n",
       "      <td>Hard</td>\n",
       "      <td>125000</td>\n",
       "      <td>Quarter-Finals</td>\n",
       "      <td>50</td>\n",
       "      <td>Olivier Rochus</td>\n",
       "      <td>W</td>\n",
       "      <td>...</td>\n",
       "      <td>13</td>\n",
       "      <td>Namur, Belgium</td>\n",
       "      <td>168.0</td>\n",
       "      <td>65.0</td>\n",
       "      <td>1981-01-18</td>\n",
       "      <td>Reginald Willems</td>\n",
       "      <td>24</td>\n",
       "      <td>Right-Handed</td>\n",
       "      <td>Right-Handed</td>\n",
       "      <td>2007</td>\n",
       "    </tr>\n",
       "    <tr>\n",
       "      <th>3</th>\n",
       "      <td>https://www.atptour.com/en/players/andy-roddick/r485/player-activity?year=all&amp;matchType=Singles</td>\n",
       "      <td>BEL vs. USA WG PO</td>\n",
       "      <td>Leuven, Belgium</td>\n",
       "      <td>2005.09.19 - 2005.09.25</td>\n",
       "      <td>Clay</td>\n",
       "      <td>0</td>\n",
       "      <td>Round Robin</td>\n",
       "      <td>31</td>\n",
       "      <td>Olivier Rochus</td>\n",
       "      <td>W</td>\n",
       "      <td>...</td>\n",
       "      <td>1</td>\n",
       "      <td>Namur, Belgium</td>\n",
       "      <td>168.0</td>\n",
       "      <td>65.0</td>\n",
       "      <td>1981-01-18</td>\n",
       "      <td>Reginald Willems</td>\n",
       "      <td>24</td>\n",
       "      <td>Right-Handed</td>\n",
       "      <td>Right-Handed</td>\n",
       "      <td>2005</td>\n",
       "    </tr>\n",
       "    <tr>\n",
       "      <th>4</th>\n",
       "      <td>https://www.atptour.com/en/players/christophe-rochus/r336/player-activity?year=all&amp;matchType=Singles</td>\n",
       "      <td>Ostend</td>\n",
       "      <td>Ostend, Belgium</td>\n",
       "      <td>1999.07.05 - 1999.07.11</td>\n",
       "      <td>Clay</td>\n",
       "      <td>125000</td>\n",
       "      <td>Round of 16</td>\n",
       "      <td>551</td>\n",
       "      <td>Olivier Rochus</td>\n",
       "      <td>W</td>\n",
       "      <td>...</td>\n",
       "      <td>39</td>\n",
       "      <td>Namur, Belgium</td>\n",
       "      <td>168.0</td>\n",
       "      <td>65.0</td>\n",
       "      <td>1981-01-18</td>\n",
       "      <td>Reginald Willems</td>\n",
       "      <td>24</td>\n",
       "      <td>Right-Handed</td>\n",
       "      <td>Right-Handed</td>\n",
       "      <td>1999</td>\n",
       "    </tr>\n",
       "  </tbody>\n",
       "</table>\n",
       "<p>5 rows × 28 columns</p>\n",
       "</div>"
      ],
      "text/plain": [
       "                                                                                              LinkPlayer  \\\n",
       "0      https://www.atptour.com/en/players/novak-djokovic/d643/player-activity?year=all&matchType=Singles   \n",
       "1  https://www.atptour.com/en/players/sebastien-grosjean/g379/player-activity?year=all&matchType=Singles   \n",
       "2        https://www.atptour.com/en/players/andrei-pavel/p280/player-activity?year=all&matchType=Singles   \n",
       "3        https://www.atptour.com/en/players/andy-roddick/r485/player-activity?year=all&matchType=Singles   \n",
       "4   https://www.atptour.com/en/players/christophe-rochus/r336/player-activity?year=all&matchType=Singles   \n",
       "\n",
       "              Tournament            Location                     Date Ground  \\\n",
       "0  BEL vs. SRB WG 1st RD  Charleroi, Belgium  2013.01.28 - 2013.02.03   Clay   \n",
       "1      BEL v FRA WG Rd 1       Gent, Belgium  2001.02.05 - 2001.02.11   Clay   \n",
       "2                   Mons       Mons, Belgium  2007.10.01 - 2007.10.07   Hard   \n",
       "3      BEL vs. USA WG PO     Leuven, Belgium  2005.09.19 - 2005.09.25   Clay   \n",
       "4                 Ostend     Ostend, Belgium  1999.07.05 - 1999.07.11   Clay   \n",
       "\n",
       "    Prize       GameRound GameRank         Oponent WL  ... Rank  \\\n",
       "0       0     Round Robin      127  Olivier Rochus  W  ...    1   \n",
       "1       0     Round Robin       71  Olivier Rochus  W  ...    4   \n",
       "2  125000  Quarter-Finals       50  Olivier Rochus  W  ...   13   \n",
       "3       0     Round Robin       31  Olivier Rochus  W  ...    1   \n",
       "4  125000     Round of 16      551  Olivier Rochus  W  ...   39   \n",
       "\n",
       "      BornOponent HeightOponent WeightOponent  BirthOponent  TreinadorOponent  \\\n",
       "0  Namur, Belgium         168.0          65.0    1981-01-18  Reginald Willems   \n",
       "1  Namur, Belgium         168.0          65.0    1981-01-18  Reginald Willems   \n",
       "2  Namur, Belgium         168.0          65.0    1981-01-18  Reginald Willems   \n",
       "3  Namur, Belgium         168.0          65.0    1981-01-18  Reginald Willems   \n",
       "4  Namur, Belgium         168.0          65.0    1981-01-18  Reginald Willems   \n",
       "\n",
       "  RankOponent      mainHand mainHandOponent TournamentYear  \n",
       "0          24  Right-Handed    Right-Handed           2013  \n",
       "1          24  Right-Handed    Right-Handed           2001  \n",
       "2          24  Right-Handed    Right-Handed           2007  \n",
       "3          24  Right-Handed    Right-Handed           2005  \n",
       "4          24  Right-Handed    Right-Handed           1999  \n",
       "\n",
       "[5 rows x 28 columns]"
      ]
     },
     "execution_count": 53,
     "metadata": {},
     "output_type": "execute_result"
    }
   ],
   "source": [
    "belgica_raw[\"Prize\"] = belgica_raw.apply(lambda row: round(row[\"Prize\"] * row[\"Dólar dos Estados Unidos \"]) if row[\"TipoMoeda\"] == \"Euro\" else row[\"Prize\"], axis=1)\n",
    "belgica_raw.drop(\"Dólar dos Estados Unidos \", axis=1, inplace=True)\n",
    "belgica_raw.drop(\"TipoMoeda\", axis=1, inplace=True)\n",
    "belgica_raw.drop(\"Ano\", axis=1, inplace=True)\n",
    "belgica_raw.head()"
   ]
  },
  {
   "cell_type": "code",
   "execution_count": 54,
   "id": "409ea0b7-cfbe-49c1-ad5d-bdc65f2eb42c",
   "metadata": {
    "ExecuteTime": {
     "end_time": "2023-05-30T15:04:47.845324Z",
     "start_time": "2023-05-30T15:04:47.821584Z"
    }
   },
   "outputs": [
    {
     "data": {
      "text/plain": [
       "array([      0,  125000,  148544,  141445,   54604,   10000,   15000,\n",
       "        100000,  136830,  141485,  156635,  141189,  148243,   25000,\n",
       "        118163,  117885,  627088,  450939,  601542,  665591,  723636,\n",
       "        711706,   75000,   50000,  875000,  465000,  665000, 1085000,\n",
       "       1100000, 1000000,  372500,  250000,  175000,  210000], dtype=int64)"
      ]
     },
     "execution_count": 54,
     "metadata": {},
     "output_type": "execute_result"
    }
   ],
   "source": [
    "belgica_raw[\"Prize\"].unique()"
   ]
  },
  {
   "cell_type": "markdown",
   "id": "c72e4909-90f9-4b26-a77d-47a6f14a2a86",
   "metadata": {},
   "source": [
    "---"
   ]
  },
  {
   "cell_type": "markdown",
   "id": "93af97b8-d03c-47f8-9b7d-bd46d5c1d639",
   "metadata": {},
   "source": [
    "<h2 style=\"background-size:2em 2em;background-position:0em 1em,1em 0,0em 1em,1em 0,0 0,0 0,0 0,0 0,0 0;background-image:linear-gradient(45deg,#000 8%,transparent 8%,transparent 92%,#000 92%),linear-gradient(-45deg,#000 8%,transparent 8%,transparent 92%,#000 92%),linear-gradient(-45deg,#000 8%,transparent 8%,transparent 92%,#000 92%),linear-gradient(45deg,#000 8%,transparent 8%,transparent 92%,#000 92%),linear-gradient(-45deg,transparent 17%,#000 17%,#000 21%,transparent 21%,transparent 79%,#000 79%,#000 83%,transparent 83%),linear-gradient(45deg,transparent 29%,#000 29%,#000 33%,transparent 33%,transparent 67%,#000 67%,#000 71%,transparent 71%),linear-gradient(-135deg,#202020 10%,#090909 33%,transparent 33%,transparent 67%,#161616 67%,#202020 90%),linear-gradient(135deg,transparent 21%,#161616 21%,#2d2d2d 32.6%,#161616 64.5%,#202020 70.3%,#090909 79%,transparent 79%),linear-gradient(-135deg,transparent 21%,#161616 21%,#202020 40%,#202020 60%,#090909 79%,transparent 79%);\n",
    "color: white;\n",
    "font-weight: 40;\n",
    "font-size: 50px;\n",
    "margin: 0.5em auto;\n",
    "text-align: center;\n",
    "cursor: wait;\n",
    "letter-spacing: 10;\">Score -> Número de Sets</h2>     "
   ]
  },
  {
   "cell_type": "code",
   "execution_count": 55,
   "id": "0a8a760e-9757-469f-89d9-a1d49c83cb40",
   "metadata": {
    "ExecuteTime": {
     "end_time": "2023-05-30T15:04:47.876424Z",
     "start_time": "2023-05-30T15:04:47.851350Z"
    }
   },
   "outputs": [],
   "source": [
    "belgica_raw[\"Score\"] = belgica_raw[\"Score\"].str.replace(\",\", \"\", regex=True)"
   ]
  },
  {
   "cell_type": "code",
   "execution_count": 56,
   "id": "c61d7e3f-a18f-406e-bf2a-c8071e117768",
   "metadata": {
    "ExecuteTime": {
     "end_time": "2023-05-30T15:04:47.924109Z",
     "start_time": "2023-05-30T15:04:47.883435Z"
    }
   },
   "outputs": [],
   "source": [
    "belgica_raw[\"Score\"] = belgica_raw[\"Score\"].str.replace(r\"\\s+\", \" \", regex=True).str.strip()"
   ]
  },
  {
   "cell_type": "code",
   "execution_count": 57,
   "id": "8cd3a70a-b094-44a9-9f57-a38b8ab8d0eb",
   "metadata": {
    "ExecuteTime": {
     "end_time": "2023-05-30T15:04:47.955213Z",
     "start_time": "2023-05-30T15:04:47.932105Z"
    }
   },
   "outputs": [
    {
     "data": {
      "text/plain": [
       "array(['63 62 62', '46 16 61 63 63', '76 63', '67 76 76 46 63',\n",
       "       '63 16 64', '63 46 64', '62 36 62', '62 63 67 36 61', '63 64',\n",
       "       '62 64'], dtype=object)"
      ]
     },
     "execution_count": 57,
     "metadata": {},
     "output_type": "execute_result"
    }
   ],
   "source": [
    "belgica_raw[\"Score\"].unique()[:10]"
   ]
  },
  {
   "cell_type": "code",
   "execution_count": 58,
   "id": "c4efb275-d309-4bc6-bfc5-b4817f848620",
   "metadata": {
    "ExecuteTime": {
     "end_time": "2023-05-30T15:04:48.031818Z",
     "start_time": "2023-05-30T15:04:47.961217Z"
    }
   },
   "outputs": [
    {
     "data": {
      "text/html": [
       "<div>\n",
       "<style scoped>\n",
       "    .dataframe tbody tr th:only-of-type {\n",
       "        vertical-align: middle;\n",
       "    }\n",
       "\n",
       "    .dataframe tbody tr th {\n",
       "        vertical-align: top;\n",
       "    }\n",
       "\n",
       "    .dataframe thead th {\n",
       "        text-align: right;\n",
       "    }\n",
       "</style>\n",
       "<table border=\"1\" class=\"dataframe\">\n",
       "  <thead>\n",
       "    <tr style=\"text-align: right;\">\n",
       "      <th></th>\n",
       "      <th>LinkPlayer</th>\n",
       "      <th>Tournament</th>\n",
       "      <th>Location</th>\n",
       "      <th>Date</th>\n",
       "      <th>Ground</th>\n",
       "      <th>Prize</th>\n",
       "      <th>GameRound</th>\n",
       "      <th>GameRank</th>\n",
       "      <th>Oponent</th>\n",
       "      <th>WL</th>\n",
       "      <th>...</th>\n",
       "      <th>BornOponent</th>\n",
       "      <th>HeightOponent</th>\n",
       "      <th>WeightOponent</th>\n",
       "      <th>BirthOponent</th>\n",
       "      <th>TreinadorOponent</th>\n",
       "      <th>RankOponent</th>\n",
       "      <th>mainHand</th>\n",
       "      <th>mainHandOponent</th>\n",
       "      <th>TournamentYear</th>\n",
       "      <th>NumeroSets</th>\n",
       "    </tr>\n",
       "  </thead>\n",
       "  <tbody>\n",
       "    <tr>\n",
       "      <th>0</th>\n",
       "      <td>https://www.atptour.com/en/players/novak-djokovic/d643/player-activity?year=all&amp;matchType=Singles</td>\n",
       "      <td>BEL vs. SRB WG 1st RD</td>\n",
       "      <td>Charleroi, Belgium</td>\n",
       "      <td>2013.01.28 - 2013.02.03</td>\n",
       "      <td>Clay</td>\n",
       "      <td>0</td>\n",
       "      <td>Round Robin</td>\n",
       "      <td>127</td>\n",
       "      <td>Olivier Rochus</td>\n",
       "      <td>W</td>\n",
       "      <td>...</td>\n",
       "      <td>Namur, Belgium</td>\n",
       "      <td>168.0</td>\n",
       "      <td>65.0</td>\n",
       "      <td>1981-01-18</td>\n",
       "      <td>Reginald Willems</td>\n",
       "      <td>24</td>\n",
       "      <td>Right-Handed</td>\n",
       "      <td>Right-Handed</td>\n",
       "      <td>2013</td>\n",
       "      <td>3</td>\n",
       "    </tr>\n",
       "    <tr>\n",
       "      <th>1</th>\n",
       "      <td>https://www.atptour.com/en/players/sebastien-grosjean/g379/player-activity?year=all&amp;matchType=Singles</td>\n",
       "      <td>BEL v FRA WG Rd 1</td>\n",
       "      <td>Gent, Belgium</td>\n",
       "      <td>2001.02.05 - 2001.02.11</td>\n",
       "      <td>Clay</td>\n",
       "      <td>0</td>\n",
       "      <td>Round Robin</td>\n",
       "      <td>71</td>\n",
       "      <td>Olivier Rochus</td>\n",
       "      <td>W</td>\n",
       "      <td>...</td>\n",
       "      <td>Namur, Belgium</td>\n",
       "      <td>168.0</td>\n",
       "      <td>65.0</td>\n",
       "      <td>1981-01-18</td>\n",
       "      <td>Reginald Willems</td>\n",
       "      <td>24</td>\n",
       "      <td>Right-Handed</td>\n",
       "      <td>Right-Handed</td>\n",
       "      <td>2001</td>\n",
       "      <td>5</td>\n",
       "    </tr>\n",
       "    <tr>\n",
       "      <th>2</th>\n",
       "      <td>https://www.atptour.com/en/players/andrei-pavel/p280/player-activity?year=all&amp;matchType=Singles</td>\n",
       "      <td>Mons</td>\n",
       "      <td>Mons, Belgium</td>\n",
       "      <td>2007.10.01 - 2007.10.07</td>\n",
       "      <td>Hard</td>\n",
       "      <td>125000</td>\n",
       "      <td>Quarter-Finals</td>\n",
       "      <td>50</td>\n",
       "      <td>Olivier Rochus</td>\n",
       "      <td>W</td>\n",
       "      <td>...</td>\n",
       "      <td>Namur, Belgium</td>\n",
       "      <td>168.0</td>\n",
       "      <td>65.0</td>\n",
       "      <td>1981-01-18</td>\n",
       "      <td>Reginald Willems</td>\n",
       "      <td>24</td>\n",
       "      <td>Right-Handed</td>\n",
       "      <td>Right-Handed</td>\n",
       "      <td>2007</td>\n",
       "      <td>2</td>\n",
       "    </tr>\n",
       "    <tr>\n",
       "      <th>3</th>\n",
       "      <td>https://www.atptour.com/en/players/andy-roddick/r485/player-activity?year=all&amp;matchType=Singles</td>\n",
       "      <td>BEL vs. USA WG PO</td>\n",
       "      <td>Leuven, Belgium</td>\n",
       "      <td>2005.09.19 - 2005.09.25</td>\n",
       "      <td>Clay</td>\n",
       "      <td>0</td>\n",
       "      <td>Round Robin</td>\n",
       "      <td>31</td>\n",
       "      <td>Olivier Rochus</td>\n",
       "      <td>W</td>\n",
       "      <td>...</td>\n",
       "      <td>Namur, Belgium</td>\n",
       "      <td>168.0</td>\n",
       "      <td>65.0</td>\n",
       "      <td>1981-01-18</td>\n",
       "      <td>Reginald Willems</td>\n",
       "      <td>24</td>\n",
       "      <td>Right-Handed</td>\n",
       "      <td>Right-Handed</td>\n",
       "      <td>2005</td>\n",
       "      <td>5</td>\n",
       "    </tr>\n",
       "    <tr>\n",
       "      <th>4</th>\n",
       "      <td>https://www.atptour.com/en/players/christophe-rochus/r336/player-activity?year=all&amp;matchType=Singles</td>\n",
       "      <td>Ostend</td>\n",
       "      <td>Ostend, Belgium</td>\n",
       "      <td>1999.07.05 - 1999.07.11</td>\n",
       "      <td>Clay</td>\n",
       "      <td>125000</td>\n",
       "      <td>Round of 16</td>\n",
       "      <td>551</td>\n",
       "      <td>Olivier Rochus</td>\n",
       "      <td>W</td>\n",
       "      <td>...</td>\n",
       "      <td>Namur, Belgium</td>\n",
       "      <td>168.0</td>\n",
       "      <td>65.0</td>\n",
       "      <td>1981-01-18</td>\n",
       "      <td>Reginald Willems</td>\n",
       "      <td>24</td>\n",
       "      <td>Right-Handed</td>\n",
       "      <td>Right-Handed</td>\n",
       "      <td>1999</td>\n",
       "      <td>3</td>\n",
       "    </tr>\n",
       "  </tbody>\n",
       "</table>\n",
       "<p>5 rows × 29 columns</p>\n",
       "</div>"
      ],
      "text/plain": [
       "                                                                                              LinkPlayer  \\\n",
       "0      https://www.atptour.com/en/players/novak-djokovic/d643/player-activity?year=all&matchType=Singles   \n",
       "1  https://www.atptour.com/en/players/sebastien-grosjean/g379/player-activity?year=all&matchType=Singles   \n",
       "2        https://www.atptour.com/en/players/andrei-pavel/p280/player-activity?year=all&matchType=Singles   \n",
       "3        https://www.atptour.com/en/players/andy-roddick/r485/player-activity?year=all&matchType=Singles   \n",
       "4   https://www.atptour.com/en/players/christophe-rochus/r336/player-activity?year=all&matchType=Singles   \n",
       "\n",
       "              Tournament            Location                     Date Ground  \\\n",
       "0  BEL vs. SRB WG 1st RD  Charleroi, Belgium  2013.01.28 - 2013.02.03   Clay   \n",
       "1      BEL v FRA WG Rd 1       Gent, Belgium  2001.02.05 - 2001.02.11   Clay   \n",
       "2                   Mons       Mons, Belgium  2007.10.01 - 2007.10.07   Hard   \n",
       "3      BEL vs. USA WG PO     Leuven, Belgium  2005.09.19 - 2005.09.25   Clay   \n",
       "4                 Ostend     Ostend, Belgium  1999.07.05 - 1999.07.11   Clay   \n",
       "\n",
       "    Prize       GameRound GameRank         Oponent WL  ...     BornOponent  \\\n",
       "0       0     Round Robin      127  Olivier Rochus  W  ...  Namur, Belgium   \n",
       "1       0     Round Robin       71  Olivier Rochus  W  ...  Namur, Belgium   \n",
       "2  125000  Quarter-Finals       50  Olivier Rochus  W  ...  Namur, Belgium   \n",
       "3       0     Round Robin       31  Olivier Rochus  W  ...  Namur, Belgium   \n",
       "4  125000     Round of 16      551  Olivier Rochus  W  ...  Namur, Belgium   \n",
       "\n",
       "  HeightOponent WeightOponent BirthOponent  TreinadorOponent  RankOponent  \\\n",
       "0         168.0          65.0   1981-01-18  Reginald Willems           24   \n",
       "1         168.0          65.0   1981-01-18  Reginald Willems           24   \n",
       "2         168.0          65.0   1981-01-18  Reginald Willems           24   \n",
       "3         168.0          65.0   1981-01-18  Reginald Willems           24   \n",
       "4         168.0          65.0   1981-01-18  Reginald Willems           24   \n",
       "\n",
       "       mainHand mainHandOponent TournamentYear NumeroSets  \n",
       "0  Right-Handed    Right-Handed           2013          3  \n",
       "1  Right-Handed    Right-Handed           2001          5  \n",
       "2  Right-Handed    Right-Handed           2007          2  \n",
       "3  Right-Handed    Right-Handed           2005          5  \n",
       "4  Right-Handed    Right-Handed           1999          3  \n",
       "\n",
       "[5 rows x 29 columns]"
      ]
     },
     "execution_count": 58,
     "metadata": {},
     "output_type": "execute_result"
    }
   ],
   "source": [
    "belgica_raw[\"NumeroSets\"] = belgica_raw[\"Score\"].str.count(r\"\\s\") + 1\n",
    "belgica_raw[\"NumeroSets\"] = belgica_raw[\"NumeroSets\"].where(belgica_raw[\"Score\"] != \"(W/O)\", 0)\n",
    "belgica_raw.head()"
   ]
  },
  {
   "cell_type": "code",
   "execution_count": 59,
   "id": "4278c21d-bc95-4fb5-9d6d-b12a5c744783",
   "metadata": {
    "ExecuteTime": {
     "end_time": "2023-05-30T15:04:48.063396Z",
     "start_time": "2023-05-30T15:04:48.037336Z"
    }
   },
   "outputs": [],
   "source": [
    "belgica_raw = belgica_raw.drop(belgica_raw[belgica_raw['NumeroSets'] == 0].index)"
   ]
  },
  {
   "cell_type": "code",
   "execution_count": 60,
   "id": "3434185a",
   "metadata": {
    "ExecuteTime": {
     "end_time": "2023-05-30T15:04:48.095112Z",
     "start_time": "2023-05-30T15:04:48.069923Z"
    }
   },
   "outputs": [
    {
     "data": {
      "text/plain": [
       "array([3, 5, 2, 4], dtype=int64)"
      ]
     },
     "execution_count": 60,
     "metadata": {},
     "output_type": "execute_result"
    }
   ],
   "source": [
    "belgica_raw[\"NumeroSets\"].unique()"
   ]
  },
  {
   "cell_type": "markdown",
   "id": "b906edd4-164b-4b53-b89c-ed445bff3a47",
   "metadata": {},
   "source": [
    "<h3 style=\"background-size:2em 2em;background-position:0em 1em,1em 0,0em 1em,1em 0,0 0,0 0,0 0,0 0,0 0;background-image:linear-gradient(45deg,#000 8%,transparent 8%,transparent 92%,#000 92%),linear-gradient(-45deg,#000 8%,transparent 8%,transparent 92%,#000 92%),linear-gradient(-45deg,#000 8%,transparent 8%,transparent 92%,#000 92%),linear-gradient(45deg,#000 8%,transparent 8%,transparent 92%,#000 92%),linear-gradient(-45deg,transparent 17%,#000 17%,#000 21%,transparent 21%,transparent 79%,#000 79%,#000 83%,transparent 83%),linear-gradient(45deg,transparent 29%,#000 29%,#000 33%,transparent 33%,transparent 67%,#000 67%,#000 71%,transparent 71%),linear-gradient(-135deg,#202020 10%,#090909 33%,transparent 33%,transparent 67%,#161616 67%,#202020 90%),linear-gradient(135deg,transparent 21%,#161616 21%,#2d2d2d 32.6%,#161616 64.5%,#202020 70.3%,#090909 79%,transparent 79%),linear-gradient(-135deg,transparent 21%,#161616 21%,#202020 40%,#202020 60%,#090909 79%,transparent 79%);\n",
    "color: white;\n",
    "font-weight: 40;\n",
    "font-size: 40px;\n",
    "margin: 0.5em auto;\n",
    "text-align: left;\n",
    "cursor: wait;\n",
    "letter-spacing: 10;\">Tipos de Jogos</h3>     "
   ]
  },
  {
   "cell_type": "code",
   "execution_count": 61,
   "id": "986fe660-6832-4de4-a428-b2bd44a825b4",
   "metadata": {
    "ExecuteTime": {
     "end_time": "2023-05-30T15:04:48.125291Z",
     "start_time": "2023-05-30T15:04:48.101104Z"
    }
   },
   "outputs": [
    {
     "data": {
      "text/plain": [
       "Index(['LinkPlayer', 'Tournament', 'Location', 'Date', 'Ground', 'Prize',\n",
       "       'GameRound', 'GameRank', 'Oponent', 'WL', 'Score', 'país', 'PlayerName',\n",
       "       'Born', 'Height', 'Weight', 'Birth', 'Treinador', 'Rank', 'BornOponent',\n",
       "       'HeightOponent', 'WeightOponent', 'BirthOponent', 'TreinadorOponent',\n",
       "       'RankOponent', 'mainHand', 'mainHandOponent', 'TournamentYear',\n",
       "       'NumeroSets'],\n",
       "      dtype='object')"
      ]
     },
     "execution_count": 61,
     "metadata": {},
     "output_type": "execute_result"
    }
   ],
   "source": [
    "belgica_raw.columns"
   ]
  },
  {
   "cell_type": "code",
   "execution_count": 62,
   "id": "da73e060-6e78-4c0a-82d0-a7a1ef84dfad",
   "metadata": {
    "ExecuteTime": {
     "end_time": "2023-05-30T15:04:48.155797Z",
     "start_time": "2023-05-30T15:04:48.134817Z"
    }
   },
   "outputs": [
    {
     "data": {
      "text/plain": [
       "array([4, 5, 3, 2], dtype=int64)"
      ]
     },
     "execution_count": 62,
     "metadata": {},
     "output_type": "execute_result"
    }
   ],
   "source": [
    "belgica_raw.groupby('Tournament')['NumeroSets'].max().unique()"
   ]
  },
  {
   "cell_type": "code",
   "execution_count": 63,
   "id": "25202baf-7790-496d-aabf-5642b9e01abb",
   "metadata": {
    "ExecuteTime": {
     "end_time": "2023-05-30T15:04:48.233485Z",
     "start_time": "2023-05-30T15:04:48.162784Z"
    }
   },
   "outputs": [
    {
     "data": {
      "text/plain": [
       "34"
      ]
     },
     "execution_count": 63,
     "metadata": {},
     "output_type": "execute_result"
    }
   ],
   "source": [
    "sets_per_tournament = belgica_raw.groupby(['Tournament', 'GameRound'])['NumeroSets'].unique()\n",
    "tournaments_3_5_sets = [tournament for tournament, sets in sets_per_tournament.items() if 4 in sets or 5 in sets]\n",
    "len(tournaments_3_5_sets)"
   ]
  },
  {
   "cell_type": "code",
   "execution_count": 64,
   "id": "b8a16aa9-e28d-4b0e-a3ee-603c3f706a1c",
   "metadata": {
    "ExecuteTime": {
     "end_time": "2023-05-30T15:04:48.264760Z",
     "start_time": "2023-05-30T15:04:48.238813Z"
    }
   },
   "outputs": [
    {
     "name": "stdout",
     "output_type": "stream",
     "text": [
      "Tournament    GameRound           \n",
      "Antwerp       1st Round Qualifying       [3, 2]\n",
      "              2nd Round Qualifying       [2, 3]\n",
      "              Finals                  [2, 3, 4]\n",
      "              Quarter-Finals             [3, 2]\n",
      "              Round of 16                [3, 2]\n",
      "                                        ...    \n",
      "Scheveningen  Finals                        [3]\n",
      "              Quarter-Finals             [3, 2]\n",
      "              Round of 16                [3, 2]\n",
      "              Round of 32                   [2]\n",
      "              Semi-Finals                [2, 3]\n",
      "Name: NumeroSets, Length: 213, dtype: object\n"
     ]
    }
   ],
   "source": [
    "# pd.options.display.max_rows = None\n",
    "print(sets_per_tournament)"
   ]
  },
  {
   "cell_type": "code",
   "execution_count": 65,
   "id": "8fd4b8cf-94a2-4e20-8845-5676ae797121",
   "metadata": {
    "ExecuteTime": {
     "end_time": "2023-05-30T15:04:48.296707Z",
     "start_time": "2023-05-30T15:04:48.268782Z"
    }
   },
   "outputs": [
    {
     "data": {
      "text/plain": [
       "4240"
      ]
     },
     "execution_count": 65,
     "metadata": {},
     "output_type": "execute_result"
    }
   ],
   "source": [
    "len(belgica_raw)"
   ]
  },
  {
   "cell_type": "code",
   "execution_count": 66,
   "id": "dacfb541-f2d9-453e-b680-877385e45d89",
   "metadata": {
    "ExecuteTime": {
     "end_time": "2023-05-30T15:04:48.328293Z",
     "start_time": "2023-05-30T15:04:48.302720Z"
    }
   },
   "outputs": [],
   "source": [
    "# Apagar as linhas que contem (RET) ou (DEF)\n",
    "\n",
    "belgica_raw = belgica_raw[~belgica_raw['Score'].str.contains(r'\\(RET\\)|\\(DEF\\)')]"
   ]
  },
  {
   "cell_type": "code",
   "execution_count": 67,
   "id": "f4d49242-c4a7-4a4e-9ec8-337565621e09",
   "metadata": {
    "ExecuteTime": {
     "end_time": "2023-05-30T15:04:48.359532Z",
     "start_time": "2023-05-30T15:04:48.334854Z"
    }
   },
   "outputs": [
    {
     "data": {
      "text/plain": [
       "4108"
      ]
     },
     "execution_count": 67,
     "metadata": {},
     "output_type": "execute_result"
    }
   ],
   "source": [
    "len(belgica_raw)"
   ]
  },
  {
   "cell_type": "code",
   "execution_count": 68,
   "id": "6e05fd6c-b8e5-4ad8-9b6d-9a36d74eddb6",
   "metadata": {
    "ExecuteTime": {
     "end_time": "2023-05-30T15:04:48.374609Z",
     "start_time": "2023-05-30T15:04:48.366067Z"
    }
   },
   "outputs": [],
   "source": [
    "yh = belgica_raw\n",
    "belgica_raw = yh"
   ]
  },
  {
   "cell_type": "code",
   "execution_count": 69,
   "id": "00065fef-3907-421e-9699-2ec9e690334f",
   "metadata": {
    "ExecuteTime": {
     "end_time": "2023-05-30T15:04:48.562956Z",
     "start_time": "2023-05-30T15:04:48.380980Z"
    }
   },
   "outputs": [],
   "source": [
    "def count_sets(row):\n",
    "    score = row['Score']\n",
    "    wl = row['WL']\n",
    "    \n",
    "    if wl == 'W':\n",
    "        sets = score.split()\n",
    "        sets = [s for s in sets if int(s[0]) > int(s[1])]\n",
    "        return len(sets)\n",
    "    elif wl == 'L':\n",
    "        sets = score.split()\n",
    "        sets = [s for s in sets if int(s[1]) > int(s[0])]\n",
    "        return len(sets)\n",
    "    \n",
    "    return np.nan\n",
    "\n",
    "# Ningém venceu 4 de seguida\n",
    "belgica_raw['SetsVencedor'] = belgica_raw.apply(count_sets, axis=1)"
   ]
  },
  {
   "cell_type": "code",
   "execution_count": 70,
   "id": "ebfed206-7774-4ae9-a3c2-2bcb00c7d1b5",
   "metadata": {
    "ExecuteTime": {
     "end_time": "2023-05-30T15:04:48.595056Z",
     "start_time": "2023-05-30T15:04:48.567496Z"
    }
   },
   "outputs": [
    {
     "data": {
      "text/html": [
       "<div>\n",
       "<style scoped>\n",
       "    .dataframe tbody tr th:only-of-type {\n",
       "        vertical-align: middle;\n",
       "    }\n",
       "\n",
       "    .dataframe tbody tr th {\n",
       "        vertical-align: top;\n",
       "    }\n",
       "\n",
       "    .dataframe thead th {\n",
       "        text-align: right;\n",
       "    }\n",
       "</style>\n",
       "<table border=\"1\" class=\"dataframe\">\n",
       "  <thead>\n",
       "    <tr style=\"text-align: right;\">\n",
       "      <th></th>\n",
       "      <th>Score</th>\n",
       "      <th>SetsVencedor</th>\n",
       "    </tr>\n",
       "  </thead>\n",
       "  <tbody>\n",
       "    <tr>\n",
       "      <th>0</th>\n",
       "      <td>63 62 62</td>\n",
       "      <td>3</td>\n",
       "    </tr>\n",
       "    <tr>\n",
       "      <th>1</th>\n",
       "      <td>46 16 61 63 63</td>\n",
       "      <td>3</td>\n",
       "    </tr>\n",
       "    <tr>\n",
       "      <th>2</th>\n",
       "      <td>76 63</td>\n",
       "      <td>2</td>\n",
       "    </tr>\n",
       "    <tr>\n",
       "      <th>3</th>\n",
       "      <td>67 76 76 46 63</td>\n",
       "      <td>3</td>\n",
       "    </tr>\n",
       "    <tr>\n",
       "      <th>4</th>\n",
       "      <td>63 16 64</td>\n",
       "      <td>2</td>\n",
       "    </tr>\n",
       "    <tr>\n",
       "      <th>...</th>\n",
       "      <td>...</td>\n",
       "      <td>...</td>\n",
       "    </tr>\n",
       "    <tr>\n",
       "      <th>4254</th>\n",
       "      <td>64 62</td>\n",
       "      <td>2</td>\n",
       "    </tr>\n",
       "    <tr>\n",
       "      <th>4255</th>\n",
       "      <td>64 36 75</td>\n",
       "      <td>2</td>\n",
       "    </tr>\n",
       "    <tr>\n",
       "      <th>4256</th>\n",
       "      <td>64 64</td>\n",
       "      <td>2</td>\n",
       "    </tr>\n",
       "    <tr>\n",
       "      <th>4257</th>\n",
       "      <td>63 76</td>\n",
       "      <td>2</td>\n",
       "    </tr>\n",
       "    <tr>\n",
       "      <th>4258</th>\n",
       "      <td>76 62</td>\n",
       "      <td>2</td>\n",
       "    </tr>\n",
       "  </tbody>\n",
       "</table>\n",
       "<p>4108 rows × 2 columns</p>\n",
       "</div>"
      ],
      "text/plain": [
       "               Score  SetsVencedor\n",
       "0           63 62 62             3\n",
       "1     46 16 61 63 63             3\n",
       "2              76 63             2\n",
       "3     67 76 76 46 63             3\n",
       "4           63 16 64             2\n",
       "...              ...           ...\n",
       "4254           64 62             2\n",
       "4255        64 36 75             2\n",
       "4256           64 64             2\n",
       "4257           63 76             2\n",
       "4258           76 62             2\n",
       "\n",
       "[4108 rows x 2 columns]"
      ]
     },
     "execution_count": 70,
     "metadata": {},
     "output_type": "execute_result"
    }
   ],
   "source": [
    "belgica_raw[['Score', 'SetsVencedor']]"
   ]
  },
  {
   "cell_type": "code",
   "execution_count": 71,
   "id": "3daecabb-7013-4413-bc29-174525338402",
   "metadata": {
    "ExecuteTime": {
     "end_time": "2023-05-30T15:04:48.625756Z",
     "start_time": "2023-05-30T15:04:48.600054Z"
    }
   },
   "outputs": [],
   "source": [
    "belgica_raw['TipoTorneio'] = np.where(belgica_raw['SetsVencedor'] == 3, 'Melhor_de_5', 'Melhor_de_3')"
   ]
  },
  {
   "cell_type": "code",
   "execution_count": 72,
   "id": "05b46e21-9100-48e7-b7f2-7ba013356020",
   "metadata": {
    "ExecuteTime": {
     "end_time": "2023-05-30T15:04:48.655819Z",
     "start_time": "2023-05-30T15:04:48.632172Z"
    }
   },
   "outputs": [],
   "source": [
    "belgica_raw.drop(['Score', 'SetsVencedor'], axis=1, inplace=True)"
   ]
  },
  {
   "cell_type": "markdown",
   "id": "e7ab6d48-a7f2-4a14-baa0-af4ff11ba8ed",
   "metadata": {},
   "source": [
    "---"
   ]
  },
  {
   "cell_type": "markdown",
   "id": "69d6c20e-c084-4720-86a0-a30b4113d419",
   "metadata": {},
   "source": [
    "<h2 style=\"background-size:2em 2em;background-position:0em 1em,1em 0,0em 1em,1em 0,0 0,0 0,0 0,0 0,0 0;background-image:linear-gradient(45deg,#000 8%,transparent 8%,transparent 92%,#000 92%),linear-gradient(-45deg,#000 8%,transparent 8%,transparent 92%,#000 92%),linear-gradient(-45deg,#000 8%,transparent 8%,transparent 92%,#000 92%),linear-gradient(45deg,#000 8%,transparent 8%,transparent 92%,#000 92%),linear-gradient(-45deg,transparent 17%,#000 17%,#000 21%,transparent 21%,transparent 79%,#000 79%,#000 83%,transparent 83%),linear-gradient(45deg,transparent 29%,#000 29%,#000 33%,transparent 33%,transparent 67%,#000 67%,#000 71%,transparent 71%),linear-gradient(-135deg,#202020 10%,#090909 33%,transparent 33%,transparent 67%,#161616 67%,#202020 90%),linear-gradient(135deg,transparent 21%,#161616 21%,#2d2d2d 32.6%,#161616 64.5%,#202020 70.3%,#090909 79%,transparent 79%),linear-gradient(-135deg,transparent 21%,#161616 21%,#202020 40%,#202020 60%,#090909 79%,transparent 79%);\n",
    "color: white;\n",
    "font-weight: 40;\n",
    "font-size: 50px;\n",
    "margin: 0.5em auto;\n",
    "text-align: center;\n",
    "cursor: wait;\n",
    "letter-spacing: 10;\">GameRound</h2>     "
   ]
  },
  {
   "cell_type": "code",
   "execution_count": 73,
   "id": "e4eb2a01-98b8-4dd1-af91-2460257e6f31",
   "metadata": {
    "ExecuteTime": {
     "end_time": "2023-05-30T15:04:48.687074Z",
     "start_time": "2023-05-30T15:04:48.664327Z"
    }
   },
   "outputs": [
    {
     "data": {
      "text/plain": [
       "array(['Round Robin', 'Quarter-Finals', 'Round of 16', 'Round of 32',\n",
       "       'Finals', 'Semi-Finals', '2nd Round Qualifying',\n",
       "       '1st Round Qualifying', '3rd Round Qualifying'], dtype=object)"
      ]
     },
     "execution_count": 73,
     "metadata": {},
     "output_type": "execute_result"
    }
   ],
   "source": [
    "# Se calhar criar uma dummy para as finais ?\n",
    "\n",
    "belgica_raw[\"GameRound\"].unique()"
   ]
  },
  {
   "cell_type": "markdown",
   "id": "81d56246-2651-4e53-ba41-ee94cfd67092",
   "metadata": {},
   "source": [
    "---"
   ]
  },
  {
   "cell_type": "markdown",
   "id": "1d12f9bd-d01f-4422-9436-58d3bd2ce6e6",
   "metadata": {},
   "source": [
    "<h2 style=\"background-size:2em 2em;background-position:0em 1em,1em 0,0em 1em,1em 0,0 0,0 0,0 0,0 0,0 0;background-image:linear-gradient(45deg,#000 8%,transparent 8%,transparent 92%,#000 92%),linear-gradient(-45deg,#000 8%,transparent 8%,transparent 92%,#000 92%),linear-gradient(-45deg,#000 8%,transparent 8%,transparent 92%,#000 92%),linear-gradient(45deg,#000 8%,transparent 8%,transparent 92%,#000 92%),linear-gradient(-45deg,transparent 17%,#000 17%,#000 21%,transparent 21%,transparent 79%,#000 79%,#000 83%,transparent 83%),linear-gradient(45deg,transparent 29%,#000 29%,#000 33%,transparent 33%,transparent 67%,#000 67%,#000 71%,transparent 71%),linear-gradient(-135deg,#202020 10%,#090909 33%,transparent 33%,transparent 67%,#161616 67%,#202020 90%),linear-gradient(135deg,transparent 21%,#161616 21%,#2d2d2d 32.6%,#161616 64.5%,#202020 70.3%,#090909 79%,transparent 79%),linear-gradient(-135deg,transparent 21%,#161616 21%,#202020 40%,#202020 60%,#090909 79%,transparent 79%);\n",
    "color: white;\n",
    "font-weight: 40;\n",
    "font-size: 50px;\n",
    "margin: 0.5em auto;\n",
    "text-align: center;\n",
    "cursor: wait;\n",
    "letter-spacing: 10;\">LinkPlayer</h2>    "
   ]
  },
  {
   "cell_type": "code",
   "execution_count": 74,
   "id": "c85feb91-277b-456e-acde-180c9a1f327b",
   "metadata": {
    "ExecuteTime": {
     "end_time": "2023-05-30T15:04:48.716886Z",
     "start_time": "2023-05-30T15:04:48.694606Z"
    }
   },
   "outputs": [],
   "source": [
    "# O LinkPlayer é único para cada Player, não faz sentido usá-lo no modelo\n",
    "\n",
    "belgica_raw.drop(\"LinkPlayer\", axis=1, inplace=True)"
   ]
  },
  {
   "cell_type": "markdown",
   "id": "9f6dd779-8540-4c3c-a391-ec49a85a8336",
   "metadata": {},
   "source": [
    "---"
   ]
  },
  {
   "cell_type": "markdown",
   "id": "ccf01928-b5f3-4d6f-a9f0-47fa997d5812",
   "metadata": {},
   "source": [
    "<h2 style=\"background-size:2em 2em;background-position:0em 1em,1em 0,0em 1em,1em 0,0 0,0 0,0 0,0 0,0 0;background-image:linear-gradient(45deg,#000 8%,transparent 8%,transparent 92%,#000 92%),linear-gradient(-45deg,#000 8%,transparent 8%,transparent 92%,#000 92%),linear-gradient(-45deg,#000 8%,transparent 8%,transparent 92%,#000 92%),linear-gradient(45deg,#000 8%,transparent 8%,transparent 92%,#000 92%),linear-gradient(-45deg,transparent 17%,#000 17%,#000 21%,transparent 21%,transparent 79%,#000 79%,#000 83%,transparent 83%),linear-gradient(45deg,transparent 29%,#000 29%,#000 33%,transparent 33%,transparent 67%,#000 67%,#000 71%,transparent 71%),linear-gradient(-135deg,#202020 10%,#090909 33%,transparent 33%,transparent 67%,#161616 67%,#202020 90%),linear-gradient(135deg,transparent 21%,#161616 21%,#2d2d2d 32.6%,#161616 64.5%,#202020 70.3%,#090909 79%,transparent 79%),linear-gradient(-135deg,transparent 21%,#161616 21%,#202020 40%,#202020 60%,#090909 79%,transparent 79%);\n",
    "color: white;\n",
    "font-weight: 40;\n",
    "font-size: 50px;\n",
    "margin: 0.5em auto;\n",
    "text-align: center;\n",
    "cursor: wait;\n",
    "letter-spacing: 10;\">Idade de cada um dos Players e Oponents em cada partida</h2>     "
   ]
  },
  {
   "cell_type": "markdown",
   "id": "f4a98cb8-54c6-4275-9690-2c68ab85578f",
   "metadata": {},
   "source": [
    "<h3 style=\"background-size:2em 2em;background-position:0em 1em,1em 0,0em 1em,1em 0,0 0,0 0,0 0,0 0,0 0;background-image:linear-gradient(45deg,#000 8%,transparent 8%,transparent 92%,#000 92%),linear-gradient(-45deg,#000 8%,transparent 8%,transparent 92%,#000 92%),linear-gradient(-45deg,#000 8%,transparent 8%,transparent 92%,#000 92%),linear-gradient(45deg,#000 8%,transparent 8%,transparent 92%,#000 92%),linear-gradient(-45deg,transparent 17%,#000 17%,#000 21%,transparent 21%,transparent 79%,#000 79%,#000 83%,transparent 83%),linear-gradient(45deg,transparent 29%,#000 29%,#000 33%,transparent 33%,transparent 67%,#000 67%,#000 71%,transparent 71%),linear-gradient(-135deg,#202020 10%,#090909 33%,transparent 33%,transparent 67%,#161616 67%,#202020 90%),linear-gradient(135deg,transparent 21%,#161616 21%,#2d2d2d 32.6%,#161616 64.5%,#202020 70.3%,#090909 79%,transparent 79%),linear-gradient(-135deg,transparent 21%,#161616 21%,#202020 40%,#202020 60%,#090909 79%,transparent 79%);\n",
    "color: white;\n",
    "font-weight: 40;\n",
    "font-size: 40px;\n",
    "margin: 0.5em auto;\n",
    "text-align: left;\n",
    "cursor: wait;\n",
    "letter-spacing: 10;\">Idade Player</h3>     "
   ]
  },
  {
   "cell_type": "code",
   "execution_count": 75,
   "id": "2665b186-4ee9-451e-be56-774ef4eb114b",
   "metadata": {
    "ExecuteTime": {
     "end_time": "2023-05-30T15:04:48.764019Z",
     "start_time": "2023-05-30T15:04:48.721887Z"
    }
   },
   "outputs": [
    {
     "name": "stderr",
     "output_type": "stream",
     "text": [
      "C:\\Users\\diogo\\AppData\\Local\\Temp\\ipykernel_32832\\4053818493.py:2: FutureWarning: The default value of regex will change from True to False in a future version. In addition, single character regular expressions will *not* be treated as literal strings when regex=True.\n",
      "  belgica_raw['BirthYear'] = belgica_raw['BirthYear'].str.replace(\".\", \"\")\n"
     ]
    }
   ],
   "source": [
    "belgica_raw['BirthYear'] = belgica_raw['Birth'].str.extract(r'^(\\d{4})', expand=False)\n",
    "belgica_raw['BirthYear'] = belgica_raw['BirthYear'].str.replace(\".\", \"\")"
   ]
  },
  {
   "cell_type": "code",
   "execution_count": 76,
   "id": "03834cd2-5470-4155-afa6-8714a362c068",
   "metadata": {
    "ExecuteTime": {
     "end_time": "2023-05-30T15:04:48.795212Z",
     "start_time": "2023-05-30T15:04:48.769029Z"
    }
   },
   "outputs": [
    {
     "data": {
      "text/plain": [
       "array(['1987', '1978', '1974', '1982', '1986', '1977', '1981', '1983',\n",
       "       '1994', '1970', '1976', '1975', '1973', '1990', '1992', '1985',\n",
       "       '1984', '1993', '1980', '1991', '1999', '1996', '1989', '1995',\n",
       "       '1979', '1988', '1997', '1998', '2000', '2002', '1971', nan,\n",
       "       '1972', '1963', '1969', '1967', '1966', '2001', '1965', '1961',\n",
       "       '1968', '1964', '1959', '1952', '1962', '1960', '1958', '1956'],\n",
       "      dtype=object)"
      ]
     },
     "execution_count": 76,
     "metadata": {},
     "output_type": "execute_result"
    }
   ],
   "source": [
    "belgica_raw[\"BirthYear\"].unique()"
   ]
  },
  {
   "cell_type": "code",
   "execution_count": 77,
   "id": "17fd5093-fe16-4815-ad2c-81b1d86861e7",
   "metadata": {
    "ExecuteTime": {
     "end_time": "2023-05-30T15:04:48.826458Z",
     "start_time": "2023-05-30T15:04:48.800220Z"
    }
   },
   "outputs": [
    {
     "data": {
      "text/plain": [
       "21"
      ]
     },
     "execution_count": 77,
     "metadata": {},
     "output_type": "execute_result"
    }
   ],
   "source": [
    "belgica_raw['BirthYear'].isnull().sum()"
   ]
  },
  {
   "cell_type": "code",
   "execution_count": 78,
   "id": "ae3428bf-d9a2-4a3d-8d1b-4900a98ffbf3",
   "metadata": {
    "ExecuteTime": {
     "end_time": "2023-05-30T15:04:48.857237Z",
     "start_time": "2023-05-30T15:04:48.832776Z"
    }
   },
   "outputs": [],
   "source": [
    "if belgica_raw['BirthYear'].isnull().sum() > 0:\n",
    "    belgica_raw['BirthYear'] = pd.to_numeric(belgica_raw['BirthYear'], errors='coerce')\n",
    "    median = belgica_raw['BirthYear'].median()\n",
    "    belgica_raw['BirthYear'].fillna(median, inplace=True)\n",
    "else:\n",
    "    belgica_raw['BirthYear'] = pd.to_numeric(belgica_raw['BirthYear'], errors='coerce')"
   ]
  },
  {
   "cell_type": "code",
   "execution_count": 79,
   "id": "accfd503-2a76-40ec-9f4d-6bf72d2e6738",
   "metadata": {
    "ExecuteTime": {
     "end_time": "2023-05-30T15:04:48.887950Z",
     "start_time": "2023-05-30T15:04:48.863254Z"
    }
   },
   "outputs": [
    {
     "data": {
      "text/plain": [
       "0"
      ]
     },
     "execution_count": 79,
     "metadata": {},
     "output_type": "execute_result"
    }
   ],
   "source": [
    "belgica_raw['BirthYear'].isnull().sum()"
   ]
  },
  {
   "cell_type": "code",
   "execution_count": 80,
   "id": "6b01a2d4-38be-4518-a820-0a82506d39a4",
   "metadata": {
    "ExecuteTime": {
     "end_time": "2023-05-30T15:04:48.919404Z",
     "start_time": "2023-05-30T15:04:48.894441Z"
    }
   },
   "outputs": [
    {
     "data": {
      "text/plain": [
       "0"
      ]
     },
     "execution_count": 80,
     "metadata": {},
     "output_type": "execute_result"
    }
   ],
   "source": [
    "belgica_raw['TournamentYear'].isnull().sum()"
   ]
  },
  {
   "cell_type": "code",
   "execution_count": 81,
   "id": "a0a4702d-178f-4ec5-8ba3-1f46e8f5aef0",
   "metadata": {
    "ExecuteTime": {
     "end_time": "2023-05-30T15:04:48.950130Z",
     "start_time": "2023-05-30T15:04:48.925985Z"
    }
   },
   "outputs": [],
   "source": [
    "if belgica_raw['TournamentYear'].isnull().sum() > 0:\n",
    "    belgica_raw['TournamentYear'] = belgica_raw['TournamentYear'].fillna(belgica_raw['Date'].str.slice(stop=4))\n",
    "else:\n",
    "    belgica_raw['TournamentYear'] = pd.to_numeric(belgica_raw['TournamentYear'], errors='coerce')"
   ]
  },
  {
   "cell_type": "code",
   "execution_count": 82,
   "id": "87060bba-cf6e-4217-bb61-cc75695eec65",
   "metadata": {
    "ExecuteTime": {
     "end_time": "2023-05-30T15:04:49.029530Z",
     "start_time": "2023-05-30T15:04:49.003387Z"
    }
   },
   "outputs": [
    {
     "data": {
      "text/plain": [
       "0"
      ]
     },
     "execution_count": 82,
     "metadata": {},
     "output_type": "execute_result"
    }
   ],
   "source": [
    "belgica_raw['TournamentYear'].isnull().sum()"
   ]
  },
  {
   "cell_type": "code",
   "execution_count": 83,
   "id": "651d8710-625c-49c3-ac13-d820fd054a58",
   "metadata": {
    "ExecuteTime": {
     "end_time": "2023-05-30T15:04:49.059224Z",
     "start_time": "2023-05-30T15:04:49.035667Z"
    }
   },
   "outputs": [
    {
     "data": {
      "text/plain": [
       "array([2013, 2001, 2007, 2005, 1999, 2009, 2012, 2014, 1998, 2000, 2004,\n",
       "       2008, 2006, 2010, 2011, 2015, 2018, 2017, 2016, 2019, 2020, 2021,\n",
       "       1995, 1997, 1994, 1990, 1992, 1996, 1993, 1991, 1989, 1988, 1987,\n",
       "       1972, 1986, 1985, 1983, 1984, 1982, 1981])"
      ]
     },
     "execution_count": 83,
     "metadata": {},
     "output_type": "execute_result"
    }
   ],
   "source": [
    "belgica_raw[\"TournamentYear\"].unique()"
   ]
  },
  {
   "cell_type": "code",
   "execution_count": 84,
   "id": "98d4519f-b33f-467c-9a10-5635b3c9e3b4",
   "metadata": {
    "ExecuteTime": {
     "end_time": "2023-05-30T15:04:49.246222Z",
     "start_time": "2023-05-30T15:04:49.065715Z"
    }
   },
   "outputs": [],
   "source": [
    "belgica_raw['PlayerAge'] = belgica_raw.apply(lambda x: int(x[\"TournamentYear\"]) - int(x[\"BirthYear\"]), axis=1)"
   ]
  },
  {
   "cell_type": "code",
   "execution_count": 85,
   "id": "082d88a5-3390-4138-a453-3449fe758fc9",
   "metadata": {
    "ExecuteTime": {
     "end_time": "2023-05-30T15:04:49.308853Z",
     "start_time": "2023-05-30T15:04:49.254236Z"
    }
   },
   "outputs": [
    {
     "data": {
      "text/html": [
       "<div>\n",
       "<style scoped>\n",
       "    .dataframe tbody tr th:only-of-type {\n",
       "        vertical-align: middle;\n",
       "    }\n",
       "\n",
       "    .dataframe tbody tr th {\n",
       "        vertical-align: top;\n",
       "    }\n",
       "\n",
       "    .dataframe thead th {\n",
       "        text-align: right;\n",
       "    }\n",
       "</style>\n",
       "<table border=\"1\" class=\"dataframe\">\n",
       "  <thead>\n",
       "    <tr style=\"text-align: right;\">\n",
       "      <th></th>\n",
       "      <th>Tournament</th>\n",
       "      <th>Location</th>\n",
       "      <th>Date</th>\n",
       "      <th>Ground</th>\n",
       "      <th>Prize</th>\n",
       "      <th>GameRound</th>\n",
       "      <th>GameRank</th>\n",
       "      <th>Oponent</th>\n",
       "      <th>WL</th>\n",
       "      <th>país</th>\n",
       "      <th>...</th>\n",
       "      <th>BirthOponent</th>\n",
       "      <th>TreinadorOponent</th>\n",
       "      <th>RankOponent</th>\n",
       "      <th>mainHand</th>\n",
       "      <th>mainHandOponent</th>\n",
       "      <th>TournamentYear</th>\n",
       "      <th>NumeroSets</th>\n",
       "      <th>TipoTorneio</th>\n",
       "      <th>BirthYear</th>\n",
       "      <th>PlayerAge</th>\n",
       "    </tr>\n",
       "  </thead>\n",
       "  <tbody>\n",
       "    <tr>\n",
       "      <th>0</th>\n",
       "      <td>BEL vs. SRB WG 1st RD</td>\n",
       "      <td>Charleroi, Belgium</td>\n",
       "      <td>2013.01.28 - 2013.02.03</td>\n",
       "      <td>Clay</td>\n",
       "      <td>0</td>\n",
       "      <td>Round Robin</td>\n",
       "      <td>127</td>\n",
       "      <td>Olivier Rochus</td>\n",
       "      <td>W</td>\n",
       "      <td>Belgium</td>\n",
       "      <td>...</td>\n",
       "      <td>1981-01-18</td>\n",
       "      <td>Reginald Willems</td>\n",
       "      <td>24</td>\n",
       "      <td>Right-Handed</td>\n",
       "      <td>Right-Handed</td>\n",
       "      <td>2013</td>\n",
       "      <td>3</td>\n",
       "      <td>Melhor_de_5</td>\n",
       "      <td>1987.0</td>\n",
       "      <td>26</td>\n",
       "    </tr>\n",
       "  </tbody>\n",
       "</table>\n",
       "<p>1 rows × 30 columns</p>\n",
       "</div>"
      ],
      "text/plain": [
       "              Tournament            Location                     Date Ground  \\\n",
       "0  BEL vs. SRB WG 1st RD  Charleroi, Belgium  2013.01.28 - 2013.02.03   Clay   \n",
       "\n",
       "   Prize    GameRound GameRank         Oponent WL     país  ... BirthOponent  \\\n",
       "0      0  Round Robin      127  Olivier Rochus  W  Belgium  ...   1981-01-18   \n",
       "\n",
       "   TreinadorOponent  RankOponent      mainHand mainHandOponent TournamentYear  \\\n",
       "0  Reginald Willems           24  Right-Handed    Right-Handed           2013   \n",
       "\n",
       "  NumeroSets  TipoTorneio  BirthYear  PlayerAge  \n",
       "0          3  Melhor_de_5     1987.0         26  \n",
       "\n",
       "[1 rows x 30 columns]"
      ]
     },
     "execution_count": 85,
     "metadata": {},
     "output_type": "execute_result"
    }
   ],
   "source": [
    "belgica_raw.head(1)"
   ]
  },
  {
   "cell_type": "code",
   "execution_count": 86,
   "id": "516c6f8f-ca44-4976-9ad8-fdae1c2b969a",
   "metadata": {
    "ExecuteTime": {
     "end_time": "2023-05-30T15:04:49.340275Z",
     "start_time": "2023-05-30T15:04:49.318429Z"
    }
   },
   "outputs": [],
   "source": [
    "belgica_raw = belgica_raw.drop(\"Birth\", axis=1)"
   ]
  },
  {
   "cell_type": "markdown",
   "id": "62929dc5-8ced-47e1-b2fd-d4b5c00a342c",
   "metadata": {},
   "source": [
    "<h3 style=\"background-size:2em 2em;background-position:0em 1em,1em 0,0em 1em,1em 0,0 0,0 0,0 0,0 0,0 0;background-image:linear-gradient(45deg,#000 8%,transparent 8%,transparent 92%,#000 92%),linear-gradient(-45deg,#000 8%,transparent 8%,transparent 92%,#000 92%),linear-gradient(-45deg,#000 8%,transparent 8%,transparent 92%,#000 92%),linear-gradient(45deg,#000 8%,transparent 8%,transparent 92%,#000 92%),linear-gradient(-45deg,transparent 17%,#000 17%,#000 21%,transparent 21%,transparent 79%,#000 79%,#000 83%,transparent 83%),linear-gradient(45deg,transparent 29%,#000 29%,#000 33%,transparent 33%,transparent 67%,#000 67%,#000 71%,transparent 71%),linear-gradient(-135deg,#202020 10%,#090909 33%,transparent 33%,transparent 67%,#161616 67%,#202020 90%),linear-gradient(135deg,transparent 21%,#161616 21%,#2d2d2d 32.6%,#161616 64.5%,#202020 70.3%,#090909 79%,transparent 79%),linear-gradient(-135deg,transparent 21%,#161616 21%,#202020 40%,#202020 60%,#090909 79%,transparent 79%);\n",
    "color: white;\n",
    "font-weight: 40;\n",
    "font-size: 40px;\n",
    "margin: 0.5em auto;\n",
    "text-align: left;\n",
    "cursor: wait;\n",
    "letter-spacing: 10;\">Idade Oponent</h3>     "
   ]
  },
  {
   "cell_type": "code",
   "execution_count": 87,
   "id": "1dc5dc3a-d697-4d14-b596-9897c366c8b2",
   "metadata": {
    "ExecuteTime": {
     "end_time": "2023-05-30T15:04:49.386251Z",
     "start_time": "2023-05-30T15:04:49.345789Z"
    }
   },
   "outputs": [
    {
     "name": "stderr",
     "output_type": "stream",
     "text": [
      "C:\\Users\\diogo\\AppData\\Local\\Temp\\ipykernel_32832\\1670557255.py:2: FutureWarning: The default value of regex will change from True to False in a future version. In addition, single character regular expressions will *not* be treated as literal strings when regex=True.\n",
      "  belgica_raw['BirthOponentYear'] = belgica_raw['BirthOponentYear'].str.replace(\".\", \"\")\n"
     ]
    }
   ],
   "source": [
    "belgica_raw['BirthOponentYear'] = belgica_raw['BirthOponent'].str.extract(r'^(\\d{4})', expand=False)\n",
    "belgica_raw['BirthOponentYear'] = belgica_raw['BirthOponentYear'].str.replace(\".\", \"\")"
   ]
  },
  {
   "cell_type": "code",
   "execution_count": 88,
   "id": "0ba0873b-4b43-48da-9c8f-dd8a9852e078",
   "metadata": {
    "ExecuteTime": {
     "end_time": "2023-05-30T15:04:49.416950Z",
     "start_time": "2023-05-30T15:04:49.391246Z"
    }
   },
   "outputs": [
    {
     "data": {
      "text/plain": [
       "array(['1981', '1994', '1988', '1993', '1990', '1995', '1999', '1989',\n",
       "       '1996', '1992', '1991', '1987', '1985', '1979', '1984', '1978',\n",
       "       '1986', '1982', '1983', nan, '1972', '1980', '1977', '1973',\n",
       "       '1975', '1970', '1974', '1971', '1976', '1998', '1964', '1968',\n",
       "       '1997', '2000', '2001', '1969', '1967', '1942', '1962', '1963',\n",
       "       '1966', '1965', '1960', '1956', '2002', '1961', '1958', '1952',\n",
       "       '1955', '1959'], dtype=object)"
      ]
     },
     "execution_count": 88,
     "metadata": {},
     "output_type": "execute_result"
    }
   ],
   "source": [
    "belgica_raw[\"BirthOponentYear\"].unique()"
   ]
  },
  {
   "cell_type": "code",
   "execution_count": 89,
   "id": "4caa9875-f96d-4cfa-b809-79ba2877e8a9",
   "metadata": {
    "ExecuteTime": {
     "end_time": "2023-05-30T15:04:49.448910Z",
     "start_time": "2023-05-30T15:04:49.422957Z"
    }
   },
   "outputs": [
    {
     "data": {
      "text/plain": [
       "23"
      ]
     },
     "execution_count": 89,
     "metadata": {},
     "output_type": "execute_result"
    }
   ],
   "source": [
    "belgica_raw['BirthOponentYear'].isnull().sum()"
   ]
  },
  {
   "cell_type": "code",
   "execution_count": 90,
   "id": "b274a8ce-ff05-4346-8dc6-8611f914089a",
   "metadata": {
    "ExecuteTime": {
     "end_time": "2023-05-30T15:04:49.479640Z",
     "start_time": "2023-05-30T15:04:49.455443Z"
    }
   },
   "outputs": [],
   "source": [
    "if belgica_raw['BirthOponentYear'].isnull().sum() > 0:\n",
    "    median = belgica_raw['BirthOponentYear'].median()\n",
    "    belgica_raw['BirthOponentYear'].fillna(median, inplace=True)\n",
    "else:\n",
    "    belgica_raw['BirthOponentYear'] = pd.to_numeric(belgica_raw['BirthYear'], errors='coerce')"
   ]
  },
  {
   "cell_type": "code",
   "execution_count": 91,
   "id": "aa65fef2-cce9-41db-9f3f-f51efd13c299",
   "metadata": {
    "ExecuteTime": {
     "end_time": "2023-05-30T15:04:49.511577Z",
     "start_time": "2023-05-30T15:04:49.484136Z"
    }
   },
   "outputs": [
    {
     "data": {
      "text/plain": [
       "0"
      ]
     },
     "execution_count": 91,
     "metadata": {},
     "output_type": "execute_result"
    }
   ],
   "source": [
    "belgica_raw['BirthOponentYear'].isnull().sum()"
   ]
  },
  {
   "cell_type": "code",
   "execution_count": 92,
   "id": "16d3e74d-8d14-481d-abd7-e759c50993f1",
   "metadata": {
    "ExecuteTime": {
     "end_time": "2023-05-30T15:04:49.666616Z",
     "start_time": "2023-05-30T15:04:49.517098Z"
    }
   },
   "outputs": [],
   "source": [
    "belgica_raw['OponentAge'] = belgica_raw.apply(lambda x: int(x[\"TournamentYear\"]) - int(x[\"BirthOponentYear\"]), axis=1)"
   ]
  },
  {
   "cell_type": "code",
   "execution_count": 93,
   "id": "d8d9f7b5-edfd-444b-8149-4d572428e0fa",
   "metadata": {
    "ExecuteTime": {
     "end_time": "2023-05-30T15:04:49.729274Z",
     "start_time": "2023-05-30T15:04:49.674032Z"
    }
   },
   "outputs": [
    {
     "data": {
      "text/html": [
       "<div>\n",
       "<style scoped>\n",
       "    .dataframe tbody tr th:only-of-type {\n",
       "        vertical-align: middle;\n",
       "    }\n",
       "\n",
       "    .dataframe tbody tr th {\n",
       "        vertical-align: top;\n",
       "    }\n",
       "\n",
       "    .dataframe thead th {\n",
       "        text-align: right;\n",
       "    }\n",
       "</style>\n",
       "<table border=\"1\" class=\"dataframe\">\n",
       "  <thead>\n",
       "    <tr style=\"text-align: right;\">\n",
       "      <th></th>\n",
       "      <th>Tournament</th>\n",
       "      <th>Location</th>\n",
       "      <th>Date</th>\n",
       "      <th>Ground</th>\n",
       "      <th>Prize</th>\n",
       "      <th>GameRound</th>\n",
       "      <th>GameRank</th>\n",
       "      <th>Oponent</th>\n",
       "      <th>WL</th>\n",
       "      <th>país</th>\n",
       "      <th>...</th>\n",
       "      <th>RankOponent</th>\n",
       "      <th>mainHand</th>\n",
       "      <th>mainHandOponent</th>\n",
       "      <th>TournamentYear</th>\n",
       "      <th>NumeroSets</th>\n",
       "      <th>TipoTorneio</th>\n",
       "      <th>BirthYear</th>\n",
       "      <th>PlayerAge</th>\n",
       "      <th>BirthOponentYear</th>\n",
       "      <th>OponentAge</th>\n",
       "    </tr>\n",
       "  </thead>\n",
       "  <tbody>\n",
       "    <tr>\n",
       "      <th>0</th>\n",
       "      <td>BEL vs. SRB WG 1st RD</td>\n",
       "      <td>Charleroi, Belgium</td>\n",
       "      <td>2013.01.28 - 2013.02.03</td>\n",
       "      <td>Clay</td>\n",
       "      <td>0</td>\n",
       "      <td>Round Robin</td>\n",
       "      <td>127</td>\n",
       "      <td>Olivier Rochus</td>\n",
       "      <td>W</td>\n",
       "      <td>Belgium</td>\n",
       "      <td>...</td>\n",
       "      <td>24</td>\n",
       "      <td>Right-Handed</td>\n",
       "      <td>Right-Handed</td>\n",
       "      <td>2013</td>\n",
       "      <td>3</td>\n",
       "      <td>Melhor_de_5</td>\n",
       "      <td>1987.0</td>\n",
       "      <td>26</td>\n",
       "      <td>1981</td>\n",
       "      <td>32</td>\n",
       "    </tr>\n",
       "  </tbody>\n",
       "</table>\n",
       "<p>1 rows × 31 columns</p>\n",
       "</div>"
      ],
      "text/plain": [
       "              Tournament            Location                     Date Ground  \\\n",
       "0  BEL vs. SRB WG 1st RD  Charleroi, Belgium  2013.01.28 - 2013.02.03   Clay   \n",
       "\n",
       "   Prize    GameRound GameRank         Oponent WL     país  ... RankOponent  \\\n",
       "0      0  Round Robin      127  Olivier Rochus  W  Belgium  ...          24   \n",
       "\n",
       "       mainHand  mainHandOponent  TournamentYear NumeroSets  TipoTorneio  \\\n",
       "0  Right-Handed     Right-Handed            2013          3  Melhor_de_5   \n",
       "\n",
       "  BirthYear  PlayerAge  BirthOponentYear OponentAge  \n",
       "0    1987.0         26              1981         32  \n",
       "\n",
       "[1 rows x 31 columns]"
      ]
     },
     "execution_count": 93,
     "metadata": {},
     "output_type": "execute_result"
    }
   ],
   "source": [
    "belgica_raw.head(1)"
   ]
  },
  {
   "cell_type": "code",
   "execution_count": 94,
   "id": "f47ae055-85e8-4c5e-80a5-725a6e5a62e7",
   "metadata": {
    "ExecuteTime": {
     "end_time": "2023-05-30T15:04:49.761176Z",
     "start_time": "2023-05-30T15:04:49.738304Z"
    }
   },
   "outputs": [],
   "source": [
    "belgica_raw = belgica_raw.drop(\"BirthOponent\", axis=1)"
   ]
  },
  {
   "cell_type": "markdown",
   "id": "8cd0bf48-dc26-4df8-ae4a-f8f96ea10d3e",
   "metadata": {},
   "source": [
    "<h3 style=\"background-size:2em 2em;background-position:0em 1em,1em 0,0em 1em,1em 0,0 0,0 0,0 0,0 0,0 0;background-image:linear-gradient(45deg,#000 8%,transparent 8%,transparent 92%,#000 92%),linear-gradient(-45deg,#000 8%,transparent 8%,transparent 92%,#000 92%),linear-gradient(-45deg,#000 8%,transparent 8%,transparent 92%,#000 92%),linear-gradient(45deg,#000 8%,transparent 8%,transparent 92%,#000 92%),linear-gradient(-45deg,transparent 17%,#000 17%,#000 21%,transparent 21%,transparent 79%,#000 79%,#000 83%,transparent 83%),linear-gradient(45deg,transparent 29%,#000 29%,#000 33%,transparent 33%,transparent 67%,#000 67%,#000 71%,transparent 71%),linear-gradient(-135deg,#202020 10%,#090909 33%,transparent 33%,transparent 67%,#161616 67%,#202020 90%),linear-gradient(135deg,transparent 21%,#161616 21%,#2d2d2d 32.6%,#161616 64.5%,#202020 70.3%,#090909 79%,transparent 79%),linear-gradient(-135deg,transparent 21%,#161616 21%,#202020 40%,#202020 60%,#090909 79%,transparent 79%);\n",
    "color: white;\n",
    "font-weight: 40;\n",
    "font-size: 40px;\n",
    "margin: 0.5em auto;\n",
    "text-align: left;\n",
    "cursor: wait;\n",
    "letter-spacing: 10;\">Diferença das idades</h3>     "
   ]
  },
  {
   "cell_type": "code",
   "execution_count": 95,
   "id": "dbdf8f55-8d07-471d-9593-ebf61c1ca667",
   "metadata": {
    "ExecuteTime": {
     "end_time": "2023-05-30T15:04:49.793185Z",
     "start_time": "2023-05-30T15:04:49.768741Z"
    }
   },
   "outputs": [],
   "source": [
    "belgica_raw['DiffAge'] = belgica_raw[\"PlayerAge\"] - belgica_raw[\"OponentAge\"]"
   ]
  },
  {
   "cell_type": "code",
   "execution_count": 96,
   "id": "84c7e9fb-0cb0-49da-8831-a4c6eaf123ef",
   "metadata": {
    "ExecuteTime": {
     "end_time": "2023-05-30T15:04:49.823201Z",
     "start_time": "2023-05-30T15:04:49.798721Z"
    }
   },
   "outputs": [],
   "source": [
    "belgica_raw.drop([\"OponentAge\", \"PlayerAge\"], axis=1, inplace=True)"
   ]
  },
  {
   "cell_type": "code",
   "execution_count": 176,
   "id": "7f8c6df1-764e-4f1a-b423-8b61155fff3a",
   "metadata": {},
   "outputs": [
    {
     "data": {
      "image/png": "[encoded data removed]",
      "text/plain": [
       "<Figure size 640x480 with 1 Axes>"
      ]
     },
     "metadata": {},
     "output_type": "display_data"
    }
   ],
   "source": [
    "sns.histplot(data=belgica_raw, x='DiffAge', bins=30, kde=False, color='#006400')\n",
    "\n",
    "plt.xlabel('Diferença das idades')\n",
    "plt.ylabel('Frequência')\n",
    "plt.xlim(belgica_raw['DiffAge'].min(), belgica_raw['DiffAge'].max())\n",
    "plt.title('Diferença das idades')\n",
    "plt.grid(False)\n",
    "\n",
    "plt.show()"
   ]
  },
  {
   "cell_type": "markdown",
   "id": "f320a705-2d4f-41cc-9d0f-fb0bdb46f189",
   "metadata": {},
   "source": [
    "---"
   ]
  },
  {
   "cell_type": "markdown",
   "id": "31315052-c76a-48cc-967d-c96951f7fc7a",
   "metadata": {},
   "source": [
    "<h2 style=\"background-size:2em 2em;background-position:0em 1em,1em 0,0em 1em,1em 0,0 0,0 0,0 0,0 0,0 0;background-image:linear-gradient(45deg,#000 8%,transparent 8%,transparent 92%,#000 92%),linear-gradient(-45deg,#000 8%,transparent 8%,transparent 92%,#000 92%),linear-gradient(-45deg,#000 8%,transparent 8%,transparent 92%,#000 92%),linear-gradient(45deg,#000 8%,transparent 8%,transparent 92%,#000 92%),linear-gradient(-45deg,transparent 17%,#000 17%,#000 21%,transparent 21%,transparent 79%,#000 79%,#000 83%,transparent 83%),linear-gradient(45deg,transparent 29%,#000 29%,#000 33%,transparent 33%,transparent 67%,#000 67%,#000 71%,transparent 71%),linear-gradient(-135deg,#202020 10%,#090909 33%,transparent 33%,transparent 67%,#161616 67%,#202020 90%),linear-gradient(135deg,transparent 21%,#161616 21%,#2d2d2d 32.6%,#161616 64.5%,#202020 70.3%,#090909 79%,transparent 79%),linear-gradient(-135deg,transparent 21%,#161616 21%,#202020 40%,#202020 60%,#090909 79%,transparent 79%);\n",
    "color: white;\n",
    "font-weight: 40;\n",
    "font-size: 50px;\n",
    "margin: 0.5em auto;\n",
    "text-align: center;\n",
    "cursor: wait;\n",
    "letter-spacing: 10;\">IMC</h2>     "
   ]
  },
  {
   "attachments": {
    "25d3d320-c628-41ba-a584-a7a005fe7143.png": {
     "image/png": "[encoded data removed]"
    }
   },
   "cell_type": "markdown",
   "id": "eb807d8b-b4f2-4372-9ac8-289bc53152a2",
   "metadata": {},
   "source": [
    "![image.png](attachment:25d3d320-c628-41ba-a584-a7a005fe7143.png)"
   ]
  },
  {
   "cell_type": "markdown",
   "id": "9ccf853c-6817-4195-984e-04256b1c1d76",
   "metadata": {},
   "source": [
    "<h3 style=\"background-size:2em 2em;background-position:0em 1em,1em 0,0em 1em,1em 0,0 0,0 0,0 0,0 0,0 0;background-image:linear-gradient(45deg,#000 8%,transparent 8%,transparent 92%,#000 92%),linear-gradient(-45deg,#000 8%,transparent 8%,transparent 92%,#000 92%),linear-gradient(-45deg,#000 8%,transparent 8%,transparent 92%,#000 92%),linear-gradient(45deg,#000 8%,transparent 8%,transparent 92%,#000 92%),linear-gradient(-45deg,transparent 17%,#000 17%,#000 21%,transparent 21%,transparent 79%,#000 79%,#000 83%,transparent 83%),linear-gradient(45deg,transparent 29%,#000 29%,#000 33%,transparent 33%,transparent 67%,#000 67%,#000 71%,transparent 71%),linear-gradient(-135deg,#202020 10%,#090909 33%,transparent 33%,transparent 67%,#161616 67%,#202020 90%),linear-gradient(135deg,transparent 21%,#161616 21%,#2d2d2d 32.6%,#161616 64.5%,#202020 70.3%,#090909 79%,transparent 79%),linear-gradient(-135deg,transparent 21%,#161616 21%,#202020 40%,#202020 60%,#090909 79%,transparent 79%);\n",
    "color: white;\n",
    "font-weight: 40;\n",
    "font-size: 40px;\n",
    "margin: 0.5em auto;\n",
    "text-align: left;\n",
    "cursor: wait;\n",
    "letter-spacing: 10;\">Player</h3>     "
   ]
  },
  {
   "cell_type": "code",
   "execution_count": 97,
   "id": "81fe9513-7880-4229-ad5b-c5d896f968ab",
   "metadata": {
    "ExecuteTime": {
     "end_time": "2023-05-30T15:04:49.854299Z",
     "start_time": "2023-05-30T15:04:49.829922Z"
    }
   },
   "outputs": [
    {
     "data": {
      "text/plain": [
       "42"
      ]
     },
     "execution_count": 97,
     "metadata": {},
     "output_type": "execute_result"
    }
   ],
   "source": [
    "len(belgica_raw[belgica_raw['Height']==0])"
   ]
  },
  {
   "cell_type": "code",
   "execution_count": 98,
   "id": "e4f552f0-e9e2-4e8c-8e3d-318208d52826",
   "metadata": {
    "ExecuteTime": {
     "end_time": "2023-05-30T15:04:49.870007Z",
     "start_time": "2023-05-30T15:04:49.861193Z"
    }
   },
   "outputs": [],
   "source": [
    "belgica_raw['Height'].replace(0, np.nan, inplace=True)"
   ]
  },
  {
   "cell_type": "code",
   "execution_count": 99,
   "id": "fb39bbb2-7592-4f8b-a25e-caf8a3fba237",
   "metadata": {
    "ExecuteTime": {
     "end_time": "2023-05-30T15:04:49.901319Z",
     "start_time": "2023-05-30T15:04:49.877214Z"
    }
   },
   "outputs": [
    {
     "data": {
      "text/plain": [
       "42"
      ]
     },
     "execution_count": 99,
     "metadata": {},
     "output_type": "execute_result"
    }
   ],
   "source": [
    "belgica_raw['Height'].isnull().sum()"
   ]
  },
  {
   "cell_type": "code",
   "execution_count": 100,
   "id": "7aa39933-8c53-4c11-9095-4091eb2785ba",
   "metadata": {
    "ExecuteTime": {
     "end_time": "2023-05-30T15:04:49.932995Z",
     "start_time": "2023-05-30T15:04:49.904335Z"
    }
   },
   "outputs": [
    {
     "name": "stdout",
     "output_type": "stream",
     "text": [
      "Valores imputados para a coluna 'Height':\n",
      "0       188.0\n",
      "1       175.0\n",
      "2       183.0\n",
      "3       188.0\n",
      "4       170.0\n",
      "        ...  \n",
      "4254    196.0\n",
      "4255    193.0\n",
      "4256    193.0\n",
      "4257    188.0\n",
      "4258    180.0\n",
      "Name: Height, Length: 4108, dtype: float64\n"
     ]
    }
   ],
   "source": [
    "regression_imputer = IterativeImputer(n_nearest_features=10)\n",
    "\n",
    "if belgica_raw['Height'].isnull().sum() > 0:\n",
    "    imputed_values = regression_imputer.fit_transform(belgica_raw[['Height']])\n",
    "    imputed_height = imputed_values[:, 0]\n",
    "    belgica_raw['Height'] = pd.to_numeric(imputed_height, errors='coerce')\n",
    "\n",
    "print(\"Valores imputados para a coluna 'Height':\")\n",
    "print(belgica_raw['Height'])"
   ]
  },
  {
   "cell_type": "code",
   "execution_count": 101,
   "id": "889adbd6-af97-466c-8088-68af55463783",
   "metadata": {
    "ExecuteTime": {
     "end_time": "2023-05-30T15:04:49.964158Z",
     "start_time": "2023-05-30T15:04:49.939084Z"
    }
   },
   "outputs": [
    {
     "data": {
      "text/plain": [
       "0"
      ]
     },
     "execution_count": 101,
     "metadata": {},
     "output_type": "execute_result"
    }
   ],
   "source": [
    "belgica_raw['Height'].isnull().sum()"
   ]
  },
  {
   "cell_type": "code",
   "execution_count": 102,
   "id": "b304130d-8d52-408b-ae62-c2aa2e4851af",
   "metadata": {
    "ExecuteTime": {
     "end_time": "2023-05-30T15:04:49.995036Z",
     "start_time": "2023-05-30T15:04:49.968688Z"
    }
   },
   "outputs": [
    {
     "data": {
      "text/plain": [
       "array([ 77.,  73.,  90.,  88.,  68.,  91.,  75.,  85.,  72.,  78.,  70.,\n",
       "       100.,  80.,  87.,  76.,  65.,  89.,  86.,   0.,  74.,  66.,  84.,\n",
       "        79.,  82.,  71.,  69.,  83.,  94., 180.,  96.,  81.,  92.,  95.,\n",
       "        97.,  63.,  93.,  64., 102.,  62.,  60.,  67.,  59.,  57., 110.,\n",
       "        98., 186., 104.])"
      ]
     },
     "execution_count": 102,
     "metadata": {},
     "output_type": "execute_result"
    }
   ],
   "source": [
    "belgica_raw['Weight'].unique()"
   ]
  },
  {
   "cell_type": "code",
   "execution_count": 103,
   "id": "07fb8932-003c-425d-bcff-553d5463c67c",
   "metadata": {
    "ExecuteTime": {
     "end_time": "2023-05-30T15:04:50.026722Z",
     "start_time": "2023-05-30T15:04:50.002047Z"
    }
   },
   "outputs": [],
   "source": [
    "belgica_raw['Weight'].replace(0, np.nan, inplace=True)"
   ]
  },
  {
   "cell_type": "code",
   "execution_count": 104,
   "id": "1dc1d854-8b20-48c4-b7e0-3c0d43f3a52e",
   "metadata": {
    "ExecuteTime": {
     "end_time": "2023-05-30T15:04:50.058187Z",
     "start_time": "2023-05-30T15:04:50.034095Z"
    }
   },
   "outputs": [
    {
     "name": "stdout",
     "output_type": "stream",
     "text": [
      "Valores imputados para a coluna 'Weight':\n",
      "0       77.0\n",
      "1       73.0\n",
      "2       90.0\n",
      "3       88.0\n",
      "4       68.0\n",
      "        ... \n",
      "4254    82.0\n",
      "4255    83.0\n",
      "4256    83.0\n",
      "4257    82.0\n",
      "4258    77.0\n",
      "Name: Weight, Length: 4108, dtype: float64\n"
     ]
    }
   ],
   "source": [
    "regression_imputer = IterativeImputer(n_nearest_features=10)\n",
    "\n",
    "if belgica_raw['Weight'].isnull().sum() > 0:\n",
    "    imputed_values = regression_imputer.fit_transform(belgica_raw[['Weight']])\n",
    "    imputed_height = imputed_values[:, 0]\n",
    "    belgica_raw['Weight'] = pd.to_numeric(imputed_height, errors='coerce')\n",
    "\n",
    "print(\"Valores imputados para a coluna 'Weight':\")\n",
    "print(belgica_raw['Weight'])"
   ]
  },
  {
   "cell_type": "code",
   "execution_count": 105,
   "id": "7ccd206e-9c2b-44c7-8618-10785a173e9d",
   "metadata": {
    "ExecuteTime": {
     "end_time": "2023-05-30T15:04:50.089237Z",
     "start_time": "2023-05-30T15:04:50.065988Z"
    }
   },
   "outputs": [
    {
     "data": {
      "text/plain": [
       "0"
      ]
     },
     "execution_count": 105,
     "metadata": {},
     "output_type": "execute_result"
    }
   ],
   "source": [
    "belgica_raw['Weight'].isnull().sum()"
   ]
  },
  {
   "cell_type": "raw",
   "id": "ab57b8b6-7b18-4580-b2e4-8e715c2a6415",
   "metadata": {},
   "source": [
    "belgica_raw['Weight'].replace(0, belgica_raw['Weight'].median(), inplace=True)"
   ]
  },
  {
   "cell_type": "code",
   "execution_count": 106,
   "id": "3223c268-5818-4cc8-b4bd-29e20d17aa0b",
   "metadata": {
    "ExecuteTime": {
     "end_time": "2023-05-30T15:04:50.244161Z",
     "start_time": "2023-05-30T15:04:50.096091Z"
    }
   },
   "outputs": [],
   "source": [
    "belgica_raw['PlayerIMC'] = belgica_raw.apply(lambda x: int(x[\"Weight\"]) / (int(x[\"Height\"])/100)**2, axis=1)"
   ]
  },
  {
   "cell_type": "code",
   "execution_count": 107,
   "id": "87fdc1c0-77de-4bf4-a550-3e237e956021",
   "metadata": {
    "ExecuteTime": {
     "end_time": "2023-05-30T15:04:50.274649Z",
     "start_time": "2023-05-30T15:04:50.252866Z"
    }
   },
   "outputs": [],
   "source": [
    "belgica_raw = belgica_raw.drop([\"Weight\", \"Height\"], axis=1)"
   ]
  },
  {
   "cell_type": "markdown",
   "id": "5d9980ef-ae3e-4ebb-a595-6c4bff561363",
   "metadata": {},
   "source": [
    "<h3 style=\"background-size:2em 2em;background-position:0em 1em,1em 0,0em 1em,1em 0,0 0,0 0,0 0,0 0,0 0;background-image:linear-gradient(45deg,#000 8%,transparent 8%,transparent 92%,#000 92%),linear-gradient(-45deg,#000 8%,transparent 8%,transparent 92%,#000 92%),linear-gradient(-45deg,#000 8%,transparent 8%,transparent 92%,#000 92%),linear-gradient(45deg,#000 8%,transparent 8%,transparent 92%,#000 92%),linear-gradient(-45deg,transparent 17%,#000 17%,#000 21%,transparent 21%,transparent 79%,#000 79%,#000 83%,transparent 83%),linear-gradient(45deg,transparent 29%,#000 29%,#000 33%,transparent 33%,transparent 67%,#000 67%,#000 71%,transparent 71%),linear-gradient(-135deg,#202020 10%,#090909 33%,transparent 33%,transparent 67%,#161616 67%,#202020 90%),linear-gradient(135deg,transparent 21%,#161616 21%,#2d2d2d 32.6%,#161616 64.5%,#202020 70.3%,#090909 79%,transparent 79%),linear-gradient(-135deg,transparent 21%,#161616 21%,#202020 40%,#202020 60%,#090909 79%,transparent 79%);\n",
    "color: white;\n",
    "font-weight: 40;\n",
    "font-size: 40px;\n",
    "margin: 0.5em auto;\n",
    "text-align: left;\n",
    "cursor: wait;\n",
    "letter-spacing: 10;\"> Oponent</h3>    "
   ]
  },
  {
   "cell_type": "code",
   "execution_count": 108,
   "id": "514e7d8e-4914-4b31-99c5-053c634bac39",
   "metadata": {
    "ExecuteTime": {
     "end_time": "2023-05-30T15:04:50.305957Z",
     "start_time": "2023-05-30T15:04:50.281959Z"
    }
   },
   "outputs": [
    {
     "data": {
      "text/plain": [
       "Index(['Tournament', 'Location', 'Date', 'Ground', 'Prize', 'GameRound',\n",
       "       'GameRank', 'Oponent', 'WL', 'país', 'PlayerName', 'Born', 'Treinador',\n",
       "       'Rank', 'BornOponent', 'HeightOponent', 'WeightOponent',\n",
       "       'TreinadorOponent', 'RankOponent', 'mainHand', 'mainHandOponent',\n",
       "       'TournamentYear', 'NumeroSets', 'TipoTorneio', 'BirthYear',\n",
       "       'BirthOponentYear', 'DiffAge', 'PlayerIMC'],\n",
       "      dtype='object')"
      ]
     },
     "execution_count": 108,
     "metadata": {},
     "output_type": "execute_result"
    }
   ],
   "source": [
    "belgica_raw.columns"
   ]
  },
  {
   "cell_type": "code",
   "execution_count": 109,
   "id": "91e161c0-0447-4ffc-a32e-f4861477ed92",
   "metadata": {
    "ExecuteTime": {
     "end_time": "2023-05-30T15:04:50.337203Z",
     "start_time": "2023-05-30T15:04:50.312932Z"
    }
   },
   "outputs": [],
   "source": [
    "belgica_raw['HeightOponent'].replace(0, np.nan, inplace=True)"
   ]
  },
  {
   "cell_type": "code",
   "execution_count": 110,
   "id": "0de74ad1-53b2-47d3-af26-a93006c7d0b1",
   "metadata": {
    "ExecuteTime": {
     "end_time": "2023-05-30T15:04:50.368625Z",
     "start_time": "2023-05-30T15:04:50.345539Z"
    }
   },
   "outputs": [
    {
     "data": {
      "text/plain": [
       "44"
      ]
     },
     "execution_count": 110,
     "metadata": {},
     "output_type": "execute_result"
    }
   ],
   "source": [
    "belgica_raw['HeightOponent'].isnull().sum()"
   ]
  },
  {
   "cell_type": "code",
   "execution_count": 111,
   "id": "16eadc4a-5dba-4f1b-8d35-bfb0771bcdf6",
   "metadata": {
    "ExecuteTime": {
     "end_time": "2023-05-30T15:04:50.415569Z",
     "start_time": "2023-05-30T15:04:50.372619Z"
    }
   },
   "outputs": [
    {
     "name": "stdout",
     "output_type": "stream",
     "text": [
      "Valores imputados para a coluna 'HeightOponent':\n",
      "0       168.0\n",
      "1       168.0\n",
      "2       168.0\n",
      "3       168.0\n",
      "4       168.0\n",
      "        ...  \n",
      "4254    183.0\n",
      "4255    198.0\n",
      "4256    193.0\n",
      "4257    188.0\n",
      "4258    183.0\n",
      "Name: HeightOponent, Length: 4108, dtype: float64\n"
     ]
    }
   ],
   "source": [
    "regression_imputer = IterativeImputer(n_nearest_features=10)\n",
    "\n",
    "if belgica_raw['HeightOponent'].isnull().sum() > 0:\n",
    "    imputed_values = regression_imputer.fit_transform(belgica_raw[['HeightOponent']])\n",
    "    imputed_height = imputed_values[:, 0]\n",
    "    belgica_raw['HeightOponent'] = pd.to_numeric(imputed_height, errors='coerce')\n",
    "\n",
    "print(\"Valores imputados para a coluna 'HeightOponent':\")\n",
    "print(belgica_raw['HeightOponent'])"
   ]
  },
  {
   "cell_type": "code",
   "execution_count": 112,
   "id": "460303d0-66c0-40ac-b607-29ea1df2094c",
   "metadata": {
    "ExecuteTime": {
     "end_time": "2023-05-30T15:04:50.446772Z",
     "start_time": "2023-05-30T15:04:50.424085Z"
    }
   },
   "outputs": [
    {
     "data": {
      "text/plain": [
       "0"
      ]
     },
     "execution_count": 112,
     "metadata": {},
     "output_type": "execute_result"
    }
   ],
   "source": [
    "belgica_raw['HeightOponent'].isnull().sum()"
   ]
  },
  {
   "cell_type": "code",
   "execution_count": 113,
   "id": "ac64c2f4-6ad2-4b43-bbe3-bbe82d0542ee",
   "metadata": {
    "ExecuteTime": {
     "end_time": "2023-05-30T15:04:50.477416Z",
     "start_time": "2023-05-30T15:04:50.453149Z"
    }
   },
   "outputs": [
    {
     "name": "stdout",
     "output_type": "stream",
     "text": [
      "Valores imputados para a coluna 'WeightOponent':\n",
      "0       65.0\n",
      "1       65.0\n",
      "2       65.0\n",
      "3       65.0\n",
      "4       65.0\n",
      "        ... \n",
      "4254    72.0\n",
      "4255    88.0\n",
      "4256    86.0\n",
      "4257    79.0\n",
      "4258    78.0\n",
      "Name: WeightOponent, Length: 4108, dtype: float64\n"
     ]
    }
   ],
   "source": [
    "regression_imputer = IterativeImputer(n_nearest_features=10)\n",
    "\n",
    "if belgica_raw['WeightOponent'].isnull().sum() > 0:\n",
    "    imputed_values = regression_imputer.fit_transform(belgica_raw[['WeightOponent']])\n",
    "    imputed_height = imputed_values[:, 0]\n",
    "    belgica_raw['WeightOponent'] = pd.to_numeric(imputed_height, errors='coerce')\n",
    "\n",
    "print(\"Valores imputados para a coluna 'WeightOponent':\")\n",
    "print(belgica_raw['WeightOponent'])"
   ]
  },
  {
   "cell_type": "code",
   "execution_count": 114,
   "id": "f7ec2dba-3324-4996-89f8-c4ffd2d8c575",
   "metadata": {
    "ExecuteTime": {
     "end_time": "2023-05-30T15:04:50.664116Z",
     "start_time": "2023-05-30T15:04:50.485668Z"
    }
   },
   "outputs": [],
   "source": [
    "belgica_raw['OponentIMC'] = belgica_raw.apply(lambda x: int(x[\"WeightOponent\"]) / (int(x[\"HeightOponent\"])/100)**2, axis=1)"
   ]
  },
  {
   "cell_type": "code",
   "execution_count": 115,
   "id": "1b97e83b-423a-4d7a-9ee3-f76740744814",
   "metadata": {
    "ExecuteTime": {
     "end_time": "2023-05-30T15:04:50.694891Z",
     "start_time": "2023-05-30T15:04:50.669036Z"
    }
   },
   "outputs": [],
   "source": [
    "belgica_raw = belgica_raw.drop([\"WeightOponent\", \"HeightOponent\"], axis=1)"
   ]
  },
  {
   "cell_type": "markdown",
   "id": "d0154c5b-fd55-4a7b-ac35-93b89ff7280c",
   "metadata": {},
   "source": [
    "<h3 style=\"background-size:2em 2em;background-position:0em 1em,1em 0,0em 1em,1em 0,0 0,0 0,0 0,0 0,0 0;background-image:linear-gradient(45deg,#000 8%,transparent 8%,transparent 92%,#000 92%),linear-gradient(-45deg,#000 8%,transparent 8%,transparent 92%,#000 92%),linear-gradient(-45deg,#000 8%,transparent 8%,transparent 92%,#000 92%),linear-gradient(45deg,#000 8%,transparent 8%,transparent 92%,#000 92%),linear-gradient(-45deg,transparent 17%,#000 17%,#000 21%,transparent 21%,transparent 79%,#000 79%,#000 83%,transparent 83%),linear-gradient(45deg,transparent 29%,#000 29%,#000 33%,transparent 33%,transparent 67%,#000 67%,#000 71%,transparent 71%),linear-gradient(-135deg,#202020 10%,#090909 33%,transparent 33%,transparent 67%,#161616 67%,#202020 90%),linear-gradient(135deg,transparent 21%,#161616 21%,#2d2d2d 32.6%,#161616 64.5%,#202020 70.3%,#090909 79%,transparent 79%),linear-gradient(-135deg,transparent 21%,#161616 21%,#202020 40%,#202020 60%,#090909 79%,transparent 79%);\n",
    "color: white;\n",
    "font-weight: 40;\n",
    "font-size: 40px;\n",
    "margin: 0.5em auto;\n",
    "text-align: left;\n",
    "cursor: wait;\n",
    "letter-spacing: 10;\">Diferença IMC</h3>     "
   ]
  },
  {
   "cell_type": "code",
   "execution_count": 116,
   "id": "2688742f-d167-4f51-8149-e9b3cc0c12bf",
   "metadata": {
    "ExecuteTime": {
     "end_time": "2023-05-30T15:04:50.712490Z",
     "start_time": "2023-05-30T15:04:50.700773Z"
    }
   },
   "outputs": [],
   "source": [
    "belgica_raw[\"DiffIMC\"] = belgica_raw['PlayerIMC'] - belgica_raw['OponentIMC']"
   ]
  },
  {
   "cell_type": "code",
   "execution_count": 117,
   "id": "8ecf86ce-0efe-4511-9a1e-cd2b35dc5ce3",
   "metadata": {
    "ExecuteTime": {
     "end_time": "2023-05-30T15:04:50.742714Z",
     "start_time": "2023-05-30T15:04:50.720057Z"
    }
   },
   "outputs": [],
   "source": [
    "belgica_raw.drop(['PlayerIMC', 'OponentIMC'], axis=1, inplace=True)"
   ]
  },
  {
   "cell_type": "markdown",
   "id": "80ae6454-3c53-4dac-83e4-1bc768f64d59",
   "metadata": {},
   "source": [
    "---"
   ]
  },
  {
   "cell_type": "markdown",
   "id": "1b8bb482-66f8-437d-b603-787f3331d086",
   "metadata": {},
   "source": [
    "<h2 style=\"background-size:2em 2em;background-position:0em 1em,1em 0,0em 1em,1em 0,0 0,0 0,0 0,0 0,0 0;background-image:linear-gradient(45deg,#000 8%,transparent 8%,transparent 92%,#000 92%),linear-gradient(-45deg,#000 8%,transparent 8%,transparent 92%,#000 92%),linear-gradient(-45deg,#000 8%,transparent 8%,transparent 92%,#000 92%),linear-gradient(45deg,#000 8%,transparent 8%,transparent 92%,#000 92%),linear-gradient(-45deg,transparent 17%,#000 17%,#000 21%,transparent 21%,transparent 79%,#000 79%,#000 83%,transparent 83%),linear-gradient(45deg,transparent 29%,#000 29%,#000 33%,transparent 33%,transparent 67%,#000 67%,#000 71%,transparent 71%),linear-gradient(-135deg,#202020 10%,#090909 33%,transparent 33%,transparent 67%,#161616 67%,#202020 90%),linear-gradient(135deg,transparent 21%,#161616 21%,#2d2d2d 32.6%,#161616 64.5%,#202020 70.3%,#090909 79%,transparent 79%),linear-gradient(-135deg,transparent 21%,#161616 21%,#202020 40%,#202020 60%,#090909 79%,transparent 79%);\n",
    "color: white;\n",
    "font-weight: 40;\n",
    "font-size: 50px;\n",
    "margin: 0.5em auto;\n",
    "text-align: center;\n",
    "cursor: wait;\n",
    "letter-spacing: 10;\">Ground</h2>     "
   ]
  },
  {
   "cell_type": "code",
   "execution_count": 118,
   "id": "be468052-611b-479e-a2ea-d0e296c8332b",
   "metadata": {
    "ExecuteTime": {
     "end_time": "2023-05-30T15:04:50.773282Z",
     "start_time": "2023-05-30T15:04:50.748254Z"
    }
   },
   "outputs": [
    {
     "data": {
      "text/plain": [
       "array(['Clay', 'Hard', 'Carpet'], dtype=object)"
      ]
     },
     "execution_count": 118,
     "metadata": {},
     "output_type": "execute_result"
    }
   ],
   "source": [
    "belgica_raw[\"Ground\"].unique()"
   ]
  },
  {
   "cell_type": "code",
   "execution_count": 119,
   "id": "320a499a-e571-42f0-ac1a-b0d23273f3d2",
   "metadata": {
    "ExecuteTime": {
     "end_time": "2023-05-30T15:04:50.804212Z",
     "start_time": "2023-05-30T15:04:50.780153Z"
    }
   },
   "outputs": [],
   "source": [
    "ground = {'Clay':1, 'Hard':2, 'Carpet':3}\n",
    "belgica_raw[\"GroundNumerico\"] = belgica_raw[\"Ground\"].map(ground)"
   ]
  },
  {
   "cell_type": "code",
   "execution_count": 120,
   "id": "fa68285a-f796-4280-b054-cf595292bcc8",
   "metadata": {
    "ExecuteTime": {
     "end_time": "2023-05-30T15:04:50.852256Z",
     "start_time": "2023-05-30T15:04:50.811753Z"
    }
   },
   "outputs": [
    {
     "data": {
      "text/html": [
       "<div>\n",
       "<style scoped>\n",
       "    .dataframe tbody tr th:only-of-type {\n",
       "        vertical-align: middle;\n",
       "    }\n",
       "\n",
       "    .dataframe tbody tr th {\n",
       "        vertical-align: top;\n",
       "    }\n",
       "\n",
       "    .dataframe thead th {\n",
       "        text-align: right;\n",
       "    }\n",
       "</style>\n",
       "<table border=\"1\" class=\"dataframe\">\n",
       "  <thead>\n",
       "    <tr style=\"text-align: right;\">\n",
       "      <th></th>\n",
       "      <th>Tournament</th>\n",
       "      <th>Location</th>\n",
       "      <th>Date</th>\n",
       "      <th>Ground</th>\n",
       "      <th>Prize</th>\n",
       "      <th>GameRound</th>\n",
       "      <th>GameRank</th>\n",
       "      <th>Oponent</th>\n",
       "      <th>WL</th>\n",
       "      <th>país</th>\n",
       "      <th>...</th>\n",
       "      <th>mainHand</th>\n",
       "      <th>mainHandOponent</th>\n",
       "      <th>TournamentYear</th>\n",
       "      <th>NumeroSets</th>\n",
       "      <th>TipoTorneio</th>\n",
       "      <th>BirthYear</th>\n",
       "      <th>BirthOponentYear</th>\n",
       "      <th>DiffAge</th>\n",
       "      <th>DiffIMC</th>\n",
       "      <th>GroundNumerico</th>\n",
       "    </tr>\n",
       "  </thead>\n",
       "  <tbody>\n",
       "    <tr>\n",
       "      <th>0</th>\n",
       "      <td>BEL vs. SRB WG 1st RD</td>\n",
       "      <td>Charleroi, Belgium</td>\n",
       "      <td>2013.01.28 - 2013.02.03</td>\n",
       "      <td>Clay</td>\n",
       "      <td>0</td>\n",
       "      <td>Round Robin</td>\n",
       "      <td>127</td>\n",
       "      <td>Olivier Rochus</td>\n",
       "      <td>W</td>\n",
       "      <td>Belgium</td>\n",
       "      <td>...</td>\n",
       "      <td>Right-Handed</td>\n",
       "      <td>Right-Handed</td>\n",
       "      <td>2013</td>\n",
       "      <td>3</td>\n",
       "      <td>Melhor_de_5</td>\n",
       "      <td>1987.0</td>\n",
       "      <td>1981</td>\n",
       "      <td>-6</td>\n",
       "      <td>-1.244169</td>\n",
       "      <td>1</td>\n",
       "    </tr>\n",
       "    <tr>\n",
       "      <th>1</th>\n",
       "      <td>BEL v FRA WG Rd 1</td>\n",
       "      <td>Gent, Belgium</td>\n",
       "      <td>2001.02.05 - 2001.02.11</td>\n",
       "      <td>Clay</td>\n",
       "      <td>0</td>\n",
       "      <td>Round Robin</td>\n",
       "      <td>71</td>\n",
       "      <td>Olivier Rochus</td>\n",
       "      <td>W</td>\n",
       "      <td>Belgium</td>\n",
       "      <td>...</td>\n",
       "      <td>Right-Handed</td>\n",
       "      <td>Right-Handed</td>\n",
       "      <td>2001</td>\n",
       "      <td>5</td>\n",
       "      <td>Melhor_de_5</td>\n",
       "      <td>1978.0</td>\n",
       "      <td>1981</td>\n",
       "      <td>3</td>\n",
       "      <td>0.806689</td>\n",
       "      <td>1</td>\n",
       "    </tr>\n",
       "    <tr>\n",
       "      <th>2</th>\n",
       "      <td>Mons</td>\n",
       "      <td>Mons, Belgium</td>\n",
       "      <td>2007.10.01 - 2007.10.07</td>\n",
       "      <td>Hard</td>\n",
       "      <td>125000</td>\n",
       "      <td>Quarter-Finals</td>\n",
       "      <td>50</td>\n",
       "      <td>Olivier Rochus</td>\n",
       "      <td>W</td>\n",
       "      <td>Belgium</td>\n",
       "      <td>...</td>\n",
       "      <td>Right-Handed</td>\n",
       "      <td>Right-Handed</td>\n",
       "      <td>2007</td>\n",
       "      <td>2</td>\n",
       "      <td>Melhor_de_3</td>\n",
       "      <td>1974.0</td>\n",
       "      <td>1981</td>\n",
       "      <td>7</td>\n",
       "      <td>3.844451</td>\n",
       "      <td>2</td>\n",
       "    </tr>\n",
       "  </tbody>\n",
       "</table>\n",
       "<p>3 rows × 27 columns</p>\n",
       "</div>"
      ],
      "text/plain": [
       "              Tournament            Location                     Date Ground  \\\n",
       "0  BEL vs. SRB WG 1st RD  Charleroi, Belgium  2013.01.28 - 2013.02.03   Clay   \n",
       "1      BEL v FRA WG Rd 1       Gent, Belgium  2001.02.05 - 2001.02.11   Clay   \n",
       "2                   Mons       Mons, Belgium  2007.10.01 - 2007.10.07   Hard   \n",
       "\n",
       "    Prize       GameRound GameRank         Oponent WL     país  ...  \\\n",
       "0       0     Round Robin      127  Olivier Rochus  W  Belgium  ...   \n",
       "1       0     Round Robin       71  Olivier Rochus  W  Belgium  ...   \n",
       "2  125000  Quarter-Finals       50  Olivier Rochus  W  Belgium  ...   \n",
       "\n",
       "       mainHand mainHandOponent TournamentYear NumeroSets  TipoTorneio  \\\n",
       "0  Right-Handed    Right-Handed           2013          3  Melhor_de_5   \n",
       "1  Right-Handed    Right-Handed           2001          5  Melhor_de_5   \n",
       "2  Right-Handed    Right-Handed           2007          2  Melhor_de_3   \n",
       "\n",
       "  BirthYear BirthOponentYear DiffAge   DiffIMC  GroundNumerico  \n",
       "0    1987.0             1981      -6 -1.244169               1  \n",
       "1    1978.0             1981       3  0.806689               1  \n",
       "2    1974.0             1981       7  3.844451               2  \n",
       "\n",
       "[3 rows x 27 columns]"
      ]
     },
     "execution_count": 120,
     "metadata": {},
     "output_type": "execute_result"
    }
   ],
   "source": [
    "belgica_raw.head(3)"
   ]
  },
  {
   "cell_type": "markdown",
   "id": "602be74b-ce5c-4ff1-a22e-0199cf7609a3",
   "metadata": {},
   "source": [
    "---"
   ]
  },
  {
   "cell_type": "markdown",
   "id": "b68c89bc-e590-48e9-9f82-f98393216904",
   "metadata": {},
   "source": [
    "<h2 style=\"background-size:2em 2em;background-position:0em 1em,1em 0,0em 1em,1em 0,0 0,0 0,0 0,0 0,0 0;background-image:linear-gradient(45deg,#000 8%,transparent 8%,transparent 92%,#000 92%),linear-gradient(-45deg,#000 8%,transparent 8%,transparent 92%,#000 92%),linear-gradient(-45deg,#000 8%,transparent 8%,transparent 92%,#000 92%),linear-gradient(45deg,#000 8%,transparent 8%,transparent 92%,#000 92%),linear-gradient(-45deg,transparent 17%,#000 17%,#000 21%,transparent 21%,transparent 79%,#000 79%,#000 83%,transparent 83%),linear-gradient(45deg,transparent 29%,#000 29%,#000 33%,transparent 33%,transparent 67%,#000 67%,#000 71%,transparent 71%),linear-gradient(-135deg,#202020 10%,#090909 33%,transparent 33%,transparent 67%,#161616 67%,#202020 90%),linear-gradient(135deg,transparent 21%,#161616 21%,#2d2d2d 32.6%,#161616 64.5%,#202020 70.3%,#090909 79%,transparent 79%),linear-gradient(-135deg,transparent 21%,#161616 21%,#202020 40%,#202020 60%,#090909 79%,transparent 79%);\n",
    "color: white;\n",
    "font-weight: 40;\n",
    "font-size: 50px;\n",
    "margin: 0.5em auto;\n",
    "text-align: center;\n",
    "cursor: wait;\n",
    "letter-spacing: 10;\"> Rank</h2>    "
   ]
  },
  {
   "cell_type": "code",
   "execution_count": 121,
   "id": "4eb28291-9a41-4d56-b484-15c965da6c6a",
   "metadata": {
    "ExecuteTime": {
     "end_time": "2023-05-30T15:04:50.884558Z",
     "start_time": "2023-05-30T15:04:50.856805Z"
    }
   },
   "outputs": [
    {
     "data": {
      "text/plain": [
       "Index(['Tournament', 'Location', 'Date', 'Ground', 'Prize', 'GameRound',\n",
       "       'GameRank', 'Oponent', 'WL', 'país', 'PlayerName', 'Born', 'Treinador',\n",
       "       'Rank', 'BornOponent', 'TreinadorOponent', 'RankOponent', 'mainHand',\n",
       "       'mainHandOponent', 'TournamentYear', 'NumeroSets', 'TipoTorneio',\n",
       "       'BirthYear', 'BirthOponentYear', 'DiffAge', 'DiffIMC',\n",
       "       'GroundNumerico'],\n",
       "      dtype='object')"
      ]
     },
     "execution_count": 121,
     "metadata": {},
     "output_type": "execute_result"
    }
   ],
   "source": [
    "belgica_raw.columns"
   ]
  },
  {
   "cell_type": "code",
   "execution_count": 122,
   "id": "37164486-fbda-4f9f-aaef-eb9e446a9513",
   "metadata": {
    "ExecuteTime": {
     "end_time": "2023-05-30T15:04:50.916090Z",
     "start_time": "2023-05-30T15:04:50.890469Z"
    }
   },
   "outputs": [
    {
     "data": {
      "text/html": [
       "<div>\n",
       "<style scoped>\n",
       "    .dataframe tbody tr th:only-of-type {\n",
       "        vertical-align: middle;\n",
       "    }\n",
       "\n",
       "    .dataframe tbody tr th {\n",
       "        vertical-align: top;\n",
       "    }\n",
       "\n",
       "    .dataframe thead th {\n",
       "        text-align: right;\n",
       "    }\n",
       "</style>\n",
       "<table border=\"1\" class=\"dataframe\">\n",
       "  <thead>\n",
       "    <tr style=\"text-align: right;\">\n",
       "      <th></th>\n",
       "      <th>PlayerName</th>\n",
       "      <th>Rank</th>\n",
       "    </tr>\n",
       "  </thead>\n",
       "  <tbody>\n",
       "    <tr>\n",
       "      <th>75</th>\n",
       "      <td>Jeroen Vanneste</td>\n",
       "      <td>1722T</td>\n",
       "    </tr>\n",
       "    <tr>\n",
       "      <th>117</th>\n",
       "      <td>Jeroen Vanneste</td>\n",
       "      <td>1722T</td>\n",
       "    </tr>\n",
       "    <tr>\n",
       "      <th>118</th>\n",
       "      <td>Jeroen Vanneste</td>\n",
       "      <td>1722T</td>\n",
       "    </tr>\n",
       "    <tr>\n",
       "      <th>179</th>\n",
       "      <td>Jeroen Vanneste</td>\n",
       "      <td>1722T</td>\n",
       "    </tr>\n",
       "    <tr>\n",
       "      <th>247</th>\n",
       "      <td>Jeroen Vanneste</td>\n",
       "      <td>1722T</td>\n",
       "    </tr>\n",
       "    <tr>\n",
       "      <th>262</th>\n",
       "      <td>Jeroen Vanneste</td>\n",
       "      <td>1722T</td>\n",
       "    </tr>\n",
       "    <tr>\n",
       "      <th>311</th>\n",
       "      <td>Jeroen Vanneste</td>\n",
       "      <td>1722T</td>\n",
       "    </tr>\n",
       "    <tr>\n",
       "      <th>312</th>\n",
       "      <td>Jeroen Vanneste</td>\n",
       "      <td>1722T</td>\n",
       "    </tr>\n",
       "    <tr>\n",
       "      <th>313</th>\n",
       "      <td>Jeroen Vanneste</td>\n",
       "      <td>1722T</td>\n",
       "    </tr>\n",
       "    <tr>\n",
       "      <th>348</th>\n",
       "      <td>Jeroen Vanneste</td>\n",
       "      <td>1722T</td>\n",
       "    </tr>\n",
       "  </tbody>\n",
       "</table>\n",
       "</div>"
      ],
      "text/plain": [
       "          PlayerName   Rank\n",
       "75   Jeroen Vanneste  1722T\n",
       "117  Jeroen Vanneste  1722T\n",
       "118  Jeroen Vanneste  1722T\n",
       "179  Jeroen Vanneste  1722T\n",
       "247  Jeroen Vanneste  1722T\n",
       "262  Jeroen Vanneste  1722T\n",
       "311  Jeroen Vanneste  1722T\n",
       "312  Jeroen Vanneste  1722T\n",
       "313  Jeroen Vanneste  1722T\n",
       "348  Jeroen Vanneste  1722T"
      ]
     },
     "execution_count": 122,
     "metadata": {},
     "output_type": "execute_result"
    }
   ],
   "source": [
    "belgica_raw[belgica_raw['Rank']=='1722T'][[\"PlayerName\", \"Rank\"]].head(10)"
   ]
  },
  {
   "cell_type": "code",
   "execution_count": 123,
   "id": "b0a1b778-13a5-4a27-931f-4d9d41aa0d83",
   "metadata": {
    "ExecuteTime": {
     "end_time": "2023-05-30T15:04:50.962859Z",
     "start_time": "2023-05-30T15:04:50.923067Z"
    }
   },
   "outputs": [],
   "source": [
    "belgica_raw[\"Rank\"] = belgica_raw[\"Rank\"].astype(str)  # Converte para tipo string\n",
    "belgica_raw[\"Rank\"] = belgica_raw[\"Rank\"].apply(lambda x: re.sub(r'\\D', '', x))"
   ]
  },
  {
   "cell_type": "code",
   "execution_count": 124,
   "id": "0173361d-de49-4df5-9296-7e64754259f4",
   "metadata": {
    "ExecuteTime": {
     "end_time": "2023-05-30T15:04:51.010257Z",
     "start_time": "2023-05-30T15:04:50.967391Z"
    }
   },
   "outputs": [],
   "source": [
    "belgica_raw[\"RankOponent\"] = belgica_raw[\"RankOponent\"].astype(str)  # Converte para tipo string\n",
    "belgica_raw[\"RankOponent\"] = belgica_raw[\"RankOponent\"].apply(lambda x: re.sub(r'\\D', '', x))"
   ]
  },
  {
   "cell_type": "code",
   "execution_count": 125,
   "id": "de0d81d4-c33c-462f-be45-4242f23c653d",
   "metadata": {
    "ExecuteTime": {
     "end_time": "2023-05-30T15:04:51.057050Z",
     "start_time": "2023-05-30T15:04:51.016914Z"
    }
   },
   "outputs": [
    {
     "data": {
      "text/html": [
       "<div>\n",
       "<style scoped>\n",
       "    .dataframe tbody tr th:only-of-type {\n",
       "        vertical-align: middle;\n",
       "    }\n",
       "\n",
       "    .dataframe tbody tr th {\n",
       "        vertical-align: top;\n",
       "    }\n",
       "\n",
       "    .dataframe thead th {\n",
       "        text-align: right;\n",
       "    }\n",
       "</style>\n",
       "<table border=\"1\" class=\"dataframe\">\n",
       "  <thead>\n",
       "    <tr style=\"text-align: right;\">\n",
       "      <th></th>\n",
       "      <th>PlayerName</th>\n",
       "      <th>Rank</th>\n",
       "    </tr>\n",
       "  </thead>\n",
       "  <tbody>\n",
       "  </tbody>\n",
       "</table>\n",
       "</div>"
      ],
      "text/plain": [
       "Empty DataFrame\n",
       "Columns: [PlayerName, Rank]\n",
       "Index: []"
      ]
     },
     "execution_count": 125,
     "metadata": {},
     "output_type": "execute_result"
    }
   ],
   "source": [
    "belgica_raw[belgica_raw['Rank']=='1722T'][[\"PlayerName\", \"Rank\"]]"
   ]
  },
  {
   "cell_type": "code",
   "execution_count": 126,
   "id": "ce900606-d744-45d0-8b7f-295496167d4a",
   "metadata": {
    "ExecuteTime": {
     "end_time": "2023-05-30T15:04:51.088661Z",
     "start_time": "2023-05-30T15:04:51.064549Z"
    }
   },
   "outputs": [
    {
     "data": {
      "text/html": [
       "<div>\n",
       "<style scoped>\n",
       "    .dataframe tbody tr th:only-of-type {\n",
       "        vertical-align: middle;\n",
       "    }\n",
       "\n",
       "    .dataframe tbody tr th {\n",
       "        vertical-align: top;\n",
       "    }\n",
       "\n",
       "    .dataframe thead th {\n",
       "        text-align: right;\n",
       "    }\n",
       "</style>\n",
       "<table border=\"1\" class=\"dataframe\">\n",
       "  <thead>\n",
       "    <tr style=\"text-align: right;\">\n",
       "      <th></th>\n",
       "      <th>PlayerName</th>\n",
       "      <th>Rank</th>\n",
       "    </tr>\n",
       "  </thead>\n",
       "  <tbody>\n",
       "  </tbody>\n",
       "</table>\n",
       "</div>"
      ],
      "text/plain": [
       "Empty DataFrame\n",
       "Columns: [PlayerName, Rank]\n",
       "Index: []"
      ]
     },
     "execution_count": 126,
     "metadata": {},
     "output_type": "execute_result"
    }
   ],
   "source": [
    "belgica_raw[belgica_raw['RankOponent']=='1722T'][[\"PlayerName\", \"Rank\"]]"
   ]
  },
  {
   "cell_type": "code",
   "execution_count": 127,
   "id": "923a2bc5-4345-41c4-ab67-3b29473ceec0",
   "metadata": {
    "ExecuteTime": {
     "end_time": "2023-05-30T15:04:51.134100Z",
     "start_time": "2023-05-30T15:04:51.096399Z"
    }
   },
   "outputs": [],
   "source": [
    "belgica_raw['Rank'] = pd.to_numeric(belgica_raw['Rank'])\n",
    "belgica_raw['RankOponent'] = pd.to_numeric(belgica_raw['RankOponent'])"
   ]
  },
  {
   "cell_type": "code",
   "execution_count": 128,
   "id": "cd70443b-d111-43c2-83d3-ded64d2c9cd2",
   "metadata": {
    "ExecuteTime": {
     "end_time": "2023-05-30T15:04:51.196410Z",
     "start_time": "2023-05-30T15:04:51.140176Z"
    }
   },
   "outputs": [
    {
     "name": "stdout",
     "output_type": "stream",
     "text": [
      "Valores imputados para as colunas 'Rank' e 'RankOponent':\n",
      "        Rank  RankOponent\n",
      "0        1.0         24.0\n",
      "1        4.0         24.0\n",
      "2       13.0         24.0\n",
      "3        1.0         24.0\n",
      "4       39.0         24.0\n",
      "...      ...          ...\n",
      "4254    59.0        546.0\n",
      "4255  1873.0         26.0\n",
      "4256  1873.0        118.0\n",
      "4257    13.0         41.0\n",
      "4258    61.0        277.0\n",
      "\n",
      "[4108 rows x 2 columns]\n"
     ]
    }
   ],
   "source": [
    "from fancyimpute import IterativeImputer\n",
    "\n",
    "# Importar por regressão\n",
    "regression_imputer = IterativeImputer(n_nearest_features=10)\n",
    "\n",
    "columns_to_impute = [\"Rank\", \"RankOponent\"]\n",
    "for col in columns_to_impute:\n",
    "    if belgica_raw[col].isnull().sum() > 0:\n",
    "        imputed_values = regression_imputer.fit_transform(belgica_raw[[col]])\n",
    "        imputed_col = imputed_values[:, 0]  # Coluna imputada\n",
    "        belgica_raw[col] = pd.to_numeric(imputed_col)\n",
    "\n",
    "print(\"Valores imputados para as colunas 'Rank' e 'RankOponent':\")\n",
    "print(belgica_raw[[\"Rank\", \"RankOponent\"]])"
   ]
  },
  {
   "cell_type": "code",
   "execution_count": 129,
   "id": "3321cac9-e579-452d-9b19-4c30d18e13c8",
   "metadata": {
    "ExecuteTime": {
     "end_time": "2023-05-30T15:04:51.227547Z",
     "start_time": "2023-05-30T15:04:51.203388Z"
    }
   },
   "outputs": [
    {
     "data": {
      "text/plain": [
       "0"
      ]
     },
     "execution_count": 129,
     "metadata": {},
     "output_type": "execute_result"
    }
   ],
   "source": [
    "belgica_raw[\"RankOponent\"].isnull().sum()"
   ]
  },
  {
   "cell_type": "raw",
   "id": "ecc68655-43b4-45bf-8fa2-88560ca5404e",
   "metadata": {},
   "source": [
    "# Importar por Imputação\n",
    "\n",
    "if belgica_raw[\"Rank\"].isnull().sum() > 0:\n",
    "    belgica_raw['Rank'] = pd.to_numeric(belgica_raw['Rank'], errors='coerce')\n",
    "    median = belgica_raw['Rank'].median()\n",
    "    belgica_raw['Rank'].fillna(median, inplace=True)\n",
    "\n",
    "if belgica_raw[\"RankOponent\"].isnull().sum() > 0:\n",
    "    belgica_raw['RankOponent'] = pd.to_numeric(belgica_raw['RankOponent'], errors='coerce')\n",
    "    median = belgica_raw['RankOponent'].median()\n",
    "    belgica_raw['RankOponent'].fillna(median, inplace=True)"
   ]
  },
  {
   "cell_type": "code",
   "execution_count": 130,
   "id": "6b9a0a09-1b40-47c3-874b-058302e5bbe6",
   "metadata": {
    "ExecuteTime": {
     "end_time": "2023-05-30T15:04:51.244212Z",
     "start_time": "2023-05-30T15:04:51.232543Z"
    }
   },
   "outputs": [],
   "source": [
    "belgica_raw[\"DiffRank\"] = belgica_raw['Rank'] - belgica_raw['RankOponent']"
   ]
  },
  {
   "cell_type": "code",
   "execution_count": 131,
   "id": "8b75fa81-a541-440c-bf8c-f38e6e2e2f83",
   "metadata": {
    "ExecuteTime": {
     "end_time": "2023-05-30T15:04:51.275943Z",
     "start_time": "2023-05-30T15:04:51.252182Z"
    }
   },
   "outputs": [
    {
     "data": {
      "text/plain": [
       "4108"
      ]
     },
     "execution_count": 131,
     "metadata": {},
     "output_type": "execute_result"
    }
   ],
   "source": [
    "len(belgica_raw[\"DiffRank\"])"
   ]
  },
  {
   "cell_type": "code",
   "execution_count": 132,
   "id": "25cc0542-cc3c-475e-a993-000fc5c2f13e",
   "metadata": {
    "ExecuteTime": {
     "end_time": "2023-05-30T15:04:51.306462Z",
     "start_time": "2023-05-30T15:04:51.284086Z"
    }
   },
   "outputs": [],
   "source": [
    "belgica_raw.drop(['Rank', 'RankOponent', 'GameRank'], axis=1, inplace=True)"
   ]
  },
  {
   "cell_type": "markdown",
   "id": "8bd98b75-18c6-4a0d-920d-bd9b57e7061f",
   "metadata": {},
   "source": [
    "---"
   ]
  },
  {
   "cell_type": "markdown",
   "id": "0f06901f-2bee-4e37-afb9-84257aa168d2",
   "metadata": {
    "tags": []
   },
   "source": [
    "<h1 style=\"background-size:2em 2em;background-position:0em 1em,1em 0,0em 1em,1em 0,0 0,0 0,0 0,0 0,0 0;background-image:linear-gradient(45deg,#000 8%,transparent 8%,transparent 92%,#000 92%),linear-gradient(-45deg,#000 8%,transparent 8%,transparent 92%,#000 92%),linear-gradient(-45deg,#000 8%,transparent 8%,transparent 92%,#000 92%),linear-gradient(45deg,#000 8%,transparent 8%,transparent 92%,#000 92%),linear-gradient(-45deg,transparent 17%,#000 17%,#000 21%,transparent 21%,transparent 79%,#000 79%,#000 83%,transparent 83%),linear-gradient(45deg,transparent 29%,#000 29%,#000 33%,transparent 33%,transparent 67%,#000 67%,#000 71%,transparent 71%),linear-gradient(-135deg,#202020 10%,#090909 33%,transparent 33%,transparent 67%,#161616 67%,#202020 90%),linear-gradient(135deg,transparent 21%,#161616 21%,#2d2d2d 32.6%,#161616 64.5%,#202020 70.3%,#090909 79%,transparent 79%),linear-gradient(-135deg,transparent 21%,#161616 21%,#202020 40%,#202020 60%,#090909 79%,transparent 79%);\n",
    "color: white;\n",
    "font-weight: 40;\n",
    "font-size: 50px;\n",
    "margin: 0.5em auto;\n",
    "text-align: center;\n",
    "cursor: wait;\n",
    "letter-spacing: 10;\">Dummies columns</h1>     "
   ]
  },
  {
   "cell_type": "code",
   "execution_count": 133,
   "id": "8bd2425d-38d5-43c2-a2a7-c07e04a69f32",
   "metadata": {
    "ExecuteTime": {
     "end_time": "2023-05-30T15:04:51.368213Z",
     "start_time": "2023-05-30T15:04:51.312439Z"
    }
   },
   "outputs": [
    {
     "data": {
      "text/html": [
       "<div>\n",
       "<style scoped>\n",
       "    .dataframe tbody tr th:only-of-type {\n",
       "        vertical-align: middle;\n",
       "    }\n",
       "\n",
       "    .dataframe tbody tr th {\n",
       "        vertical-align: top;\n",
       "    }\n",
       "\n",
       "    .dataframe thead th {\n",
       "        text-align: right;\n",
       "    }\n",
       "</style>\n",
       "<table border=\"1\" class=\"dataframe\">\n",
       "  <thead>\n",
       "    <tr style=\"text-align: right;\">\n",
       "      <th></th>\n",
       "      <th>Tournament</th>\n",
       "      <th>Location</th>\n",
       "      <th>Date</th>\n",
       "      <th>Ground</th>\n",
       "      <th>Prize</th>\n",
       "      <th>GameRound</th>\n",
       "      <th>Oponent</th>\n",
       "      <th>WL</th>\n",
       "      <th>país</th>\n",
       "      <th>PlayerName</th>\n",
       "      <th>...</th>\n",
       "      <th>mainHandOponent</th>\n",
       "      <th>TournamentYear</th>\n",
       "      <th>NumeroSets</th>\n",
       "      <th>TipoTorneio</th>\n",
       "      <th>BirthYear</th>\n",
       "      <th>BirthOponentYear</th>\n",
       "      <th>DiffAge</th>\n",
       "      <th>DiffIMC</th>\n",
       "      <th>GroundNumerico</th>\n",
       "      <th>DiffRank</th>\n",
       "    </tr>\n",
       "  </thead>\n",
       "  <tbody>\n",
       "    <tr>\n",
       "      <th>0</th>\n",
       "      <td>BEL vs. SRB WG 1st RD</td>\n",
       "      <td>Charleroi, Belgium</td>\n",
       "      <td>2013.01.28 - 2013.02.03</td>\n",
       "      <td>Clay</td>\n",
       "      <td>0</td>\n",
       "      <td>Round Robin</td>\n",
       "      <td>Olivier Rochus</td>\n",
       "      <td>W</td>\n",
       "      <td>Belgium</td>\n",
       "      <td>Novak Djokovic</td>\n",
       "      <td>...</td>\n",
       "      <td>Right-Handed</td>\n",
       "      <td>2013</td>\n",
       "      <td>3</td>\n",
       "      <td>Melhor_de_5</td>\n",
       "      <td>1987.0</td>\n",
       "      <td>1981</td>\n",
       "      <td>-6</td>\n",
       "      <td>-1.244169</td>\n",
       "      <td>1</td>\n",
       "      <td>-23.0</td>\n",
       "    </tr>\n",
       "    <tr>\n",
       "      <th>1</th>\n",
       "      <td>BEL v FRA WG Rd 1</td>\n",
       "      <td>Gent, Belgium</td>\n",
       "      <td>2001.02.05 - 2001.02.11</td>\n",
       "      <td>Clay</td>\n",
       "      <td>0</td>\n",
       "      <td>Round Robin</td>\n",
       "      <td>Olivier Rochus</td>\n",
       "      <td>W</td>\n",
       "      <td>Belgium</td>\n",
       "      <td>Sebastien Grosjean</td>\n",
       "      <td>...</td>\n",
       "      <td>Right-Handed</td>\n",
       "      <td>2001</td>\n",
       "      <td>5</td>\n",
       "      <td>Melhor_de_5</td>\n",
       "      <td>1978.0</td>\n",
       "      <td>1981</td>\n",
       "      <td>3</td>\n",
       "      <td>0.806689</td>\n",
       "      <td>1</td>\n",
       "      <td>-20.0</td>\n",
       "    </tr>\n",
       "    <tr>\n",
       "      <th>2</th>\n",
       "      <td>Mons</td>\n",
       "      <td>Mons, Belgium</td>\n",
       "      <td>2007.10.01 - 2007.10.07</td>\n",
       "      <td>Hard</td>\n",
       "      <td>125000</td>\n",
       "      <td>Quarter-Finals</td>\n",
       "      <td>Olivier Rochus</td>\n",
       "      <td>W</td>\n",
       "      <td>Belgium</td>\n",
       "      <td>Andrei Pavel</td>\n",
       "      <td>...</td>\n",
       "      <td>Right-Handed</td>\n",
       "      <td>2007</td>\n",
       "      <td>2</td>\n",
       "      <td>Melhor_de_3</td>\n",
       "      <td>1974.0</td>\n",
       "      <td>1981</td>\n",
       "      <td>7</td>\n",
       "      <td>3.844451</td>\n",
       "      <td>2</td>\n",
       "      <td>-11.0</td>\n",
       "    </tr>\n",
       "  </tbody>\n",
       "</table>\n",
       "<p>3 rows × 25 columns</p>\n",
       "</div>"
      ],
      "text/plain": [
       "              Tournament            Location                     Date Ground  \\\n",
       "0  BEL vs. SRB WG 1st RD  Charleroi, Belgium  2013.01.28 - 2013.02.03   Clay   \n",
       "1      BEL v FRA WG Rd 1       Gent, Belgium  2001.02.05 - 2001.02.11   Clay   \n",
       "2                   Mons       Mons, Belgium  2007.10.01 - 2007.10.07   Hard   \n",
       "\n",
       "    Prize       GameRound         Oponent WL     país          PlayerName  \\\n",
       "0       0     Round Robin  Olivier Rochus  W  Belgium      Novak Djokovic   \n",
       "1       0     Round Robin  Olivier Rochus  W  Belgium  Sebastien Grosjean   \n",
       "2  125000  Quarter-Finals  Olivier Rochus  W  Belgium        Andrei Pavel   \n",
       "\n",
       "   ... mainHandOponent TournamentYear NumeroSets  TipoTorneio BirthYear  \\\n",
       "0  ...    Right-Handed           2013          3  Melhor_de_5    1987.0   \n",
       "1  ...    Right-Handed           2001          5  Melhor_de_5    1978.0   \n",
       "2  ...    Right-Handed           2007          2  Melhor_de_3    1974.0   \n",
       "\n",
       "  BirthOponentYear  DiffAge   DiffIMC GroundNumerico  DiffRank  \n",
       "0             1981       -6 -1.244169              1     -23.0  \n",
       "1             1981        3  0.806689              1     -20.0  \n",
       "2             1981        7  3.844451              2     -11.0  \n",
       "\n",
       "[3 rows x 25 columns]"
      ]
     },
     "execution_count": 133,
     "metadata": {},
     "output_type": "execute_result"
    }
   ],
   "source": [
    "belgica_raw.head(3)"
   ]
  },
  {
   "cell_type": "markdown",
   "id": "40ec19a9-fe28-4a45-8b9e-b72614f42f2f",
   "metadata": {},
   "source": [
    "---"
   ]
  },
  {
   "cell_type": "markdown",
   "id": "91e8b8c3-14c8-4d09-99d1-8e798896a333",
   "metadata": {},
   "source": [
    "<h2 style=\"background-size:2em 2em;background-position:0em 1em,1em 0,0em 1em,1em 0,0 0,0 0,0 0,0 0,0 0;background-image:linear-gradient(45deg,#000 8%,transparent 8%,transparent 92%,#000 92%),linear-gradient(-45deg,#000 8%,transparent 8%,transparent 92%,#000 92%),linear-gradient(-45deg,#000 8%,transparent 8%,transparent 92%,#000 92%),linear-gradient(45deg,#000 8%,transparent 8%,transparent 92%,#000 92%),linear-gradient(-45deg,transparent 17%,#000 17%,#000 21%,transparent 21%,transparent 79%,#000 79%,#000 83%,transparent 83%),linear-gradient(45deg,transparent 29%,#000 29%,#000 33%,transparent 33%,transparent 67%,#000 67%,#000 71%,transparent 71%),linear-gradient(-135deg,#202020 10%,#090909 33%,transparent 33%,transparent 67%,#161616 67%,#202020 90%),linear-gradient(135deg,transparent 21%,#161616 21%,#2d2d2d 32.6%,#161616 64.5%,#202020 70.3%,#090909 79%,transparent 79%),linear-gradient(-135deg,transparent 21%,#161616 21%,#202020 40%,#202020 60%,#090909 79%,transparent 79%);\n",
    "color: white;\n",
    "font-weight: 40;\n",
    "font-size: 50px;\n",
    "margin: 0.5em auto;\n",
    "text-align: center;\n",
    "cursor: wait;\n",
    "letter-spacing: 10;\">Nacionalidade da Bélgica</h2>     "
   ]
  },
  {
   "cell_type": "markdown",
   "id": "e735fa3b-a53f-41fd-b267-b5ae68ff88be",
   "metadata": {},
   "source": [
    "<h3 style=\"background-size:2em 2em;background-position:0em 1em,1em 0,0em 1em,1em 0,0 0,0 0,0 0,0 0,0 0;background-image:linear-gradient(45deg,#000 8%,transparent 8%,transparent 92%,#000 92%),linear-gradient(-45deg,#000 8%,transparent 8%,transparent 92%,#000 92%),linear-gradient(-45deg,#000 8%,transparent 8%,transparent 92%,#000 92%),linear-gradient(45deg,#000 8%,transparent 8%,transparent 92%,#000 92%),linear-gradient(-45deg,transparent 17%,#000 17%,#000 21%,transparent 21%,transparent 79%,#000 79%,#000 83%,transparent 83%),linear-gradient(45deg,transparent 29%,#000 29%,#000 33%,transparent 33%,transparent 67%,#000 67%,#000 71%,transparent 71%),linear-gradient(-135deg,#202020 10%,#090909 33%,transparent 33%,transparent 67%,#161616 67%,#202020 90%),linear-gradient(135deg,transparent 21%,#161616 21%,#2d2d2d 32.6%,#161616 64.5%,#202020 70.3%,#090909 79%,transparent 79%),linear-gradient(-135deg,transparent 21%,#161616 21%,#202020 40%,#202020 60%,#090909 79%,transparent 79%);\n",
    "color: white;\n",
    "font-weight: 40;\n",
    "font-size: 40px;\n",
    "margin: 0.5em auto;\n",
    "text-align: left;\n",
    "cursor: wait;\n",
    "letter-spacing: 10;\">Jogadores da Bélgica?</h3>     "
   ]
  },
  {
   "cell_type": "code",
   "execution_count": 134,
   "id": "d9a8bb18-a938-4170-bc5f-3ee15cecbbbe",
   "metadata": {
    "ExecuteTime": {
     "end_time": "2023-05-30T15:04:51.475709Z",
     "start_time": "2023-05-30T15:04:51.374238Z"
    }
   },
   "outputs": [
    {
     "data": {
      "text/html": [
       "<div>\n",
       "<style scoped>\n",
       "    .dataframe tbody tr th:only-of-type {\n",
       "        vertical-align: middle;\n",
       "    }\n",
       "\n",
       "    .dataframe tbody tr th {\n",
       "        vertical-align: top;\n",
       "    }\n",
       "\n",
       "    .dataframe thead th {\n",
       "        text-align: right;\n",
       "    }\n",
       "</style>\n",
       "<table border=\"1\" class=\"dataframe\">\n",
       "  <thead>\n",
       "    <tr style=\"text-align: right;\">\n",
       "      <th></th>\n",
       "      <th>Tournament</th>\n",
       "      <th>Location</th>\n",
       "      <th>Date</th>\n",
       "      <th>Ground</th>\n",
       "      <th>Prize</th>\n",
       "      <th>GameRound</th>\n",
       "      <th>Oponent</th>\n",
       "      <th>WL</th>\n",
       "      <th>país</th>\n",
       "      <th>PlayerName</th>\n",
       "      <th>...</th>\n",
       "      <th>TournamentYear</th>\n",
       "      <th>NumeroSets</th>\n",
       "      <th>TipoTorneio</th>\n",
       "      <th>BirthYear</th>\n",
       "      <th>BirthOponentYear</th>\n",
       "      <th>DiffAge</th>\n",
       "      <th>DiffIMC</th>\n",
       "      <th>GroundNumerico</th>\n",
       "      <th>DiffRank</th>\n",
       "      <th>JogadorBelga</th>\n",
       "    </tr>\n",
       "  </thead>\n",
       "  <tbody>\n",
       "    <tr>\n",
       "      <th>0</th>\n",
       "      <td>BEL vs. SRB WG 1st RD</td>\n",
       "      <td>Charleroi, Belgium</td>\n",
       "      <td>2013.01.28 - 2013.02.03</td>\n",
       "      <td>Clay</td>\n",
       "      <td>0</td>\n",
       "      <td>Round Robin</td>\n",
       "      <td>Olivier Rochus</td>\n",
       "      <td>W</td>\n",
       "      <td>Belgium</td>\n",
       "      <td>Novak Djokovic</td>\n",
       "      <td>...</td>\n",
       "      <td>2013</td>\n",
       "      <td>3</td>\n",
       "      <td>Melhor_de_5</td>\n",
       "      <td>1987.0</td>\n",
       "      <td>1981</td>\n",
       "      <td>-6</td>\n",
       "      <td>-1.244169</td>\n",
       "      <td>1</td>\n",
       "      <td>-23.0</td>\n",
       "      <td>0</td>\n",
       "    </tr>\n",
       "    <tr>\n",
       "      <th>1</th>\n",
       "      <td>BEL v FRA WG Rd 1</td>\n",
       "      <td>Gent, Belgium</td>\n",
       "      <td>2001.02.05 - 2001.02.11</td>\n",
       "      <td>Clay</td>\n",
       "      <td>0</td>\n",
       "      <td>Round Robin</td>\n",
       "      <td>Olivier Rochus</td>\n",
       "      <td>W</td>\n",
       "      <td>Belgium</td>\n",
       "      <td>Sebastien Grosjean</td>\n",
       "      <td>...</td>\n",
       "      <td>2001</td>\n",
       "      <td>5</td>\n",
       "      <td>Melhor_de_5</td>\n",
       "      <td>1978.0</td>\n",
       "      <td>1981</td>\n",
       "      <td>3</td>\n",
       "      <td>0.806689</td>\n",
       "      <td>1</td>\n",
       "      <td>-20.0</td>\n",
       "      <td>0</td>\n",
       "    </tr>\n",
       "    <tr>\n",
       "      <th>2</th>\n",
       "      <td>Mons</td>\n",
       "      <td>Mons, Belgium</td>\n",
       "      <td>2007.10.01 - 2007.10.07</td>\n",
       "      <td>Hard</td>\n",
       "      <td>125000</td>\n",
       "      <td>Quarter-Finals</td>\n",
       "      <td>Olivier Rochus</td>\n",
       "      <td>W</td>\n",
       "      <td>Belgium</td>\n",
       "      <td>Andrei Pavel</td>\n",
       "      <td>...</td>\n",
       "      <td>2007</td>\n",
       "      <td>2</td>\n",
       "      <td>Melhor_de_3</td>\n",
       "      <td>1974.0</td>\n",
       "      <td>1981</td>\n",
       "      <td>7</td>\n",
       "      <td>3.844451</td>\n",
       "      <td>2</td>\n",
       "      <td>-11.0</td>\n",
       "      <td>0</td>\n",
       "    </tr>\n",
       "    <tr>\n",
       "      <th>3</th>\n",
       "      <td>BEL vs. USA WG PO</td>\n",
       "      <td>Leuven, Belgium</td>\n",
       "      <td>2005.09.19 - 2005.09.25</td>\n",
       "      <td>Clay</td>\n",
       "      <td>0</td>\n",
       "      <td>Round Robin</td>\n",
       "      <td>Olivier Rochus</td>\n",
       "      <td>W</td>\n",
       "      <td>Belgium</td>\n",
       "      <td>Andy Roddick</td>\n",
       "      <td>...</td>\n",
       "      <td>2005</td>\n",
       "      <td>5</td>\n",
       "      <td>Melhor_de_5</td>\n",
       "      <td>1982.0</td>\n",
       "      <td>1981</td>\n",
       "      <td>-1</td>\n",
       "      <td>1.868099</td>\n",
       "      <td>1</td>\n",
       "      <td>-23.0</td>\n",
       "      <td>0</td>\n",
       "    </tr>\n",
       "    <tr>\n",
       "      <th>4</th>\n",
       "      <td>Ostend</td>\n",
       "      <td>Ostend, Belgium</td>\n",
       "      <td>1999.07.05 - 1999.07.11</td>\n",
       "      <td>Clay</td>\n",
       "      <td>125000</td>\n",
       "      <td>Round of 16</td>\n",
       "      <td>Olivier Rochus</td>\n",
       "      <td>W</td>\n",
       "      <td>Belgium</td>\n",
       "      <td>Christophe Rochus</td>\n",
       "      <td>...</td>\n",
       "      <td>1999</td>\n",
       "      <td>3</td>\n",
       "      <td>Melhor_de_3</td>\n",
       "      <td>1978.0</td>\n",
       "      <td>1981</td>\n",
       "      <td>3</td>\n",
       "      <td>0.499366</td>\n",
       "      <td>1</td>\n",
       "      <td>15.0</td>\n",
       "      <td>1</td>\n",
       "    </tr>\n",
       "    <tr>\n",
       "      <th>...</th>\n",
       "      <td>...</td>\n",
       "      <td>...</td>\n",
       "      <td>...</td>\n",
       "      <td>...</td>\n",
       "      <td>...</td>\n",
       "      <td>...</td>\n",
       "      <td>...</td>\n",
       "      <td>...</td>\n",
       "      <td>...</td>\n",
       "      <td>...</td>\n",
       "      <td>...</td>\n",
       "      <td>...</td>\n",
       "      <td>...</td>\n",
       "      <td>...</td>\n",
       "      <td>...</td>\n",
       "      <td>...</td>\n",
       "      <td>...</td>\n",
       "      <td>...</td>\n",
       "      <td>...</td>\n",
       "      <td>...</td>\n",
       "      <td>...</td>\n",
       "    </tr>\n",
       "    <tr>\n",
       "      <th>4254</th>\n",
       "      <td>Belgium F7</td>\n",
       "      <td>Eupen, Belgium</td>\n",
       "      <td>2018.08.06 - 2018.08.12</td>\n",
       "      <td>Clay</td>\n",
       "      <td>15000</td>\n",
       "      <td>Quarter-Finals</td>\n",
       "      <td>Matias Zukas</td>\n",
       "      <td>W</td>\n",
       "      <td>Belgium</td>\n",
       "      <td>Tomas Martin Etcheverry</td>\n",
       "      <td>...</td>\n",
       "      <td>2018</td>\n",
       "      <td>2</td>\n",
       "      <td>Melhor_de_3</td>\n",
       "      <td>1999.0</td>\n",
       "      <td>1996</td>\n",
       "      <td>-3</td>\n",
       "      <td>-0.154324</td>\n",
       "      <td>1</td>\n",
       "      <td>-487.0</td>\n",
       "      <td>0</td>\n",
       "    </tr>\n",
       "    <tr>\n",
       "      <th>4255</th>\n",
       "      <td>Bercuit</td>\n",
       "      <td>Bercuit, Belgium</td>\n",
       "      <td>2012.07.16 - 2012.07.22</td>\n",
       "      <td>Clay</td>\n",
       "      <td>54604</td>\n",
       "      <td>Finals</td>\n",
       "      <td>Victor Hanescu</td>\n",
       "      <td>W</td>\n",
       "      <td>Belgium</td>\n",
       "      <td>Thiemo de Bakker</td>\n",
       "      <td>...</td>\n",
       "      <td>2012</td>\n",
       "      <td>3</td>\n",
       "      <td>Melhor_de_3</td>\n",
       "      <td>1988.0</td>\n",
       "      <td>1981</td>\n",
       "      <td>-7</td>\n",
       "      <td>-0.164212</td>\n",
       "      <td>1</td>\n",
       "      <td>1847.0</td>\n",
       "      <td>0</td>\n",
       "    </tr>\n",
       "    <tr>\n",
       "      <th>4256</th>\n",
       "      <td>Bercuit</td>\n",
       "      <td>Bercuit, Belgium</td>\n",
       "      <td>2012.07.16 - 2012.07.22</td>\n",
       "      <td>Clay</td>\n",
       "      <td>54604</td>\n",
       "      <td>Quarter-Finals</td>\n",
       "      <td>Andre Ghem</td>\n",
       "      <td>W</td>\n",
       "      <td>Belgium</td>\n",
       "      <td>Thiemo de Bakker</td>\n",
       "      <td>...</td>\n",
       "      <td>2012</td>\n",
       "      <td>2</td>\n",
       "      <td>Melhor_de_3</td>\n",
       "      <td>1988.0</td>\n",
       "      <td>1982</td>\n",
       "      <td>-6</td>\n",
       "      <td>-0.805391</td>\n",
       "      <td>1</td>\n",
       "      <td>1755.0</td>\n",
       "      <td>0</td>\n",
       "    </tr>\n",
       "    <tr>\n",
       "      <th>4257</th>\n",
       "      <td>Antwerp</td>\n",
       "      <td>Antwerp, Belgium</td>\n",
       "      <td>2020.10.19 - 2020.10.25</td>\n",
       "      <td>Hard</td>\n",
       "      <td>450939</td>\n",
       "      <td>Round of 32</td>\n",
       "      <td>Emil Ruusuvuori</td>\n",
       "      <td>W</td>\n",
       "      <td>Belgium</td>\n",
       "      <td>Cameron Norrie</td>\n",
       "      <td>...</td>\n",
       "      <td>2020</td>\n",
       "      <td>2</td>\n",
       "      <td>Melhor_de_3</td>\n",
       "      <td>1995.0</td>\n",
       "      <td>1999</td>\n",
       "      <td>4</td>\n",
       "      <td>0.848800</td>\n",
       "      <td>2</td>\n",
       "      <td>-28.0</td>\n",
       "      <td>0</td>\n",
       "    </tr>\n",
       "    <tr>\n",
       "      <th>4258</th>\n",
       "      <td>Antwerp</td>\n",
       "      <td>Antwerp, Belgium</td>\n",
       "      <td>2020.10.19 - 2020.10.25</td>\n",
       "      <td>Hard</td>\n",
       "      <td>450939</td>\n",
       "      <td>2nd Round Qualifying</td>\n",
       "      <td>Yasutaka Uchiyama</td>\n",
       "      <td>W</td>\n",
       "      <td>Belgium</td>\n",
       "      <td>Marcos Giron</td>\n",
       "      <td>...</td>\n",
       "      <td>2020</td>\n",
       "      <td>2</td>\n",
       "      <td>Melhor_de_3</td>\n",
       "      <td>1993.0</td>\n",
       "      <td>1992</td>\n",
       "      <td>-1</td>\n",
       "      <td>0.474202</td>\n",
       "      <td>2</td>\n",
       "      <td>-216.0</td>\n",
       "      <td>0</td>\n",
       "    </tr>\n",
       "  </tbody>\n",
       "</table>\n",
       "<p>4108 rows × 26 columns</p>\n",
       "</div>"
      ],
      "text/plain": [
       "                 Tournament            Location                     Date  \\\n",
       "0     BEL vs. SRB WG 1st RD  Charleroi, Belgium  2013.01.28 - 2013.02.03   \n",
       "1         BEL v FRA WG Rd 1       Gent, Belgium  2001.02.05 - 2001.02.11   \n",
       "2                      Mons       Mons, Belgium  2007.10.01 - 2007.10.07   \n",
       "3         BEL vs. USA WG PO     Leuven, Belgium  2005.09.19 - 2005.09.25   \n",
       "4                    Ostend     Ostend, Belgium  1999.07.05 - 1999.07.11   \n",
       "...                     ...                 ...                      ...   \n",
       "4254             Belgium F7      Eupen, Belgium  2018.08.06 - 2018.08.12   \n",
       "4255                Bercuit    Bercuit, Belgium  2012.07.16 - 2012.07.22   \n",
       "4256                Bercuit    Bercuit, Belgium  2012.07.16 - 2012.07.22   \n",
       "4257                Antwerp    Antwerp, Belgium  2020.10.19 - 2020.10.25   \n",
       "4258                Antwerp    Antwerp, Belgium  2020.10.19 - 2020.10.25   \n",
       "\n",
       "     Ground   Prize             GameRound            Oponent WL     país  \\\n",
       "0      Clay       0           Round Robin     Olivier Rochus  W  Belgium   \n",
       "1      Clay       0           Round Robin     Olivier Rochus  W  Belgium   \n",
       "2      Hard  125000        Quarter-Finals     Olivier Rochus  W  Belgium   \n",
       "3      Clay       0           Round Robin     Olivier Rochus  W  Belgium   \n",
       "4      Clay  125000           Round of 16     Olivier Rochus  W  Belgium   \n",
       "...     ...     ...                   ...                ... ..      ...   \n",
       "4254   Clay   15000        Quarter-Finals       Matias Zukas  W  Belgium   \n",
       "4255   Clay   54604                Finals     Victor Hanescu  W  Belgium   \n",
       "4256   Clay   54604        Quarter-Finals         Andre Ghem  W  Belgium   \n",
       "4257   Hard  450939           Round of 32    Emil Ruusuvuori  W  Belgium   \n",
       "4258   Hard  450939  2nd Round Qualifying  Yasutaka Uchiyama  W  Belgium   \n",
       "\n",
       "                   PlayerName  ... TournamentYear NumeroSets  TipoTorneio  \\\n",
       "0              Novak Djokovic  ...           2013          3  Melhor_de_5   \n",
       "1          Sebastien Grosjean  ...           2001          5  Melhor_de_5   \n",
       "2                Andrei Pavel  ...           2007          2  Melhor_de_3   \n",
       "3                Andy Roddick  ...           2005          5  Melhor_de_5   \n",
       "4           Christophe Rochus  ...           1999          3  Melhor_de_3   \n",
       "...                       ...  ...            ...        ...          ...   \n",
       "4254  Tomas Martin Etcheverry  ...           2018          2  Melhor_de_3   \n",
       "4255         Thiemo de Bakker  ...           2012          3  Melhor_de_3   \n",
       "4256         Thiemo de Bakker  ...           2012          2  Melhor_de_3   \n",
       "4257           Cameron Norrie  ...           2020          2  Melhor_de_3   \n",
       "4258             Marcos Giron  ...           2020          2  Melhor_de_3   \n",
       "\n",
       "     BirthYear BirthOponentYear DiffAge   DiffIMC  GroundNumerico DiffRank  \\\n",
       "0       1987.0             1981      -6 -1.244169               1    -23.0   \n",
       "1       1978.0             1981       3  0.806689               1    -20.0   \n",
       "2       1974.0             1981       7  3.844451               2    -11.0   \n",
       "3       1982.0             1981      -1  1.868099               1    -23.0   \n",
       "4       1978.0             1981       3  0.499366               1     15.0   \n",
       "...        ...              ...     ...       ...             ...      ...   \n",
       "4254    1999.0             1996      -3 -0.154324               1   -487.0   \n",
       "4255    1988.0             1981      -7 -0.164212               1   1847.0   \n",
       "4256    1988.0             1982      -6 -0.805391               1   1755.0   \n",
       "4257    1995.0             1999       4  0.848800               2    -28.0   \n",
       "4258    1993.0             1992      -1  0.474202               2   -216.0   \n",
       "\n",
       "      JogadorBelga  \n",
       "0                0  \n",
       "1                0  \n",
       "2                0  \n",
       "3                0  \n",
       "4                1  \n",
       "...            ...  \n",
       "4254             0  \n",
       "4255             0  \n",
       "4256             0  \n",
       "4257             0  \n",
       "4258             0  \n",
       "\n",
       "[4108 rows x 26 columns]"
      ]
     },
     "execution_count": 134,
     "metadata": {},
     "output_type": "execute_result"
    }
   ],
   "source": [
    "belgica_raw[\"Born\"].fillna(\"\", inplace=True)\n",
    "belgica_raw[\"JogadorBelga\"] = belgica_raw[\"Born\"].str.contains(\"Belgium\")\n",
    "belgica_raw[\"JogadorBelga\"] = belgica_raw[\"JogadorBelga\"].astype(int)\n",
    "belgica_raw"
   ]
  },
  {
   "cell_type": "markdown",
   "id": "53c0be43-d6ed-4544-bf66-8d36e08f4cf7",
   "metadata": {},
   "source": [
    "<h3 style=\"background-size:2em 2em;background-position:0em 1em,1em 0,0em 1em,1em 0,0 0,0 0,0 0,0 0,0 0;background-image:linear-gradient(45deg,#000 8%,transparent 8%,transparent 92%,#000 92%),linear-gradient(-45deg,#000 8%,transparent 8%,transparent 92%,#000 92%),linear-gradient(-45deg,#000 8%,transparent 8%,transparent 92%,#000 92%),linear-gradient(45deg,#000 8%,transparent 8%,transparent 92%,#000 92%),linear-gradient(-45deg,transparent 17%,#000 17%,#000 21%,transparent 21%,transparent 79%,#000 79%,#000 83%,transparent 83%),linear-gradient(45deg,transparent 29%,#000 29%,#000 33%,transparent 33%,transparent 67%,#000 67%,#000 71%,transparent 71%),linear-gradient(-135deg,#202020 10%,#090909 33%,transparent 33%,transparent 67%,#161616 67%,#202020 90%),linear-gradient(135deg,transparent 21%,#161616 21%,#2d2d2d 32.6%,#161616 64.5%,#202020 70.3%,#090909 79%,transparent 79%),linear-gradient(-135deg,transparent 21%,#161616 21%,#202020 40%,#202020 60%,#090909 79%,transparent 79%);\n",
    "color: white;\n",
    "font-weight: 40;\n",
    "font-size: 40px;\n",
    "margin: 0.5em auto;\n",
    "text-align: left;\n",
    "cursor: wait;\n",
    "letter-spacing: 10;\">Oponentes da Bélgica</h3>     "
   ]
  },
  {
   "cell_type": "code",
   "execution_count": 135,
   "id": "85c50fd2-517a-42ec-a254-5a1407475702",
   "metadata": {
    "ExecuteTime": {
     "end_time": "2023-05-30T15:04:51.552985Z",
     "start_time": "2023-05-30T15:04:51.482716Z"
    }
   },
   "outputs": [
    {
     "data": {
      "text/html": [
       "<div>\n",
       "<style scoped>\n",
       "    .dataframe tbody tr th:only-of-type {\n",
       "        vertical-align: middle;\n",
       "    }\n",
       "\n",
       "    .dataframe tbody tr th {\n",
       "        vertical-align: top;\n",
       "    }\n",
       "\n",
       "    .dataframe thead th {\n",
       "        text-align: right;\n",
       "    }\n",
       "</style>\n",
       "<table border=\"1\" class=\"dataframe\">\n",
       "  <thead>\n",
       "    <tr style=\"text-align: right;\">\n",
       "      <th></th>\n",
       "      <th>Tournament</th>\n",
       "      <th>Location</th>\n",
       "      <th>Date</th>\n",
       "      <th>Ground</th>\n",
       "      <th>Prize</th>\n",
       "      <th>GameRound</th>\n",
       "      <th>Oponent</th>\n",
       "      <th>WL</th>\n",
       "      <th>país</th>\n",
       "      <th>PlayerName</th>\n",
       "      <th>...</th>\n",
       "      <th>NumeroSets</th>\n",
       "      <th>TipoTorneio</th>\n",
       "      <th>BirthYear</th>\n",
       "      <th>BirthOponentYear</th>\n",
       "      <th>DiffAge</th>\n",
       "      <th>DiffIMC</th>\n",
       "      <th>GroundNumerico</th>\n",
       "      <th>DiffRank</th>\n",
       "      <th>JogadorBelga</th>\n",
       "      <th>OponentBelga</th>\n",
       "    </tr>\n",
       "  </thead>\n",
       "  <tbody>\n",
       "    <tr>\n",
       "      <th>0</th>\n",
       "      <td>BEL vs. SRB WG 1st RD</td>\n",
       "      <td>Charleroi, Belgium</td>\n",
       "      <td>2013.01.28 - 2013.02.03</td>\n",
       "      <td>Clay</td>\n",
       "      <td>0</td>\n",
       "      <td>Round Robin</td>\n",
       "      <td>Olivier Rochus</td>\n",
       "      <td>W</td>\n",
       "      <td>Belgium</td>\n",
       "      <td>Novak Djokovic</td>\n",
       "      <td>...</td>\n",
       "      <td>3</td>\n",
       "      <td>Melhor_de_5</td>\n",
       "      <td>1987.0</td>\n",
       "      <td>1981</td>\n",
       "      <td>-6</td>\n",
       "      <td>-1.244169</td>\n",
       "      <td>1</td>\n",
       "      <td>-23.0</td>\n",
       "      <td>0</td>\n",
       "      <td>1</td>\n",
       "    </tr>\n",
       "    <tr>\n",
       "      <th>1</th>\n",
       "      <td>BEL v FRA WG Rd 1</td>\n",
       "      <td>Gent, Belgium</td>\n",
       "      <td>2001.02.05 - 2001.02.11</td>\n",
       "      <td>Clay</td>\n",
       "      <td>0</td>\n",
       "      <td>Round Robin</td>\n",
       "      <td>Olivier Rochus</td>\n",
       "      <td>W</td>\n",
       "      <td>Belgium</td>\n",
       "      <td>Sebastien Grosjean</td>\n",
       "      <td>...</td>\n",
       "      <td>5</td>\n",
       "      <td>Melhor_de_5</td>\n",
       "      <td>1978.0</td>\n",
       "      <td>1981</td>\n",
       "      <td>3</td>\n",
       "      <td>0.806689</td>\n",
       "      <td>1</td>\n",
       "      <td>-20.0</td>\n",
       "      <td>0</td>\n",
       "      <td>1</td>\n",
       "    </tr>\n",
       "    <tr>\n",
       "      <th>2</th>\n",
       "      <td>Mons</td>\n",
       "      <td>Mons, Belgium</td>\n",
       "      <td>2007.10.01 - 2007.10.07</td>\n",
       "      <td>Hard</td>\n",
       "      <td>125000</td>\n",
       "      <td>Quarter-Finals</td>\n",
       "      <td>Olivier Rochus</td>\n",
       "      <td>W</td>\n",
       "      <td>Belgium</td>\n",
       "      <td>Andrei Pavel</td>\n",
       "      <td>...</td>\n",
       "      <td>2</td>\n",
       "      <td>Melhor_de_3</td>\n",
       "      <td>1974.0</td>\n",
       "      <td>1981</td>\n",
       "      <td>7</td>\n",
       "      <td>3.844451</td>\n",
       "      <td>2</td>\n",
       "      <td>-11.0</td>\n",
       "      <td>0</td>\n",
       "      <td>1</td>\n",
       "    </tr>\n",
       "    <tr>\n",
       "      <th>3</th>\n",
       "      <td>BEL vs. USA WG PO</td>\n",
       "      <td>Leuven, Belgium</td>\n",
       "      <td>2005.09.19 - 2005.09.25</td>\n",
       "      <td>Clay</td>\n",
       "      <td>0</td>\n",
       "      <td>Round Robin</td>\n",
       "      <td>Olivier Rochus</td>\n",
       "      <td>W</td>\n",
       "      <td>Belgium</td>\n",
       "      <td>Andy Roddick</td>\n",
       "      <td>...</td>\n",
       "      <td>5</td>\n",
       "      <td>Melhor_de_5</td>\n",
       "      <td>1982.0</td>\n",
       "      <td>1981</td>\n",
       "      <td>-1</td>\n",
       "      <td>1.868099</td>\n",
       "      <td>1</td>\n",
       "      <td>-23.0</td>\n",
       "      <td>0</td>\n",
       "      <td>1</td>\n",
       "    </tr>\n",
       "    <tr>\n",
       "      <th>4</th>\n",
       "      <td>Ostend</td>\n",
       "      <td>Ostend, Belgium</td>\n",
       "      <td>1999.07.05 - 1999.07.11</td>\n",
       "      <td>Clay</td>\n",
       "      <td>125000</td>\n",
       "      <td>Round of 16</td>\n",
       "      <td>Olivier Rochus</td>\n",
       "      <td>W</td>\n",
       "      <td>Belgium</td>\n",
       "      <td>Christophe Rochus</td>\n",
       "      <td>...</td>\n",
       "      <td>3</td>\n",
       "      <td>Melhor_de_3</td>\n",
       "      <td>1978.0</td>\n",
       "      <td>1981</td>\n",
       "      <td>3</td>\n",
       "      <td>0.499366</td>\n",
       "      <td>1</td>\n",
       "      <td>15.0</td>\n",
       "      <td>1</td>\n",
       "      <td>1</td>\n",
       "    </tr>\n",
       "    <tr>\n",
       "      <th>...</th>\n",
       "      <td>...</td>\n",
       "      <td>...</td>\n",
       "      <td>...</td>\n",
       "      <td>...</td>\n",
       "      <td>...</td>\n",
       "      <td>...</td>\n",
       "      <td>...</td>\n",
       "      <td>...</td>\n",
       "      <td>...</td>\n",
       "      <td>...</td>\n",
       "      <td>...</td>\n",
       "      <td>...</td>\n",
       "      <td>...</td>\n",
       "      <td>...</td>\n",
       "      <td>...</td>\n",
       "      <td>...</td>\n",
       "      <td>...</td>\n",
       "      <td>...</td>\n",
       "      <td>...</td>\n",
       "      <td>...</td>\n",
       "      <td>...</td>\n",
       "    </tr>\n",
       "    <tr>\n",
       "      <th>4254</th>\n",
       "      <td>Belgium F7</td>\n",
       "      <td>Eupen, Belgium</td>\n",
       "      <td>2018.08.06 - 2018.08.12</td>\n",
       "      <td>Clay</td>\n",
       "      <td>15000</td>\n",
       "      <td>Quarter-Finals</td>\n",
       "      <td>Matias Zukas</td>\n",
       "      <td>W</td>\n",
       "      <td>Belgium</td>\n",
       "      <td>Tomas Martin Etcheverry</td>\n",
       "      <td>...</td>\n",
       "      <td>2</td>\n",
       "      <td>Melhor_de_3</td>\n",
       "      <td>1999.0</td>\n",
       "      <td>1996</td>\n",
       "      <td>-3</td>\n",
       "      <td>-0.154324</td>\n",
       "      <td>1</td>\n",
       "      <td>-487.0</td>\n",
       "      <td>0</td>\n",
       "      <td>0</td>\n",
       "    </tr>\n",
       "    <tr>\n",
       "      <th>4255</th>\n",
       "      <td>Bercuit</td>\n",
       "      <td>Bercuit, Belgium</td>\n",
       "      <td>2012.07.16 - 2012.07.22</td>\n",
       "      <td>Clay</td>\n",
       "      <td>54604</td>\n",
       "      <td>Finals</td>\n",
       "      <td>Victor Hanescu</td>\n",
       "      <td>W</td>\n",
       "      <td>Belgium</td>\n",
       "      <td>Thiemo de Bakker</td>\n",
       "      <td>...</td>\n",
       "      <td>3</td>\n",
       "      <td>Melhor_de_3</td>\n",
       "      <td>1988.0</td>\n",
       "      <td>1981</td>\n",
       "      <td>-7</td>\n",
       "      <td>-0.164212</td>\n",
       "      <td>1</td>\n",
       "      <td>1847.0</td>\n",
       "      <td>0</td>\n",
       "      <td>0</td>\n",
       "    </tr>\n",
       "    <tr>\n",
       "      <th>4256</th>\n",
       "      <td>Bercuit</td>\n",
       "      <td>Bercuit, Belgium</td>\n",
       "      <td>2012.07.16 - 2012.07.22</td>\n",
       "      <td>Clay</td>\n",
       "      <td>54604</td>\n",
       "      <td>Quarter-Finals</td>\n",
       "      <td>Andre Ghem</td>\n",
       "      <td>W</td>\n",
       "      <td>Belgium</td>\n",
       "      <td>Thiemo de Bakker</td>\n",
       "      <td>...</td>\n",
       "      <td>2</td>\n",
       "      <td>Melhor_de_3</td>\n",
       "      <td>1988.0</td>\n",
       "      <td>1982</td>\n",
       "      <td>-6</td>\n",
       "      <td>-0.805391</td>\n",
       "      <td>1</td>\n",
       "      <td>1755.0</td>\n",
       "      <td>0</td>\n",
       "      <td>0</td>\n",
       "    </tr>\n",
       "    <tr>\n",
       "      <th>4257</th>\n",
       "      <td>Antwerp</td>\n",
       "      <td>Antwerp, Belgium</td>\n",
       "      <td>2020.10.19 - 2020.10.25</td>\n",
       "      <td>Hard</td>\n",
       "      <td>450939</td>\n",
       "      <td>Round of 32</td>\n",
       "      <td>Emil Ruusuvuori</td>\n",
       "      <td>W</td>\n",
       "      <td>Belgium</td>\n",
       "      <td>Cameron Norrie</td>\n",
       "      <td>...</td>\n",
       "      <td>2</td>\n",
       "      <td>Melhor_de_3</td>\n",
       "      <td>1995.0</td>\n",
       "      <td>1999</td>\n",
       "      <td>4</td>\n",
       "      <td>0.848800</td>\n",
       "      <td>2</td>\n",
       "      <td>-28.0</td>\n",
       "      <td>0</td>\n",
       "      <td>0</td>\n",
       "    </tr>\n",
       "    <tr>\n",
       "      <th>4258</th>\n",
       "      <td>Antwerp</td>\n",
       "      <td>Antwerp, Belgium</td>\n",
       "      <td>2020.10.19 - 2020.10.25</td>\n",
       "      <td>Hard</td>\n",
       "      <td>450939</td>\n",
       "      <td>2nd Round Qualifying</td>\n",
       "      <td>Yasutaka Uchiyama</td>\n",
       "      <td>W</td>\n",
       "      <td>Belgium</td>\n",
       "      <td>Marcos Giron</td>\n",
       "      <td>...</td>\n",
       "      <td>2</td>\n",
       "      <td>Melhor_de_3</td>\n",
       "      <td>1993.0</td>\n",
       "      <td>1992</td>\n",
       "      <td>-1</td>\n",
       "      <td>0.474202</td>\n",
       "      <td>2</td>\n",
       "      <td>-216.0</td>\n",
       "      <td>0</td>\n",
       "      <td>0</td>\n",
       "    </tr>\n",
       "  </tbody>\n",
       "</table>\n",
       "<p>4108 rows × 27 columns</p>\n",
       "</div>"
      ],
      "text/plain": [
       "                 Tournament            Location                     Date  \\\n",
       "0     BEL vs. SRB WG 1st RD  Charleroi, Belgium  2013.01.28 - 2013.02.03   \n",
       "1         BEL v FRA WG Rd 1       Gent, Belgium  2001.02.05 - 2001.02.11   \n",
       "2                      Mons       Mons, Belgium  2007.10.01 - 2007.10.07   \n",
       "3         BEL vs. USA WG PO     Leuven, Belgium  2005.09.19 - 2005.09.25   \n",
       "4                    Ostend     Ostend, Belgium  1999.07.05 - 1999.07.11   \n",
       "...                     ...                 ...                      ...   \n",
       "4254             Belgium F7      Eupen, Belgium  2018.08.06 - 2018.08.12   \n",
       "4255                Bercuit    Bercuit, Belgium  2012.07.16 - 2012.07.22   \n",
       "4256                Bercuit    Bercuit, Belgium  2012.07.16 - 2012.07.22   \n",
       "4257                Antwerp    Antwerp, Belgium  2020.10.19 - 2020.10.25   \n",
       "4258                Antwerp    Antwerp, Belgium  2020.10.19 - 2020.10.25   \n",
       "\n",
       "     Ground   Prize             GameRound            Oponent WL     país  \\\n",
       "0      Clay       0           Round Robin     Olivier Rochus  W  Belgium   \n",
       "1      Clay       0           Round Robin     Olivier Rochus  W  Belgium   \n",
       "2      Hard  125000        Quarter-Finals     Olivier Rochus  W  Belgium   \n",
       "3      Clay       0           Round Robin     Olivier Rochus  W  Belgium   \n",
       "4      Clay  125000           Round of 16     Olivier Rochus  W  Belgium   \n",
       "...     ...     ...                   ...                ... ..      ...   \n",
       "4254   Clay   15000        Quarter-Finals       Matias Zukas  W  Belgium   \n",
       "4255   Clay   54604                Finals     Victor Hanescu  W  Belgium   \n",
       "4256   Clay   54604        Quarter-Finals         Andre Ghem  W  Belgium   \n",
       "4257   Hard  450939           Round of 32    Emil Ruusuvuori  W  Belgium   \n",
       "4258   Hard  450939  2nd Round Qualifying  Yasutaka Uchiyama  W  Belgium   \n",
       "\n",
       "                   PlayerName  ... NumeroSets  TipoTorneio BirthYear  \\\n",
       "0              Novak Djokovic  ...          3  Melhor_de_5    1987.0   \n",
       "1          Sebastien Grosjean  ...          5  Melhor_de_5    1978.0   \n",
       "2                Andrei Pavel  ...          2  Melhor_de_3    1974.0   \n",
       "3                Andy Roddick  ...          5  Melhor_de_5    1982.0   \n",
       "4           Christophe Rochus  ...          3  Melhor_de_3    1978.0   \n",
       "...                       ...  ...        ...          ...       ...   \n",
       "4254  Tomas Martin Etcheverry  ...          2  Melhor_de_3    1999.0   \n",
       "4255         Thiemo de Bakker  ...          3  Melhor_de_3    1988.0   \n",
       "4256         Thiemo de Bakker  ...          2  Melhor_de_3    1988.0   \n",
       "4257           Cameron Norrie  ...          2  Melhor_de_3    1995.0   \n",
       "4258             Marcos Giron  ...          2  Melhor_de_3    1993.0   \n",
       "\n",
       "     BirthOponentYear DiffAge   DiffIMC  GroundNumerico  DiffRank  \\\n",
       "0                1981      -6 -1.244169               1     -23.0   \n",
       "1                1981       3  0.806689               1     -20.0   \n",
       "2                1981       7  3.844451               2     -11.0   \n",
       "3                1981      -1  1.868099               1     -23.0   \n",
       "4                1981       3  0.499366               1      15.0   \n",
       "...               ...     ...       ...             ...       ...   \n",
       "4254             1996      -3 -0.154324               1    -487.0   \n",
       "4255             1981      -7 -0.164212               1    1847.0   \n",
       "4256             1982      -6 -0.805391               1    1755.0   \n",
       "4257             1999       4  0.848800               2     -28.0   \n",
       "4258             1992      -1  0.474202               2    -216.0   \n",
       "\n",
       "     JogadorBelga  OponentBelga  \n",
       "0               0             1  \n",
       "1               0             1  \n",
       "2               0             1  \n",
       "3               0             1  \n",
       "4               1             1  \n",
       "...           ...           ...  \n",
       "4254            0             0  \n",
       "4255            0             0  \n",
       "4256            0             0  \n",
       "4257            0             0  \n",
       "4258            0             0  \n",
       "\n",
       "[4108 rows x 27 columns]"
      ]
     },
     "execution_count": 135,
     "metadata": {},
     "output_type": "execute_result"
    }
   ],
   "source": [
    "belgica_raw[\"BornOponent\"].fillna(\"\", inplace=True)\n",
    "belgica_raw[\"OponentBelga\"] = belgica_raw[\"BornOponent\"].str.contains(\"Belgium\")\n",
    "belgica_raw[\"OponentBelga\"] = belgica_raw[\"OponentBelga\"].astype(int)\n",
    "belgica_raw"
   ]
  },
  {
   "cell_type": "markdown",
   "id": "43c91a23-36dc-4b52-9263-b4694897b98e",
   "metadata": {},
   "source": [
    "<h3 style=\"background-size:2em 2em;background-position:0em 1em,1em 0,0em 1em,1em 0,0 0,0 0,0 0,0 0,0 0;background-image:linear-gradient(45deg,#000 8%,transparent 8%,transparent 92%,#000 92%),linear-gradient(-45deg,#000 8%,transparent 8%,transparent 92%,#000 92%),linear-gradient(-45deg,#000 8%,transparent 8%,transparent 92%,#000 92%),linear-gradient(45deg,#000 8%,transparent 8%,transparent 92%,#000 92%),linear-gradient(-45deg,transparent 17%,#000 17%,#000 21%,transparent 21%,transparent 79%,#000 79%,#000 83%,transparent 83%),linear-gradient(45deg,transparent 29%,#000 29%,#000 33%,transparent 33%,transparent 67%,#000 67%,#000 71%,transparent 71%),linear-gradient(-135deg,#202020 10%,#090909 33%,transparent 33%,transparent 67%,#161616 67%,#202020 90%),linear-gradient(135deg,transparent 21%,#161616 21%,#2d2d2d 32.6%,#161616 64.5%,#202020 70.3%,#090909 79%,transparent 79%),linear-gradient(-135deg,transparent 21%,#161616 21%,#202020 40%,#202020 60%,#090909 79%,transparent 79%);\n",
    "color: white;\n",
    "font-weight: 40;\n",
    "font-size: 40px;\n",
    "margin: 0.5em auto;\n",
    "text-align: left;\n",
    "cursor: wait;\n",
    "letter-spacing: 10;\">Jogadores Belgas ?</h3>     "
   ]
  },
  {
   "cell_type": "code",
   "execution_count": 136,
   "id": "6245c65c-eace-49e9-aeb7-66a0272fa269",
   "metadata": {
    "ExecuteTime": {
     "end_time": "2023-05-30T15:04:51.568924Z",
     "start_time": "2023-05-30T15:04:51.557535Z"
    }
   },
   "outputs": [],
   "source": [
    "belgica_raw[\"QTDBelgas\"] = belgica_raw[\"OponentBelga\"] + belgica_raw[\"JogadorBelga\"]"
   ]
  },
  {
   "cell_type": "code",
   "execution_count": 137,
   "id": "6584d1d7-3ddb-4bf2-87ea-d1e11dcec7e8",
   "metadata": {
    "ExecuteTime": {
     "end_time": "2023-05-30T15:04:51.598976Z",
     "start_time": "2023-05-30T15:04:51.577504Z"
    }
   },
   "outputs": [],
   "source": [
    "belgica_raw.drop([\"OponentBelga\", \"JogadorBelga\"], axis=1, inplace=True)"
   ]
  },
  {
   "cell_type": "markdown",
   "id": "21ad2f45-48e4-4cad-a6e1-f3ff07f94cf5",
   "metadata": {},
   "source": [
    "---"
   ]
  },
  {
   "cell_type": "markdown",
   "id": "066741c7-bf39-476f-b13a-ed9d4e17d08a",
   "metadata": {},
   "source": [
    "<h2 style=\"background-size:2em 2em;background-position:0em 1em,1em 0,0em 1em,1em 0,0 0,0 0,0 0,0 0,0 0;background-image:linear-gradient(45deg,#000 8%,transparent 8%,transparent 92%,#000 92%),linear-gradient(-45deg,#000 8%,transparent 8%,transparent 92%,#000 92%),linear-gradient(-45deg,#000 8%,transparent 8%,transparent 92%,#000 92%),linear-gradient(45deg,#000 8%,transparent 8%,transparent 92%,#000 92%),linear-gradient(-45deg,transparent 17%,#000 17%,#000 21%,transparent 21%,transparent 79%,#000 79%,#000 83%,transparent 83%),linear-gradient(45deg,transparent 29%,#000 29%,#000 33%,transparent 33%,transparent 67%,#000 67%,#000 71%,transparent 71%),linear-gradient(-135deg,#202020 10%,#090909 33%,transparent 33%,transparent 67%,#161616 67%,#202020 90%),linear-gradient(135deg,transparent 21%,#161616 21%,#2d2d2d 32.6%,#161616 64.5%,#202020 70.3%,#090909 79%,transparent 79%),linear-gradient(-135deg,transparent 21%,#161616 21%,#202020 40%,#202020 60%,#090909 79%,transparent 79%);\n",
    "color: white;\n",
    "font-weight: 40;\n",
    "font-size: 50px;\n",
    "margin: 0.5em auto;\n",
    "text-align: center;\n",
    "cursor: wait;\n",
    "letter-spacing: 10;\">Jogos nas Finais</h2>     "
   ]
  },
  {
   "cell_type": "code",
   "execution_count": 138,
   "id": "643a5c1d-17ef-4ecc-859c-9c86bb7e4058",
   "metadata": {
    "ExecuteTime": {
     "end_time": "2023-05-30T15:04:51.706930Z",
     "start_time": "2023-05-30T15:04:51.604476Z"
    }
   },
   "outputs": [
    {
     "data": {
      "text/html": [
       "<div>\n",
       "<style scoped>\n",
       "    .dataframe tbody tr th:only-of-type {\n",
       "        vertical-align: middle;\n",
       "    }\n",
       "\n",
       "    .dataframe tbody tr th {\n",
       "        vertical-align: top;\n",
       "    }\n",
       "\n",
       "    .dataframe thead th {\n",
       "        text-align: right;\n",
       "    }\n",
       "</style>\n",
       "<table border=\"1\" class=\"dataframe\">\n",
       "  <thead>\n",
       "    <tr style=\"text-align: right;\">\n",
       "      <th></th>\n",
       "      <th>Tournament</th>\n",
       "      <th>Location</th>\n",
       "      <th>Date</th>\n",
       "      <th>Ground</th>\n",
       "      <th>Prize</th>\n",
       "      <th>GameRound</th>\n",
       "      <th>Oponent</th>\n",
       "      <th>WL</th>\n",
       "      <th>país</th>\n",
       "      <th>PlayerName</th>\n",
       "      <th>...</th>\n",
       "      <th>NumeroSets</th>\n",
       "      <th>TipoTorneio</th>\n",
       "      <th>BirthYear</th>\n",
       "      <th>BirthOponentYear</th>\n",
       "      <th>DiffAge</th>\n",
       "      <th>DiffIMC</th>\n",
       "      <th>GroundNumerico</th>\n",
       "      <th>DiffRank</th>\n",
       "      <th>QTDBelgas</th>\n",
       "      <th>Finals</th>\n",
       "    </tr>\n",
       "  </thead>\n",
       "  <tbody>\n",
       "    <tr>\n",
       "      <th>0</th>\n",
       "      <td>BEL vs. SRB WG 1st RD</td>\n",
       "      <td>Charleroi, Belgium</td>\n",
       "      <td>2013.01.28 - 2013.02.03</td>\n",
       "      <td>Clay</td>\n",
       "      <td>0</td>\n",
       "      <td>Round Robin</td>\n",
       "      <td>Olivier Rochus</td>\n",
       "      <td>W</td>\n",
       "      <td>Belgium</td>\n",
       "      <td>Novak Djokovic</td>\n",
       "      <td>...</td>\n",
       "      <td>3</td>\n",
       "      <td>Melhor_de_5</td>\n",
       "      <td>1987.0</td>\n",
       "      <td>1981</td>\n",
       "      <td>-6</td>\n",
       "      <td>-1.244169</td>\n",
       "      <td>1</td>\n",
       "      <td>-23.0</td>\n",
       "      <td>1</td>\n",
       "      <td>0</td>\n",
       "    </tr>\n",
       "    <tr>\n",
       "      <th>1</th>\n",
       "      <td>BEL v FRA WG Rd 1</td>\n",
       "      <td>Gent, Belgium</td>\n",
       "      <td>2001.02.05 - 2001.02.11</td>\n",
       "      <td>Clay</td>\n",
       "      <td>0</td>\n",
       "      <td>Round Robin</td>\n",
       "      <td>Olivier Rochus</td>\n",
       "      <td>W</td>\n",
       "      <td>Belgium</td>\n",
       "      <td>Sebastien Grosjean</td>\n",
       "      <td>...</td>\n",
       "      <td>5</td>\n",
       "      <td>Melhor_de_5</td>\n",
       "      <td>1978.0</td>\n",
       "      <td>1981</td>\n",
       "      <td>3</td>\n",
       "      <td>0.806689</td>\n",
       "      <td>1</td>\n",
       "      <td>-20.0</td>\n",
       "      <td>1</td>\n",
       "      <td>0</td>\n",
       "    </tr>\n",
       "    <tr>\n",
       "      <th>2</th>\n",
       "      <td>Mons</td>\n",
       "      <td>Mons, Belgium</td>\n",
       "      <td>2007.10.01 - 2007.10.07</td>\n",
       "      <td>Hard</td>\n",
       "      <td>125000</td>\n",
       "      <td>Quarter-Finals</td>\n",
       "      <td>Olivier Rochus</td>\n",
       "      <td>W</td>\n",
       "      <td>Belgium</td>\n",
       "      <td>Andrei Pavel</td>\n",
       "      <td>...</td>\n",
       "      <td>2</td>\n",
       "      <td>Melhor_de_3</td>\n",
       "      <td>1974.0</td>\n",
       "      <td>1981</td>\n",
       "      <td>7</td>\n",
       "      <td>3.844451</td>\n",
       "      <td>2</td>\n",
       "      <td>-11.0</td>\n",
       "      <td>1</td>\n",
       "      <td>1</td>\n",
       "    </tr>\n",
       "    <tr>\n",
       "      <th>3</th>\n",
       "      <td>BEL vs. USA WG PO</td>\n",
       "      <td>Leuven, Belgium</td>\n",
       "      <td>2005.09.19 - 2005.09.25</td>\n",
       "      <td>Clay</td>\n",
       "      <td>0</td>\n",
       "      <td>Round Robin</td>\n",
       "      <td>Olivier Rochus</td>\n",
       "      <td>W</td>\n",
       "      <td>Belgium</td>\n",
       "      <td>Andy Roddick</td>\n",
       "      <td>...</td>\n",
       "      <td>5</td>\n",
       "      <td>Melhor_de_5</td>\n",
       "      <td>1982.0</td>\n",
       "      <td>1981</td>\n",
       "      <td>-1</td>\n",
       "      <td>1.868099</td>\n",
       "      <td>1</td>\n",
       "      <td>-23.0</td>\n",
       "      <td>1</td>\n",
       "      <td>0</td>\n",
       "    </tr>\n",
       "    <tr>\n",
       "      <th>4</th>\n",
       "      <td>Ostend</td>\n",
       "      <td>Ostend, Belgium</td>\n",
       "      <td>1999.07.05 - 1999.07.11</td>\n",
       "      <td>Clay</td>\n",
       "      <td>125000</td>\n",
       "      <td>Round of 16</td>\n",
       "      <td>Olivier Rochus</td>\n",
       "      <td>W</td>\n",
       "      <td>Belgium</td>\n",
       "      <td>Christophe Rochus</td>\n",
       "      <td>...</td>\n",
       "      <td>3</td>\n",
       "      <td>Melhor_de_3</td>\n",
       "      <td>1978.0</td>\n",
       "      <td>1981</td>\n",
       "      <td>3</td>\n",
       "      <td>0.499366</td>\n",
       "      <td>1</td>\n",
       "      <td>15.0</td>\n",
       "      <td>2</td>\n",
       "      <td>0</td>\n",
       "    </tr>\n",
       "    <tr>\n",
       "      <th>...</th>\n",
       "      <td>...</td>\n",
       "      <td>...</td>\n",
       "      <td>...</td>\n",
       "      <td>...</td>\n",
       "      <td>...</td>\n",
       "      <td>...</td>\n",
       "      <td>...</td>\n",
       "      <td>...</td>\n",
       "      <td>...</td>\n",
       "      <td>...</td>\n",
       "      <td>...</td>\n",
       "      <td>...</td>\n",
       "      <td>...</td>\n",
       "      <td>...</td>\n",
       "      <td>...</td>\n",
       "      <td>...</td>\n",
       "      <td>...</td>\n",
       "      <td>...</td>\n",
       "      <td>...</td>\n",
       "      <td>...</td>\n",
       "      <td>...</td>\n",
       "    </tr>\n",
       "    <tr>\n",
       "      <th>4254</th>\n",
       "      <td>Belgium F7</td>\n",
       "      <td>Eupen, Belgium</td>\n",
       "      <td>2018.08.06 - 2018.08.12</td>\n",
       "      <td>Clay</td>\n",
       "      <td>15000</td>\n",
       "      <td>Quarter-Finals</td>\n",
       "      <td>Matias Zukas</td>\n",
       "      <td>W</td>\n",
       "      <td>Belgium</td>\n",
       "      <td>Tomas Martin Etcheverry</td>\n",
       "      <td>...</td>\n",
       "      <td>2</td>\n",
       "      <td>Melhor_de_3</td>\n",
       "      <td>1999.0</td>\n",
       "      <td>1996</td>\n",
       "      <td>-3</td>\n",
       "      <td>-0.154324</td>\n",
       "      <td>1</td>\n",
       "      <td>-487.0</td>\n",
       "      <td>0</td>\n",
       "      <td>1</td>\n",
       "    </tr>\n",
       "    <tr>\n",
       "      <th>4255</th>\n",
       "      <td>Bercuit</td>\n",
       "      <td>Bercuit, Belgium</td>\n",
       "      <td>2012.07.16 - 2012.07.22</td>\n",
       "      <td>Clay</td>\n",
       "      <td>54604</td>\n",
       "      <td>Finals</td>\n",
       "      <td>Victor Hanescu</td>\n",
       "      <td>W</td>\n",
       "      <td>Belgium</td>\n",
       "      <td>Thiemo de Bakker</td>\n",
       "      <td>...</td>\n",
       "      <td>3</td>\n",
       "      <td>Melhor_de_3</td>\n",
       "      <td>1988.0</td>\n",
       "      <td>1981</td>\n",
       "      <td>-7</td>\n",
       "      <td>-0.164212</td>\n",
       "      <td>1</td>\n",
       "      <td>1847.0</td>\n",
       "      <td>0</td>\n",
       "      <td>1</td>\n",
       "    </tr>\n",
       "    <tr>\n",
       "      <th>4256</th>\n",
       "      <td>Bercuit</td>\n",
       "      <td>Bercuit, Belgium</td>\n",
       "      <td>2012.07.16 - 2012.07.22</td>\n",
       "      <td>Clay</td>\n",
       "      <td>54604</td>\n",
       "      <td>Quarter-Finals</td>\n",
       "      <td>Andre Ghem</td>\n",
       "      <td>W</td>\n",
       "      <td>Belgium</td>\n",
       "      <td>Thiemo de Bakker</td>\n",
       "      <td>...</td>\n",
       "      <td>2</td>\n",
       "      <td>Melhor_de_3</td>\n",
       "      <td>1988.0</td>\n",
       "      <td>1982</td>\n",
       "      <td>-6</td>\n",
       "      <td>-0.805391</td>\n",
       "      <td>1</td>\n",
       "      <td>1755.0</td>\n",
       "      <td>0</td>\n",
       "      <td>1</td>\n",
       "    </tr>\n",
       "    <tr>\n",
       "      <th>4257</th>\n",
       "      <td>Antwerp</td>\n",
       "      <td>Antwerp, Belgium</td>\n",
       "      <td>2020.10.19 - 2020.10.25</td>\n",
       "      <td>Hard</td>\n",
       "      <td>450939</td>\n",
       "      <td>Round of 32</td>\n",
       "      <td>Emil Ruusuvuori</td>\n",
       "      <td>W</td>\n",
       "      <td>Belgium</td>\n",
       "      <td>Cameron Norrie</td>\n",
       "      <td>...</td>\n",
       "      <td>2</td>\n",
       "      <td>Melhor_de_3</td>\n",
       "      <td>1995.0</td>\n",
       "      <td>1999</td>\n",
       "      <td>4</td>\n",
       "      <td>0.848800</td>\n",
       "      <td>2</td>\n",
       "      <td>-28.0</td>\n",
       "      <td>0</td>\n",
       "      <td>0</td>\n",
       "    </tr>\n",
       "    <tr>\n",
       "      <th>4258</th>\n",
       "      <td>Antwerp</td>\n",
       "      <td>Antwerp, Belgium</td>\n",
       "      <td>2020.10.19 - 2020.10.25</td>\n",
       "      <td>Hard</td>\n",
       "      <td>450939</td>\n",
       "      <td>2nd Round Qualifying</td>\n",
       "      <td>Yasutaka Uchiyama</td>\n",
       "      <td>W</td>\n",
       "      <td>Belgium</td>\n",
       "      <td>Marcos Giron</td>\n",
       "      <td>...</td>\n",
       "      <td>2</td>\n",
       "      <td>Melhor_de_3</td>\n",
       "      <td>1993.0</td>\n",
       "      <td>1992</td>\n",
       "      <td>-1</td>\n",
       "      <td>0.474202</td>\n",
       "      <td>2</td>\n",
       "      <td>-216.0</td>\n",
       "      <td>0</td>\n",
       "      <td>0</td>\n",
       "    </tr>\n",
       "  </tbody>\n",
       "</table>\n",
       "<p>4108 rows × 27 columns</p>\n",
       "</div>"
      ],
      "text/plain": [
       "                 Tournament            Location                     Date  \\\n",
       "0     BEL vs. SRB WG 1st RD  Charleroi, Belgium  2013.01.28 - 2013.02.03   \n",
       "1         BEL v FRA WG Rd 1       Gent, Belgium  2001.02.05 - 2001.02.11   \n",
       "2                      Mons       Mons, Belgium  2007.10.01 - 2007.10.07   \n",
       "3         BEL vs. USA WG PO     Leuven, Belgium  2005.09.19 - 2005.09.25   \n",
       "4                    Ostend     Ostend, Belgium  1999.07.05 - 1999.07.11   \n",
       "...                     ...                 ...                      ...   \n",
       "4254             Belgium F7      Eupen, Belgium  2018.08.06 - 2018.08.12   \n",
       "4255                Bercuit    Bercuit, Belgium  2012.07.16 - 2012.07.22   \n",
       "4256                Bercuit    Bercuit, Belgium  2012.07.16 - 2012.07.22   \n",
       "4257                Antwerp    Antwerp, Belgium  2020.10.19 - 2020.10.25   \n",
       "4258                Antwerp    Antwerp, Belgium  2020.10.19 - 2020.10.25   \n",
       "\n",
       "     Ground   Prize             GameRound            Oponent WL     país  \\\n",
       "0      Clay       0           Round Robin     Olivier Rochus  W  Belgium   \n",
       "1      Clay       0           Round Robin     Olivier Rochus  W  Belgium   \n",
       "2      Hard  125000        Quarter-Finals     Olivier Rochus  W  Belgium   \n",
       "3      Clay       0           Round Robin     Olivier Rochus  W  Belgium   \n",
       "4      Clay  125000           Round of 16     Olivier Rochus  W  Belgium   \n",
       "...     ...     ...                   ...                ... ..      ...   \n",
       "4254   Clay   15000        Quarter-Finals       Matias Zukas  W  Belgium   \n",
       "4255   Clay   54604                Finals     Victor Hanescu  W  Belgium   \n",
       "4256   Clay   54604        Quarter-Finals         Andre Ghem  W  Belgium   \n",
       "4257   Hard  450939           Round of 32    Emil Ruusuvuori  W  Belgium   \n",
       "4258   Hard  450939  2nd Round Qualifying  Yasutaka Uchiyama  W  Belgium   \n",
       "\n",
       "                   PlayerName  ... NumeroSets  TipoTorneio BirthYear  \\\n",
       "0              Novak Djokovic  ...          3  Melhor_de_5    1987.0   \n",
       "1          Sebastien Grosjean  ...          5  Melhor_de_5    1978.0   \n",
       "2                Andrei Pavel  ...          2  Melhor_de_3    1974.0   \n",
       "3                Andy Roddick  ...          5  Melhor_de_5    1982.0   \n",
       "4           Christophe Rochus  ...          3  Melhor_de_3    1978.0   \n",
       "...                       ...  ...        ...          ...       ...   \n",
       "4254  Tomas Martin Etcheverry  ...          2  Melhor_de_3    1999.0   \n",
       "4255         Thiemo de Bakker  ...          3  Melhor_de_3    1988.0   \n",
       "4256         Thiemo de Bakker  ...          2  Melhor_de_3    1988.0   \n",
       "4257           Cameron Norrie  ...          2  Melhor_de_3    1995.0   \n",
       "4258             Marcos Giron  ...          2  Melhor_de_3    1993.0   \n",
       "\n",
       "     BirthOponentYear DiffAge   DiffIMC  GroundNumerico  DiffRank QTDBelgas  \\\n",
       "0                1981      -6 -1.244169               1     -23.0         1   \n",
       "1                1981       3  0.806689               1     -20.0         1   \n",
       "2                1981       7  3.844451               2     -11.0         1   \n",
       "3                1981      -1  1.868099               1     -23.0         1   \n",
       "4                1981       3  0.499366               1      15.0         2   \n",
       "...               ...     ...       ...             ...       ...       ...   \n",
       "4254             1996      -3 -0.154324               1    -487.0         0   \n",
       "4255             1981      -7 -0.164212               1    1847.0         0   \n",
       "4256             1982      -6 -0.805391               1    1755.0         0   \n",
       "4257             1999       4  0.848800               2     -28.0         0   \n",
       "4258             1992      -1  0.474202               2    -216.0         0   \n",
       "\n",
       "      Finals  \n",
       "0          0  \n",
       "1          0  \n",
       "2          1  \n",
       "3          0  \n",
       "4          0  \n",
       "...      ...  \n",
       "4254       1  \n",
       "4255       1  \n",
       "4256       1  \n",
       "4257       0  \n",
       "4258       0  \n",
       "\n",
       "[4108 rows x 27 columns]"
      ]
     },
     "execution_count": 138,
     "metadata": {},
     "output_type": "execute_result"
    }
   ],
   "source": [
    "belgica_raw[\"GameRound\"].fillna(\"\", inplace=True)\n",
    "belgica_raw[\"Finals\"] = belgica_raw[\"GameRound\"].str.contains(\"Finals\")\n",
    "belgica_raw[\"Finals\"] = belgica_raw[\"Finals\"].astype(int)\n",
    "belgica_raw"
   ]
  },
  {
   "cell_type": "markdown",
   "id": "7d638b94-f8a0-44e6-bc39-6b815225eff0",
   "metadata": {},
   "source": [
    "---"
   ]
  },
  {
   "cell_type": "markdown",
   "id": "a778297b-9811-4e29-bde3-3ac5316ac206",
   "metadata": {},
   "source": [
    "<h2 style=\"background-size:2em 2em;background-position:0em 1em,1em 0,0em 1em,1em 0,0 0,0 0,0 0,0 0,0 0;background-image:linear-gradient(45deg,#000 8%,transparent 8%,transparent 92%,#000 92%),linear-gradient(-45deg,#000 8%,transparent 8%,transparent 92%,#000 92%),linear-gradient(-45deg,#000 8%,transparent 8%,transparent 92%,#000 92%),linear-gradient(45deg,#000 8%,transparent 8%,transparent 92%,#000 92%),linear-gradient(-45deg,transparent 17%,#000 17%,#000 21%,transparent 21%,transparent 79%,#000 79%,#000 83%,transparent 83%),linear-gradient(45deg,transparent 29%,#000 29%,#000 33%,transparent 33%,transparent 67%,#000 67%,#000 71%,transparent 71%),linear-gradient(-135deg,#202020 10%,#090909 33%,transparent 33%,transparent 67%,#161616 67%,#202020 90%),linear-gradient(135deg,transparent 21%,#161616 21%,#2d2d2d 32.6%,#161616 64.5%,#202020 70.3%,#090909 79%,transparent 79%),linear-gradient(-135deg,transparent 21%,#161616 21%,#202020 40%,#202020 60%,#090909 79%,transparent 79%);\n",
    "color: white;\n",
    "font-weight: 40;\n",
    "font-size: 50px;\n",
    "margin: 0.5em auto;\n",
    "text-align: center;\n",
    "cursor: wait;\n",
    "letter-spacing: 10;\">Mão</h2>     "
   ]
  },
  {
   "cell_type": "markdown",
   "id": "fa4d6fc2-2627-4b53-ab8c-d21fff5fa7a9",
   "metadata": {},
   "source": [
    "<h3 style=\"background-size:2em 2em;background-position:0em 1em,1em 0,0em 1em,1em 0,0 0,0 0,0 0,0 0,0 0;background-image:linear-gradient(45deg,#000 8%,transparent 8%,transparent 92%,#000 92%),linear-gradient(-45deg,#000 8%,transparent 8%,transparent 92%,#000 92%),linear-gradient(-45deg,#000 8%,transparent 8%,transparent 92%,#000 92%),linear-gradient(45deg,#000 8%,transparent 8%,transparent 92%,#000 92%),linear-gradient(-45deg,transparent 17%,#000 17%,#000 21%,transparent 21%,transparent 79%,#000 79%,#000 83%,transparent 83%),linear-gradient(45deg,transparent 29%,#000 29%,#000 33%,transparent 33%,transparent 67%,#000 67%,#000 71%,transparent 71%),linear-gradient(-135deg,#202020 10%,#090909 33%,transparent 33%,transparent 67%,#161616 67%,#202020 90%),linear-gradient(135deg,transparent 21%,#161616 21%,#2d2d2d 32.6%,#161616 64.5%,#202020 70.3%,#090909 79%,transparent 79%),linear-gradient(-135deg,transparent 21%,#161616 21%,#202020 40%,#202020 60%,#090909 79%,transparent 79%);\n",
    "color: white;\n",
    "font-weight: 40;\n",
    "font-size: 40px;\n",
    "margin: 0.5em auto;\n",
    "text-align: left;\n",
    "cursor: wait;\n",
    "letter-spacing: 10;\">Mão do PlayerName</h3>    "
   ]
  },
  {
   "cell_type": "code",
   "execution_count": 139,
   "id": "b3c540ac-2407-46aa-a244-7f7564ca3c8f",
   "metadata": {
    "ExecuteTime": {
     "end_time": "2023-05-30T15:04:51.738110Z",
     "start_time": "2023-05-30T15:04:51.712903Z"
    }
   },
   "outputs": [],
   "source": [
    "belgica_raw['mainHand_dummy'] = np.where(belgica_raw['mainHand'].eq('Right-Handed'), 1, 0)"
   ]
  },
  {
   "cell_type": "code",
   "execution_count": 140,
   "id": "16b0b4cb-656e-4cc9-8fda-a10d278e6468",
   "metadata": {
    "ExecuteTime": {
     "end_time": "2023-05-30T15:04:51.814692Z",
     "start_time": "2023-05-30T15:04:51.747242Z"
    }
   },
   "outputs": [
    {
     "data": {
      "text/html": [
       "<div>\n",
       "<style scoped>\n",
       "    .dataframe tbody tr th:only-of-type {\n",
       "        vertical-align: middle;\n",
       "    }\n",
       "\n",
       "    .dataframe tbody tr th {\n",
       "        vertical-align: top;\n",
       "    }\n",
       "\n",
       "    .dataframe thead th {\n",
       "        text-align: right;\n",
       "    }\n",
       "</style>\n",
       "<table border=\"1\" class=\"dataframe\">\n",
       "  <thead>\n",
       "    <tr style=\"text-align: right;\">\n",
       "      <th></th>\n",
       "      <th>Tournament</th>\n",
       "      <th>Location</th>\n",
       "      <th>Date</th>\n",
       "      <th>Ground</th>\n",
       "      <th>Prize</th>\n",
       "      <th>GameRound</th>\n",
       "      <th>Oponent</th>\n",
       "      <th>WL</th>\n",
       "      <th>país</th>\n",
       "      <th>PlayerName</th>\n",
       "      <th>...</th>\n",
       "      <th>TipoTorneio</th>\n",
       "      <th>BirthYear</th>\n",
       "      <th>BirthOponentYear</th>\n",
       "      <th>DiffAge</th>\n",
       "      <th>DiffIMC</th>\n",
       "      <th>GroundNumerico</th>\n",
       "      <th>DiffRank</th>\n",
       "      <th>QTDBelgas</th>\n",
       "      <th>Finals</th>\n",
       "      <th>mainHand_dummy</th>\n",
       "    </tr>\n",
       "  </thead>\n",
       "  <tbody>\n",
       "    <tr>\n",
       "      <th>0</th>\n",
       "      <td>BEL vs. SRB WG 1st RD</td>\n",
       "      <td>Charleroi, Belgium</td>\n",
       "      <td>2013.01.28 - 2013.02.03</td>\n",
       "      <td>Clay</td>\n",
       "      <td>0</td>\n",
       "      <td>Round Robin</td>\n",
       "      <td>Olivier Rochus</td>\n",
       "      <td>W</td>\n",
       "      <td>Belgium</td>\n",
       "      <td>Novak Djokovic</td>\n",
       "      <td>...</td>\n",
       "      <td>Melhor_de_5</td>\n",
       "      <td>1987.0</td>\n",
       "      <td>1981</td>\n",
       "      <td>-6</td>\n",
       "      <td>-1.244169</td>\n",
       "      <td>1</td>\n",
       "      <td>-23.0</td>\n",
       "      <td>1</td>\n",
       "      <td>0</td>\n",
       "      <td>1</td>\n",
       "    </tr>\n",
       "  </tbody>\n",
       "</table>\n",
       "<p>1 rows × 28 columns</p>\n",
       "</div>"
      ],
      "text/plain": [
       "              Tournament            Location                     Date Ground  \\\n",
       "0  BEL vs. SRB WG 1st RD  Charleroi, Belgium  2013.01.28 - 2013.02.03   Clay   \n",
       "\n",
       "   Prize    GameRound         Oponent WL     país      PlayerName  ...  \\\n",
       "0      0  Round Robin  Olivier Rochus  W  Belgium  Novak Djokovic  ...   \n",
       "\n",
       "   TipoTorneio BirthYear BirthOponentYear DiffAge   DiffIMC GroundNumerico  \\\n",
       "0  Melhor_de_5    1987.0             1981      -6 -1.244169              1   \n",
       "\n",
       "   DiffRank  QTDBelgas Finals  mainHand_dummy  \n",
       "0     -23.0          1      0               1  \n",
       "\n",
       "[1 rows x 28 columns]"
      ]
     },
     "execution_count": 140,
     "metadata": {},
     "output_type": "execute_result"
    }
   ],
   "source": [
    "belgica_raw.head(1)"
   ]
  },
  {
   "cell_type": "markdown",
   "id": "ea2bee64-4e2c-4f66-a78b-9044fd70d8cf",
   "metadata": {},
   "source": [
    "<h3 style=\"background-size:2em 2em;background-position:0em 1em,1em 0,0em 1em,1em 0,0 0,0 0,0 0,0 0,0 0;background-image:linear-gradient(45deg,#000 8%,transparent 8%,transparent 92%,#000 92%),linear-gradient(-45deg,#000 8%,transparent 8%,transparent 92%,#000 92%),linear-gradient(-45deg,#000 8%,transparent 8%,transparent 92%,#000 92%),linear-gradient(45deg,#000 8%,transparent 8%,transparent 92%,#000 92%),linear-gradient(-45deg,transparent 17%,#000 17%,#000 21%,transparent 21%,transparent 79%,#000 79%,#000 83%,transparent 83%),linear-gradient(45deg,transparent 29%,#000 29%,#000 33%,transparent 33%,transparent 67%,#000 67%,#000 71%,transparent 71%),linear-gradient(-135deg,#202020 10%,#090909 33%,transparent 33%,transparent 67%,#161616 67%,#202020 90%),linear-gradient(135deg,transparent 21%,#161616 21%,#2d2d2d 32.6%,#161616 64.5%,#202020 70.3%,#090909 79%,transparent 79%),linear-gradient(-135deg,transparent 21%,#161616 21%,#202020 40%,#202020 60%,#090909 79%,transparent 79%);\n",
    "color: white;\n",
    "font-weight: 40;\n",
    "font-size: 40px;\n",
    "margin: 0.5em auto;\n",
    "text-align: left;\n",
    "cursor: wait;\n",
    "letter-spacing: 10;\"> Mão do Oponente</h3>    "
   ]
  },
  {
   "cell_type": "code",
   "execution_count": 141,
   "id": "b9f97a9c-93d2-442e-8f9f-56484626b0b2",
   "metadata": {
    "ExecuteTime": {
     "end_time": "2023-05-30T15:04:51.845826Z",
     "start_time": "2023-05-30T15:04:51.820991Z"
    }
   },
   "outputs": [],
   "source": [
    "belgica_raw['mainHandOponent_dummy'] = np.where(belgica_raw['mainHandOponent'].eq('Right-Handed'), 1, 0)"
   ]
  },
  {
   "cell_type": "code",
   "execution_count": 142,
   "id": "f9476760-9dac-47a4-bd32-232fdc13a961",
   "metadata": {
    "ExecuteTime": {
     "end_time": "2023-05-30T15:04:51.892659Z",
     "start_time": "2023-05-30T15:04:51.849829Z"
    }
   },
   "outputs": [
    {
     "data": {
      "text/html": [
       "<div>\n",
       "<style scoped>\n",
       "    .dataframe tbody tr th:only-of-type {\n",
       "        vertical-align: middle;\n",
       "    }\n",
       "\n",
       "    .dataframe tbody tr th {\n",
       "        vertical-align: top;\n",
       "    }\n",
       "\n",
       "    .dataframe thead th {\n",
       "        text-align: right;\n",
       "    }\n",
       "</style>\n",
       "<table border=\"1\" class=\"dataframe\">\n",
       "  <thead>\n",
       "    <tr style=\"text-align: right;\">\n",
       "      <th></th>\n",
       "      <th>Tournament</th>\n",
       "      <th>Location</th>\n",
       "      <th>Date</th>\n",
       "      <th>Ground</th>\n",
       "      <th>Prize</th>\n",
       "      <th>GameRound</th>\n",
       "      <th>Oponent</th>\n",
       "      <th>WL</th>\n",
       "      <th>país</th>\n",
       "      <th>PlayerName</th>\n",
       "      <th>...</th>\n",
       "      <th>BirthYear</th>\n",
       "      <th>BirthOponentYear</th>\n",
       "      <th>DiffAge</th>\n",
       "      <th>DiffIMC</th>\n",
       "      <th>GroundNumerico</th>\n",
       "      <th>DiffRank</th>\n",
       "      <th>QTDBelgas</th>\n",
       "      <th>Finals</th>\n",
       "      <th>mainHand_dummy</th>\n",
       "      <th>mainHandOponent_dummy</th>\n",
       "    </tr>\n",
       "  </thead>\n",
       "  <tbody>\n",
       "    <tr>\n",
       "      <th>0</th>\n",
       "      <td>BEL vs. SRB WG 1st RD</td>\n",
       "      <td>Charleroi, Belgium</td>\n",
       "      <td>2013.01.28 - 2013.02.03</td>\n",
       "      <td>Clay</td>\n",
       "      <td>0</td>\n",
       "      <td>Round Robin</td>\n",
       "      <td>Olivier Rochus</td>\n",
       "      <td>W</td>\n",
       "      <td>Belgium</td>\n",
       "      <td>Novak Djokovic</td>\n",
       "      <td>...</td>\n",
       "      <td>1987.0</td>\n",
       "      <td>1981</td>\n",
       "      <td>-6</td>\n",
       "      <td>-1.244169</td>\n",
       "      <td>1</td>\n",
       "      <td>-23.0</td>\n",
       "      <td>1</td>\n",
       "      <td>0</td>\n",
       "      <td>1</td>\n",
       "      <td>1</td>\n",
       "    </tr>\n",
       "  </tbody>\n",
       "</table>\n",
       "<p>1 rows × 29 columns</p>\n",
       "</div>"
      ],
      "text/plain": [
       "              Tournament            Location                     Date Ground  \\\n",
       "0  BEL vs. SRB WG 1st RD  Charleroi, Belgium  2013.01.28 - 2013.02.03   Clay   \n",
       "\n",
       "   Prize    GameRound         Oponent WL     país      PlayerName  ...  \\\n",
       "0      0  Round Robin  Olivier Rochus  W  Belgium  Novak Djokovic  ...   \n",
       "\n",
       "  BirthYear BirthOponentYear DiffAge   DiffIMC GroundNumerico DiffRank  \\\n",
       "0    1987.0             1981      -6 -1.244169              1    -23.0   \n",
       "\n",
       "   QTDBelgas  Finals mainHand_dummy  mainHandOponent_dummy  \n",
       "0          1       0              1                      1  \n",
       "\n",
       "[1 rows x 29 columns]"
      ]
     },
     "execution_count": 142,
     "metadata": {},
     "output_type": "execute_result"
    }
   ],
   "source": [
    "belgica_raw.head(1)"
   ]
  },
  {
   "cell_type": "markdown",
   "id": "2aa4a109-1ad8-424f-b83e-fe49a3d5d187",
   "metadata": {},
   "source": [
    "<h3 style=\"background-size:2em 2em;background-position:0em 1em,1em 0,0em 1em,1em 0,0 0,0 0,0 0,0 0,0 0;background-image:linear-gradient(45deg,#000 8%,transparent 8%,transparent 92%,#000 92%),linear-gradient(-45deg,#000 8%,transparent 8%,transparent 92%,#000 92%),linear-gradient(-45deg,#000 8%,transparent 8%,transparent 92%,#000 92%),linear-gradient(45deg,#000 8%,transparent 8%,transparent 92%,#000 92%),linear-gradient(-45deg,transparent 17%,#000 17%,#000 21%,transparent 21%,transparent 79%,#000 79%,#000 83%,transparent 83%),linear-gradient(45deg,transparent 29%,#000 29%,#000 33%,transparent 33%,transparent 67%,#000 67%,#000 71%,transparent 71%),linear-gradient(-135deg,#202020 10%,#090909 33%,transparent 33%,transparent 67%,#161616 67%,#202020 90%),linear-gradient(135deg,transparent 21%,#161616 21%,#2d2d2d 32.6%,#161616 64.5%,#202020 70.3%,#090909 79%,transparent 79%),linear-gradient(-135deg,transparent 21%,#161616 21%,#202020 40%,#202020 60%,#090909 79%,transparent 79%);\n",
    "color: white;\n",
    "font-weight: 40;\n",
    "font-size: 40px;\n",
    "margin: 0.5em auto;\n",
    "text-align: left;\n",
    "cursor: wait;\n",
    "letter-spacing: 10;\">Ambos Destros ?</h3>     "
   ]
  },
  {
   "cell_type": "code",
   "execution_count": 143,
   "id": "6f05a773-a1c7-4973-ad45-1cd628910b54",
   "metadata": {
    "ExecuteTime": {
     "end_time": "2023-05-30T15:04:51.907726Z",
     "start_time": "2023-05-30T15:04:51.899203Z"
    }
   },
   "outputs": [],
   "source": [
    "belgica_raw['SumMainHand'] = belgica_raw['mainHand_dummy'] + belgica_raw['mainHandOponent_dummy']"
   ]
  },
  {
   "cell_type": "code",
   "execution_count": 144,
   "id": "e51cced5-7413-46b5-b62c-41eefa1e5203",
   "metadata": {
    "ExecuteTime": {
     "end_time": "2023-05-30T15:04:51.939252Z",
     "start_time": "2023-05-30T15:04:51.915333Z"
    }
   },
   "outputs": [],
   "source": [
    "belgica_raw.drop(['mainHandOponent_dummy', 'mainHand_dummy'], axis=1, inplace=True)"
   ]
  },
  {
   "cell_type": "code",
   "execution_count": 169,
   "id": "03ced876-c58d-4c89-999d-c0f36bc8dae0",
   "metadata": {},
   "outputs": [
    {
     "data": {
      "text/plain": [
       "74"
      ]
     },
     "execution_count": 169,
     "metadata": {},
     "output_type": "execute_result"
    }
   ],
   "source": [
    "len(belgica_raw[belgica_raw['SumMainHand'] == 0])"
   ]
  },
  {
   "cell_type": "code",
   "execution_count": 170,
   "id": "766aa3db-5d49-4d0b-8c41-04eb9d9f90cc",
   "metadata": {},
   "outputs": [
    {
     "data": {
      "image/png": "[encoded data removed]",
      "text/plain": [
       "<Figure size 640x480 with 1 Axes>"
      ]
     },
     "metadata": {},
     "output_type": "display_data"
    }
   ],
   "source": [
    "# Definir a paleta de cores usando o Seaborn\n",
    "sns.set_palette(\"bone_r\")\n",
    "\n",
    "# Dados do gráfico de pizza\n",
    "ground_data = belgica_raw[\"SumMainHand\"].value_counts()\n",
    "labels = [\"Destro Vs Destro\", \"Destro Vs Canhoto\", \"Canhoto Vs Canhoto\"]\n",
    "\n",
    "# Desenhar o gráfico de pizza com a paleta de cores definida\n",
    "plt.pie(ground_data, autopct='%.2f%%')\n",
    "\n",
    "# Personalizar o título e a legenda\n",
    "plt.title(\"Combinação das mãos nos jogos\")\n",
    "plt.legend(labels)\n",
    "\n",
    "# Exibir o gráfico\n",
    "plt.show()"
   ]
  },
  {
   "cell_type": "markdown",
   "id": "b7407d68-bb32-4d02-ade3-4ab69c03d893",
   "metadata": {},
   "source": [
    "---"
   ]
  },
  {
   "cell_type": "markdown",
   "id": "447c4348-4693-49a7-b70e-a82eda75131a",
   "metadata": {},
   "source": [
    "<h2 style=\"background-size:2em 2em;background-position:0em 1em,1em 0,0em 1em,1em 0,0 0,0 0,0 0,0 0,0 0;background-image:linear-gradient(45deg,#000 8%,transparent 8%,transparent 92%,#000 92%),linear-gradient(-45deg,#000 8%,transparent 8%,transparent 92%,#000 92%),linear-gradient(-45deg,#000 8%,transparent 8%,transparent 92%,#000 92%),linear-gradient(45deg,#000 8%,transparent 8%,transparent 92%,#000 92%),linear-gradient(-45deg,transparent 17%,#000 17%,#000 21%,transparent 21%,transparent 79%,#000 79%,#000 83%,transparent 83%),linear-gradient(45deg,transparent 29%,#000 29%,#000 33%,transparent 33%,transparent 67%,#000 67%,#000 71%,transparent 71%),linear-gradient(-135deg,#202020 10%,#090909 33%,transparent 33%,transparent 67%,#161616 67%,#202020 90%),linear-gradient(135deg,transparent 21%,#161616 21%,#2d2d2d 32.6%,#161616 64.5%,#202020 70.3%,#090909 79%,transparent 79%),linear-gradient(-135deg,transparent 21%,#161616 21%,#202020 40%,#202020 60%,#090909 79%,transparent 79%);\n",
    "color: white;\n",
    "font-weight: 40;\n",
    "font-size: 50px;\n",
    "margin: 0.5em auto;\n",
    "text-align: center;\n",
    "cursor: wait;\n",
    "letter-spacing: 10;\">Tem treinador ?</h2>  "
   ]
  },
  {
   "cell_type": "markdown",
   "id": "c8d9fe70-ce26-4d05-a0ea-4c1e78b20df7",
   "metadata": {},
   "source": [
    "<h3 style=\"background-size:2em 2em;background-position:0em 1em,1em 0,0em 1em,1em 0,0 0,0 0,0 0,0 0,0 0;background-image:linear-gradient(45deg,#000 8%,transparent 8%,transparent 92%,#000 92%),linear-gradient(-45deg,#000 8%,transparent 8%,transparent 92%,#000 92%),linear-gradient(-45deg,#000 8%,transparent 8%,transparent 92%,#000 92%),linear-gradient(45deg,#000 8%,transparent 8%,transparent 92%,#000 92%),linear-gradient(-45deg,transparent 17%,#000 17%,#000 21%,transparent 21%,transparent 79%,#000 79%,#000 83%,transparent 83%),linear-gradient(45deg,transparent 29%,#000 29%,#000 33%,transparent 33%,transparent 67%,#000 67%,#000 71%,transparent 71%),linear-gradient(-135deg,#202020 10%,#090909 33%,transparent 33%,transparent 67%,#161616 67%,#202020 90%),linear-gradient(135deg,transparent 21%,#161616 21%,#2d2d2d 32.6%,#161616 64.5%,#202020 70.3%,#090909 79%,transparent 79%),linear-gradient(-135deg,transparent 21%,#161616 21%,#202020 40%,#202020 60%,#090909 79%,transparent 79%);\n",
    "color: white;\n",
    "font-weight: 40;\n",
    "font-size: 40px;\n",
    "margin: 0.5em auto;\n",
    "text-align: left;\n",
    "cursor: wait;\n",
    "letter-spacing: 10;\">Player</h3>     "
   ]
  },
  {
   "cell_type": "code",
   "execution_count": 145,
   "id": "0cfc822a-eb1c-420d-9aa9-2bc625a54c06",
   "metadata": {
    "ExecuteTime": {
     "end_time": "2023-05-30T15:04:51.970591Z",
     "start_time": "2023-05-30T15:04:51.946129Z"
    }
   },
   "outputs": [],
   "source": [
    "belgica_raw['PlayerTreinador'] = belgica_raw['Treinador'].notnull().astype(int)"
   ]
  },
  {
   "cell_type": "code",
   "execution_count": 146,
   "id": "c11025da-ffe5-45c0-b357-10d3a2b866cc",
   "metadata": {
    "ExecuteTime": {
     "end_time": "2023-05-30T15:04:52.032840Z",
     "start_time": "2023-05-30T15:04:51.978110Z"
    }
   },
   "outputs": [
    {
     "data": {
      "text/html": [
       "<div>\n",
       "<style scoped>\n",
       "    .dataframe tbody tr th:only-of-type {\n",
       "        vertical-align: middle;\n",
       "    }\n",
       "\n",
       "    .dataframe tbody tr th {\n",
       "        vertical-align: top;\n",
       "    }\n",
       "\n",
       "    .dataframe thead th {\n",
       "        text-align: right;\n",
       "    }\n",
       "</style>\n",
       "<table border=\"1\" class=\"dataframe\">\n",
       "  <thead>\n",
       "    <tr style=\"text-align: right;\">\n",
       "      <th></th>\n",
       "      <th>Tournament</th>\n",
       "      <th>Location</th>\n",
       "      <th>Date</th>\n",
       "      <th>Ground</th>\n",
       "      <th>Prize</th>\n",
       "      <th>GameRound</th>\n",
       "      <th>Oponent</th>\n",
       "      <th>WL</th>\n",
       "      <th>país</th>\n",
       "      <th>PlayerName</th>\n",
       "      <th>...</th>\n",
       "      <th>BirthYear</th>\n",
       "      <th>BirthOponentYear</th>\n",
       "      <th>DiffAge</th>\n",
       "      <th>DiffIMC</th>\n",
       "      <th>GroundNumerico</th>\n",
       "      <th>DiffRank</th>\n",
       "      <th>QTDBelgas</th>\n",
       "      <th>Finals</th>\n",
       "      <th>SumMainHand</th>\n",
       "      <th>PlayerTreinador</th>\n",
       "    </tr>\n",
       "  </thead>\n",
       "  <tbody>\n",
       "    <tr>\n",
       "      <th>0</th>\n",
       "      <td>BEL vs. SRB WG 1st RD</td>\n",
       "      <td>Charleroi, Belgium</td>\n",
       "      <td>2013.01.28 - 2013.02.03</td>\n",
       "      <td>Clay</td>\n",
       "      <td>0</td>\n",
       "      <td>Round Robin</td>\n",
       "      <td>Olivier Rochus</td>\n",
       "      <td>W</td>\n",
       "      <td>Belgium</td>\n",
       "      <td>Novak Djokovic</td>\n",
       "      <td>...</td>\n",
       "      <td>1987.0</td>\n",
       "      <td>1981</td>\n",
       "      <td>-6</td>\n",
       "      <td>-1.244169</td>\n",
       "      <td>1</td>\n",
       "      <td>-23.0</td>\n",
       "      <td>1</td>\n",
       "      <td>0</td>\n",
       "      <td>2</td>\n",
       "      <td>1</td>\n",
       "    </tr>\n",
       "  </tbody>\n",
       "</table>\n",
       "<p>1 rows × 29 columns</p>\n",
       "</div>"
      ],
      "text/plain": [
       "              Tournament            Location                     Date Ground  \\\n",
       "0  BEL vs. SRB WG 1st RD  Charleroi, Belgium  2013.01.28 - 2013.02.03   Clay   \n",
       "\n",
       "   Prize    GameRound         Oponent WL     país      PlayerName  ...  \\\n",
       "0      0  Round Robin  Olivier Rochus  W  Belgium  Novak Djokovic  ...   \n",
       "\n",
       "  BirthYear BirthOponentYear DiffAge   DiffIMC GroundNumerico DiffRank  \\\n",
       "0    1987.0             1981      -6 -1.244169              1    -23.0   \n",
       "\n",
       "   QTDBelgas  Finals SumMainHand  PlayerTreinador  \n",
       "0          1       0           2                1  \n",
       "\n",
       "[1 rows x 29 columns]"
      ]
     },
     "execution_count": 146,
     "metadata": {},
     "output_type": "execute_result"
    }
   ],
   "source": [
    "belgica_raw.head(1)"
   ]
  },
  {
   "cell_type": "code",
   "execution_count": 147,
   "id": "85cc3a13-cd58-4804-acca-b8b9afc3006b",
   "metadata": {
    "ExecuteTime": {
     "end_time": "2023-05-30T15:04:52.064519Z",
     "start_time": "2023-05-30T15:04:52.038394Z"
    }
   },
   "outputs": [],
   "source": [
    "belgica_raw.drop(\"Treinador\", axis=1, inplace=True)"
   ]
  },
  {
   "cell_type": "markdown",
   "id": "e6c999e3-7c86-4c53-bae9-7b6266e2a7a3",
   "metadata": {},
   "source": [
    "<h3 style=\"background-size:2em 2em;background-position:0em 1em,1em 0,0em 1em,1em 0,0 0,0 0,0 0,0 0,0 0;background-image:linear-gradient(45deg,#000 8%,transparent 8%,transparent 92%,#000 92%),linear-gradient(-45deg,#000 8%,transparent 8%,transparent 92%,#000 92%),linear-gradient(-45deg,#000 8%,transparent 8%,transparent 92%,#000 92%),linear-gradient(45deg,#000 8%,transparent 8%,transparent 92%,#000 92%),linear-gradient(-45deg,transparent 17%,#000 17%,#000 21%,transparent 21%,transparent 79%,#000 79%,#000 83%,transparent 83%),linear-gradient(45deg,transparent 29%,#000 29%,#000 33%,transparent 33%,transparent 67%,#000 67%,#000 71%,transparent 71%),linear-gradient(-135deg,#202020 10%,#090909 33%,transparent 33%,transparent 67%,#161616 67%,#202020 90%),linear-gradient(135deg,transparent 21%,#161616 21%,#2d2d2d 32.6%,#161616 64.5%,#202020 70.3%,#090909 79%,transparent 79%),linear-gradient(-135deg,transparent 21%,#161616 21%,#202020 40%,#202020 60%,#090909 79%,transparent 79%);\n",
    "color: white;\n",
    "font-weight: 40;\n",
    "font-size: 40px;\n",
    "margin: 0.5em auto;\n",
    "text-align: left;\n",
    "cursor: wait;\n",
    "letter-spacing: 10;\">Oponent</h3>      "
   ]
  },
  {
   "cell_type": "code",
   "execution_count": 148,
   "id": "bcb6be8a-3cde-4f84-a01f-7d8f17d5c872",
   "metadata": {
    "ExecuteTime": {
     "end_time": "2023-05-30T15:04:52.095540Z",
     "start_time": "2023-05-30T15:04:52.070203Z"
    }
   },
   "outputs": [
    {
     "data": {
      "text/plain": [
       "Index(['Tournament', 'Location', 'Date', 'Ground', 'Prize', 'GameRound',\n",
       "       'Oponent', 'WL', 'país', 'PlayerName', 'Born', 'BornOponent',\n",
       "       'TreinadorOponent', 'mainHand', 'mainHandOponent', 'TournamentYear',\n",
       "       'NumeroSets', 'TipoTorneio', 'BirthYear', 'BirthOponentYear', 'DiffAge',\n",
       "       'DiffIMC', 'GroundNumerico', 'DiffRank', 'QTDBelgas', 'Finals',\n",
       "       'SumMainHand', 'PlayerTreinador'],\n",
       "      dtype='object')"
      ]
     },
     "execution_count": 148,
     "metadata": {},
     "output_type": "execute_result"
    }
   ],
   "source": [
    "belgica_raw.columns"
   ]
  },
  {
   "cell_type": "code",
   "execution_count": 149,
   "id": "89bb77c4-ac48-423b-8492-5b955a99fb80",
   "metadata": {
    "ExecuteTime": {
     "end_time": "2023-05-30T15:04:52.126323Z",
     "start_time": "2023-05-30T15:04:52.100541Z"
    }
   },
   "outputs": [],
   "source": [
    "belgica_raw['OponentTreinador'] = belgica_raw['TreinadorOponent'].notnull().astype(int)"
   ]
  },
  {
   "cell_type": "code",
   "execution_count": 150,
   "id": "2d66238a-60de-4c6f-8b1a-d624eec5a11d",
   "metadata": {
    "ExecuteTime": {
     "end_time": "2023-05-30T15:04:52.187518Z",
     "start_time": "2023-05-30T15:04:52.132342Z"
    }
   },
   "outputs": [
    {
     "data": {
      "text/html": [
       "<div>\n",
       "<style scoped>\n",
       "    .dataframe tbody tr th:only-of-type {\n",
       "        vertical-align: middle;\n",
       "    }\n",
       "\n",
       "    .dataframe tbody tr th {\n",
       "        vertical-align: top;\n",
       "    }\n",
       "\n",
       "    .dataframe thead th {\n",
       "        text-align: right;\n",
       "    }\n",
       "</style>\n",
       "<table border=\"1\" class=\"dataframe\">\n",
       "  <thead>\n",
       "    <tr style=\"text-align: right;\">\n",
       "      <th></th>\n",
       "      <th>Tournament</th>\n",
       "      <th>Location</th>\n",
       "      <th>Date</th>\n",
       "      <th>Ground</th>\n",
       "      <th>Prize</th>\n",
       "      <th>GameRound</th>\n",
       "      <th>Oponent</th>\n",
       "      <th>WL</th>\n",
       "      <th>país</th>\n",
       "      <th>PlayerName</th>\n",
       "      <th>...</th>\n",
       "      <th>BirthOponentYear</th>\n",
       "      <th>DiffAge</th>\n",
       "      <th>DiffIMC</th>\n",
       "      <th>GroundNumerico</th>\n",
       "      <th>DiffRank</th>\n",
       "      <th>QTDBelgas</th>\n",
       "      <th>Finals</th>\n",
       "      <th>SumMainHand</th>\n",
       "      <th>PlayerTreinador</th>\n",
       "      <th>OponentTreinador</th>\n",
       "    </tr>\n",
       "  </thead>\n",
       "  <tbody>\n",
       "    <tr>\n",
       "      <th>0</th>\n",
       "      <td>BEL vs. SRB WG 1st RD</td>\n",
       "      <td>Charleroi, Belgium</td>\n",
       "      <td>2013.01.28 - 2013.02.03</td>\n",
       "      <td>Clay</td>\n",
       "      <td>0</td>\n",
       "      <td>Round Robin</td>\n",
       "      <td>Olivier Rochus</td>\n",
       "      <td>W</td>\n",
       "      <td>Belgium</td>\n",
       "      <td>Novak Djokovic</td>\n",
       "      <td>...</td>\n",
       "      <td>1981</td>\n",
       "      <td>-6</td>\n",
       "      <td>-1.244169</td>\n",
       "      <td>1</td>\n",
       "      <td>-23.0</td>\n",
       "      <td>1</td>\n",
       "      <td>0</td>\n",
       "      <td>2</td>\n",
       "      <td>1</td>\n",
       "      <td>1</td>\n",
       "    </tr>\n",
       "  </tbody>\n",
       "</table>\n",
       "<p>1 rows × 29 columns</p>\n",
       "</div>"
      ],
      "text/plain": [
       "              Tournament            Location                     Date Ground  \\\n",
       "0  BEL vs. SRB WG 1st RD  Charleroi, Belgium  2013.01.28 - 2013.02.03   Clay   \n",
       "\n",
       "   Prize    GameRound         Oponent WL     país      PlayerName  ...  \\\n",
       "0      0  Round Robin  Olivier Rochus  W  Belgium  Novak Djokovic  ...   \n",
       "\n",
       "  BirthOponentYear DiffAge   DiffIMC GroundNumerico DiffRank  QTDBelgas  \\\n",
       "0             1981      -6 -1.244169              1    -23.0          1   \n",
       "\n",
       "   Finals SumMainHand  PlayerTreinador OponentTreinador  \n",
       "0       0           2                1                1  \n",
       "\n",
       "[1 rows x 29 columns]"
      ]
     },
     "execution_count": 150,
     "metadata": {},
     "output_type": "execute_result"
    }
   ],
   "source": [
    "belgica_raw.head(1)"
   ]
  },
  {
   "cell_type": "code",
   "execution_count": 151,
   "id": "ea3768ee-6796-443e-ad55-acf6a5eeacb4",
   "metadata": {
    "ExecuteTime": {
     "end_time": "2023-05-30T15:04:52.219148Z",
     "start_time": "2023-05-30T15:04:52.194095Z"
    }
   },
   "outputs": [],
   "source": [
    "belgica_raw.drop(\"TreinadorOponent\", axis=1, inplace=True)"
   ]
  },
  {
   "cell_type": "markdown",
   "id": "5ece3f81-608c-4c17-ad28-c0c950feca4d",
   "metadata": {},
   "source": [
    "<h3 style=\"background-size:2em 2em;background-position:0em 1em,1em 0,0em 1em,1em 0,0 0,0 0,0 0,0 0,0 0;background-image:linear-gradient(45deg,#000 8%,transparent 8%,transparent 92%,#000 92%),linear-gradient(-45deg,#000 8%,transparent 8%,transparent 92%,#000 92%),linear-gradient(-45deg,#000 8%,transparent 8%,transparent 92%,#000 92%),linear-gradient(45deg,#000 8%,transparent 8%,transparent 92%,#000 92%),linear-gradient(-45deg,transparent 17%,#000 17%,#000 21%,transparent 21%,transparent 79%,#000 79%,#000 83%,transparent 83%),linear-gradient(45deg,transparent 29%,#000 29%,#000 33%,transparent 33%,transparent 67%,#000 67%,#000 71%,transparent 71%),linear-gradient(-135deg,#202020 10%,#090909 33%,transparent 33%,transparent 67%,#161616 67%,#202020 90%),linear-gradient(135deg,transparent 21%,#161616 21%,#2d2d2d 32.6%,#161616 64.5%,#202020 70.3%,#090909 79%,transparent 79%),linear-gradient(-135deg,transparent 21%,#161616 21%,#202020 40%,#202020 60%,#090909 79%,transparent 79%);\n",
    "color: white;\n",
    "font-weight: 40;\n",
    "font-size: 40px;\n",
    "margin: 0.5em auto;\n",
    "text-align: left;\n",
    "cursor: wait;\n",
    "letter-spacing: 10;\">Ambos têm treinadores ?</h3>      "
   ]
  },
  {
   "cell_type": "code",
   "execution_count": 152,
   "id": "646adada-77d4-40f7-8cdb-a6c51fd749b8",
   "metadata": {
    "ExecuteTime": {
     "end_time": "2023-05-30T15:04:52.235083Z",
     "start_time": "2023-05-30T15:04:52.224141Z"
    }
   },
   "outputs": [],
   "source": [
    "belgica_raw[\"SumTrainer\"] = belgica_raw['PlayerTreinador'] + belgica_raw['OponentTreinador']"
   ]
  },
  {
   "cell_type": "code",
   "execution_count": 153,
   "id": "f4eadcf6-0fad-4261-a7e0-3065f618850d",
   "metadata": {
    "ExecuteTime": {
     "end_time": "2023-05-30T15:04:52.266246Z",
     "start_time": "2023-05-30T15:04:52.238089Z"
    }
   },
   "outputs": [],
   "source": [
    "belgica_raw.drop(['PlayerTreinador', 'OponentTreinador'], axis=1, inplace=True)"
   ]
  },
  {
   "cell_type": "markdown",
   "id": "a7eb5b04-7493-4581-97f3-c8843349854c",
   "metadata": {},
   "source": [
    "---"
   ]
  },
  {
   "cell_type": "markdown",
   "id": "1f85c983-ab28-4e65-aa4c-6f406078534a",
   "metadata": {},
   "source": [
    "<h1 style=\"background-size:2em 2em;background-position:0em 1em,1em 0,0em 1em,1em 0,0 0,0 0,0 0,0 0,0 0;background-image:linear-gradient(45deg,#000 8%,transparent 8%,transparent 92%,#000 92%),linear-gradient(-45deg,#000 8%,transparent 8%,transparent 92%,#000 92%),linear-gradient(-45deg,#000 8%,transparent 8%,transparent 92%,#000 92%),linear-gradient(45deg,#000 8%,transparent 8%,transparent 92%,#000 92%),linear-gradient(-45deg,transparent 17%,#000 17%,#000 21%,transparent 21%,transparent 79%,#000 79%,#000 83%,transparent 83%),linear-gradient(45deg,transparent 29%,#000 29%,#000 33%,transparent 33%,transparent 67%,#000 67%,#000 71%,transparent 71%),linear-gradient(-135deg,#202020 10%,#090909 33%,transparent 33%,transparent 67%,#161616 67%,#202020 90%),linear-gradient(135deg,transparent 21%,#161616 21%,#2d2d2d 32.6%,#161616 64.5%,#202020 70.3%,#090909 79%,transparent 79%),linear-gradient(-135deg,transparent 21%,#161616 21%,#202020 40%,#202020 60%,#090909 79%,transparent 79%);\n",
    "color: white;\n",
    "font-weight: 40;\n",
    "font-size: 50px;\n",
    "margin: 0.5em auto;\n",
    "text-align: center;\n",
    "cursor: wait;\n",
    "letter-spacing: 10;\">Extras</h1>      "
   ]
  },
  {
   "cell_type": "code",
   "execution_count": 154,
   "id": "500d4385-5a6d-4bed-9c0e-cd6e41be8e7f",
   "metadata": {
    "ExecuteTime": {
     "end_time": "2023-05-30T15:04:52.296748Z",
     "start_time": "2023-05-30T15:04:52.271249Z"
    }
   },
   "outputs": [
    {
     "data": {
      "text/plain": [
       "Index(['Tournament', 'Location', 'Date', 'Ground', 'Prize', 'GameRound',\n",
       "       'Oponent', 'WL', 'país', 'PlayerName', 'Born', 'BornOponent',\n",
       "       'mainHand', 'mainHandOponent', 'TournamentYear', 'NumeroSets',\n",
       "       'TipoTorneio', 'BirthYear', 'BirthOponentYear', 'DiffAge', 'DiffIMC',\n",
       "       'GroundNumerico', 'DiffRank', 'QTDBelgas', 'Finals', 'SumMainHand',\n",
       "       'SumTrainer'],\n",
       "      dtype='object')"
      ]
     },
     "execution_count": 154,
     "metadata": {},
     "output_type": "execute_result"
    }
   ],
   "source": [
    "belgica_raw.columns"
   ]
  },
  {
   "cell_type": "code",
   "execution_count": 155,
   "id": "54e682bf-0c59-414f-9357-d6e0d79c9e67",
   "metadata": {
    "ExecuteTime": {
     "end_time": "2023-05-30T15:04:52.328358Z",
     "start_time": "2023-05-30T15:04:52.302714Z"
    }
   },
   "outputs": [],
   "source": [
    "belgica_raw.drop([\"país\", \"Date\", \"WL\", 'mainHand', 'mainHandOponent', 'BirthYear', 'BirthOponentYear', 'Born', 'BornOponent', 'GameRound', 'Ground', 'Location'], axis=1, inplace=True)"
   ]
  },
  {
   "cell_type": "code",
   "execution_count": 156,
   "id": "19e67c21-42af-4a41-99ea-a0cd2dc7f029",
   "metadata": {
    "ExecuteTime": {
     "end_time": "2023-05-30T15:04:52.359373Z",
     "start_time": "2023-05-30T15:04:52.334362Z"
    }
   },
   "outputs": [
    {
     "data": {
      "text/plain": [
       "Index(['Tournament', 'Prize', 'Oponent', 'PlayerName', 'TournamentYear',\n",
       "       'NumeroSets', 'TipoTorneio', 'DiffAge', 'DiffIMC', 'GroundNumerico',\n",
       "       'DiffRank', 'QTDBelgas', 'Finals', 'SumMainHand', 'SumTrainer'],\n",
       "      dtype='object')"
      ]
     },
     "execution_count": 156,
     "metadata": {},
     "output_type": "execute_result"
    }
   ],
   "source": [
    "belgica_raw.columns"
   ]
  },
  {
   "cell_type": "code",
   "execution_count": 157,
   "id": "88d6e08b-c33b-491b-b0bc-580b00c7cd66",
   "metadata": {
    "ExecuteTime": {
     "end_time": "2023-05-30T15:04:52.391619Z",
     "start_time": "2023-05-30T15:04:52.367918Z"
    }
   },
   "outputs": [],
   "source": [
    "belgica_raw = belgica_raw.reindex(columns=['PlayerName', 'Oponent', 'Tournament', \n",
    "                                           'GroundNumerico', 'Prize', 'TournamentYear', 'NumeroSets', 'DiffIMC', 'DiffAge', 'DiffRank', \n",
    "                                           'QTDBelgas', 'Finals', 'SumMainHand', 'SumTrainer','TipoTorneio'])"
   ]
  },
  {
   "cell_type": "code",
   "execution_count": 158,
   "id": "71bdc42e-e50d-46c5-affe-3d9141f1e7fd",
   "metadata": {
    "ExecuteTime": {
     "end_time": "2023-05-30T15:04:52.406693Z",
     "start_time": "2023-05-30T15:04:52.398142Z"
    }
   },
   "outputs": [],
   "source": [
    "belgica_raw.reset_index(drop=True, inplace=True)"
   ]
  },
  {
   "cell_type": "code",
   "execution_count": 159,
   "id": "e023298a-2254-45fc-ac6e-83e8db2c0bf7",
   "metadata": {
    "ExecuteTime": {
     "end_time": "2023-05-30T15:04:52.484759Z",
     "start_time": "2023-05-30T15:04:52.416448Z"
    }
   },
   "outputs": [
    {
     "data": {
      "text/html": [
       "<div>\n",
       "<style scoped>\n",
       "    .dataframe tbody tr th:only-of-type {\n",
       "        vertical-align: middle;\n",
       "    }\n",
       "\n",
       "    .dataframe tbody tr th {\n",
       "        vertical-align: top;\n",
       "    }\n",
       "\n",
       "    .dataframe thead th {\n",
       "        text-align: right;\n",
       "    }\n",
       "</style>\n",
       "<table border=\"1\" class=\"dataframe\">\n",
       "  <thead>\n",
       "    <tr style=\"text-align: right;\">\n",
       "      <th></th>\n",
       "      <th>index</th>\n",
       "      <th>PlayerName</th>\n",
       "      <th>Oponent</th>\n",
       "      <th>Tournament</th>\n",
       "      <th>GroundNumerico</th>\n",
       "      <th>Prize</th>\n",
       "      <th>TournamentYear</th>\n",
       "      <th>NumeroSets</th>\n",
       "      <th>DiffIMC</th>\n",
       "      <th>DiffAge</th>\n",
       "      <th>DiffRank</th>\n",
       "      <th>QTDBelgas</th>\n",
       "      <th>Finals</th>\n",
       "      <th>SumMainHand</th>\n",
       "      <th>SumTrainer</th>\n",
       "      <th>TipoTorneio</th>\n",
       "    </tr>\n",
       "  </thead>\n",
       "  <tbody>\n",
       "    <tr>\n",
       "      <th>0</th>\n",
       "      <td>0</td>\n",
       "      <td>Novak Djokovic</td>\n",
       "      <td>Olivier Rochus</td>\n",
       "      <td>BEL vs. SRB WG 1st RD</td>\n",
       "      <td>1</td>\n",
       "      <td>0</td>\n",
       "      <td>2013</td>\n",
       "      <td>3</td>\n",
       "      <td>-1.244169</td>\n",
       "      <td>-6</td>\n",
       "      <td>-23.0</td>\n",
       "      <td>1</td>\n",
       "      <td>0</td>\n",
       "      <td>2</td>\n",
       "      <td>2</td>\n",
       "      <td>Melhor_de_5</td>\n",
       "    </tr>\n",
       "    <tr>\n",
       "      <th>1</th>\n",
       "      <td>1</td>\n",
       "      <td>Sebastien Grosjean</td>\n",
       "      <td>Olivier Rochus</td>\n",
       "      <td>BEL v FRA WG Rd 1</td>\n",
       "      <td>1</td>\n",
       "      <td>0</td>\n",
       "      <td>2001</td>\n",
       "      <td>5</td>\n",
       "      <td>0.806689</td>\n",
       "      <td>3</td>\n",
       "      <td>-20.0</td>\n",
       "      <td>1</td>\n",
       "      <td>0</td>\n",
       "      <td>2</td>\n",
       "      <td>2</td>\n",
       "      <td>Melhor_de_5</td>\n",
       "    </tr>\n",
       "    <tr>\n",
       "      <th>2</th>\n",
       "      <td>2</td>\n",
       "      <td>Andrei Pavel</td>\n",
       "      <td>Olivier Rochus</td>\n",
       "      <td>Mons</td>\n",
       "      <td>2</td>\n",
       "      <td>125000</td>\n",
       "      <td>2007</td>\n",
       "      <td>2</td>\n",
       "      <td>3.844451</td>\n",
       "      <td>7</td>\n",
       "      <td>-11.0</td>\n",
       "      <td>1</td>\n",
       "      <td>1</td>\n",
       "      <td>2</td>\n",
       "      <td>1</td>\n",
       "      <td>Melhor_de_3</td>\n",
       "    </tr>\n",
       "    <tr>\n",
       "      <th>3</th>\n",
       "      <td>3</td>\n",
       "      <td>Andy Roddick</td>\n",
       "      <td>Olivier Rochus</td>\n",
       "      <td>BEL vs. USA WG PO</td>\n",
       "      <td>1</td>\n",
       "      <td>0</td>\n",
       "      <td>2005</td>\n",
       "      <td>5</td>\n",
       "      <td>1.868099</td>\n",
       "      <td>-1</td>\n",
       "      <td>-23.0</td>\n",
       "      <td>1</td>\n",
       "      <td>0</td>\n",
       "      <td>2</td>\n",
       "      <td>2</td>\n",
       "      <td>Melhor_de_5</td>\n",
       "    </tr>\n",
       "    <tr>\n",
       "      <th>4</th>\n",
       "      <td>4</td>\n",
       "      <td>Christophe Rochus</td>\n",
       "      <td>Olivier Rochus</td>\n",
       "      <td>Ostend</td>\n",
       "      <td>1</td>\n",
       "      <td>125000</td>\n",
       "      <td>1999</td>\n",
       "      <td>3</td>\n",
       "      <td>0.499366</td>\n",
       "      <td>3</td>\n",
       "      <td>15.0</td>\n",
       "      <td>2</td>\n",
       "      <td>0</td>\n",
       "      <td>2</td>\n",
       "      <td>2</td>\n",
       "      <td>Melhor_de_3</td>\n",
       "    </tr>\n",
       "    <tr>\n",
       "      <th>...</th>\n",
       "      <td>...</td>\n",
       "      <td>...</td>\n",
       "      <td>...</td>\n",
       "      <td>...</td>\n",
       "      <td>...</td>\n",
       "      <td>...</td>\n",
       "      <td>...</td>\n",
       "      <td>...</td>\n",
       "      <td>...</td>\n",
       "      <td>...</td>\n",
       "      <td>...</td>\n",
       "      <td>...</td>\n",
       "      <td>...</td>\n",
       "      <td>...</td>\n",
       "      <td>...</td>\n",
       "      <td>...</td>\n",
       "    </tr>\n",
       "    <tr>\n",
       "      <th>4103</th>\n",
       "      <td>4103</td>\n",
       "      <td>Tomas Martin Etcheverry</td>\n",
       "      <td>Matias Zukas</td>\n",
       "      <td>Belgium F7</td>\n",
       "      <td>1</td>\n",
       "      <td>15000</td>\n",
       "      <td>2018</td>\n",
       "      <td>2</td>\n",
       "      <td>-0.154324</td>\n",
       "      <td>-3</td>\n",
       "      <td>-487.0</td>\n",
       "      <td>0</td>\n",
       "      <td>1</td>\n",
       "      <td>2</td>\n",
       "      <td>2</td>\n",
       "      <td>Melhor_de_3</td>\n",
       "    </tr>\n",
       "    <tr>\n",
       "      <th>4104</th>\n",
       "      <td>4104</td>\n",
       "      <td>Thiemo de Bakker</td>\n",
       "      <td>Victor Hanescu</td>\n",
       "      <td>Bercuit</td>\n",
       "      <td>1</td>\n",
       "      <td>54604</td>\n",
       "      <td>2012</td>\n",
       "      <td>3</td>\n",
       "      <td>-0.164212</td>\n",
       "      <td>-7</td>\n",
       "      <td>1847.0</td>\n",
       "      <td>0</td>\n",
       "      <td>1</td>\n",
       "      <td>2</td>\n",
       "      <td>2</td>\n",
       "      <td>Melhor_de_3</td>\n",
       "    </tr>\n",
       "    <tr>\n",
       "      <th>4105</th>\n",
       "      <td>4105</td>\n",
       "      <td>Thiemo de Bakker</td>\n",
       "      <td>Andre Ghem</td>\n",
       "      <td>Bercuit</td>\n",
       "      <td>1</td>\n",
       "      <td>54604</td>\n",
       "      <td>2012</td>\n",
       "      <td>2</td>\n",
       "      <td>-0.805391</td>\n",
       "      <td>-6</td>\n",
       "      <td>1755.0</td>\n",
       "      <td>0</td>\n",
       "      <td>1</td>\n",
       "      <td>2</td>\n",
       "      <td>2</td>\n",
       "      <td>Melhor_de_3</td>\n",
       "    </tr>\n",
       "    <tr>\n",
       "      <th>4106</th>\n",
       "      <td>4106</td>\n",
       "      <td>Cameron Norrie</td>\n",
       "      <td>Emil Ruusuvuori</td>\n",
       "      <td>Antwerp</td>\n",
       "      <td>2</td>\n",
       "      <td>450939</td>\n",
       "      <td>2020</td>\n",
       "      <td>2</td>\n",
       "      <td>0.848800</td>\n",
       "      <td>4</td>\n",
       "      <td>-28.0</td>\n",
       "      <td>0</td>\n",
       "      <td>0</td>\n",
       "      <td>1</td>\n",
       "      <td>2</td>\n",
       "      <td>Melhor_de_3</td>\n",
       "    </tr>\n",
       "    <tr>\n",
       "      <th>4107</th>\n",
       "      <td>4107</td>\n",
       "      <td>Marcos Giron</td>\n",
       "      <td>Yasutaka Uchiyama</td>\n",
       "      <td>Antwerp</td>\n",
       "      <td>2</td>\n",
       "      <td>450939</td>\n",
       "      <td>2020</td>\n",
       "      <td>2</td>\n",
       "      <td>0.474202</td>\n",
       "      <td>-1</td>\n",
       "      <td>-216.0</td>\n",
       "      <td>0</td>\n",
       "      <td>0</td>\n",
       "      <td>2</td>\n",
       "      <td>2</td>\n",
       "      <td>Melhor_de_3</td>\n",
       "    </tr>\n",
       "  </tbody>\n",
       "</table>\n",
       "<p>4108 rows × 16 columns</p>\n",
       "</div>"
      ],
      "text/plain": [
       "      index               PlayerName            Oponent  \\\n",
       "0         0           Novak Djokovic     Olivier Rochus   \n",
       "1         1       Sebastien Grosjean     Olivier Rochus   \n",
       "2         2             Andrei Pavel     Olivier Rochus   \n",
       "3         3             Andy Roddick     Olivier Rochus   \n",
       "4         4        Christophe Rochus     Olivier Rochus   \n",
       "...     ...                      ...                ...   \n",
       "4103   4103  Tomas Martin Etcheverry       Matias Zukas   \n",
       "4104   4104         Thiemo de Bakker     Victor Hanescu   \n",
       "4105   4105         Thiemo de Bakker         Andre Ghem   \n",
       "4106   4106           Cameron Norrie    Emil Ruusuvuori   \n",
       "4107   4107             Marcos Giron  Yasutaka Uchiyama   \n",
       "\n",
       "                 Tournament  GroundNumerico   Prize  TournamentYear  \\\n",
       "0     BEL vs. SRB WG 1st RD               1       0            2013   \n",
       "1         BEL v FRA WG Rd 1               1       0            2001   \n",
       "2                      Mons               2  125000            2007   \n",
       "3         BEL vs. USA WG PO               1       0            2005   \n",
       "4                    Ostend               1  125000            1999   \n",
       "...                     ...             ...     ...             ...   \n",
       "4103             Belgium F7               1   15000            2018   \n",
       "4104                Bercuit               1   54604            2012   \n",
       "4105                Bercuit               1   54604            2012   \n",
       "4106                Antwerp               2  450939            2020   \n",
       "4107                Antwerp               2  450939            2020   \n",
       "\n",
       "      NumeroSets   DiffIMC  DiffAge  DiffRank  QTDBelgas  Finals  SumMainHand  \\\n",
       "0              3 -1.244169       -6     -23.0          1       0            2   \n",
       "1              5  0.806689        3     -20.0          1       0            2   \n",
       "2              2  3.844451        7     -11.0          1       1            2   \n",
       "3              5  1.868099       -1     -23.0          1       0            2   \n",
       "4              3  0.499366        3      15.0          2       0            2   \n",
       "...          ...       ...      ...       ...        ...     ...          ...   \n",
       "4103           2 -0.154324       -3    -487.0          0       1            2   \n",
       "4104           3 -0.164212       -7    1847.0          0       1            2   \n",
       "4105           2 -0.805391       -6    1755.0          0       1            2   \n",
       "4106           2  0.848800        4     -28.0          0       0            1   \n",
       "4107           2  0.474202       -1    -216.0          0       0            2   \n",
       "\n",
       "      SumTrainer  TipoTorneio  \n",
       "0              2  Melhor_de_5  \n",
       "1              2  Melhor_de_5  \n",
       "2              1  Melhor_de_3  \n",
       "3              2  Melhor_de_5  \n",
       "4              2  Melhor_de_3  \n",
       "...          ...          ...  \n",
       "4103           2  Melhor_de_3  \n",
       "4104           2  Melhor_de_3  \n",
       "4105           2  Melhor_de_3  \n",
       "4106           2  Melhor_de_3  \n",
       "4107           2  Melhor_de_3  \n",
       "\n",
       "[4108 rows x 16 columns]"
      ]
     },
     "execution_count": 159,
     "metadata": {},
     "output_type": "execute_result"
    }
   ],
   "source": [
    "belgica_raw.reset_index()"
   ]
  },
  {
   "cell_type": "code",
   "execution_count": 160,
   "id": "5d4183af-4029-4ae7-bd38-c548969cd7c8",
   "metadata": {
    "ExecuteTime": {
     "end_time": "2023-05-30T15:04:52.609468Z",
     "start_time": "2023-05-30T15:04:52.492789Z"
    }
   },
   "outputs": [],
   "source": [
    "belgica_raw.to_csv(\"belgica_cleaned.csv\", index = False, encoding='utf-8')"
   ]
  },
  {
   "cell_type": "code",
   "execution_count": 161,
   "id": "0b9df947-bcd1-4d9a-bfc4-645ca79e6480",
   "metadata": {
    "ExecuteTime": {
     "end_time": "2023-05-30T15:04:52.624999Z",
     "start_time": "2023-05-30T15:04:52.614971Z"
    }
   },
   "outputs": [
    {
     "data": {
      "text/plain": [
       "(4108, 15)"
      ]
     },
     "execution_count": 161,
     "metadata": {},
     "output_type": "execute_result"
    }
   ],
   "source": [
    "belgica_raw.shape"
   ]
  }
 ],
 "metadata": {
  "kernelspec": {
   "display_name": "Python 3 (ipykernel)",
   "language": "python",
   "name": "python3"
  },
  "language_info": {
   "codemirror_mode": {
    "name": "ipython",
    "version": 3
   },
   "file_extension": ".py",
   "mimetype": "text/x-python",
   "name": "python",
   "nbconvert_exporter": "python",
   "pygments_lexer": "ipython3",
   "version": "3.9.13"
  },
  "latex_envs": {
   "LaTeX_envs_menu_present": true,
   "autoclose": false,
   "autocomplete": true,
   "bibliofile": "biblio.bib",
   "cite_by": "apalike",
   "current_citInitial": 1,
   "eqLabelWithNumbers": true,
   "eqNumInitial": 1,
   "hotkeys": {
    "equation": "Ctrl-E",
    "itemize": "Ctrl-I"
   },
   "labels_anchors": false,
   "latex_user_defs": false,
   "report_style_numbering": false,
   "user_envs_cfg": false
  },
  "varInspector": {
   "cols": {
    "lenName": 16,
    "lenType": 16,
    "lenVar": 40
   },
   "kernels_config": {
    "python": {
     "delete_cmd_postfix": "",
     "delete_cmd_prefix": "del ",
     "library": "var_list.py",
     "varRefreshCmd": "print(var_dic_list())"
    },
    "r": {
     "delete_cmd_postfix": ") ",
     "delete_cmd_prefix": "rm(",
     "library": "var_list.r",
     "varRefreshCmd": "cat(var_dic_list()) "
    }
   },
   "types_to_exclude": [
    "module",
    "function",
    "builtin_function_or_method",
    "instance",
    "_Feature"
   ],
   "window_display": false
  }
 },
 "nbformat": 4,
 "nbformat_minor": 5
}
