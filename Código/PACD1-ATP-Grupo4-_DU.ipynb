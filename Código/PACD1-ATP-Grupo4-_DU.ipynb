{
 "cells": [
  {
   "cell_type": "markdown",
   "id": "8ee9bc89",
   "metadata": {},
   "source": [
    "  \n",
    "  <font size=\"5\"> <div class=\"alert alert-block alert-info\"> Projeto Aplicado a Ciência de Dados I(PACDI): Prever o número de sets para conclusão de um jogo de ténis profissional </div> </font> \\\n",
    " \n",
    "\\vspace{.1in}\n",
    "  \n",
    "   <font size=\"5\"> Licenciatura em Ciência de Dados- 2º ano, 2º semestre </font>\n",
    "  \\vspace{.05in}\n",
    "  \n",
    "  \n",
    "  <font size=\"4\"> Allan Kardec da Silva Rodrigues Nº103380 \n",
    "\n",
    "  <font size=\"4\">Diogo Alexandre Alonso de Freitas Nº104841 \n",
    "\n",
    "  <font size=\"4\">João Francisco Marques Gonçalves da Silva Botas Nº104782 \n",
    "\n",
    "  <font size=\"4\">Ricardo Alexandre Mourão Ângelo Nº104826 </font>\n",
    "  \\vspace{.05in}\n",
    "  \n",
    "  <font size=\"4\"> **ISCTE-IUL, 15 de abril de 2023** </font>\n",
    "  \\vspace{.05in} \n",
    " \n",
    "   \\vspace{.05in}\n",
    "  <font size=\"5\"> Base de dados ATP players </div></font> \n",
    "    \\vspace{.05in}\n",
    "  <font size=\"5\"> <div class=\"alert alert-success\" role=\"alert\"> Nos torneios realizados na Bélgica </div></font> \n",
    "  \\vspace{.05in}\n",
    "  \n",
    "    \\vspace{.05in}\n",
    "  <font size=\"5\">2ª fase CRISP-DM: **Data Understading** </div></font> \n",
    "  \\vspace{.05in}\n",
    "  <font size=\"2\"> *Nota*: Foi utilizado o nbextensions para formatação e estética do código. </font>\n",
    "  \\vspace{.05in}"
   ]
  },
  {
   "cell_type": "markdown",
   "id": "0bf5b36a",
   "metadata": {},
   "source": [
    "### Imports utilizados na realização"
   ]
  },
  {
   "cell_type": "code",
   "execution_count": 1,
   "id": "55da6f31",
   "metadata": {
    "ExecuteTime": {
     "end_time": "2023-04-24T19:56:38.114692Z",
     "start_time": "2023-04-24T19:56:34.621695Z"
    },
    "tags": []
   },
   "outputs": [],
   "source": [
    "import pandas as pd\n",
    "import numpy as np\n",
    "import seaborn as sns\n",
    "import matplotlib.pyplot as plt"
   ]
  },
  {
   "cell_type": "markdown",
   "id": "6d645188",
   "metadata": {},
   "source": [
    "### Leitura do ficheiro"
   ]
  },
  {
   "cell_type": "code",
   "execution_count": 2,
   "id": "8d9bb870",
   "metadata": {
    "ExecuteTime": {
     "end_time": "2023-04-24T19:58:09.598856Z",
     "start_time": "2023-04-24T19:56:54.899910Z"
    }
   },
   "outputs": [
    {
     "data": {
      "text/html": [
       "<div>\n",
       "<style scoped>\n",
       "    .dataframe tbody tr th:only-of-type {\n",
       "        vertical-align: middle;\n",
       "    }\n",
       "\n",
       "    .dataframe tbody tr th {\n",
       "        vertical-align: top;\n",
       "    }\n",
       "\n",
       "    .dataframe thead th {\n",
       "        text-align: right;\n",
       "    }\n",
       "</style>\n",
       "<table border=\"1\" class=\"dataframe\">\n",
       "  <thead>\n",
       "    <tr style=\"text-align: right;\">\n",
       "      <th></th>\n",
       "      <th>_id</th>\n",
       "      <th>PlayerName</th>\n",
       "      <th>Born</th>\n",
       "      <th>Height</th>\n",
       "      <th>Hand</th>\n",
       "      <th>LinkPlayer</th>\n",
       "      <th>Tournament</th>\n",
       "      <th>Location</th>\n",
       "      <th>Date</th>\n",
       "      <th>Ground</th>\n",
       "      <th>Prize</th>\n",
       "      <th>GameRound</th>\n",
       "      <th>GameRank</th>\n",
       "      <th>Oponent</th>\n",
       "      <th>WL</th>\n",
       "      <th>Score</th>\n",
       "    </tr>\n",
       "  </thead>\n",
       "  <tbody>\n",
       "    <tr>\n",
       "      <th>0</th>\n",
       "      <td>{'$oid': '624ab34913b144c54b3c9aba'}</td>\n",
       "      <td>Novak Djokovic</td>\n",
       "      <td>Belgrade, Serbia</td>\n",
       "      <td>188</td>\n",
       "      <td>Right-Handed, Two-Handed Backhand</td>\n",
       "      <td>https://www.atptour.com/en/players/novak-djoko...</td>\n",
       "      <td>Davis Cup Finals</td>\n",
       "      <td>Madrid, Spain</td>\n",
       "      <td>2021.11.22 - 2021.12.05</td>\n",
       "      <td>Hard</td>\n",
       "      <td></td>\n",
       "      <td>Semi-Finals</td>\n",
       "      <td>30</td>\n",
       "      <td>Marin Cilic</td>\n",
       "      <td>W</td>\n",
       "      <td>64 62</td>\n",
       "    </tr>\n",
       "    <tr>\n",
       "      <th>1</th>\n",
       "      <td>{'$oid': '624ab34913b144c54b3c9abb'}</td>\n",
       "      <td>Novak Djokovic</td>\n",
       "      <td>Belgrade, Serbia</td>\n",
       "      <td>188</td>\n",
       "      <td>Right-Handed, Two-Handed Backhand</td>\n",
       "      <td>https://www.atptour.com/en/players/novak-djoko...</td>\n",
       "      <td>Dubai</td>\n",
       "      <td>Dubai, U.A.E.</td>\n",
       "      <td>2022.02.21 - 2022.02.26</td>\n",
       "      <td>Hard</td>\n",
       "      <td>$2,794,840</td>\n",
       "      <td>Round of 16</td>\n",
       "      <td>26</td>\n",
       "      <td>Karen Khachanov</td>\n",
       "      <td>W</td>\n",
       "      <td>63 76</td>\n",
       "    </tr>\n",
       "    <tr>\n",
       "      <th>2</th>\n",
       "      <td>{'$oid': '624ab34913b144c54b3c9abc'}</td>\n",
       "      <td>Novak Djokovic</td>\n",
       "      <td>Belgrade, Serbia</td>\n",
       "      <td>188</td>\n",
       "      <td>Right-Handed, Two-Handed Backhand</td>\n",
       "      <td>https://www.atptour.com/en/players/novak-djoko...</td>\n",
       "      <td>Nitto ATP Finals</td>\n",
       "      <td>Turin, Italy</td>\n",
       "      <td>2021.11.15 - 2021.11.21</td>\n",
       "      <td>Hard</td>\n",
       "      <td>$7,250,000</td>\n",
       "      <td>Round Robin</td>\n",
       "      <td>12</td>\n",
       "      <td>Cameron Norrie</td>\n",
       "      <td>W</td>\n",
       "      <td>62 61</td>\n",
       "    </tr>\n",
       "    <tr>\n",
       "      <th>3</th>\n",
       "      <td>{'$oid': '624ab34913b144c54b3c9abd'}</td>\n",
       "      <td>Novak Djokovic</td>\n",
       "      <td>Belgrade, Serbia</td>\n",
       "      <td>188</td>\n",
       "      <td>Right-Handed, Two-Handed Backhand</td>\n",
       "      <td>https://www.atptour.com/en/players/novak-djoko...</td>\n",
       "      <td>Nitto ATP Finals</td>\n",
       "      <td>Turin, Italy</td>\n",
       "      <td>2021.11.15 - 2021.11.21</td>\n",
       "      <td>Hard</td>\n",
       "      <td>$7,250,000</td>\n",
       "      <td>Round Robin</td>\n",
       "      <td>5</td>\n",
       "      <td>Andrey Rublev</td>\n",
       "      <td>W</td>\n",
       "      <td>63 62</td>\n",
       "    </tr>\n",
       "    <tr>\n",
       "      <th>4</th>\n",
       "      <td>{'$oid': '624ab34913b144c54b3c9abe'}</td>\n",
       "      <td>Novak Djokovic</td>\n",
       "      <td>Belgrade, Serbia</td>\n",
       "      <td>188</td>\n",
       "      <td>Right-Handed, Two-Handed Backhand</td>\n",
       "      <td>https://www.atptour.com/en/players/novak-djoko...</td>\n",
       "      <td>ATP Masters 1000 Paris</td>\n",
       "      <td>Paris, France</td>\n",
       "      <td>2021.11.01 - 2021.11.07</td>\n",
       "      <td>Hard</td>\n",
       "      <td>�5,207,405</td>\n",
       "      <td>Finals</td>\n",
       "      <td>2</td>\n",
       "      <td>Daniil Medvedev</td>\n",
       "      <td>W</td>\n",
       "      <td>46 63 63</td>\n",
       "    </tr>\n",
       "  </tbody>\n",
       "</table>\n",
       "</div>"
      ],
      "text/plain": [
       "                                    _id      PlayerName              Born  \\\n",
       "0  {'$oid': '624ab34913b144c54b3c9aba'}  Novak Djokovic  Belgrade, Serbia   \n",
       "1  {'$oid': '624ab34913b144c54b3c9abb'}  Novak Djokovic  Belgrade, Serbia   \n",
       "2  {'$oid': '624ab34913b144c54b3c9abc'}  Novak Djokovic  Belgrade, Serbia   \n",
       "3  {'$oid': '624ab34913b144c54b3c9abd'}  Novak Djokovic  Belgrade, Serbia   \n",
       "4  {'$oid': '624ab34913b144c54b3c9abe'}  Novak Djokovic  Belgrade, Serbia   \n",
       "\n",
       "  Height                               Hand  \\\n",
       "0    188  Right-Handed, Two-Handed Backhand   \n",
       "1    188  Right-Handed, Two-Handed Backhand   \n",
       "2    188  Right-Handed, Two-Handed Backhand   \n",
       "3    188  Right-Handed, Two-Handed Backhand   \n",
       "4    188  Right-Handed, Two-Handed Backhand   \n",
       "\n",
       "                                          LinkPlayer              Tournament  \\\n",
       "0  https://www.atptour.com/en/players/novak-djoko...        Davis Cup Finals   \n",
       "1  https://www.atptour.com/en/players/novak-djoko...                   Dubai   \n",
       "2  https://www.atptour.com/en/players/novak-djoko...        Nitto ATP Finals   \n",
       "3  https://www.atptour.com/en/players/novak-djoko...        Nitto ATP Finals   \n",
       "4  https://www.atptour.com/en/players/novak-djoko...  ATP Masters 1000 Paris   \n",
       "\n",
       "        Location                     Date Ground       Prize    GameRound  \\\n",
       "0  Madrid, Spain  2021.11.22 - 2021.12.05   Hard              Semi-Finals   \n",
       "1  Dubai, U.A.E.  2022.02.21 - 2022.02.26   Hard  $2,794,840  Round of 16   \n",
       "2   Turin, Italy  2021.11.15 - 2021.11.21   Hard  $7,250,000  Round Robin   \n",
       "3   Turin, Italy  2021.11.15 - 2021.11.21   Hard  $7,250,000  Round Robin   \n",
       "4  Paris, France  2021.11.01 - 2021.11.07   Hard  �5,207,405       Finals   \n",
       "\n",
       "  GameRank          Oponent WL     Score  \n",
       "0       30      Marin Cilic  W     64 62  \n",
       "1       26  Karen Khachanov  W     63 76  \n",
       "2       12   Cameron Norrie  W     62 61  \n",
       "3        5    Andrey Rublev  W     63 62  \n",
       "4        2  Daniil Medvedev  W  46 63 63  "
      ]
     },
     "execution_count": 2,
     "metadata": {},
     "output_type": "execute_result"
    }
   ],
   "source": [
    "atp = pd.read_json(\"atpplayers.json\", lines=True)\n",
    "atp.head()"
   ]
  },
  {
   "cell_type": "markdown",
   "id": "c80f2f8a",
   "metadata": {},
   "source": [
    "Será removida a 1ª coluna da base de dados, visto que corresponde a uma coluna não interessante e que só mostra um id único."
   ]
  },
  {
   "cell_type": "code",
   "execution_count": 3,
   "id": "d7931ac4",
   "metadata": {
    "ExecuteTime": {
     "end_time": "2023-04-24T19:58:15.309911Z",
     "start_time": "2023-04-24T19:58:14.480819Z"
    }
   },
   "outputs": [],
   "source": [
    "atp = atp.drop(\"_id\", axis=1)"
   ]
  },
  {
   "cell_type": "markdown",
   "id": "3fd65ddb",
   "metadata": {},
   "source": [
    "## Apenas com a Bélgica selecionada"
   ]
  },
  {
   "cell_type": "markdown",
   "id": "a7c3e85b-d08a-45ab-bb6a-aa730b92f0c0",
   "metadata": {},
   "source": [
    "### Proporção da Bélgica na base de dados original"
   ]
  },
  {
   "cell_type": "code",
   "execution_count": 4,
   "id": "689938bc-0084-40f1-8419-c343a8a4be73",
   "metadata": {
    "ExecuteTime": {
     "end_time": "2023-04-24T19:58:22.287181Z",
     "start_time": "2023-04-24T19:58:17.515841Z"
    }
   },
   "outputs": [],
   "source": [
    "atp[\"país\"] = atp[\"Location\"].str.rsplit(\",\").str[-1].str.strip()"
   ]
  },
  {
   "cell_type": "code",
   "execution_count": 5,
   "id": "6590a6e3-2de8-49b1-8b2c-2cb1badf3a8d",
   "metadata": {
    "ExecuteTime": {
     "end_time": "2023-04-24T19:58:30.059881Z",
     "start_time": "2023-04-24T19:58:26.674801Z"
    }
   },
   "outputs": [
    {
     "name": "stdout",
     "output_type": "stream",
     "text": [
      "A percentagem da base de dados original que será usada neste trabalho, corresponde a: 0.84%\n"
     ]
    }
   ],
   "source": [
    "# Contagem do número de linhas para cada país\n",
    "contagem_por_pais = atp.groupby(\"país\").count()/len(atp)\n",
    "\n",
    "# Exibição do resultado para o país \"Belgium\"\n",
    "contagem_belgium = contagem_por_pais[contagem_por_pais.index == \"Belgium\"]\n",
    "\n",
    "# Todas as colunas vão ter o mesmo valor, basta selecionar uma aleatóriamente\n",
    "contagem_belgium = contagem_por_pais.loc[\"Belgium\", \"Born\"]\n",
    "print(\"A percentagem da base de dados original que será usada neste trabalho, corresponde a: %.2f%%\" % (contagem_belgium*100))"
   ]
  },
  {
   "cell_type": "markdown",
   "id": "9a329fd9-57eb-4367-bc04-59e4ba473a12",
   "metadata": {},
   "source": [
    "O grupo selecionou todos os jogos que estão localizados na Bélgica, correspondendo a 0.84% dos jogos desta base de dados."
   ]
  },
  {
   "cell_type": "markdown",
   "id": "009f9745-7330-48d3-8fb0-79668a9ba6dc",
   "metadata": {},
   "source": [
    "### Filtragem pelos jogos da Bélgica"
   ]
  },
  {
   "cell_type": "markdown",
   "id": "1908418a",
   "metadata": {},
   "source": [
    "Para selecionar os dados apenas relativos à Bélgica referentes à localização do torneio vamos ver quais das linhas contêm o valor de \"Blegium\", base de dados fornecida."
   ]
  },
  {
   "cell_type": "code",
   "execution_count": 6,
   "id": "968aefd8",
   "metadata": {
    "ExecuteTime": {
     "end_time": "2023-04-24T19:58:37.004652Z",
     "start_time": "2023-04-24T19:58:33.862881Z"
    }
   },
   "outputs": [
    {
     "data": {
      "text/html": [
       "<div>\n",
       "<style scoped>\n",
       "    .dataframe tbody tr th:only-of-type {\n",
       "        vertical-align: middle;\n",
       "    }\n",
       "\n",
       "    .dataframe tbody tr th {\n",
       "        vertical-align: top;\n",
       "    }\n",
       "\n",
       "    .dataframe thead th {\n",
       "        text-align: right;\n",
       "    }\n",
       "</style>\n",
       "<table border=\"1\" class=\"dataframe\">\n",
       "  <thead>\n",
       "    <tr style=\"text-align: right;\">\n",
       "      <th></th>\n",
       "      <th>index</th>\n",
       "      <th>PlayerName</th>\n",
       "      <th>Born</th>\n",
       "      <th>Height</th>\n",
       "      <th>Hand</th>\n",
       "      <th>LinkPlayer</th>\n",
       "      <th>Tournament</th>\n",
       "      <th>Location</th>\n",
       "      <th>Date</th>\n",
       "      <th>Ground</th>\n",
       "      <th>Prize</th>\n",
       "      <th>GameRound</th>\n",
       "      <th>GameRank</th>\n",
       "      <th>Oponent</th>\n",
       "      <th>WL</th>\n",
       "      <th>Score</th>\n",
       "      <th>país</th>\n",
       "    </tr>\n",
       "  </thead>\n",
       "  <tbody>\n",
       "    <tr>\n",
       "      <th>0</th>\n",
       "      <td>658</td>\n",
       "      <td>Novak Djokovic</td>\n",
       "      <td>Belgrade, Serbia</td>\n",
       "      <td>188</td>\n",
       "      <td>Right-Handed, Two-Handed Backhand</td>\n",
       "      <td>https://www.atptour.com/en/players/novak-djoko...</td>\n",
       "      <td>BEL vs. SRB WG 1st RD</td>\n",
       "      <td>Charleroi, Belgium</td>\n",
       "      <td>2013.01.28 - 2013.02.03</td>\n",
       "      <td>Clay</td>\n",
       "      <td></td>\n",
       "      <td>Round Robin</td>\n",
       "      <td>127</td>\n",
       "      <td>Olivier Rochus</td>\n",
       "      <td>W</td>\n",
       "      <td>63 62 62</td>\n",
       "      <td>Belgium</td>\n",
       "    </tr>\n",
       "    <tr>\n",
       "      <th>1</th>\n",
       "      <td>1784</td>\n",
       "      <td>Daniil Medvedev</td>\n",
       "      <td>Moscow, Russia</td>\n",
       "      <td>198</td>\n",
       "      <td>Right-Handed, Two-Handed Backhand</td>\n",
       "      <td>https://www.atptour.com/en/players/daniil-medv...</td>\n",
       "      <td>Mons</td>\n",
       "      <td>Mons, Belgium</td>\n",
       "      <td>2016.10.03 - 2016.10.09</td>\n",
       "      <td>Hard</td>\n",
       "      <td>�106,500</td>\n",
       "      <td>Semi-Finals</td>\n",
       "      <td>109</td>\n",
       "      <td>Jan-Lennard Struff</td>\n",
       "      <td>L</td>\n",
       "      <td>67,  67</td>\n",
       "      <td>Belgium</td>\n",
       "    </tr>\n",
       "    <tr>\n",
       "      <th>2</th>\n",
       "      <td>1785</td>\n",
       "      <td>Daniil Medvedev</td>\n",
       "      <td>Moscow, Russia</td>\n",
       "      <td>198</td>\n",
       "      <td>Right-Handed, Two-Handed Backhand</td>\n",
       "      <td>https://www.atptour.com/en/players/daniil-medv...</td>\n",
       "      <td>Mons</td>\n",
       "      <td>Mons, Belgium</td>\n",
       "      <td>2016.10.03 - 2016.10.09</td>\n",
       "      <td>Hard</td>\n",
       "      <td>�106,500</td>\n",
       "      <td>Quarter-Finals</td>\n",
       "      <td>540</td>\n",
       "      <td>Jurgen Melzer</td>\n",
       "      <td>W</td>\n",
       "      <td>61 60</td>\n",
       "      <td>Belgium</td>\n",
       "    </tr>\n",
       "    <tr>\n",
       "      <th>3</th>\n",
       "      <td>1786</td>\n",
       "      <td>Daniil Medvedev</td>\n",
       "      <td>Moscow, Russia</td>\n",
       "      <td>198</td>\n",
       "      <td>Right-Handed, Two-Handed Backhand</td>\n",
       "      <td>https://www.atptour.com/en/players/daniil-medv...</td>\n",
       "      <td>Mons</td>\n",
       "      <td>Mons, Belgium</td>\n",
       "      <td>2016.10.03 - 2016.10.09</td>\n",
       "      <td>Hard</td>\n",
       "      <td>�106,500</td>\n",
       "      <td>Round of 16</td>\n",
       "      <td>218</td>\n",
       "      <td>Norbert Gombos</td>\n",
       "      <td>W</td>\n",
       "      <td>63 76</td>\n",
       "      <td>Belgium</td>\n",
       "    </tr>\n",
       "    <tr>\n",
       "      <th>4</th>\n",
       "      <td>1787</td>\n",
       "      <td>Daniil Medvedev</td>\n",
       "      <td>Moscow, Russia</td>\n",
       "      <td>198</td>\n",
       "      <td>Right-Handed, Two-Handed Backhand</td>\n",
       "      <td>https://www.atptour.com/en/players/daniil-medv...</td>\n",
       "      <td>Mons</td>\n",
       "      <td>Mons, Belgium</td>\n",
       "      <td>2016.10.03 - 2016.10.09</td>\n",
       "      <td>Hard</td>\n",
       "      <td>�106,500</td>\n",
       "      <td>Round of 32</td>\n",
       "      <td>278</td>\n",
       "      <td>Clement Geens</td>\n",
       "      <td>W</td>\n",
       "      <td>64 61</td>\n",
       "      <td>Belgium</td>\n",
       "    </tr>\n",
       "    <tr>\n",
       "      <th>...</th>\n",
       "      <td>...</td>\n",
       "      <td>...</td>\n",
       "      <td>...</td>\n",
       "      <td>...</td>\n",
       "      <td>...</td>\n",
       "      <td>...</td>\n",
       "      <td>...</td>\n",
       "      <td>...</td>\n",
       "      <td>...</td>\n",
       "      <td>...</td>\n",
       "      <td>...</td>\n",
       "      <td>...</td>\n",
       "      <td>...</td>\n",
       "      <td>...</td>\n",
       "      <td>...</td>\n",
       "      <td>...</td>\n",
       "      <td>...</td>\n",
       "    </tr>\n",
       "    <tr>\n",
       "      <th>10992</th>\n",
       "      <td>1306295</td>\n",
       "      <td>Rayane Oumaouche</td>\n",
       "      <td></td>\n",
       "      <td>NA</td>\n",
       "      <td>null</td>\n",
       "      <td>https://www.atptour.com/en/players/rayane-ouma...</td>\n",
       "      <td>Belgium F7</td>\n",
       "      <td>Brussels, Belgium</td>\n",
       "      <td>2017.07.31 - 2017.08.06</td>\n",
       "      <td>Clay</td>\n",
       "      <td>$15,000</td>\n",
       "      <td>Round of 16</td>\n",
       "      <td>698</td>\n",
       "      <td>Omar Salman</td>\n",
       "      <td>L</td>\n",
       "      <td>36 15 (RET)</td>\n",
       "      <td>Belgium</td>\n",
       "    </tr>\n",
       "    <tr>\n",
       "      <th>10993</th>\n",
       "      <td>1306296</td>\n",
       "      <td>Rayane Oumaouche</td>\n",
       "      <td></td>\n",
       "      <td>NA</td>\n",
       "      <td>null</td>\n",
       "      <td>https://www.atptour.com/en/players/rayane-ouma...</td>\n",
       "      <td>Belgium F7</td>\n",
       "      <td>Brussels, Belgium</td>\n",
       "      <td>2017.07.31 - 2017.08.06</td>\n",
       "      <td>Clay</td>\n",
       "      <td>$15,000</td>\n",
       "      <td>Round of 32</td>\n",
       "      <td>1255</td>\n",
       "      <td>Simon Navarro</td>\n",
       "      <td>W</td>\n",
       "      <td>62 75</td>\n",
       "      <td>Belgium</td>\n",
       "    </tr>\n",
       "    <tr>\n",
       "      <th>10994</th>\n",
       "      <td>1306304</td>\n",
       "      <td>Rayane Oumaouche</td>\n",
       "      <td></td>\n",
       "      <td>NA</td>\n",
       "      <td>null</td>\n",
       "      <td>https://www.atptour.com/en/players/rayane-ouma...</td>\n",
       "      <td>Belgium F10</td>\n",
       "      <td>Koksijde, Belgium</td>\n",
       "      <td>2016.08.15 - 2016.08.21</td>\n",
       "      <td>Clay</td>\n",
       "      <td>$10,000</td>\n",
       "      <td>Round of 16</td>\n",
       "      <td>948</td>\n",
       "      <td>Yannick Vandenbulcke</td>\n",
       "      <td>L</td>\n",
       "      <td>16 26</td>\n",
       "      <td>Belgium</td>\n",
       "    </tr>\n",
       "    <tr>\n",
       "      <th>10995</th>\n",
       "      <td>1306305</td>\n",
       "      <td>Rayane Oumaouche</td>\n",
       "      <td></td>\n",
       "      <td>NA</td>\n",
       "      <td>null</td>\n",
       "      <td>https://www.atptour.com/en/players/rayane-ouma...</td>\n",
       "      <td>Belgium F10</td>\n",
       "      <td>Koksijde, Belgium</td>\n",
       "      <td>2016.08.15 - 2016.08.21</td>\n",
       "      <td>Clay</td>\n",
       "      <td>$10,000</td>\n",
       "      <td>Round of 32</td>\n",
       "      <td>767</td>\n",
       "      <td>Alexandre Folie</td>\n",
       "      <td>W</td>\n",
       "      <td>62 (RET)</td>\n",
       "      <td>Belgium</td>\n",
       "    </tr>\n",
       "    <tr>\n",
       "      <th>10996</th>\n",
       "      <td>1306542</td>\n",
       "      <td>Sam Taylor</td>\n",
       "      <td>Gothenburg, Sweden</td>\n",
       "      <td>185</td>\n",
       "      <td>Right-Handed, Two-Handed Backhand</td>\n",
       "      <td>https://www.atptour.com/en/players/sam-taylor/...</td>\n",
       "      <td>Belgium F3</td>\n",
       "      <td>Lasne, Belgium</td>\n",
       "      <td>2018.07.02 - 2018.07.08</td>\n",
       "      <td>Clay</td>\n",
       "      <td>$15,000</td>\n",
       "      <td>Round of 32</td>\n",
       "      <td>1277</td>\n",
       "      <td>Michael Geerts</td>\n",
       "      <td>L</td>\n",
       "      <td>26 67</td>\n",
       "      <td>Belgium</td>\n",
       "    </tr>\n",
       "  </tbody>\n",
       "</table>\n",
       "<p>10997 rows × 17 columns</p>\n",
       "</div>"
      ],
      "text/plain": [
       "         index        PlayerName                Born Height  \\\n",
       "0          658    Novak Djokovic    Belgrade, Serbia    188   \n",
       "1         1784   Daniil Medvedev      Moscow, Russia    198   \n",
       "2         1785   Daniil Medvedev      Moscow, Russia    198   \n",
       "3         1786   Daniil Medvedev      Moscow, Russia    198   \n",
       "4         1787   Daniil Medvedev      Moscow, Russia    198   \n",
       "...        ...               ...                 ...    ...   \n",
       "10992  1306295  Rayane Oumaouche                         NA   \n",
       "10993  1306296  Rayane Oumaouche                         NA   \n",
       "10994  1306304  Rayane Oumaouche                         NA   \n",
       "10995  1306305  Rayane Oumaouche                         NA   \n",
       "10996  1306542        Sam Taylor  Gothenburg, Sweden    185   \n",
       "\n",
       "                                    Hand  \\\n",
       "0      Right-Handed, Two-Handed Backhand   \n",
       "1      Right-Handed, Two-Handed Backhand   \n",
       "2      Right-Handed, Two-Handed Backhand   \n",
       "3      Right-Handed, Two-Handed Backhand   \n",
       "4      Right-Handed, Two-Handed Backhand   \n",
       "...                                  ...   \n",
       "10992                               null   \n",
       "10993                               null   \n",
       "10994                               null   \n",
       "10995                               null   \n",
       "10996  Right-Handed, Two-Handed Backhand   \n",
       "\n",
       "                                              LinkPlayer  \\\n",
       "0      https://www.atptour.com/en/players/novak-djoko...   \n",
       "1      https://www.atptour.com/en/players/daniil-medv...   \n",
       "2      https://www.atptour.com/en/players/daniil-medv...   \n",
       "3      https://www.atptour.com/en/players/daniil-medv...   \n",
       "4      https://www.atptour.com/en/players/daniil-medv...   \n",
       "...                                                  ...   \n",
       "10992  https://www.atptour.com/en/players/rayane-ouma...   \n",
       "10993  https://www.atptour.com/en/players/rayane-ouma...   \n",
       "10994  https://www.atptour.com/en/players/rayane-ouma...   \n",
       "10995  https://www.atptour.com/en/players/rayane-ouma...   \n",
       "10996  https://www.atptour.com/en/players/sam-taylor/...   \n",
       "\n",
       "                  Tournament            Location                     Date  \\\n",
       "0      BEL vs. SRB WG 1st RD  Charleroi, Belgium  2013.01.28 - 2013.02.03   \n",
       "1                       Mons       Mons, Belgium  2016.10.03 - 2016.10.09   \n",
       "2                       Mons       Mons, Belgium  2016.10.03 - 2016.10.09   \n",
       "3                       Mons       Mons, Belgium  2016.10.03 - 2016.10.09   \n",
       "4                       Mons       Mons, Belgium  2016.10.03 - 2016.10.09   \n",
       "...                      ...                 ...                      ...   \n",
       "10992             Belgium F7   Brussels, Belgium  2017.07.31 - 2017.08.06   \n",
       "10993             Belgium F7   Brussels, Belgium  2017.07.31 - 2017.08.06   \n",
       "10994            Belgium F10   Koksijde, Belgium  2016.08.15 - 2016.08.21   \n",
       "10995            Belgium F10   Koksijde, Belgium  2016.08.15 - 2016.08.21   \n",
       "10996             Belgium F3      Lasne, Belgium  2018.07.02 - 2018.07.08   \n",
       "\n",
       "      Ground     Prize       GameRound GameRank               Oponent WL  \\\n",
       "0       Clay               Round Robin      127        Olivier Rochus  W   \n",
       "1       Hard  �106,500     Semi-Finals      109    Jan-Lennard Struff  L   \n",
       "2       Hard  �106,500  Quarter-Finals      540         Jurgen Melzer  W   \n",
       "3       Hard  �106,500     Round of 16      218        Norbert Gombos  W   \n",
       "4       Hard  �106,500     Round of 32      278         Clement Geens  W   \n",
       "...      ...       ...             ...      ...                   ... ..   \n",
       "10992   Clay   $15,000     Round of 16      698           Omar Salman  L   \n",
       "10993   Clay   $15,000     Round of 32     1255         Simon Navarro  W   \n",
       "10994   Clay   $10,000     Round of 16      948  Yannick Vandenbulcke  L   \n",
       "10995   Clay   $10,000     Round of 32      767       Alexandre Folie  W   \n",
       "10996   Clay   $15,000     Round of 32     1277        Michael Geerts  L   \n",
       "\n",
       "             Score     país  \n",
       "0         63 62 62  Belgium  \n",
       "1          67,  67  Belgium  \n",
       "2            61 60  Belgium  \n",
       "3            63 76  Belgium  \n",
       "4            64 61  Belgium  \n",
       "...            ...      ...  \n",
       "10992  36 15 (RET)  Belgium  \n",
       "10993        62 75  Belgium  \n",
       "10994        16 26  Belgium  \n",
       "10995     62 (RET)  Belgium  \n",
       "10996        26 67  Belgium  \n",
       "\n",
       "[10997 rows x 17 columns]"
      ]
     },
     "execution_count": 6,
     "metadata": {},
     "output_type": "execute_result"
    }
   ],
   "source": [
    "filtro = atp[\"Location\"].str.contains(\"Belgium\")\n",
    "\n",
    "belgica_raw = atp[filtro]\n",
    "belgica_raw.reset_index()"
   ]
  },
  {
   "cell_type": "code",
   "execution_count": 7,
   "id": "349c1285",
   "metadata": {
    "ExecuteTime": {
     "end_time": "2023-04-24T19:58:37.303482Z",
     "start_time": "2023-04-24T19:58:37.082855Z"
    }
   },
   "outputs": [],
   "source": [
    "belgica_raw.to_csv('belgica_raw.csv', index = False, encoding='utf-8') # False: not include index"
   ]
  },
  {
   "cell_type": "code",
   "execution_count": 8,
   "id": "99ce6e70",
   "metadata": {
    "ExecuteTime": {
     "end_time": "2023-04-24T19:58:41.661969Z",
     "start_time": "2023-04-24T19:58:41.562042Z"
    },
    "tags": []
   },
   "outputs": [
    {
     "data": {
      "text/html": [
       "<div>\n",
       "<style scoped>\n",
       "    .dataframe tbody tr th:only-of-type {\n",
       "        vertical-align: middle;\n",
       "    }\n",
       "\n",
       "    .dataframe tbody tr th {\n",
       "        vertical-align: top;\n",
       "    }\n",
       "\n",
       "    .dataframe thead th {\n",
       "        text-align: right;\n",
       "    }\n",
       "</style>\n",
       "<table border=\"1\" class=\"dataframe\">\n",
       "  <thead>\n",
       "    <tr style=\"text-align: right;\">\n",
       "      <th></th>\n",
       "      <th>PlayerName</th>\n",
       "      <th>Born</th>\n",
       "      <th>Height</th>\n",
       "      <th>Hand</th>\n",
       "      <th>LinkPlayer</th>\n",
       "      <th>Tournament</th>\n",
       "      <th>Location</th>\n",
       "      <th>Date</th>\n",
       "      <th>Ground</th>\n",
       "      <th>Prize</th>\n",
       "      <th>GameRound</th>\n",
       "      <th>GameRank</th>\n",
       "      <th>Oponent</th>\n",
       "      <th>WL</th>\n",
       "      <th>Score</th>\n",
       "      <th>país</th>\n",
       "    </tr>\n",
       "  </thead>\n",
       "  <tbody>\n",
       "    <tr>\n",
       "      <th>0</th>\n",
       "      <td>Novak Djokovic</td>\n",
       "      <td>Belgrade, Serbia</td>\n",
       "      <td>188.0</td>\n",
       "      <td>Right-Handed, Two-Handed Backhand</td>\n",
       "      <td>https://www.atptour.com/en/players/novak-djoko...</td>\n",
       "      <td>BEL vs. SRB WG 1st RD</td>\n",
       "      <td>Charleroi, Belgium</td>\n",
       "      <td>2013.01.28 - 2013.02.03</td>\n",
       "      <td>Clay</td>\n",
       "      <td>NaN</td>\n",
       "      <td>Round Robin</td>\n",
       "      <td>127</td>\n",
       "      <td>Olivier Rochus</td>\n",
       "      <td>W</td>\n",
       "      <td>63 62 62</td>\n",
       "      <td>Belgium</td>\n",
       "    </tr>\n",
       "    <tr>\n",
       "      <th>1</th>\n",
       "      <td>Daniil Medvedev</td>\n",
       "      <td>Moscow, Russia</td>\n",
       "      <td>198.0</td>\n",
       "      <td>Right-Handed, Two-Handed Backhand</td>\n",
       "      <td>https://www.atptour.com/en/players/daniil-medv...</td>\n",
       "      <td>Mons</td>\n",
       "      <td>Mons, Belgium</td>\n",
       "      <td>2016.10.03 - 2016.10.09</td>\n",
       "      <td>Hard</td>\n",
       "      <td>�106,500</td>\n",
       "      <td>Semi-Finals</td>\n",
       "      <td>109</td>\n",
       "      <td>Jan-Lennard Struff</td>\n",
       "      <td>L</td>\n",
       "      <td>67,  67</td>\n",
       "      <td>Belgium</td>\n",
       "    </tr>\n",
       "    <tr>\n",
       "      <th>2</th>\n",
       "      <td>Daniil Medvedev</td>\n",
       "      <td>Moscow, Russia</td>\n",
       "      <td>198.0</td>\n",
       "      <td>Right-Handed, Two-Handed Backhand</td>\n",
       "      <td>https://www.atptour.com/en/players/daniil-medv...</td>\n",
       "      <td>Mons</td>\n",
       "      <td>Mons, Belgium</td>\n",
       "      <td>2016.10.03 - 2016.10.09</td>\n",
       "      <td>Hard</td>\n",
       "      <td>�106,500</td>\n",
       "      <td>Quarter-Finals</td>\n",
       "      <td>540</td>\n",
       "      <td>Jurgen Melzer</td>\n",
       "      <td>W</td>\n",
       "      <td>61 60</td>\n",
       "      <td>Belgium</td>\n",
       "    </tr>\n",
       "    <tr>\n",
       "      <th>3</th>\n",
       "      <td>Daniil Medvedev</td>\n",
       "      <td>Moscow, Russia</td>\n",
       "      <td>198.0</td>\n",
       "      <td>Right-Handed, Two-Handed Backhand</td>\n",
       "      <td>https://www.atptour.com/en/players/daniil-medv...</td>\n",
       "      <td>Mons</td>\n",
       "      <td>Mons, Belgium</td>\n",
       "      <td>2016.10.03 - 2016.10.09</td>\n",
       "      <td>Hard</td>\n",
       "      <td>�106,500</td>\n",
       "      <td>Round of 16</td>\n",
       "      <td>218</td>\n",
       "      <td>Norbert Gombos</td>\n",
       "      <td>W</td>\n",
       "      <td>63 76</td>\n",
       "      <td>Belgium</td>\n",
       "    </tr>\n",
       "    <tr>\n",
       "      <th>4</th>\n",
       "      <td>Daniil Medvedev</td>\n",
       "      <td>Moscow, Russia</td>\n",
       "      <td>198.0</td>\n",
       "      <td>Right-Handed, Two-Handed Backhand</td>\n",
       "      <td>https://www.atptour.com/en/players/daniil-medv...</td>\n",
       "      <td>Mons</td>\n",
       "      <td>Mons, Belgium</td>\n",
       "      <td>2016.10.03 - 2016.10.09</td>\n",
       "      <td>Hard</td>\n",
       "      <td>�106,500</td>\n",
       "      <td>Round of 32</td>\n",
       "      <td>278</td>\n",
       "      <td>Clement Geens</td>\n",
       "      <td>W</td>\n",
       "      <td>64 61</td>\n",
       "      <td>Belgium</td>\n",
       "    </tr>\n",
       "  </tbody>\n",
       "</table>\n",
       "</div>"
      ],
      "text/plain": [
       "        PlayerName              Born  Height  \\\n",
       "0   Novak Djokovic  Belgrade, Serbia   188.0   \n",
       "1  Daniil Medvedev    Moscow, Russia   198.0   \n",
       "2  Daniil Medvedev    Moscow, Russia   198.0   \n",
       "3  Daniil Medvedev    Moscow, Russia   198.0   \n",
       "4  Daniil Medvedev    Moscow, Russia   198.0   \n",
       "\n",
       "                                Hand  \\\n",
       "0  Right-Handed, Two-Handed Backhand   \n",
       "1  Right-Handed, Two-Handed Backhand   \n",
       "2  Right-Handed, Two-Handed Backhand   \n",
       "3  Right-Handed, Two-Handed Backhand   \n",
       "4  Right-Handed, Two-Handed Backhand   \n",
       "\n",
       "                                          LinkPlayer             Tournament  \\\n",
       "0  https://www.atptour.com/en/players/novak-djoko...  BEL vs. SRB WG 1st RD   \n",
       "1  https://www.atptour.com/en/players/daniil-medv...                   Mons   \n",
       "2  https://www.atptour.com/en/players/daniil-medv...                   Mons   \n",
       "3  https://www.atptour.com/en/players/daniil-medv...                   Mons   \n",
       "4  https://www.atptour.com/en/players/daniil-medv...                   Mons   \n",
       "\n",
       "             Location                     Date Ground     Prize  \\\n",
       "0  Charleroi, Belgium  2013.01.28 - 2013.02.03   Clay       NaN   \n",
       "1       Mons, Belgium  2016.10.03 - 2016.10.09   Hard  �106,500   \n",
       "2       Mons, Belgium  2016.10.03 - 2016.10.09   Hard  �106,500   \n",
       "3       Mons, Belgium  2016.10.03 - 2016.10.09   Hard  �106,500   \n",
       "4       Mons, Belgium  2016.10.03 - 2016.10.09   Hard  �106,500   \n",
       "\n",
       "        GameRound GameRank             Oponent WL     Score     país  \n",
       "0     Round Robin      127      Olivier Rochus  W  63 62 62  Belgium  \n",
       "1     Semi-Finals      109  Jan-Lennard Struff  L   67,  67  Belgium  \n",
       "2  Quarter-Finals      540       Jurgen Melzer  W     61 60  Belgium  \n",
       "3     Round of 16      218      Norbert Gombos  W     63 76  Belgium  \n",
       "4     Round of 32      278       Clement Geens  W     64 61  Belgium  "
      ]
     },
     "execution_count": 8,
     "metadata": {},
     "output_type": "execute_result"
    }
   ],
   "source": [
    "belgica_raw = pd.read_csv(\"belgica_raw.csv\")\n",
    "belgica_raw.head()"
   ]
  },
  {
   "cell_type": "markdown",
   "id": "f31d01c4-c675-4722-a058-87bac20b2d46",
   "metadata": {},
   "source": [
    "## Retirar os jogos espelhados"
   ]
  },
  {
   "cell_type": "markdown",
   "id": "ef2afb0a-cdfa-4cca-8a89-995aa3de3317",
   "metadata": {},
   "source": [
    "Em baixo, é possivel visualizar, um exemplos, da existência de jogos espelhados na base de dados"
   ]
  },
  {
   "cell_type": "code",
   "execution_count": 9,
   "id": "9a8919bf-9fb7-4736-b482-4ce2837e67b6",
   "metadata": {},
   "outputs": [
    {
     "data": {
      "text/html": [
       "<div>\n",
       "<style scoped>\n",
       "    .dataframe tbody tr th:only-of-type {\n",
       "        vertical-align: middle;\n",
       "    }\n",
       "\n",
       "    .dataframe tbody tr th {\n",
       "        vertical-align: top;\n",
       "    }\n",
       "\n",
       "    .dataframe thead th {\n",
       "        text-align: right;\n",
       "    }\n",
       "</style>\n",
       "<table border=\"1\" class=\"dataframe\">\n",
       "  <thead>\n",
       "    <tr style=\"text-align: right;\">\n",
       "      <th></th>\n",
       "      <th>PlayerName</th>\n",
       "      <th>Born</th>\n",
       "      <th>Height</th>\n",
       "      <th>Hand</th>\n",
       "      <th>LinkPlayer</th>\n",
       "      <th>Tournament</th>\n",
       "      <th>Location</th>\n",
       "      <th>Date</th>\n",
       "      <th>Ground</th>\n",
       "      <th>Prize</th>\n",
       "      <th>GameRound</th>\n",
       "      <th>GameRank</th>\n",
       "      <th>Oponent</th>\n",
       "      <th>WL</th>\n",
       "      <th>Score</th>\n",
       "      <th>país</th>\n",
       "    </tr>\n",
       "  </thead>\n",
       "  <tbody>\n",
       "    <tr>\n",
       "      <th>163</th>\n",
       "      <td>Botic van de Zandschulp</td>\n",
       "      <td>Wageningen, Netherlands</td>\n",
       "      <td>191.0</td>\n",
       "      <td>Right-Handed, Two-Handed Backhand</td>\n",
       "      <td>https://www.atptour.com/en/players/botic-van-d...</td>\n",
       "      <td>Belgium F8</td>\n",
       "      <td>Ostend, Belgium</td>\n",
       "      <td>2016.08.01 - 2016.08.07</td>\n",
       "      <td>Clay</td>\n",
       "      <td>$10,000</td>\n",
       "      <td>Semi-Finals</td>\n",
       "      <td>652</td>\n",
       "      <td>Alexis Musialek</td>\n",
       "      <td>L</td>\n",
       "      <td>36 36</td>\n",
       "      <td>Belgium</td>\n",
       "    </tr>\n",
       "    <tr>\n",
       "      <th>10019</th>\n",
       "      <td>Alexis Musialek</td>\n",
       "      <td>Dax, France</td>\n",
       "      <td>183.0</td>\n",
       "      <td>Right-Handed, Two-Handed Backhand</td>\n",
       "      <td>https://www.atptour.com/en/players/alexis-musi...</td>\n",
       "      <td>Belgium F8</td>\n",
       "      <td>Ostend, Belgium</td>\n",
       "      <td>2016.08.01 - 2016.08.07</td>\n",
       "      <td>Clay</td>\n",
       "      <td>$10,000</td>\n",
       "      <td>Semi-Finals</td>\n",
       "      <td>835</td>\n",
       "      <td>Botic van de Zandschulp</td>\n",
       "      <td>W</td>\n",
       "      <td>63 63</td>\n",
       "      <td>Belgium</td>\n",
       "    </tr>\n",
       "  </tbody>\n",
       "</table>\n",
       "</div>"
      ],
      "text/plain": [
       "                    PlayerName                     Born  Height  \\\n",
       "163    Botic van de Zandschulp  Wageningen, Netherlands   191.0   \n",
       "10019          Alexis Musialek              Dax, France   183.0   \n",
       "\n",
       "                                    Hand  \\\n",
       "163    Right-Handed, Two-Handed Backhand   \n",
       "10019  Right-Handed, Two-Handed Backhand   \n",
       "\n",
       "                                              LinkPlayer  Tournament  \\\n",
       "163    https://www.atptour.com/en/players/botic-van-d...  Belgium F8   \n",
       "10019  https://www.atptour.com/en/players/alexis-musi...  Belgium F8   \n",
       "\n",
       "              Location                     Date Ground    Prize    GameRound  \\\n",
       "163    Ostend, Belgium  2016.08.01 - 2016.08.07   Clay  $10,000  Semi-Finals   \n",
       "10019  Ostend, Belgium  2016.08.01 - 2016.08.07   Clay  $10,000  Semi-Finals   \n",
       "\n",
       "      GameRank                  Oponent WL  Score     país  \n",
       "163        652          Alexis Musialek  L  36 36  Belgium  \n",
       "10019      835  Botic van de Zandschulp  W  63 63  Belgium  "
      ]
     },
     "execution_count": 9,
     "metadata": {},
     "output_type": "execute_result"
    }
   ],
   "source": [
    "filtro = (belgica_raw[\"Tournament\"]==\"Belgium F8\") & (belgica_raw[\"GameRound\"]==\"Semi-Finals\") & (belgica_raw[\"Location\"]==\"Ostend, Belgium\") & ((belgica_raw[\"PlayerName\"]==\"Botic van de Zandschulp\") | (belgica_raw[\"PlayerName\"]==\"Alexis Musialek\"))\n",
    "belgica_raw.loc[filtro]"
   ]
  },
  {
   "cell_type": "markdown",
   "id": "cdff881a-e587-4268-8d2d-2a147e4b76cf",
   "metadata": {},
   "source": [
    "Para resolver este problema, iremos então criar ua coluna que vai criar uma nova coluna que possui como string, todas as características únicas e iguais de cada um dos jogos espelhados"
   ]
  },
  {
   "cell_type": "code",
   "execution_count": 10,
   "id": "354fbca3-85cd-4a93-97d2-b93de3194e58",
   "metadata": {},
   "outputs": [],
   "source": [
    "belgica_raw['PlayerName'] = belgica_raw['PlayerName'].str.strip()\n",
    "belgica_raw['Oponent'] = belgica_raw['Oponent'].str.strip()\n",
    "belgica_raw['WL'] = belgica_raw['WL'].str.strip()\n",
    "\n",
    "belgica_raw['winner'] = belgica_raw.apply(lambda x: x['PlayerName'] if x['WL'] == 'W' else x['Oponent'], axis=1)\n",
    "belgica_raw['looser'] = belgica_raw.apply(lambda x: x['PlayerName'] if x['WL'] == 'L' else x['Oponent'], axis=1)"
   ]
  },
  {
   "cell_type": "markdown",
   "id": "37ae250d-7a09-4846-bc75-f7d312943fe4",
   "metadata": {},
   "source": [
    "#### Problema dos Oponentes \"Bye\""
   ]
  },
  {
   "cell_type": "code",
   "execution_count": 11,
   "id": "3e67c9b0-42f2-46af-a1c3-bd3761821f89",
   "metadata": {},
   "outputs": [
    {
     "data": {
      "text/html": [
       "<div>\n",
       "<style scoped>\n",
       "    .dataframe tbody tr th:only-of-type {\n",
       "        vertical-align: middle;\n",
       "    }\n",
       "\n",
       "    .dataframe tbody tr th {\n",
       "        vertical-align: top;\n",
       "    }\n",
       "\n",
       "    .dataframe thead th {\n",
       "        text-align: right;\n",
       "    }\n",
       "</style>\n",
       "<table border=\"1\" class=\"dataframe\">\n",
       "  <thead>\n",
       "    <tr style=\"text-align: right;\">\n",
       "      <th></th>\n",
       "      <th>PlayerName</th>\n",
       "      <th>Born</th>\n",
       "      <th>Height</th>\n",
       "      <th>Hand</th>\n",
       "      <th>LinkPlayer</th>\n",
       "      <th>Tournament</th>\n",
       "      <th>Location</th>\n",
       "      <th>Date</th>\n",
       "      <th>Ground</th>\n",
       "      <th>Prize</th>\n",
       "      <th>GameRound</th>\n",
       "      <th>GameRank</th>\n",
       "      <th>Oponent</th>\n",
       "      <th>WL</th>\n",
       "      <th>Score</th>\n",
       "      <th>país</th>\n",
       "      <th>winner</th>\n",
       "      <th>looser</th>\n",
       "    </tr>\n",
       "  </thead>\n",
       "  <tbody>\n",
       "    <tr>\n",
       "      <th>0</th>\n",
       "      <td>Novak Djokovic</td>\n",
       "      <td>Belgrade, Serbia</td>\n",
       "      <td>188.0</td>\n",
       "      <td>Right-Handed, Two-Handed Backhand</td>\n",
       "      <td>https://www.atptour.com/en/players/novak-djoko...</td>\n",
       "      <td>BEL vs. SRB WG 1st RD</td>\n",
       "      <td>Charleroi, Belgium</td>\n",
       "      <td>2013.01.28 - 2013.02.03</td>\n",
       "      <td>Clay</td>\n",
       "      <td>NaN</td>\n",
       "      <td>Round Robin</td>\n",
       "      <td>127</td>\n",
       "      <td>Olivier Rochus</td>\n",
       "      <td>W</td>\n",
       "      <td>63 62 62</td>\n",
       "      <td>Belgium</td>\n",
       "      <td>Novak Djokovic</td>\n",
       "      <td>Olivier Rochus</td>\n",
       "    </tr>\n",
       "    <tr>\n",
       "      <th>1</th>\n",
       "      <td>Daniil Medvedev</td>\n",
       "      <td>Moscow, Russia</td>\n",
       "      <td>198.0</td>\n",
       "      <td>Right-Handed, Two-Handed Backhand</td>\n",
       "      <td>https://www.atptour.com/en/players/daniil-medv...</td>\n",
       "      <td>Mons</td>\n",
       "      <td>Mons, Belgium</td>\n",
       "      <td>2016.10.03 - 2016.10.09</td>\n",
       "      <td>Hard</td>\n",
       "      <td>�106,500</td>\n",
       "      <td>Semi-Finals</td>\n",
       "      <td>109</td>\n",
       "      <td>Jan-Lennard Struff</td>\n",
       "      <td>L</td>\n",
       "      <td>67,  67</td>\n",
       "      <td>Belgium</td>\n",
       "      <td>Jan-Lennard Struff</td>\n",
       "      <td>Daniil Medvedev</td>\n",
       "    </tr>\n",
       "    <tr>\n",
       "      <th>2</th>\n",
       "      <td>Daniil Medvedev</td>\n",
       "      <td>Moscow, Russia</td>\n",
       "      <td>198.0</td>\n",
       "      <td>Right-Handed, Two-Handed Backhand</td>\n",
       "      <td>https://www.atptour.com/en/players/daniil-medv...</td>\n",
       "      <td>Mons</td>\n",
       "      <td>Mons, Belgium</td>\n",
       "      <td>2016.10.03 - 2016.10.09</td>\n",
       "      <td>Hard</td>\n",
       "      <td>�106,500</td>\n",
       "      <td>Quarter-Finals</td>\n",
       "      <td>540</td>\n",
       "      <td>Jurgen Melzer</td>\n",
       "      <td>W</td>\n",
       "      <td>61 60</td>\n",
       "      <td>Belgium</td>\n",
       "      <td>Daniil Medvedev</td>\n",
       "      <td>Jurgen Melzer</td>\n",
       "    </tr>\n",
       "    <tr>\n",
       "      <th>3</th>\n",
       "      <td>Daniil Medvedev</td>\n",
       "      <td>Moscow, Russia</td>\n",
       "      <td>198.0</td>\n",
       "      <td>Right-Handed, Two-Handed Backhand</td>\n",
       "      <td>https://www.atptour.com/en/players/daniil-medv...</td>\n",
       "      <td>Mons</td>\n",
       "      <td>Mons, Belgium</td>\n",
       "      <td>2016.10.03 - 2016.10.09</td>\n",
       "      <td>Hard</td>\n",
       "      <td>�106,500</td>\n",
       "      <td>Round of 16</td>\n",
       "      <td>218</td>\n",
       "      <td>Norbert Gombos</td>\n",
       "      <td>W</td>\n",
       "      <td>63 76</td>\n",
       "      <td>Belgium</td>\n",
       "      <td>Daniil Medvedev</td>\n",
       "      <td>Norbert Gombos</td>\n",
       "    </tr>\n",
       "    <tr>\n",
       "      <th>4</th>\n",
       "      <td>Daniil Medvedev</td>\n",
       "      <td>Moscow, Russia</td>\n",
       "      <td>198.0</td>\n",
       "      <td>Right-Handed, Two-Handed Backhand</td>\n",
       "      <td>https://www.atptour.com/en/players/daniil-medv...</td>\n",
       "      <td>Mons</td>\n",
       "      <td>Mons, Belgium</td>\n",
       "      <td>2016.10.03 - 2016.10.09</td>\n",
       "      <td>Hard</td>\n",
       "      <td>�106,500</td>\n",
       "      <td>Round of 32</td>\n",
       "      <td>278</td>\n",
       "      <td>Clement Geens</td>\n",
       "      <td>W</td>\n",
       "      <td>64 61</td>\n",
       "      <td>Belgium</td>\n",
       "      <td>Daniil Medvedev</td>\n",
       "      <td>Clement Geens</td>\n",
       "    </tr>\n",
       "    <tr>\n",
       "      <th>...</th>\n",
       "      <td>...</td>\n",
       "      <td>...</td>\n",
       "      <td>...</td>\n",
       "      <td>...</td>\n",
       "      <td>...</td>\n",
       "      <td>...</td>\n",
       "      <td>...</td>\n",
       "      <td>...</td>\n",
       "      <td>...</td>\n",
       "      <td>...</td>\n",
       "      <td>...</td>\n",
       "      <td>...</td>\n",
       "      <td>...</td>\n",
       "      <td>...</td>\n",
       "      <td>...</td>\n",
       "      <td>...</td>\n",
       "      <td>...</td>\n",
       "      <td>...</td>\n",
       "    </tr>\n",
       "    <tr>\n",
       "      <th>10992</th>\n",
       "      <td>Rayane Oumaouche</td>\n",
       "      <td>NaN</td>\n",
       "      <td>NaN</td>\n",
       "      <td>NaN</td>\n",
       "      <td>https://www.atptour.com/en/players/rayane-ouma...</td>\n",
       "      <td>Belgium F7</td>\n",
       "      <td>Brussels, Belgium</td>\n",
       "      <td>2017.07.31 - 2017.08.06</td>\n",
       "      <td>Clay</td>\n",
       "      <td>$15,000</td>\n",
       "      <td>Round of 16</td>\n",
       "      <td>698</td>\n",
       "      <td>Omar Salman</td>\n",
       "      <td>L</td>\n",
       "      <td>36 15 (RET)</td>\n",
       "      <td>Belgium</td>\n",
       "      <td>Omar Salman</td>\n",
       "      <td>Rayane Oumaouche</td>\n",
       "    </tr>\n",
       "    <tr>\n",
       "      <th>10993</th>\n",
       "      <td>Rayane Oumaouche</td>\n",
       "      <td>NaN</td>\n",
       "      <td>NaN</td>\n",
       "      <td>NaN</td>\n",
       "      <td>https://www.atptour.com/en/players/rayane-ouma...</td>\n",
       "      <td>Belgium F7</td>\n",
       "      <td>Brussels, Belgium</td>\n",
       "      <td>2017.07.31 - 2017.08.06</td>\n",
       "      <td>Clay</td>\n",
       "      <td>$15,000</td>\n",
       "      <td>Round of 32</td>\n",
       "      <td>1255</td>\n",
       "      <td>Simon Navarro</td>\n",
       "      <td>W</td>\n",
       "      <td>62 75</td>\n",
       "      <td>Belgium</td>\n",
       "      <td>Rayane Oumaouche</td>\n",
       "      <td>Simon Navarro</td>\n",
       "    </tr>\n",
       "    <tr>\n",
       "      <th>10994</th>\n",
       "      <td>Rayane Oumaouche</td>\n",
       "      <td>NaN</td>\n",
       "      <td>NaN</td>\n",
       "      <td>NaN</td>\n",
       "      <td>https://www.atptour.com/en/players/rayane-ouma...</td>\n",
       "      <td>Belgium F10</td>\n",
       "      <td>Koksijde, Belgium</td>\n",
       "      <td>2016.08.15 - 2016.08.21</td>\n",
       "      <td>Clay</td>\n",
       "      <td>$10,000</td>\n",
       "      <td>Round of 16</td>\n",
       "      <td>948</td>\n",
       "      <td>Yannick Vandenbulcke</td>\n",
       "      <td>L</td>\n",
       "      <td>16 26</td>\n",
       "      <td>Belgium</td>\n",
       "      <td>Yannick Vandenbulcke</td>\n",
       "      <td>Rayane Oumaouche</td>\n",
       "    </tr>\n",
       "    <tr>\n",
       "      <th>10995</th>\n",
       "      <td>Rayane Oumaouche</td>\n",
       "      <td>NaN</td>\n",
       "      <td>NaN</td>\n",
       "      <td>NaN</td>\n",
       "      <td>https://www.atptour.com/en/players/rayane-ouma...</td>\n",
       "      <td>Belgium F10</td>\n",
       "      <td>Koksijde, Belgium</td>\n",
       "      <td>2016.08.15 - 2016.08.21</td>\n",
       "      <td>Clay</td>\n",
       "      <td>$10,000</td>\n",
       "      <td>Round of 32</td>\n",
       "      <td>767</td>\n",
       "      <td>Alexandre Folie</td>\n",
       "      <td>W</td>\n",
       "      <td>62 (RET)</td>\n",
       "      <td>Belgium</td>\n",
       "      <td>Rayane Oumaouche</td>\n",
       "      <td>Alexandre Folie</td>\n",
       "    </tr>\n",
       "    <tr>\n",
       "      <th>10996</th>\n",
       "      <td>Sam Taylor</td>\n",
       "      <td>Gothenburg, Sweden</td>\n",
       "      <td>185.0</td>\n",
       "      <td>Right-Handed, Two-Handed Backhand</td>\n",
       "      <td>https://www.atptour.com/en/players/sam-taylor/...</td>\n",
       "      <td>Belgium F3</td>\n",
       "      <td>Lasne, Belgium</td>\n",
       "      <td>2018.07.02 - 2018.07.08</td>\n",
       "      <td>Clay</td>\n",
       "      <td>$15,000</td>\n",
       "      <td>Round of 32</td>\n",
       "      <td>1277</td>\n",
       "      <td>Michael Geerts</td>\n",
       "      <td>L</td>\n",
       "      <td>26 67</td>\n",
       "      <td>Belgium</td>\n",
       "      <td>Michael Geerts</td>\n",
       "      <td>Sam Taylor</td>\n",
       "    </tr>\n",
       "  </tbody>\n",
       "</table>\n",
       "<p>10997 rows × 18 columns</p>\n",
       "</div>"
      ],
      "text/plain": [
       "             PlayerName                Born  Height  \\\n",
       "0        Novak Djokovic    Belgrade, Serbia   188.0   \n",
       "1       Daniil Medvedev      Moscow, Russia   198.0   \n",
       "2       Daniil Medvedev      Moscow, Russia   198.0   \n",
       "3       Daniil Medvedev      Moscow, Russia   198.0   \n",
       "4       Daniil Medvedev      Moscow, Russia   198.0   \n",
       "...                 ...                 ...     ...   \n",
       "10992  Rayane Oumaouche                 NaN     NaN   \n",
       "10993  Rayane Oumaouche                 NaN     NaN   \n",
       "10994  Rayane Oumaouche                 NaN     NaN   \n",
       "10995  Rayane Oumaouche                 NaN     NaN   \n",
       "10996        Sam Taylor  Gothenburg, Sweden   185.0   \n",
       "\n",
       "                                    Hand  \\\n",
       "0      Right-Handed, Two-Handed Backhand   \n",
       "1      Right-Handed, Two-Handed Backhand   \n",
       "2      Right-Handed, Two-Handed Backhand   \n",
       "3      Right-Handed, Two-Handed Backhand   \n",
       "4      Right-Handed, Two-Handed Backhand   \n",
       "...                                  ...   \n",
       "10992                                NaN   \n",
       "10993                                NaN   \n",
       "10994                                NaN   \n",
       "10995                                NaN   \n",
       "10996  Right-Handed, Two-Handed Backhand   \n",
       "\n",
       "                                              LinkPlayer  \\\n",
       "0      https://www.atptour.com/en/players/novak-djoko...   \n",
       "1      https://www.atptour.com/en/players/daniil-medv...   \n",
       "2      https://www.atptour.com/en/players/daniil-medv...   \n",
       "3      https://www.atptour.com/en/players/daniil-medv...   \n",
       "4      https://www.atptour.com/en/players/daniil-medv...   \n",
       "...                                                  ...   \n",
       "10992  https://www.atptour.com/en/players/rayane-ouma...   \n",
       "10993  https://www.atptour.com/en/players/rayane-ouma...   \n",
       "10994  https://www.atptour.com/en/players/rayane-ouma...   \n",
       "10995  https://www.atptour.com/en/players/rayane-ouma...   \n",
       "10996  https://www.atptour.com/en/players/sam-taylor/...   \n",
       "\n",
       "                  Tournament            Location                     Date  \\\n",
       "0      BEL vs. SRB WG 1st RD  Charleroi, Belgium  2013.01.28 - 2013.02.03   \n",
       "1                       Mons       Mons, Belgium  2016.10.03 - 2016.10.09   \n",
       "2                       Mons       Mons, Belgium  2016.10.03 - 2016.10.09   \n",
       "3                       Mons       Mons, Belgium  2016.10.03 - 2016.10.09   \n",
       "4                       Mons       Mons, Belgium  2016.10.03 - 2016.10.09   \n",
       "...                      ...                 ...                      ...   \n",
       "10992             Belgium F7   Brussels, Belgium  2017.07.31 - 2017.08.06   \n",
       "10993             Belgium F7   Brussels, Belgium  2017.07.31 - 2017.08.06   \n",
       "10994            Belgium F10   Koksijde, Belgium  2016.08.15 - 2016.08.21   \n",
       "10995            Belgium F10   Koksijde, Belgium  2016.08.15 - 2016.08.21   \n",
       "10996             Belgium F3      Lasne, Belgium  2018.07.02 - 2018.07.08   \n",
       "\n",
       "      Ground     Prize       GameRound GameRank               Oponent WL  \\\n",
       "0       Clay       NaN     Round Robin      127        Olivier Rochus  W   \n",
       "1       Hard  �106,500     Semi-Finals      109    Jan-Lennard Struff  L   \n",
       "2       Hard  �106,500  Quarter-Finals      540         Jurgen Melzer  W   \n",
       "3       Hard  �106,500     Round of 16      218        Norbert Gombos  W   \n",
       "4       Hard  �106,500     Round of 32      278         Clement Geens  W   \n",
       "...      ...       ...             ...      ...                   ... ..   \n",
       "10992   Clay   $15,000     Round of 16      698           Omar Salman  L   \n",
       "10993   Clay   $15,000     Round of 32     1255         Simon Navarro  W   \n",
       "10994   Clay   $10,000     Round of 16      948  Yannick Vandenbulcke  L   \n",
       "10995   Clay   $10,000     Round of 32      767       Alexandre Folie  W   \n",
       "10996   Clay   $15,000     Round of 32     1277        Michael Geerts  L   \n",
       "\n",
       "             Score     país                winner            looser  \n",
       "0         63 62 62  Belgium        Novak Djokovic    Olivier Rochus  \n",
       "1          67,  67  Belgium    Jan-Lennard Struff   Daniil Medvedev  \n",
       "2            61 60  Belgium       Daniil Medvedev     Jurgen Melzer  \n",
       "3            63 76  Belgium       Daniil Medvedev    Norbert Gombos  \n",
       "4            64 61  Belgium       Daniil Medvedev     Clement Geens  \n",
       "...            ...      ...                   ...               ...  \n",
       "10992  36 15 (RET)  Belgium           Omar Salman  Rayane Oumaouche  \n",
       "10993        62 75  Belgium      Rayane Oumaouche     Simon Navarro  \n",
       "10994        16 26  Belgium  Yannick Vandenbulcke  Rayane Oumaouche  \n",
       "10995     62 (RET)  Belgium      Rayane Oumaouche   Alexandre Folie  \n",
       "10996        26 67  Belgium        Michael Geerts        Sam Taylor  \n",
       "\n",
       "[10997 rows x 18 columns]"
      ]
     },
     "execution_count": 11,
     "metadata": {},
     "output_type": "execute_result"
    }
   ],
   "source": [
    "belgica_raw"
   ]
  },
  {
   "cell_type": "markdown",
   "id": "2f136f41-86db-49a0-878a-9481840ef2c6",
   "metadata": {},
   "source": [
    "Observando a tabela de cima, é notório a existência de oponentes \"Bye\"."
   ]
  },
  {
   "cell_type": "code",
   "execution_count": 12,
   "id": "91e04ba9-532a-4973-86c6-8942122c5a0f",
   "metadata": {},
   "outputs": [
    {
     "data": {
      "text/plain": [
       "68"
      ]
     },
     "execution_count": 12,
     "metadata": {},
     "output_type": "execute_result"
    }
   ],
   "source": [
    "# Conte quantas vezes \"bye\" aparece na coluna 'Oponent'\n",
    "count_bye = belgica_raw['Oponent'].str.contains('bye', case=False).sum()\n",
    "count_bye"
   ]
  },
  {
   "cell_type": "code",
   "execution_count": 13,
   "id": "27bdf30d-5f3e-4585-8d2b-73e2ab0bb52d",
   "metadata": {},
   "outputs": [],
   "source": [
    "# Remova todas as linhas que contêm \"bye\" na coluna 'Oponent'\n",
    "belgica_raw = belgica_raw[~belgica_raw['Oponent'].str.contains('bye', case=False)]"
   ]
  },
  {
   "cell_type": "markdown",
   "id": "5ea5ec32-0a9a-443a-84ba-91de9d8bbc3a",
   "metadata": {},
   "source": [
    "- - -"
   ]
  },
  {
   "cell_type": "markdown",
   "id": "b6c8f5ed-6364-433c-b394-345467c9bbb9",
   "metadata": {},
   "source": [
    "## Retirar os jogos espelhados (continuação)"
   ]
  },
  {
   "cell_type": "code",
   "execution_count": 14,
   "id": "1ef145f5-9676-4d3f-82c1-289d79eea3f6",
   "metadata": {},
   "outputs": [],
   "source": [
    "belgica_raw_copy = belgica_raw.copy()\n",
    "belgica_raw_copy.sort_values(\"WL\", inplace=True, ascending=False)\n",
    "belgica_raw_copy.drop_duplicates(subset=[\"winner\", \"looser\", \"Tournament\", \"Location\", \"Date\", \"Ground\", \"Prize\", \"GameRound\"], inplace=True)\n",
    "belgica_raw = belgica_raw_copy\n",
    "del belgica_raw_copy"
   ]
  },
  {
   "cell_type": "code",
   "execution_count": 15,
   "id": "dc7d1586-8764-44ae-918c-1d880901344a",
   "metadata": {},
   "outputs": [
    {
     "data": {
      "text/plain": [
       "5982"
      ]
     },
     "execution_count": 15,
     "metadata": {},
     "output_type": "execute_result"
    }
   ],
   "source": [
    "len(belgica_raw)"
   ]
  },
  {
   "cell_type": "code",
   "execution_count": 16,
   "id": "31fe6148-6555-4ef1-9a00-275fc7931b2e",
   "metadata": {},
   "outputs": [],
   "source": [
    "# Remova a coluna 'UniqueMatch'\n",
    "belgica_raw = belgica_raw.drop([\"winner\", \"looser\"], axis=1)"
   ]
  },
  {
   "cell_type": "code",
   "execution_count": 17,
   "id": "c1e561e3-0493-404f-b177-03ffce5d6593",
   "metadata": {},
   "outputs": [
    {
     "data": {
      "text/plain": [
       "(5982, 16)"
      ]
     },
     "execution_count": 17,
     "metadata": {},
     "output_type": "execute_result"
    }
   ],
   "source": [
    "belgica_raw.shape"
   ]
  },
  {
   "cell_type": "code",
   "execution_count": 18,
   "id": "a13a008d-8f5b-45d7-be3b-1ddd926813bd",
   "metadata": {},
   "outputs": [
    {
     "data": {
      "text/html": [
       "<div>\n",
       "<style scoped>\n",
       "    .dataframe tbody tr th:only-of-type {\n",
       "        vertical-align: middle;\n",
       "    }\n",
       "\n",
       "    .dataframe tbody tr th {\n",
       "        vertical-align: top;\n",
       "    }\n",
       "\n",
       "    .dataframe thead th {\n",
       "        text-align: right;\n",
       "    }\n",
       "</style>\n",
       "<table border=\"1\" class=\"dataframe\">\n",
       "  <thead>\n",
       "    <tr style=\"text-align: right;\">\n",
       "      <th></th>\n",
       "      <th>PlayerName</th>\n",
       "      <th>Born</th>\n",
       "      <th>Height</th>\n",
       "      <th>Hand</th>\n",
       "      <th>LinkPlayer</th>\n",
       "      <th>Tournament</th>\n",
       "      <th>Location</th>\n",
       "      <th>Date</th>\n",
       "      <th>Ground</th>\n",
       "      <th>Prize</th>\n",
       "      <th>GameRound</th>\n",
       "      <th>GameRank</th>\n",
       "      <th>Oponent</th>\n",
       "      <th>WL</th>\n",
       "      <th>Score</th>\n",
       "      <th>país</th>\n",
       "    </tr>\n",
       "  </thead>\n",
       "  <tbody>\n",
       "    <tr>\n",
       "      <th>10019</th>\n",
       "      <td>Alexis Musialek</td>\n",
       "      <td>Dax, France</td>\n",
       "      <td>183.0</td>\n",
       "      <td>Right-Handed, Two-Handed Backhand</td>\n",
       "      <td>https://www.atptour.com/en/players/alexis-musi...</td>\n",
       "      <td>Belgium F8</td>\n",
       "      <td>Ostend, Belgium</td>\n",
       "      <td>2016.08.01 - 2016.08.07</td>\n",
       "      <td>Clay</td>\n",
       "      <td>$10,000</td>\n",
       "      <td>Semi-Finals</td>\n",
       "      <td>835</td>\n",
       "      <td>Botic van de Zandschulp</td>\n",
       "      <td>W</td>\n",
       "      <td>63 63</td>\n",
       "      <td>Belgium</td>\n",
       "    </tr>\n",
       "  </tbody>\n",
       "</table>\n",
       "</div>"
      ],
      "text/plain": [
       "            PlayerName         Born  Height  \\\n",
       "10019  Alexis Musialek  Dax, France   183.0   \n",
       "\n",
       "                                    Hand  \\\n",
       "10019  Right-Handed, Two-Handed Backhand   \n",
       "\n",
       "                                              LinkPlayer  Tournament  \\\n",
       "10019  https://www.atptour.com/en/players/alexis-musi...  Belgium F8   \n",
       "\n",
       "              Location                     Date Ground    Prize    GameRound  \\\n",
       "10019  Ostend, Belgium  2016.08.01 - 2016.08.07   Clay  $10,000  Semi-Finals   \n",
       "\n",
       "      GameRank                  Oponent WL  Score     país  \n",
       "10019      835  Botic van de Zandschulp  W  63 63  Belgium  "
      ]
     },
     "execution_count": 18,
     "metadata": {},
     "output_type": "execute_result"
    }
   ],
   "source": [
    "belgica_raw.loc[filtro]"
   ]
  },
  {
   "cell_type": "markdown",
   "id": "54b78d1e-0169-4284-889b-f654c6f11bd4",
   "metadata": {},
   "source": [
    "Podemos visualizar em cima que este jogo agora aparece uma única vez"
   ]
  },
  {
   "cell_type": "markdown",
   "id": "aaffb618",
   "metadata": {
    "toc-hr-collapsed": true
   },
   "source": [
    "## Feature selection"
   ]
  },
  {
   "cell_type": "code",
   "execution_count": 19,
   "id": "7f7fc776",
   "metadata": {
    "ExecuteTime": {
     "end_time": "2023-04-24T19:58:44.448202Z",
     "start_time": "2023-04-24T19:58:44.434305Z"
    },
    "tags": []
   },
   "outputs": [],
   "source": [
    "# features_not_to_use = [\"LinkPlayer\"]"
   ]
  },
  {
   "cell_type": "code",
   "execution_count": 20,
   "id": "b30b94de-9081-451c-8e4c-a22c6faacf60",
   "metadata": {
    "ExecuteTime": {
     "end_time": "2023-04-24T19:58:44.870865Z",
     "start_time": "2023-04-24T19:58:44.846573Z"
    },
    "tags": []
   },
   "outputs": [],
   "source": [
    "# belgica_raw = belgica_raw.drop(features_not_to_use, axis=1)"
   ]
  },
  {
   "cell_type": "markdown",
   "id": "664c91bc",
   "metadata": {},
   "source": [
    "## Dados omissos"
   ]
  },
  {
   "cell_type": "code",
   "execution_count": 21,
   "id": "4efc81a5",
   "metadata": {
    "ExecuteTime": {
     "end_time": "2023-04-24T19:58:46.950386Z",
     "start_time": "2023-04-24T19:58:46.870020Z"
    },
    "tags": []
   },
   "outputs": [
    {
     "data": {
      "text/html": [
       "<div>\n",
       "<style scoped>\n",
       "    .dataframe tbody tr th:only-of-type {\n",
       "        vertical-align: middle;\n",
       "    }\n",
       "\n",
       "    .dataframe tbody tr th {\n",
       "        vertical-align: top;\n",
       "    }\n",
       "\n",
       "    .dataframe thead th {\n",
       "        text-align: right;\n",
       "    }\n",
       "</style>\n",
       "<table border=\"1\" class=\"dataframe\">\n",
       "  <thead>\n",
       "    <tr style=\"text-align: right;\">\n",
       "      <th></th>\n",
       "      <th>PlayerName</th>\n",
       "      <th>Born</th>\n",
       "      <th>Height</th>\n",
       "      <th>Hand</th>\n",
       "      <th>LinkPlayer</th>\n",
       "      <th>Tournament</th>\n",
       "      <th>Location</th>\n",
       "      <th>Date</th>\n",
       "      <th>Ground</th>\n",
       "      <th>Prize</th>\n",
       "      <th>GameRound</th>\n",
       "      <th>GameRank</th>\n",
       "      <th>Oponent</th>\n",
       "      <th>WL</th>\n",
       "      <th>Score</th>\n",
       "      <th>país</th>\n",
       "    </tr>\n",
       "  </thead>\n",
       "  <tbody>\n",
       "    <tr>\n",
       "      <th>count</th>\n",
       "      <td>5982</td>\n",
       "      <td>4700</td>\n",
       "      <td>4758.000000</td>\n",
       "      <td>5206</td>\n",
       "      <td>5982</td>\n",
       "      <td>5982</td>\n",
       "      <td>5982</td>\n",
       "      <td>5982</td>\n",
       "      <td>5982</td>\n",
       "      <td>5849</td>\n",
       "      <td>5982</td>\n",
       "      <td>5982</td>\n",
       "      <td>5982</td>\n",
       "      <td>5982</td>\n",
       "      <td>5981</td>\n",
       "      <td>5982</td>\n",
       "    </tr>\n",
       "    <tr>\n",
       "      <th>unique</th>\n",
       "      <td>1200</td>\n",
       "      <td>639</td>\n",
       "      <td>NaN</td>\n",
       "      <td>7</td>\n",
       "      <td>1200</td>\n",
       "      <td>73</td>\n",
       "      <td>36</td>\n",
       "      <td>225</td>\n",
       "      <td>3</td>\n",
       "      <td>25</td>\n",
       "      <td>10</td>\n",
       "      <td>1590</td>\n",
       "      <td>1920</td>\n",
       "      <td>2</td>\n",
       "      <td>995</td>\n",
       "      <td>1</td>\n",
       "    </tr>\n",
       "    <tr>\n",
       "      <th>top</th>\n",
       "      <td>Yannick Vandenbulcke</td>\n",
       "      <td>Antwerp, Belgium</td>\n",
       "      <td>NaN</td>\n",
       "      <td>Right-Handed, Two-Handed Backhand</td>\n",
       "      <td>https://www.atptour.com/en/players/yannick-van...</td>\n",
       "      <td>Mons</td>\n",
       "      <td>Belgium</td>\n",
       "      <td>2012.07.16 - 2012.07.22</td>\n",
       "      <td>Clay</td>\n",
       "      <td>$10,000</td>\n",
       "      <td>Round of 32</td>\n",
       "      <td>-</td>\n",
       "      <td>Germain Gigounon</td>\n",
       "      <td>W</td>\n",
       "      <td>64 64</td>\n",
       "      <td>Belgium</td>\n",
       "    </tr>\n",
       "    <tr>\n",
       "      <th>freq</th>\n",
       "      <td>97</td>\n",
       "      <td>153</td>\n",
       "      <td>NaN</td>\n",
       "      <td>2473</td>\n",
       "      <td>97</td>\n",
       "      <td>588</td>\n",
       "      <td>1847</td>\n",
       "      <td>79</td>\n",
       "      <td>4311</td>\n",
       "      <td>2275</td>\n",
       "      <td>2827</td>\n",
       "      <td>729</td>\n",
       "      <td>109</td>\n",
       "      <td>5578</td>\n",
       "      <td>186</td>\n",
       "      <td>5982</td>\n",
       "    </tr>\n",
       "    <tr>\n",
       "      <th>mean</th>\n",
       "      <td>NaN</td>\n",
       "      <td>NaN</td>\n",
       "      <td>182.051282</td>\n",
       "      <td>NaN</td>\n",
       "      <td>NaN</td>\n",
       "      <td>NaN</td>\n",
       "      <td>NaN</td>\n",
       "      <td>NaN</td>\n",
       "      <td>NaN</td>\n",
       "      <td>NaN</td>\n",
       "      <td>NaN</td>\n",
       "      <td>NaN</td>\n",
       "      <td>NaN</td>\n",
       "      <td>NaN</td>\n",
       "      <td>NaN</td>\n",
       "      <td>NaN</td>\n",
       "    </tr>\n",
       "    <tr>\n",
       "      <th>std</th>\n",
       "      <td>NaN</td>\n",
       "      <td>NaN</td>\n",
       "      <td>22.769122</td>\n",
       "      <td>NaN</td>\n",
       "      <td>NaN</td>\n",
       "      <td>NaN</td>\n",
       "      <td>NaN</td>\n",
       "      <td>NaN</td>\n",
       "      <td>NaN</td>\n",
       "      <td>NaN</td>\n",
       "      <td>NaN</td>\n",
       "      <td>NaN</td>\n",
       "      <td>NaN</td>\n",
       "      <td>NaN</td>\n",
       "      <td>NaN</td>\n",
       "      <td>NaN</td>\n",
       "    </tr>\n",
       "    <tr>\n",
       "      <th>min</th>\n",
       "      <td>NaN</td>\n",
       "      <td>NaN</td>\n",
       "      <td>0.000000</td>\n",
       "      <td>NaN</td>\n",
       "      <td>NaN</td>\n",
       "      <td>NaN</td>\n",
       "      <td>NaN</td>\n",
       "      <td>NaN</td>\n",
       "      <td>NaN</td>\n",
       "      <td>NaN</td>\n",
       "      <td>NaN</td>\n",
       "      <td>NaN</td>\n",
       "      <td>NaN</td>\n",
       "      <td>NaN</td>\n",
       "      <td>NaN</td>\n",
       "      <td>NaN</td>\n",
       "    </tr>\n",
       "    <tr>\n",
       "      <th>25%</th>\n",
       "      <td>NaN</td>\n",
       "      <td>NaN</td>\n",
       "      <td>180.000000</td>\n",
       "      <td>NaN</td>\n",
       "      <td>NaN</td>\n",
       "      <td>NaN</td>\n",
       "      <td>NaN</td>\n",
       "      <td>NaN</td>\n",
       "      <td>NaN</td>\n",
       "      <td>NaN</td>\n",
       "      <td>NaN</td>\n",
       "      <td>NaN</td>\n",
       "      <td>NaN</td>\n",
       "      <td>NaN</td>\n",
       "      <td>NaN</td>\n",
       "      <td>NaN</td>\n",
       "    </tr>\n",
       "    <tr>\n",
       "      <th>50%</th>\n",
       "      <td>NaN</td>\n",
       "      <td>NaN</td>\n",
       "      <td>185.000000</td>\n",
       "      <td>NaN</td>\n",
       "      <td>NaN</td>\n",
       "      <td>NaN</td>\n",
       "      <td>NaN</td>\n",
       "      <td>NaN</td>\n",
       "      <td>NaN</td>\n",
       "      <td>NaN</td>\n",
       "      <td>NaN</td>\n",
       "      <td>NaN</td>\n",
       "      <td>NaN</td>\n",
       "      <td>NaN</td>\n",
       "      <td>NaN</td>\n",
       "      <td>NaN</td>\n",
       "    </tr>\n",
       "    <tr>\n",
       "      <th>75%</th>\n",
       "      <td>NaN</td>\n",
       "      <td>NaN</td>\n",
       "      <td>191.000000</td>\n",
       "      <td>NaN</td>\n",
       "      <td>NaN</td>\n",
       "      <td>NaN</td>\n",
       "      <td>NaN</td>\n",
       "      <td>NaN</td>\n",
       "      <td>NaN</td>\n",
       "      <td>NaN</td>\n",
       "      <td>NaN</td>\n",
       "      <td>NaN</td>\n",
       "      <td>NaN</td>\n",
       "      <td>NaN</td>\n",
       "      <td>NaN</td>\n",
       "      <td>NaN</td>\n",
       "    </tr>\n",
       "    <tr>\n",
       "      <th>max</th>\n",
       "      <td>NaN</td>\n",
       "      <td>NaN</td>\n",
       "      <td>211.000000</td>\n",
       "      <td>NaN</td>\n",
       "      <td>NaN</td>\n",
       "      <td>NaN</td>\n",
       "      <td>NaN</td>\n",
       "      <td>NaN</td>\n",
       "      <td>NaN</td>\n",
       "      <td>NaN</td>\n",
       "      <td>NaN</td>\n",
       "      <td>NaN</td>\n",
       "      <td>NaN</td>\n",
       "      <td>NaN</td>\n",
       "      <td>NaN</td>\n",
       "      <td>NaN</td>\n",
       "    </tr>\n",
       "  </tbody>\n",
       "</table>\n",
       "</div>"
      ],
      "text/plain": [
       "                  PlayerName              Born       Height  \\\n",
       "count                   5982              4700  4758.000000   \n",
       "unique                  1200               639          NaN   \n",
       "top     Yannick Vandenbulcke  Antwerp, Belgium          NaN   \n",
       "freq                      97               153          NaN   \n",
       "mean                     NaN               NaN   182.051282   \n",
       "std                      NaN               NaN    22.769122   \n",
       "min                      NaN               NaN     0.000000   \n",
       "25%                      NaN               NaN   180.000000   \n",
       "50%                      NaN               NaN   185.000000   \n",
       "75%                      NaN               NaN   191.000000   \n",
       "max                      NaN               NaN   211.000000   \n",
       "\n",
       "                                     Hand  \\\n",
       "count                                5206   \n",
       "unique                                  7   \n",
       "top     Right-Handed, Two-Handed Backhand   \n",
       "freq                                 2473   \n",
       "mean                                  NaN   \n",
       "std                                   NaN   \n",
       "min                                   NaN   \n",
       "25%                                   NaN   \n",
       "50%                                   NaN   \n",
       "75%                                   NaN   \n",
       "max                                   NaN   \n",
       "\n",
       "                                               LinkPlayer Tournament Location  \\\n",
       "count                                                5982       5982     5982   \n",
       "unique                                               1200         73       36   \n",
       "top     https://www.atptour.com/en/players/yannick-van...       Mons  Belgium   \n",
       "freq                                                   97        588     1847   \n",
       "mean                                                  NaN        NaN      NaN   \n",
       "std                                                   NaN        NaN      NaN   \n",
       "min                                                   NaN        NaN      NaN   \n",
       "25%                                                   NaN        NaN      NaN   \n",
       "50%                                                   NaN        NaN      NaN   \n",
       "75%                                                   NaN        NaN      NaN   \n",
       "max                                                   NaN        NaN      NaN   \n",
       "\n",
       "                           Date Ground    Prize    GameRound GameRank  \\\n",
       "count                      5982   5982     5849         5982     5982   \n",
       "unique                      225      3       25           10     1590   \n",
       "top     2012.07.16 - 2012.07.22   Clay  $10,000  Round of 32        -   \n",
       "freq                         79   4311     2275         2827      729   \n",
       "mean                        NaN    NaN      NaN          NaN      NaN   \n",
       "std                         NaN    NaN      NaN          NaN      NaN   \n",
       "min                         NaN    NaN      NaN          NaN      NaN   \n",
       "25%                         NaN    NaN      NaN          NaN      NaN   \n",
       "50%                         NaN    NaN      NaN          NaN      NaN   \n",
       "75%                         NaN    NaN      NaN          NaN      NaN   \n",
       "max                         NaN    NaN      NaN          NaN      NaN   \n",
       "\n",
       "                 Oponent    WL  Score     país  \n",
       "count               5982  5982   5981     5982  \n",
       "unique              1920     2    995        1  \n",
       "top     Germain Gigounon     W  64 64  Belgium  \n",
       "freq                 109  5578    186     5982  \n",
       "mean                 NaN   NaN    NaN      NaN  \n",
       "std                  NaN   NaN    NaN      NaN  \n",
       "min                  NaN   NaN    NaN      NaN  \n",
       "25%                  NaN   NaN    NaN      NaN  \n",
       "50%                  NaN   NaN    NaN      NaN  \n",
       "75%                  NaN   NaN    NaN      NaN  \n",
       "max                  NaN   NaN    NaN      NaN  "
      ]
     },
     "execution_count": 21,
     "metadata": {},
     "output_type": "execute_result"
    }
   ],
   "source": [
    "belgica_raw.describe(include=\"all\")"
   ]
  },
  {
   "cell_type": "code",
   "execution_count": 22,
   "id": "7c0b7160-2e97-46c1-9fc9-79c0d09dac0f",
   "metadata": {
    "ExecuteTime": {
     "end_time": "2023-04-24T19:58:47.523539Z",
     "start_time": "2023-04-24T19:58:47.482444Z"
    }
   },
   "outputs": [
    {
     "name": "stdout",
     "output_type": "stream",
     "text": [
      "Born      1282\n",
      "Height    1224\n",
      "Hand       776\n",
      "Prize      133\n",
      "Score        1\n",
      "dtype: int64\n"
     ]
    }
   ],
   "source": [
    "# Número de omissos em cada variável\n",
    "nulos = belgica_raw.isna().sum()\n",
    "\n",
    "# Selecionar apenas as colunas com valores nulos\n",
    "colunas_com_nulos = nulos.loc[nulos > 0]\n",
    "\n",
    "# Exibir as colunas com valores nulos\n",
    "print(colunas_com_nulos)"
   ]
  },
  {
   "cell_type": "code",
   "execution_count": 23,
   "id": "ca705a71-e971-4da0-a313-8bc457dbb98e",
   "metadata": {
    "ExecuteTime": {
     "end_time": "2023-04-24T19:58:48.726691Z",
     "start_time": "2023-04-24T19:58:48.051916Z"
    }
   },
   "outputs": [
    {
     "data": {
      "image/png": "[encoded data removed]",
      "text/plain": [
       "<Figure size 640x480 with 1 Axes>"
      ]
     },
     "metadata": {},
     "output_type": "display_data"
    }
   ],
   "source": [
    "sns.barplot(x = nulos.index, y = nulos.values, palette=\"bone\")\n",
    "\n",
    "plt.xlabel('Variável')\n",
    "plt.ylabel('Número de Valores Omissos')\n",
    "plt.title('Número de Valores Omissos em Cada Variável')\n",
    "\n",
    "plt.xticks(rotation=90)\n",
    "\n",
    "plt.show()"
   ]
  },
  {
   "cell_type": "markdown",
   "id": "34a14f86-9082-46c1-904a-c9dc8816fb82",
   "metadata": {},
   "source": [
    "Visualizando a tabela em cima, é possivel verificar que as variáveis que possuem mais valores nulos são:\n",
    "- 1ªLugar: Born\n",
    "- 2ªLugar: Height\n",
    "- 3ªLugar: Hand\n",
    "Será necessário arranjar alguma forma de resolver este problema, pois, estas variáveis são essenciais para a criação do modelo."
   ]
  },
  {
   "cell_type": "code",
   "execution_count": 24,
   "id": "a670161f-b13d-4df8-b97e-956d33e7203b",
   "metadata": {
    "ExecuteTime": {
     "end_time": "2023-04-24T19:58:51.086631Z",
     "start_time": "2023-04-24T19:58:50.793504Z"
    }
   },
   "outputs": [
    {
     "data": {
      "image/png": "[encoded data removed]",
      "text/plain": [
       "<Figure size 1200x600 with 1 Axes>"
      ]
     },
     "metadata": {},
     "output_type": "display_data"
    }
   ],
   "source": [
    "# Calcular as percentagens de valores nulos em cada coluna\n",
    "percentagens_nulos = (belgica_raw.isna().sum() / len(belgica_raw)) * 100\n",
    "\n",
    "# Converter os dados em formato de tabela\n",
    "df_percentagens_nulos = percentagens_nulos.reset_index()\n",
    "df_percentagens_nulos.columns = ['Variável', 'Percentagem de Nulos']\n",
    "\n",
    "# Criar o gráfico de barras empilhadas\n",
    "plt.figure(figsize=(12, 6))\n",
    "ax = sns.barplot(x='Variável', y='Percentagem de Nulos', data=df_percentagens_nulos, palette='Blues')\n",
    "\n",
    "# Adicionar rótulos e título\n",
    "plt.xlabel('Variável')\n",
    "plt.ylabel('Percentagem de Valores Nulos (%)')\n",
    "plt.title('Percentagem de Valores Nulos em Cada Variável')\n",
    "\n",
    "# Rotacionar rótulos do eixo x para melhorar a legibilidade\n",
    "ax.set_xticklabels(ax.get_xticklabels(), rotation=90, ha='right')\n",
    "\n",
    "for p in ax.patches:\n",
    "    width = p.get_width()\n",
    "    height = p.get_height()\n",
    "    x, y = p.get_xy() \n",
    "    ax.annotate(f'{height:.1f}%', (x + width/2, y + height/2), ha='center', va='center')\n",
    "\n",
    "\n",
    "# Exibir o gráfico\n",
    "plt.show()"
   ]
  },
  {
   "cell_type": "code",
   "execution_count": 25,
   "id": "91ce8e99-3809-499d-8990-1580e5720ed5",
   "metadata": {
    "ExecuteTime": {
     "end_time": "2023-04-24T19:58:52.098613Z",
     "start_time": "2023-04-24T19:58:51.699841Z"
    }
   },
   "outputs": [
    {
     "data": {
      "image/png": "[encoded data removed]",
      "text/plain": [
       "<Figure size 1200x600 with 1 Axes>"
      ]
     },
     "metadata": {},
     "output_type": "display_data"
    }
   ],
   "source": [
    "# Calcular as percentagens de valores nulos e não nulos em cada coluna\n",
    "percentagens_nulos = (belgica_raw.isna().sum() / len(belgica_raw)) * 100\n",
    "percentagens_nao_nulos = 100 - percentagens_nulos\n",
    "\n",
    "# Converter os dados em formato de tabela\n",
    "df_percentagens = pd.concat([percentagens_nulos, percentagens_nao_nulos], axis=1)\n",
    "df_percentagens.columns = ['Percentagem de Nulos', 'Percentagem de Não Nulos']\n",
    "\n",
    "# Criar o gráfico de barras empilhadas com a percentagem em cima de cada barra\n",
    "ax = df_percentagens.plot(kind='bar', stacked=True, figsize=(12, 6))\n",
    "ax.set_xlabel('Variável')\n",
    "ax.set_ylabel('Percentagem')\n",
    "ax.set_title('Percentagem de Valores Nulos e Não Nulos em Cada Variável')\n",
    "\n",
    "# Adicionar a percentagem em cima de cada barra\n",
    "for p in ax.containers:\n",
    "    ax.bar_label(p, labels=[f'{v:.1f}%' for v in p.datavalues], label_type='edge')\n",
    "\n",
    "# Exibir o gráfico\n",
    "plt.show()"
   ]
  },
  {
   "cell_type": "markdown",
   "id": "4fd8c2b1-19dc-49ae-a54e-c2440f59b79b",
   "metadata": {},
   "source": [
    "Para ter uma melhor perceção de quantos nulos existem nas variáveis mais importantes, podemos visualizar a imagem acima que nos demonstra que:\n",
    "- Born: 19.6% da coluna são valores omissos\n",
    "- Height: 18.7% da coluna são valores omissos\n",
    "- Hand: 11.3% da coluna são valores omissos"
   ]
  },
  {
   "cell_type": "markdown",
   "id": "2512da69",
   "metadata": {},
   "source": [
    "## Variáveis quantitativas"
   ]
  },
  {
   "cell_type": "markdown",
   "id": "d65aa60e",
   "metadata": {},
   "source": [
    "Existem três variávies quantitativas:\n",
    "- Height (Altura do jogador)\n",
    "- GameRank\n",
    "- Prize"
   ]
  },
  {
   "cell_type": "markdown",
   "id": "526f78fa",
   "metadata": {},
   "source": [
    "#### Height"
   ]
  },
  {
   "cell_type": "code",
   "execution_count": 26,
   "id": "1791b340",
   "metadata": {
    "ExecuteTime": {
     "end_time": "2023-04-24T19:58:54.468636Z",
     "start_time": "2023-04-24T19:58:54.288206Z"
    }
   },
   "outputs": [
    {
     "data": {
      "image/png": "[encoded data removed]",
      "text/plain": [
       "<Figure size 640x480 with 1 Axes>"
      ]
     },
     "metadata": {},
     "output_type": "display_data"
    }
   ],
   "source": [
    "sns.histplot(data=belgica_raw, x='Height', bins=30, kde=False, color='#006400')\n",
    "\n",
    "plt.xlabel('Altura (cm)')\n",
    "plt.ylabel('Frequência')\n",
    "plt.xlim(belgica_raw['Height'].min(), belgica_raw['Height'].max())\n",
    "plt.title('Altura (cm) - Histograma')\n",
    "plt.grid(False)\n",
    "\n",
    "plt.show()"
   ]
  },
  {
   "cell_type": "code",
   "execution_count": 27,
   "id": "83e2fad0-0459-496c-825b-e81e0499fe84",
   "metadata": {},
   "outputs": [
    {
     "data": {
      "image/png": "[encoded data removed]",
      "text/plain": [
       "<Figure size 640x480 with 1 Axes>"
      ]
     },
     "metadata": {},
     "output_type": "display_data"
    }
   ],
   "source": [
    "# Configurar o estilo do Seaborn\n",
    "sns.set_style('whitegrid')\n",
    "\n",
    "# Criar o boxplot\n",
    "sns.boxplot(data=belgica_raw, x='Height', color='#006400')\n",
    "\n",
    "# Configurar os rótulos e títulos\n",
    "plt.xlabel('Altura (cm)')\n",
    "plt.title('Altura (cm) - Boxplot')\n",
    "\n",
    "# Remover a grade\n",
    "sns.despine()\n",
    "\n",
    "# Mostrar o gráfico\n",
    "plt.show()"
   ]
  },
  {
   "cell_type": "markdown",
   "id": "374bbec2",
   "metadata": {},
   "source": [
    "Vemos que existem outliers, i.e., os valores próximos de 0.\n",
    "\n",
    "Abaixo tentamos ver os valores em si e a que jogadores é que pertencem."
   ]
  },
  {
   "cell_type": "code",
   "execution_count": 28,
   "id": "a7ff42aa",
   "metadata": {
    "ExecuteTime": {
     "end_time": "2023-04-24T19:58:55.441382Z",
     "start_time": "2023-04-24T19:58:55.433413Z"
    }
   },
   "outputs": [
    {
     "name": "stdout",
     "output_type": "stream",
     "text": [
      "[0.0, 3.0]\n"
     ]
    }
   ],
   "source": [
    "# Valores\n",
    "\n",
    "outliers_Height=[]\n",
    "for line in belgica_raw[\"Height\"]:\n",
    "    if line < 120 and line not in outliers_Height:\n",
    "        outliers_Height.append(line)\n",
    "print(outliers_Height)"
   ]
  },
  {
   "cell_type": "code",
   "execution_count": 29,
   "id": "05fe2ca4",
   "metadata": {
    "ExecuteTime": {
     "end_time": "2023-04-24T19:58:56.330264Z",
     "start_time": "2023-04-24T19:58:56.057297Z"
    }
   },
   "outputs": [
    {
     "name": "stdout",
     "output_type": "stream",
     "text": [
      "['Marc Abdelnour', 'Maxime Authom', 'Mauricio Astorga', 'Bart Van Den Berg', 'Henrik Andersson', 'Timothy Aerts', 'Jorge Panta', 'Manuel Sanchez', 'Riccardo Maiga']\n"
     ]
    },
    {
     "data": {
      "text/plain": [
       "9"
      ]
     },
     "execution_count": 29,
     "metadata": {},
     "output_type": "execute_result"
    }
   ],
   "source": [
    "# Nomes\n",
    "\n",
    "outliers_Height_Name = []\n",
    "for index, row in belgica_raw.iterrows():\n",
    "    if row[\"Height\"] < 120 and row[\"PlayerName\"] not in outliers_Height_Name:\n",
    "        outliers_Height_Name.append(row[\"PlayerName\"])\n",
    "print(outliers_Height_Name)\n",
    "\n",
    "len(outliers_Height_Name)"
   ]
  },
  {
   "cell_type": "markdown",
   "id": "2efa63dd",
   "metadata": {},
   "source": [
    "Como são só 10 jogadores iremos procurar pelos valores verdadeiros e imputá-los-emos manualmente. Podem ter sido erros de digitação ou são valores desconhecidos."
   ]
  },
  {
   "cell_type": "markdown",
   "id": "0ae80996-00d0-4807-94ce-ce08eb948044",
   "metadata": {
    "tags": []
   },
   "source": [
    "#### GameRank\n",
    "`GameRank` é uma variável numérica. Quanto menor o seu valor, mais importante o jogo é.\n",
    "\n",
    "O valor `GameRank` para dado jogo tem em conta o torneio, bem como a sua fase, e, também, o ranking dos jogadores que dele fazem parte."
   ]
  },
  {
   "cell_type": "code",
   "execution_count": 30,
   "id": "de77c777-5b54-471d-9514-569d5362a785",
   "metadata": {
    "ExecuteTime": {
     "end_time": "2023-04-24T19:58:57.756399Z",
     "start_time": "2023-04-24T19:58:57.741421Z"
    },
    "tags": []
   },
   "outputs": [
    {
     "data": {
      "text/plain": [
       "-       729\n",
       "39       17\n",
       "10       15\n",
       "20       14\n",
       "654      13\n",
       "       ... \n",
       "884       1\n",
       "1642      1\n",
       "1111      1\n",
       "1915      1\n",
       "1216      1\n",
       "Name: GameRank, Length: 1590, dtype: int64"
      ]
     },
     "execution_count": 30,
     "metadata": {},
     "output_type": "execute_result"
    }
   ],
   "source": [
    "belgica_raw[\"GameRank\"].value_counts().sort_values(ascending=False)"
   ]
  },
  {
   "cell_type": "markdown",
   "id": "b597908f-0e53-4180-82a1-177c0f0e33e7",
   "metadata": {},
   "source": [
    "Com o output acima é possível ver que o mesmo `GameRank` pode ser atribuído a jogos diferentes. Isto vai ao encontro do que foi dito anteriormente sobre a dedução do valor do `GameRank` para cada jogo."
   ]
  },
  {
   "cell_type": "markdown",
   "id": "8e4a60bd-d09c-4ce3-98fa-4bc652cbfea0",
   "metadata": {},
   "source": [
    "#### Prize\n",
    "`Prize` contém o valor de prémio do jogo em dólares americanos *'$'* (ou, alternativamente, *'�'*). Nem todos os jogos têm um prémio associado, pelo que o valor nesta coluna é nulo."
   ]
  },
  {
   "cell_type": "code",
   "execution_count": 31,
   "id": "bbc50eb4-ced6-40c3-8adb-368a4d461e06",
   "metadata": {
    "ExecuteTime": {
     "end_time": "2023-04-24T19:58:59.309982Z",
     "start_time": "2023-04-24T19:58:59.292980Z"
    },
    "tags": []
   },
   "outputs": [
    {
     "data": {
      "text/plain": [
       "$10,000       2275\n",
       "$15,000       1260\n",
       "$25,000        666\n",
       "�106,500       495\n",
       "$75,000        161\n",
       "$125,000       124\n",
       "$250,000       118\n",
       "$875,000        93\n",
       "$50,000         88\n",
       "$465,000        62\n",
       "�42,500         48\n",
       "�635,750        39\n",
       "�394,800        39\n",
       "�612,755        39\n",
       "�589,185        39\n",
       "�508,600        39\n",
       "�566,525        39\n",
       "$1,100,000      31\n",
       "$100,000        31\n",
       "$372,500        31\n",
       "$665,000        31\n",
       "$1,000,000      31\n",
       "$1,085,000      31\n",
       "$210,000        24\n",
       "$175,000        15\n",
       "Name: Prize, dtype: int64"
      ]
     },
     "execution_count": 31,
     "metadata": {},
     "output_type": "execute_result"
    }
   ],
   "source": [
    "belgica_raw['Prize'].value_counts().sort_values(ascending=False)"
   ]
  },
  {
   "cell_type": "markdown",
   "id": "aa5a3eb2-7756-4112-9c10-223b6120fe8b",
   "metadata": {},
   "source": [
    "Segundo os resultados do output acima, é possível ver que o maior valor de `Prize` é *$1,100,000.\n",
    "\n",
    "É também possível ver que o menor de `Prize` não nulo é *$10,000*."
   ]
  },
  {
   "cell_type": "code",
   "execution_count": 32,
   "id": "5ae73907-3886-4761-a79d-74ea013d251c",
   "metadata": {
    "ExecuteTime": {
     "end_time": "2023-04-24T19:59:02.407322Z",
     "start_time": "2023-04-24T19:59:02.394432Z"
    },
    "tags": []
   },
   "outputs": [
    {
     "data": {
      "text/plain": [
       "array([nan, '$10,000', '�42,500', '$15,000', '�106,500', '$25,000',\n",
       "       '$125,000', '$75,000', '$100,000', '$875,000', '$1,100,000',\n",
       "       '�566,525', '�589,185', '$50,000', '$465,000', '$250,000',\n",
       "       '$372,500', '�508,600', '�635,750', '$665,000', '$210,000',\n",
       "       '$1,000,000', '$1,085,000', '$175,000', '�612,755', '�394,800'],\n",
       "      dtype=object)"
      ]
     },
     "execution_count": 32,
     "metadata": {},
     "output_type": "execute_result"
    }
   ],
   "source": [
    "belgica_raw['Prize'].unique()"
   ]
  },
  {
   "cell_type": "markdown",
   "id": "0bb80dd0-a556-40fb-8a6e-c0ae9aa5d7b6",
   "metadata": {},
   "source": [
    "O output acima mostra os valores únicos da coluna `Prize`. É de notar existem valores nulos não aleatoriamente, pois em vez de se ter utilizado $0 para os jogos sem prémio, omitiu-se o valor do mesmo. Não obstante, poderá haver jogos cujos valores de Prize podem não ter sido devidamente identificados e, por consequência, têm como valor *nan*."
   ]
  },
  {
   "cell_type": "markdown",
   "id": "f94134f5",
   "metadata": {},
   "source": [
    "## Estudo de outliers e outras estatísticas relevantes"
   ]
  },
  {
   "cell_type": "markdown",
   "id": "23482d43",
   "metadata": {},
   "source": [
    "## Variáveis qualitativas"
   ]
  },
  {
   "cell_type": "markdown",
   "id": "54eba081",
   "metadata": {},
   "source": [
    "#### Date"
   ]
  },
  {
   "cell_type": "markdown",
   "id": "06602599",
   "metadata": {},
   "source": [
    "Na variável `date` interessa-nos saber o intervalo em que os torneios foram realizados, considerando apenas torneios na Bélgica."
   ]
  },
  {
   "cell_type": "code",
   "execution_count": 33,
   "id": "b6f5b935",
   "metadata": {
    "ExecuteTime": {
     "end_time": "2023-04-24T19:59:19.828976Z",
     "start_time": "2023-04-24T19:59:19.800719Z"
    }
   },
   "outputs": [
    {
     "name": "stdout",
     "output_type": "stream",
     "text": [
      "1º torneio: 1968.05.24 - 1968.05.26 \n",
      "Último torneio: 2021.10.18 - 2021.10.24\n"
     ]
    }
   ],
   "source": [
    "sorted_df = belgica_raw.sort_values('Date', ascending=True, inplace=False)\n",
    "lb=sorted_df[\"Date\"].head(1)\n",
    "ub=sorted_df[\"Date\"].tail(1)\n",
    "print(\"1º torneio:\",lb.iloc[0],\"\\nÚltimo torneio:\",ub.iloc[0])"
   ]
  },
  {
   "cell_type": "markdown",
   "id": "113e57ea",
   "metadata": {},
   "source": [
    "#### Ground "
   ]
  },
  {
   "cell_type": "code",
   "execution_count": 34,
   "id": "8929df52",
   "metadata": {
    "ExecuteTime": {
     "end_time": "2023-04-24T19:59:29.244210Z",
     "start_time": "2023-04-24T19:59:29.049504Z"
    }
   },
   "outputs": [
    {
     "data": {
      "image/png": "[encoded data removed]",
      "text/plain": [
       "<Figure size 640x480 with 1 Axes>"
      ]
     },
     "metadata": {},
     "output_type": "display_data"
    }
   ],
   "source": [
    "# Definir a paleta de cores usando o Seaborn\n",
    "sns.set_palette(\"bone_r\")\n",
    "\n",
    "# Dados do gráfico de pizza\n",
    "ground_data = belgica_raw[\"Ground\"].value_counts()\n",
    "labels = [\"Clay\", \"Hard\", \"Carpet\"]\n",
    "\n",
    "# Desenhar o gráfico de pizza com a paleta de cores definida\n",
    "plt.pie(ground_data, labels=labels, autopct='%.2f%%')\n",
    "\n",
    "# Personalizar o título e a legenda\n",
    "plt.title(\"Tipo de ground em torneios belgas\")\n",
    "plt.legend(labels)\n",
    "\n",
    "# Exibir o gráfico\n",
    "plt.show()"
   ]
  },
  {
   "cell_type": "markdown",
   "id": "e4310aba",
   "metadata": {},
   "source": [
    "#### GameRound e Tournament"
   ]
  },
  {
   "cell_type": "code",
   "execution_count": 35,
   "id": "487ebcae",
   "metadata": {
    "ExecuteTime": {
     "end_time": "2023-04-24T19:59:30.198638Z",
     "start_time": "2023-04-24T19:59:30.187603Z"
    },
    "tags": []
   },
   "outputs": [
    {
     "name": "stdout",
     "output_type": "stream",
     "text": [
      "Existem 10 tipos de rondas diferentes nos torneios considerados na amostra da Bélgica.\n"
     ]
    }
   ],
   "source": [
    "print(\"Existem\",belgica_raw[\"GameRound\"].nunique(),\"tipos de rondas diferentes nos torneios considerados na amostra da Bélgica.\")"
   ]
  },
  {
   "cell_type": "code",
   "execution_count": 36,
   "id": "5d0df0d6",
   "metadata": {
    "ExecuteTime": {
     "end_time": "2023-04-24T19:59:30.703212Z",
     "start_time": "2023-04-24T19:59:30.684281Z"
    },
    "tags": []
   },
   "outputs": [
    {
     "name": "stdout",
     "output_type": "stream",
     "text": [
      "Round of 32             2827\n",
      "Round of 16             1438\n",
      "Quarter-Finals           726\n",
      "Semi-Finals              367\n",
      "Finals                   185\n",
      "1st Round Qualifying     161\n",
      "Round Robin              133\n",
      "2nd Round Qualifying     104\n",
      "3rd Round Qualifying      40\n",
      "Round of 64                1\n",
      "Name: GameRound, dtype: int64\n"
     ]
    }
   ],
   "source": [
    "print(belgica_raw[\"GameRound\"].value_counts())"
   ]
  },
  {
   "cell_type": "code",
   "execution_count": 37,
   "id": "82a8a1cb-445f-4991-8f88-694c253d809b",
   "metadata": {},
   "outputs": [
    {
     "data": {
      "image/png": "[encoded data removed]",
      "text/plain": [
       "<Figure size 640x480 with 1 Axes>"
      ]
     },
     "metadata": {},
     "output_type": "display_data"
    }
   ],
   "source": [
    "# Calcular a contagem de valores por categoria\n",
    "contagem = belgica_raw[\"GameRound\"].value_counts().sort_values(ascending=False)\n",
    "\n",
    "# Criar o gráfico de barras\n",
    "plt.barh(contagem.index, contagem.values)\n",
    "\n",
    "# Configurar rótulos e título\n",
    "plt.xlabel('Quantidade de vezes ocorrido')\n",
    "plt.ylabel('Tipos de Rondas')\n",
    "plt.title('Contagem do tipo de ronda - Barplot')\n",
    "\n",
    "# Ajustar a rotação dos rótulos do eixo X para evitar sobreposição\n",
    "plt.xticks(rotation=0)\n",
    "\n",
    "# Mostrar o gráfico\n",
    "plt.show()"
   ]
  },
  {
   "cell_type": "markdown",
   "id": "516e0b58",
   "metadata": {},
   "source": [
    "Observando os tipos de rondas vemos que, aproximadamente, há metade de rondas vindas de rondas anteriores, a partir da Ronda de 32. Assim, permite-nos concluir que os torneios na Bélgica costumam ser jogados a partir desta ronda mas que também têm rondas classificatórias.\n",
    "\n",
    "Veremos o tipo de torneios diferentes para ver se dá match com o número de finais ou um número inferior, visto que podem ocorrer mais torneios com o mesmo nome."
   ]
  },
  {
   "cell_type": "code",
   "execution_count": 38,
   "id": "f38e867c",
   "metadata": {
    "ExecuteTime": {
     "end_time": "2023-04-24T19:59:31.573487Z",
     "start_time": "2023-04-24T19:59:31.565413Z"
    },
    "tags": []
   },
   "outputs": [
    {
     "data": {
      "text/plain": [
       "73"
      ]
     },
     "execution_count": 38,
     "metadata": {},
     "output_type": "execute_result"
    }
   ],
   "source": [
    "belgica_raw[\"Tournament\"].nunique()"
   ]
  },
  {
   "cell_type": "code",
   "execution_count": 39,
   "id": "2643afbf",
   "metadata": {
    "ExecuteTime": {
     "end_time": "2023-04-24T19:59:32.115747Z",
     "start_time": "2023-04-24T19:59:32.090096Z"
    },
    "tags": []
   },
   "outputs": [
    {
     "data": {
      "text/plain": [
       "Mons                              588\n",
       "Belgium F2                        494\n",
       "Antwerp                           482\n",
       "Belgium F1                        462\n",
       "Belgium F3                        335\n",
       "                                 ... \n",
       "BRA V BEL WGPO                      3\n",
       "BEL vs. BRA WG Play-Off             3\n",
       "BEL vs.GBR DC Final                 3\n",
       "BEL vs. TCH - EUROPE ZONE B QF      2\n",
       "BEL vs. TCH - EUROPE ZONE B 1R      2\n",
       "Name: Tournament, Length: 73, dtype: int64"
      ]
     },
     "execution_count": 39,
     "metadata": {},
     "output_type": "execute_result"
    }
   ],
   "source": [
    "belgica_raw[\"Tournament\"].value_counts().sort_values(ascending=False)"
   ]
  },
  {
   "cell_type": "code",
   "execution_count": 40,
   "id": "79e23610-3a1c-47a6-bcab-e22b5e15261e",
   "metadata": {},
   "outputs": [
    {
     "data": {
      "image/png": "[encoded data removed]",
      "text/plain": [
       "<Figure size 640x480 with 1 Axes>"
      ]
     },
     "metadata": {},
     "output_type": "display_data"
    }
   ],
   "source": [
    "# Calcular a contagem de valores por categoria\n",
    "contagem = belgica_raw[\"Tournament\"].value_counts().sort_values(ascending=False)\n",
    "\n",
    "# Filtrar apenas as categorias com contagem maior do que 200\n",
    "contagem_filtrada = contagem[contagem > 200]\n",
    "\n",
    "# Criar o gráfico de barras\n",
    "plt.bar(contagem_filtrada.index, contagem_filtrada.values)\n",
    "\n",
    "# Configurar rótulos e título\n",
    "plt.xlabel('Torneio')\n",
    "plt.ylabel('Contagem')\n",
    "plt.title('Contagem de Torneios (com mais de 200 ocorrências) - Barplot')\n",
    "\n",
    "# Ajustar a rotação dos rótulos do eixo X para evitar sobreposição\n",
    "plt.xticks(rotation=90)\n",
    "\n",
    "# Mostrar o gráfico\n",
    "plt.show()"
   ]
  },
  {
   "cell_type": "markdown",
   "id": "4eccb551",
   "metadata": {},
   "source": [
    "Existem 73 torneios com nome diferente, sendo os torneios com mais jogos os torneios de Mons e da Antwerp."
   ]
  },
  {
   "cell_type": "markdown",
   "id": "de1d5073-7cd2-4822-b8a0-0a98d8575f19",
   "metadata": {},
   "source": [
    "##### GameRound sem prize"
   ]
  },
  {
   "cell_type": "code",
   "execution_count": 41,
   "id": "d67b956f-9572-40b7-b360-05f499d3d920",
   "metadata": {},
   "outputs": [
    {
     "data": {
      "text/plain": [
       "array(['Round Robin'], dtype=object)"
      ]
     },
     "execution_count": 41,
     "metadata": {},
     "output_type": "execute_result"
    }
   ],
   "source": [
    "belgica_raw.loc[belgica_raw[\"Prize\"].isnull(), \"GameRound\"].unique()"
   ]
  },
  {
   "cell_type": "markdown",
   "id": "6e919e9d-80bc-4208-bbff-23946884edcc",
   "metadata": {},
   "source": [
    "Em cima, é possivel visualizar que, no GameRound **Round Robin** não existe nenhum prémio associado (todos os **prize** deste **GameRound** são nulos)"
   ]
  },
  {
   "cell_type": "markdown",
   "id": "903ba822",
   "metadata": {},
   "source": [
    "#### Hand"
   ]
  },
  {
   "cell_type": "code",
   "execution_count": 42,
   "id": "2f64b08c-867f-4dfa-824e-928a5acc06a3",
   "metadata": {
    "ExecuteTime": {
     "end_time": "2023-04-24T19:59:33.306692Z",
     "start_time": "2023-04-24T19:59:33.297605Z"
    }
   },
   "outputs": [
    {
     "data": {
      "text/plain": [
       "array(['Right-Handed, Two-Handed Backhand',\n",
       "       'Left-Handed, Two-Handed Backhand', nan,\n",
       "       'Left-Handed, Unknown Backhand', 'Right-Handed, Unknown Backhand',\n",
       "       'Left-Handed, One-Handed Backhand',\n",
       "       'Ambidextrous, Two-Handed Backhand',\n",
       "       'Right-Handed, One-Handed Backhand'], dtype=object)"
      ]
     },
     "execution_count": 42,
     "metadata": {},
     "output_type": "execute_result"
    }
   ],
   "source": [
    "belgica_raw[\"Hand\"].unique()"
   ]
  },
  {
   "cell_type": "code",
   "execution_count": 43,
   "id": "f2a28212-10ec-4550-9c3f-5be7abb8b14c",
   "metadata": {},
   "outputs": [
    {
     "data": {
      "image/png": "[encoded data removed]",
      "text/plain": [
       "<Figure size 640x480 with 1 Axes>"
      ]
     },
     "metadata": {},
     "output_type": "display_data"
    }
   ],
   "source": [
    "# Calcular a contagem de valores por categoria\n",
    "contagem = belgica_raw[\"Hand\"].value_counts().sort_values(ascending=False)\n",
    "\n",
    "# Criar o gráfico de barras\n",
    "plt.barh(contagem.index, contagem.values)\n",
    "\n",
    "# Configurar rótulos e título\n",
    "plt.xlabel('Mão')\n",
    "plt.ylabel('Contagem')\n",
    "plt.title('Contagem da mão principal - Barplot')\n",
    "\n",
    "# Ajustar a rotação dos rótulos do eixo X para evitar sobreposição\n",
    "plt.xticks(rotation=0)\n",
    "\n",
    "# Mostrar o gráfico\n",
    "plt.show()"
   ]
  },
  {
   "cell_type": "markdown",
   "id": "c74831f6-8fa5-491e-9666-a06d43eab550",
   "metadata": {},
   "source": [
    "Visualizamdo a imagem acima, é possivel verificar que, maior parte dos jogandores, são destros."
   ]
  },
  {
   "cell_type": "markdown",
   "id": "1ebf98ec",
   "metadata": {},
   "source": [
    "#### Score"
   ]
  },
  {
   "cell_type": "code",
   "execution_count": 44,
   "id": "8754bd49",
   "metadata": {
    "ExecuteTime": {
     "end_time": "2023-04-24T19:59:34.137848Z",
     "start_time": "2023-04-24T19:59:34.116780Z"
    },
    "tags": []
   },
   "outputs": [
    {
     "data": {
      "text/plain": [
       "array(['63 62 62', '46 63 75', '60 67,  64', '36 76,  62', '61 60',\n",
       "       '63 61', '64 62', '40 (RET)', '76,  61', '63 64', '63 62', '64 64',\n",
       "       '64 46 62', '63 67,  63', '75 36 61', '67,  63 61', '61 62',\n",
       "       '63 60', '62 64', '60 63', '57 40 (RET)', '62 75', '76,  06 64',\n",
       "       '61 75', '76,  21 (RET)', '63 46 63', '61 61', '36 61 76', '62 76',\n",
       "       '46 63 64', '76,  63', '62 63', '63 63', '62 60', '46 61 64',\n",
       "       '16 64 75', '63 46 61', '61 76', '26 63 62', '75 61', '60 36 60',\n",
       "       '62 61', '60 62', '62 10 (RET)', '64 16 63', '76,  60', '60 76',\n",
       "       '57 62 62', '(W/O)', '36 76,  75', '61 26 62', '06 64 60',\n",
       "       '36 63 62', '57 62 63', '64 75', '76,  62', '64 43 (RET)',\n",
       "       '54 (RET)', '26 76,  63', '62 62', '61 06 63', '64 63',\n",
       "       '46 76,  61', '64 36 60', '63 67 60', '63 46 75', '76,  76',\n",
       "       '06 64 64', '63 76', '75 63', '75 62', '76,  75', '60 60', '61 63',\n",
       "       '62 36 75', '26 75 63', '67,  75 61', '26 64 63', '57 61 61',\n",
       "       '61 64', '76,  67,  63', '46 76,  62', '61 46 76', '62 46 75',\n",
       "       '57 63 60', '64 61', '67,  36 62 64 62', '60 61', '57 64 63',\n",
       "       '76,  67,  61', '16 76,  64', '46 75 64', '46 62 61', '46 63 76',\n",
       "       '26 63 61', '67,  64 76', '76,  63 63', '76,  46 64', '46 63 62',\n",
       "       '60 64', '46 75 75', '63 75', '76,  46 61', '76,  64', '63 57 64',\n",
       "       '76,  46 63', '64 40 (RET)', '46 64 64', '75 64', '75 10 (RET)',\n",
       "       '76,  57 61', '36 61 62', '61 57 62', '36 62 63', '76 60',\n",
       "       '67,  62 64 62', '36 64 60 76', '64 60 76', '46 63 75 76',\n",
       "       '60 61 63', '46 26 63 76,  64', '63 36 62', '36 63 64', '26 64 60',\n",
       "       '64 76', '46 63 61', '61 67,  63', '63 16 62', '67 64 62',\n",
       "       '75 26 64', '75 67,  75', '26 61 76', '62 36 64', '46 61 61',\n",
       "       '76,  36 61', '76,  36 63', '63 16 75', '76,  16 75', '06 61 63',\n",
       "       '75 76', '46 62 64', '61 46 62', '36 61 63', '26 75 62',\n",
       "       '63 26 61', '06 61 64', '16 61 62', '75 75', '67,  62 64',\n",
       "       '46 64 61', '63 46 62', '64 26 64', '62 26 64', '36 64 64',\n",
       "       '41 (RET)', '64 46 60', '67,  76,  61', '75 26 61', '67,  63 64',\n",
       "       '60 36 64', '67,  76,  76', '64 26 63', '46 64 63', '63 26 64',\n",
       "       '63 26 62', '76,  26 62', '60 06 63', '20 (RET)', '61 36 63',\n",
       "       '46 60 61', '63 16 64', '16 63 63', '62 46 63', '67,  64 63',\n",
       "       '16 62 62', '36 75 62 63', '46 75 76', '36 75 63', '67,  62 63',\n",
       "       '62 36 61', '63 57 75', '64 60', '64 75 61', '63 57 62',\n",
       "       '26 64 61', '67,  61 63', '67,  64 62', '62 06 63', '63 16 76',\n",
       "       '46 16 61 63 63', '63 46 76', '46 62 75', '57 60 61', '16 63 62',\n",
       "       '46 75 63', '76,  36 76', '61 21 (RET)', '57 60 76', '61 30 (RET)',\n",
       "       '64 46 61', '57 76,  64', '67,  76,  64', '16 64 61',\n",
       "       '64 30 (RET)', '52 (RET)', '26 62 60', '61 57 63', '61 (RET)',\n",
       "       '46 61 76', '36 64 76', '57 63 64', '63 36 61', '11 (RET)',\n",
       "       '76,  31 (RET)', '36 62 62', '67,  61 64', '64 26 61',\n",
       "       '76,  16 64', '67 61 63', '64 67,  63', '61 26 61', '76,  (RET)',\n",
       "       '16 63 64', '64 46 64', '46 64 75', '46 12 (RET)', '36 61 64',\n",
       "       '63 46 64', '76,  30 (RET)', '57 75 64', '63 36 63', '75 60',\n",
       "       '76 62', '26 61 64', '63 67,  62', '46 76,  75', '42 (RET)',\n",
       "       '76 61', '64 57 63', '67,  76,  62', '64 57 64', '57 62 75',\n",
       "       '57 64 62', '21 (RET)', '67,  62 62', '67,  63 62', '46 61 75',\n",
       "       '67,  75 62', '46 64 62', '67,  63 76', '16 60 76', '60 36 75',\n",
       "       '57 64 64', '46 76,  31 (RET)', '67,  63 63', '36 62 60',\n",
       "       '60 26 60', '36 64 20 (RET)', '75 46 61', '61 31 (RET)',\n",
       "       '61 62 63', '67,  76,  76,  46 63', '64 46 63', '46 75 61',\n",
       "       '16 64 64', '16 61 63', '63 06 64', '36 75 (RET)', '16 76,  75',\n",
       "       '60 36 63', '67,  64 64', '63 36 76', '62 36 60', '36 63 75',\n",
       "       '36 64 75', '76,  10 (RET)', '26 60 64', '63 57 61', '62 36 76',\n",
       "       '53 (RET)', '64 36 76', '64 67,  64', '64 46 76', '16 64 62',\n",
       "       '44 (RET)', '61 57 64', '63 36 64', '62 26 61', '36 63 (RET)',\n",
       "       '16 63 64 16 63', '76,  16 60', '63 64 64', '57 64 76',\n",
       "       '63 64 36 62', '46 62 63', '64 64 64', '46 64 36 63 64',\n",
       "       '64 67,  61', '76,  67,  62', '61 46 63', '26 60 62', '61 57 76',\n",
       "       '26 75 60', '61 67,  60', '26 62 64', '51 (RET)', '36 76,  76',\n",
       "       '76,  36 62', '36 62 61', '64 26 62', '46 62 62', '36 62 76',\n",
       "       '16 64 63', '76,  16 62', '26 63 64', '67,  76,  60', '50 (RET)',\n",
       "       '62 26 63', '63 67,  64', '26 63 76', '46 62 60', '76,  36 64',\n",
       "       '36 63 63', '57 62 76', '64 16 75', '63 40 (RET)', '60 42 (RET)',\n",
       "       '36 76,  60', '62 57 75', '76,  26 76', '36 63 60', '75 46 63',\n",
       "       '36 63 61', '63 10 (RET)', '76,  26 75', '36 76,  64', '16 62 60',\n",
       "       '60 75', '67,  76,  63', '46 61 20 (RET)', '64 36 61',\n",
       "       '67,  61 61', '67,  64 60', '36 63 76', '63 30 (RET)', '64 16 76',\n",
       "       '64 36 64', '76,  46 75', '75 36 63', '46 76,  63', '62 64 76',\n",
       "       '75 67,  76', '36 64 62', '64 (RET)', '62 57 62', '61 20 (RET)',\n",
       "       '76,  57 62', '36 64 63', '36 76,  63', '75 36 76', '26 75 75',\n",
       "       '64 36 63', '60 57 64', '46 63 63', '62 31 (RET)', '61 67,  61',\n",
       "       '62 (RET)', '64 41 (RET)', '61 67,  76', '32 (RET)', '62 67,  63',\n",
       "       '61 46 75', '75 (RET)', '63 26 67,  76,  64', '61 36 76',\n",
       "       '16 62 64', '63 (RET)', '61 16 76', '61 42 (RET)', '76,  16 76',\n",
       "       '62 26 62', '64 57 61', '31 (RET)', '16 62 76', '62 57 63',\n",
       "       '64 67,  76', '06 64 63', '63 36 75', '64 67,  62', '36 60 62',\n",
       "       '57 63 63', '75 46 64', '75 36 62', '26 61 62', '67,  64 61',\n",
       "       '46 76,  76', '06 64 61', '62 36 62', '62 52 (RET)', '57 62 61',\n",
       "       '62 26 76', '62 63 67,  36 61', '75 67,  63', '26 64 62',\n",
       "       '16 75 62', '62 46 61', '06 62 30 (RET)', '63 67,  61',\n",
       "       '75 67,  62', '46 75 22 (RET)', '76,  16 63', '46 62 76',\n",
       "       '63 26 63', '57 62 60', '64 65 (RET)', '16 76,  63', '16 63 60',\n",
       "       '64 64 75', '67 62 61', '26 60 63', '76,  26 63', '76,  54 (RET)',\n",
       "       '64 36 62', '46 75 62', '64 16 62', '63 31 (RET)', '57 61 64',\n",
       "       '75 20 (RET)', '46 62 30 (RET)', '61 36 62', '61 16 63', '76 64',\n",
       "       '60 30 (RET)', '63 46 60', '36 64 61', '75 46 75', '57 75 63',\n",
       "       '57 76,  76', '46 61 60', '30 (RET)', '26 76,  76', '62 57 61',\n",
       "       '75 36 26 63 64', '75 86', '62 67 63', '67 63 (RET)', '86 62',\n",
       "       '64 26 76', '62 57 64', '62 16 61', '46 63 46 62 61', '10-862 62',\n",
       "       '62 62 64', '76 67 60', '62 46 64', '76 76', '63 16 63', '76 63',\n",
       "       '57 62 64', '46 61 63', '76 46 62', '61 67 61', '62 16 62',\n",
       "       '67 61 64', '76,  67,  76', '75 57 64', '76,  57 63', '57 63 62',\n",
       "       '36 75 62', '62 16 63', '75 06 63', '36 60 75', '75 06 62',\n",
       "       '16 75 63', '57 61 75', '16 62 63', '63 62 75', '63 75 63',\n",
       "       '16 63 75', '62 67,  62', '61 11 (RET)', '60 10 (RET)', '63 57 63',\n",
       "       '60 26 61', '60 26 64', '67,  75 63', '62 67 60', '67,  75 64',\n",
       "       '26 64 76', '67 64 76', '61 46 64', '75 46 62', '06 63 61',\n",
       "       '61 61 62', '36 36 60 61 62', '76 61 57 62', '62 57 76 61',\n",
       "       '57 61 62', '64 57 62', '26 76 61', '62 26 61 62', '62 62 26 75',\n",
       "       '63 16 76 75', '61 36 60', '76 67 76', '62 67 76', '46 76 62',\n",
       "       '67 62 64', '46 76 64', '67 63 76', '67 62 64 76', '62 46 75 63',\n",
       "       '63 61 63', '64 61 61', '36 76 64 61', '61 26 76', '63 67 63',\n",
       "       '36 62 64', '46 76 61', '36 62 75', '26 64 64', '06 75 76',\n",
       "       '16 76,  76', '46 64 76', '61 10 (RET)', '67,  60 62', '06 62 76',\n",
       "       '26 62 62', '62 57 76', '61 36 61', '62 20 (RET)',\n",
       "       '46 64 30 (RET)', '76,  57 64', '26 64 75', '67,  63 60',\n",
       "       '57 62 30 (RET)', '63 34 (RET)', '60 26 62', '61 16 75',\n",
       "       '63 36 60', '64 36 75', '57 61 63', '60 26 75', '06 75 63',\n",
       "       '64 16 64', '62 36 63', '76,  67,  64', '57 76,  63', '67,  62 60',\n",
       "       '63 67,  75', '16 63 76', '46 61 62', '43 (RET)', '26 63 63',\n",
       "       '63 26 76', '61 40 (RET)', '64 06 64', '16 76,  62', '64 57 75',\n",
       "       '67,  76 61', '36 60 61', '64 63 46 61', '64 67 76', '16 63 61',\n",
       "       '46 76 75', '67 63 63', '76,  46 76', '64 57 76', '75 46 76',\n",
       "       '76 36 76', '67 64 75', '60 20 (RET)', '67 61 76', '36 76 64',\n",
       "       '57 75 76', '26 76,  62', '76 75', '76 46 64', '67 63 61',\n",
       "       '57 76 64', '64 60 61', '60 64 36 26 61', '61 63 63', '75 62 75',\n",
       "       '64 60 64', '36 75 61', '46 76,  64', '75 63 62', '67 76 63',\n",
       "       '61 67 64', '67,  62 61', '64 61 75', '46 26 75 41 (RET)',\n",
       "       '62 46 60', '63 67 61', '36 61 75', '75 67 62', '76 16 76',\n",
       "       '62 75 64', '60 26 76', '76,  36 61 64', '63 67 76',\n",
       "       '36 76,  63 36 62', '06 64 75', '36 75 64', '75 57 63',\n",
       "       '46 64 63 64', '64 06 61', '60 67 60', '63 67 62',\n",
       "       '46 61 30 (DEF)', '26 63 22 (RET)', '62 61 75', '16 75 76',\n",
       "       '46 76 63', '36 76 62', '76 30 (RET)', '61 46 61', '67 64 63',\n",
       "       '76 16 60', '61 67 75', '26 63 75', '75 16 64', '36 60 63',\n",
       "       '63 75 36 76', '67 64 60', '76 36 63', '60 57 60', '62 64 63',\n",
       "       '26 76 63', '76 16 75', '16 76 64', '16 76 62', '61 57 75',\n",
       "       '63 67 64', '63 06 60', '76 76 64', '76 36 75', '62 26 60',\n",
       "       '63 64 75', '76 06 61', '63 62 76', '67,  26 76,  76,  75',\n",
       "       '16 76 63', '76 26 62 61', '75 57 76', '67 62 62', '67 62 76',\n",
       "       '06 64 76', '75 64 16 62', '64 64 36 36 63', '60 63 64',\n",
       "       '76,  36 16 75 61', '67 63 64', '64 26 60', '57 64 61', '26 62 61',\n",
       "       '76 46 76', '64 52 (RET)', '64 67 64', '06 75 62', '63 16 61',\n",
       "       '76 57 64', '64 32 (RET)', '75 62 62', '16 76 61', '60 67,  62',\n",
       "       '62 30 (RET)', '63 36 06 61 63', '63 67,  60', '76,  36 60',\n",
       "       '26 62 63', '46 76,  60', '16 61 64', '67,  61 62', '62 41 (RET)',\n",
       "       '62 67,  64', '61 36 75', '26 61 63', '67,  61 76', '06 75 64',\n",
       "       '64 46 75', '62 62 62', '63 76,  60', '61 62 62',\n",
       "       '16 36 76,  64 64', '76,  67,  64 63', '76,  46 62', '61 36 64',\n",
       "       '36 61 75 63', '64 26 75 76', '67,  61 63 63', '67 61 61 76',\n",
       "       '16 75 64', '64 51 (RET)', '67,  76,  30 (RET)', '60 46 76',\n",
       "       '67,  60 64', '36 64 60', '76,  26 64', '61 67,  62', '75 06 64',\n",
       "       '62 63 64', '62 61 60', '63 06 63', '75 67,  64', '67,  75 76',\n",
       "       '36 75 60', '61 41 (RET)', '63 11 (RET)', '76,  62 62', '16 60 62',\n",
       "       '57 60 75', '64 63 61', '76,  52 (RET)', '57 63 76', '36 61 61',\n",
       "       '36 64 41 (RET)', '33 (RET)', '63 75 76', '46 76,  53 (RET)',\n",
       "       '57 60 62', '75 16 62', '75 06 76', '46 60 63', '57 41 (RET)',\n",
       "       '62 67,  61', '60 46 63', '67,  41 (RET)', '63 57 76', '62 46 76',\n",
       "       '64 31 (RET)', '26 75 61', '64 75 62', '46 64 10 (RET)',\n",
       "       '76,  67,  75', '67,  75 60', '06 76,  63', '75 67,  61',\n",
       "       '75 26 62', '06 62 75', '76,  57 76', '60 36 61', '36 76 63',\n",
       "       '61 67,  64', '62 26 13 (RET)', '63 26 75', '57 60 63',\n",
       "       '57 30 (RET)', '76,  36 75', '36 75 76', '62 46 62',\n",
       "       '64 46 76,  63', '64 67,  75', '10 (RET)', '75 36 60 64',\n",
       "       '60 (RET)', '64 06 63', '46 60 75', '62 51 (RET)', '16 75 60',\n",
       "       '61 16 64', '63 22 (RET)', '62 26 75', '62 57 60', '06 62 63',\n",
       "       '64 57 60', '57 76,  62', '63 67,  76', '57 63 75',\n",
       "       '76,  76,  46 63', '67,  64 75', '60 57 63', '67,  64 64 64',\n",
       "       '75 64 36 62', '64 64 60', '67,  64 63 75', '63 63 62', '75 26 75',\n",
       "       '16 67 64 60 62', '63 36 36 76,  61', '46 64 60', '26 63 41 (RET)',\n",
       "       '75 26 63', '75 63 75', '64 63 75', '60 67,  76', '61 06 61',\n",
       "       '64 26 75', '63 62 26 36 63', '36 16 62 61 60', '63 62 61',\n",
       "       '75 76,  63', '64 64 62', '64 63 63', '62 62 60', '64 64 36 75',\n",
       "       '63 36 67,  61 62', '57 76,  60', '76,  56 (RET)', '61 52 (RET)',\n",
       "       '64 20 (RET)', '64 64 63', '57 63 61', '60 67,  63', '63 43 (RET)',\n",
       "       '26 62 76', '46 75 60', '36 60 76', '62 64 62', '06 36', '26 57',\n",
       "       '16 26', '67,  76,  36', '46 76,  67', '26 36', '75 67 57',\n",
       "       '46 61 36', '57 64 57', '26 44 (RET)', '67,  57', '63 36 36',\n",
       "       '57 57', '26 76,  06', '26 46', '34 (RET)', '67 76 26', '16 46',\n",
       "       '63 26 46', '57 61 57', '16 79 06', '36 15 (RET)', '75 46 36',\n",
       "       '62 36 01 (RET)', '16 36', '57 36', '16 02 (RET)', '36 26',\n",
       "       '26 16', '16 67', '64 67,  26', '75 67,  26', '46 67', '26 26',\n",
       "       '06 26', '67 36', '57 46', '36 36', '36 16', '63 26 36', nan,\n",
       "       '36 57', '26 76,  16', '67 16', '63 57 67', '36 64 67', '75 46 46',\n",
       "       '46 61 46', '67 26', '67 46', '46 26', '36 46', '62 46 36',\n",
       "       '64 16 67', '26 61 36', '64 57 67', '61 36 06', '67 57',\n",
       "       '16 63 46', '26 64 36', '57 63 46', '46 57', '67 64 16', '46 36',\n",
       "       '46 06', '16 16', '16 57', '46 64 67', '67,  26', '16 61 36',\n",
       "       '67 61 57', '26 62 36', '26 67', '36 62 26', '36 67', '75 67 16',\n",
       "       '16 60 46', '57 67', '63 62 46 26 46', '67,  46', '64 46 67',\n",
       "       '63 46 (RET)', '67,  36', '75 46 16', '67 62 06', '62 26 26',\n",
       "       '61 57 16', '16 63 36', '46 64 16', '75 36 16', '16 01 (RET)',\n",
       "       '26 63 36', '26 61 26', '36 63 36', '36 75 67', '64 36 26',\n",
       "       '06 64 26', '46 64 46', '57 26', '46 63 46', '36 06', '67,  16',\n",
       "       '62 46 26', '46 62 46', '57 16', '67 64 46', '63 46 57',\n",
       "       '26 64 26', '26 76 57', '76,  06 16', '16 63 16', '46 62 36',\n",
       "       '26 06', '14 (RET)', '64 67 26', '76 26 36', '16 63 57',\n",
       "       '36 23 (RET)', '57 62 36', '26 62 67', '62 46 16', '63 67,  67',\n",
       "       '46 16', '26 61 46', '16 06', '57 64 46', '61 46 36', '46 46',\n",
       "       '06 46', '75 26 46', '75 57 36', '36 76,  57', '64 67,  57',\n",
       "       '63 46 26', '63 67,  16', '46 75 67', '76,  46 26', '36 64 26',\n",
       "       '61 46 13 (RET)', '06 16', '67,  64 36', '61 46 46', '57 06',\n",
       "       '16 75 16', '57 75 46', '67,  06', '36 61 26', '06 67',\n",
       "       '76,  36 01 (RET)', '67,  62 46', '67,  75 57', '36 01 (RET)',\n",
       "       '46 76,  16', '63 26 67', '76,  57 46 26', '46 01 (RET)',\n",
       "       '55 (RET)', '75 26 43 (RET)', '76,  36 67', '36 64 46',\n",
       "       '76,  67,  46', '67,  67', '16 (RET)', '75 67 26', '63 26 57',\n",
       "       '46 64 26', '67,  23 (RET)', '16 11 (RET)', '63 16 36', '46 62 16',\n",
       "       '57 64 26', '63 36 26', '06 06', '36 06 46', '76,  36 36', '06 57',\n",
       "       '36 62 16', '57 75 36', '57 76,  16', '64 16 06', '36 63 06',\n",
       "       '64 36 16', '64 26 36', '06 14 (RET)', '36 63 67', '36 63 57'],\n",
       "      dtype=object)"
      ]
     },
     "execution_count": 44,
     "metadata": {},
     "output_type": "execute_result"
    }
   ],
   "source": [
    "belgica_raw[\"Score\"].unique()"
   ]
  },
  {
   "cell_type": "markdown",
   "id": "005c2b13",
   "metadata": {},
   "source": [
    "De acordo com os valores únicos acima conseguimos observar que há uma linha que contém \"RET\" no campo de `Score`, isso indica que, durante o jogo, houve desistência por algum dos jogadores presentes no jogo. Normalmente, pode significar uma lesão, obrigando a desistência."
   ]
  },
  {
   "cell_type": "markdown",
   "id": "b7d42f61",
   "metadata": {},
   "source": [
    "## Descrição das variáveis"
   ]
  },
  {
   "cell_type": "markdown",
   "id": "660a416a",
   "metadata": {},
   "source": [
    "- `PlayerName`:\tNome do jogador\n",
    "- `Born`: O local onde o Jogador nasceu.\n",
    "- `Height`: A altura, em centímetros, do jogador.\n",
    "- `Hand`: Como é que o jogador joga e qual a sua mão principal. \n",
    "- `LinkPlayer`: Um link que nos leva direto á página web do jogador, tendo todas as características e todo o seu histórico de jogos.\n",
    "- `Tournament`: O nome do torneio que foi decorrido o jogo.\n",
    "- `Location`: A localização do torneio (serão só torneios localizados na Bélgica). \n",
    "- `Date`: A data em que foi decorrido o torneio. Varia entre 1968 e 2021 nos nossos dados, referentes à Bélgica. \n",
    "- `Ground`:O material do chão do campo, podendo ser um dos seguintes: \n",
    "\t- Clay\n",
    "\t- Hard\n",
    "\t- Carpet \n",
    "- `Prize`: O prémio que o jogador ganhou no torneio. \n",
    "- `GameRound`: A ronda em que o jogo está a decorrer. As rondas existentes em torneios na Bélgica, ordenados por ordem decrescente.\n",
    "\t- Round of 32             \n",
    "\t- Round of 16             \n",
    "\t- Quarter-Finals          \n",
    "\t- Semi-Finals              \n",
    "\t- Finals                   \n",
    "\t- 1st Round Qualifying     \n",
    "\t- Round Robin              \n",
    "\t- 2nd Round Qualifying     \n",
    "\t- 3rd Round Qualifying      \n",
    "\t- Round of 64                \n",
    "- `GameRank`: O Rank atribuído à partida, tendo como análise o torneio, os jogadores, o prémio, a localização do torneio, e várias outras características. \n",
    "- `Oponent`: O jogador oponente do jogador apresentado. \n",
    "- `WL`: Se o jogador apresentado venceu/perdeu o jogo. \n",
    "- `Score`: A pontuação do jogador neste jogo, em sets de jogos. \n",
    " "
   ]
  },
  {
   "cell_type": "markdown",
   "id": "0e9ef841-4c4d-49df-ad61-08b00da180ec",
   "metadata": {},
   "source": [
    "- - -"
   ]
  },
  {
   "cell_type": "code",
   "execution_count": 45,
   "id": "05275a1e-3f6e-41ca-93ed-5879705b6894",
   "metadata": {},
   "outputs": [],
   "source": [
    "belgica_raw.to_csv('belgica_raw.csv', index = False, encoding='utf-8') # False: not include index"
   ]
  },
  {
   "cell_type": "code",
   "execution_count": 46,
   "id": "50367c40-ca69-47a0-8c5c-23a036700cd9",
   "metadata": {},
   "outputs": [
    {
     "data": {
      "text/plain": [
       "1501"
      ]
     },
     "execution_count": 46,
     "metadata": {},
     "output_type": "execute_result"
    }
   ],
   "source": [
    "len(belgica_raw[belgica_raw.isnull().any(axis=1)])"
   ]
  },
  {
   "cell_type": "code",
   "execution_count": 47,
   "id": "c8177686-c492-485f-ae53-95bfa8c06b2e",
   "metadata": {},
   "outputs": [
    {
     "data": {
      "text/plain": [
       "1920"
      ]
     },
     "execution_count": 47,
     "metadata": {},
     "output_type": "execute_result"
    }
   ],
   "source": [
    "len(belgica_raw['Oponent'].unique())"
   ]
  }
 ],
 "metadata": {
  "kernelspec": {
   "display_name": "Python 3 (ipykernel)",
   "language": "python",
   "name": "python3"
  },
  "language_info": {
   "codemirror_mode": {
    "name": "ipython",
    "version": 3
   },
   "file_extension": ".py",
   "mimetype": "text/x-python",
   "name": "python",
   "nbconvert_exporter": "python",
   "pygments_lexer": "ipython3",
   "version": "3.9.13"
  },
  "latex_envs": {
   "LaTeX_envs_menu_present": true,
   "autoclose": true,
   "autocomplete": true,
   "bibliofile": "biblio.bib",
   "cite_by": "apalike",
   "current_citInitial": 1,
   "eqLabelWithNumbers": true,
   "eqNumInitial": 1,
   "hotkeys": {
    "equation": "Ctrl-E",
    "itemize": "Ctrl-I"
   },
   "labels_anchors": false,
   "latex_user_defs": false,
   "report_style_numbering": false,
   "user_envs_cfg": false
  },
  "varInspector": {
   "cols": {
    "lenName": 16,
    "lenType": 16,
    "lenVar": 40
   },
   "kernels_config": {
    "python": {
     "delete_cmd_postfix": "",
     "delete_cmd_prefix": "del ",
     "library": "var_list.py",
     "varRefreshCmd": "print(var_dic_list())"
    },
    "r": {
     "delete_cmd_postfix": ") ",
     "delete_cmd_prefix": "rm(",
     "library": "var_list.r",
     "varRefreshCmd": "cat(var_dic_list()) "
    }
   },
   "types_to_exclude": [
    "module",
    "function",
    "builtin_function_or_method",
    "instance",
    "_Feature"
   ],
   "window_display": false
  }
 },
 "nbformat": 4,
 "nbformat_minor": 5
}
